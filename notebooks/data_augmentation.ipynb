{
  "nbformat": 4,
  "nbformat_minor": 0,
  "metadata": {
    "colab": {
      "name": "data_augmentation.ipynb",
      "provenance": [],
      "collapsed_sections": []
    },
    "kernelspec": {
      "display_name": "Python 3",
      "name": "python3"
    },
    "language_info": {
      "name": "python"
    }
  },
  "cells": [
    {
      "cell_type": "markdown",
      "metadata": {
        "id": "2n2UNZwpmCGm"
      },
      "source": [
        "# Utilisation des scripts\n",
        "\n",
        "Ce notebook vise à montrer l'utilisation des scripts du projet afin d'effectuer une augmentation de données sur une base de données."
      ]
    },
    {
      "cell_type": "markdown",
      "metadata": {
        "id": "JVf_sKXN9H9f"
      },
      "source": [
        "# Installation du projet `bfc` et accès aux données\n",
        "\n",
        "Les login et mot de passe sont nécessaires pour accéder à des repos privés à partir de Google/Colab. Cela ne serait pas le cas en accès public."
      ]
    },
    {
      "cell_type": "code",
      "metadata": {
        "id": "CPOKLGaw9Qhx"
      },
      "source": [
        "import os\n",
        "from getpass import getpass"
      ],
      "execution_count": 1,
      "outputs": []
    },
    {
      "cell_type": "code",
      "metadata": {
        "colab": {
          "base_uri": "https://localhost:8080/"
        },
        "id": "36zlJOI5A0Go",
        "outputId": "0da2f52a-9885-4820-d015-4b3efa4b1073"
      },
      "source": [
        "user = getpass('GitHub user')\n",
        "password = getpass('GitHub password')\n",
        "os.environ['GITHUB_AUTH'] = user + ':' + password"
      ],
      "execution_count": 2,
      "outputs": [
        {
          "name": "stdout",
          "output_type": "stream",
          "text": [
            "GitHub user··········\n",
            "GitHub password··········\n"
          ]
        }
      ]
    },
    {
      "cell_type": "code",
      "metadata": {
        "colab": {
          "base_uri": "https://localhost:8080/"
        },
        "id": "nF7dOnmdAc71",
        "outputId": "a71169be-5b90-4b03-ca0f-925a355bedb8"
      },
      "source": [
        "%%shell\n",
        "\n",
        "git clone https://$GITHUB_AUTH@github.com/tibocour/IA.git"
      ],
      "execution_count": 3,
      "outputs": [
        {
          "output_type": "stream",
          "name": "stdout",
          "text": [
            "Cloning into 'IA'...\n",
            "remote: Enumerating objects: 148, done.\u001b[K\n",
            "remote: Counting objects: 100% (148/148), done.\u001b[K\n",
            "remote: Compressing objects: 100% (104/104), done.\u001b[K\n",
            "remote: Total 148 (delta 76), reused 105 (delta 38), pack-reused 0\u001b[K\n",
            "Receiving objects: 100% (148/148), 77.17 MiB | 41.13 MiB/s, done.\n",
            "Resolving deltas: 100% (76/76), done.\n"
          ]
        },
        {
          "output_type": "execute_result",
          "data": {
            "text/plain": [
              ""
            ]
          },
          "metadata": {},
          "execution_count": 3
        }
      ]
    },
    {
      "cell_type": "markdown",
      "metadata": {
        "id": "pGC1hAM2nHu1"
      },
      "source": [
        "# Installation des dépendances"
      ]
    },
    {
      "cell_type": "code",
      "metadata": {
        "colab": {
          "base_uri": "https://localhost:8080/"
        },
        "id": "0NA-ih6CBXLN",
        "outputId": "77981fe6-a65c-4d26-d7fc-0cea21d42ce2"
      },
      "source": [
        "%%shell\n",
        "\n",
        "pip install -r IA/requirements.txt"
      ],
      "execution_count": 4,
      "outputs": [
        {
          "output_type": "stream",
          "name": "stdout",
          "text": [
            "Requirement already satisfied: imgaug in /usr/local/lib/python3.7/dist-packages (from -r IA/requirements.txt (line 1)) (0.2.9)\n",
            "Collecting pascal-voc-writer\n",
            "  Downloading pascal_voc_writer-0.1.4-py2.py3-none-any.whl (4.0 kB)\n",
            "Collecting tflite-model-maker-nightly\n",
            "  Downloading tflite_model_maker_nightly-0.3.4.dev202109150508-py3-none-any.whl (621 kB)\n",
            "\u001b[K     |████████████████████████████████| 621 kB 5.2 MB/s \n",
            "\u001b[?25hRequirement already satisfied: pycocotools in /usr/local/lib/python3.7/dist-packages (from -r IA/requirements.txt (line 4)) (2.0.2)\n",
            "Requirement already satisfied: opencv-python in /usr/local/lib/python3.7/dist-packages (from -r IA/requirements.txt (line 5)) (4.1.2.30)\n",
            "Requirement already satisfied: numpy>=1.15.0 in /usr/local/lib/python3.7/dist-packages (from imgaug->-r IA/requirements.txt (line 1)) (1.19.5)\n",
            "Requirement already satisfied: matplotlib in /usr/local/lib/python3.7/dist-packages (from imgaug->-r IA/requirements.txt (line 1)) (3.2.2)\n",
            "Requirement already satisfied: scipy in /usr/local/lib/python3.7/dist-packages (from imgaug->-r IA/requirements.txt (line 1)) (1.4.1)\n",
            "Requirement already satisfied: Shapely in /usr/local/lib/python3.7/dist-packages (from imgaug->-r IA/requirements.txt (line 1)) (1.7.1)\n",
            "Requirement already satisfied: scikit-image>=0.11.0 in /usr/local/lib/python3.7/dist-packages (from imgaug->-r IA/requirements.txt (line 1)) (0.16.2)\n",
            "Requirement already satisfied: imageio in /usr/local/lib/python3.7/dist-packages (from imgaug->-r IA/requirements.txt (line 1)) (2.4.1)\n",
            "Requirement already satisfied: six in /usr/local/lib/python3.7/dist-packages (from imgaug->-r IA/requirements.txt (line 1)) (1.15.0)\n",
            "Requirement already satisfied: Pillow in /usr/local/lib/python3.7/dist-packages (from imgaug->-r IA/requirements.txt (line 1)) (7.1.2)\n",
            "Requirement already satisfied: PyWavelets>=0.4.0 in /usr/local/lib/python3.7/dist-packages (from scikit-image>=0.11.0->imgaug->-r IA/requirements.txt (line 1)) (1.1.1)\n",
            "Requirement already satisfied: networkx>=2.0 in /usr/local/lib/python3.7/dist-packages (from scikit-image>=0.11.0->imgaug->-r IA/requirements.txt (line 1)) (2.6.2)\n",
            "Requirement already satisfied: python-dateutil>=2.1 in /usr/local/lib/python3.7/dist-packages (from matplotlib->imgaug->-r IA/requirements.txt (line 1)) (2.8.2)\n",
            "Requirement already satisfied: kiwisolver>=1.0.1 in /usr/local/lib/python3.7/dist-packages (from matplotlib->imgaug->-r IA/requirements.txt (line 1)) (1.3.1)\n",
            "Requirement already satisfied: cycler>=0.10 in /usr/local/lib/python3.7/dist-packages (from matplotlib->imgaug->-r IA/requirements.txt (line 1)) (0.10.0)\n",
            "Requirement already satisfied: pyparsing!=2.0.4,!=2.1.2,!=2.1.6,>=2.0.1 in /usr/local/lib/python3.7/dist-packages (from matplotlib->imgaug->-r IA/requirements.txt (line 1)) (2.4.7)\n",
            "Requirement already satisfied: jinja2 in /usr/local/lib/python3.7/dist-packages (from pascal-voc-writer->-r IA/requirements.txt (line 2)) (2.11.3)\n",
            "Collecting PyYAML>=5.1\n",
            "  Downloading PyYAML-5.4.1-cp37-cp37m-manylinux1_x86_64.whl (636 kB)\n",
            "\u001b[K     |████████████████████████████████| 636 kB 40.6 MB/s \n",
            "\u001b[?25hRequirement already satisfied: librosa==0.8.1 in /usr/local/lib/python3.7/dist-packages (from tflite-model-maker-nightly->-r IA/requirements.txt (line 3)) (0.8.1)\n",
            "Collecting tensorflow-model-optimization>=0.5\n",
            "  Downloading tensorflow_model_optimization-0.6.0-py2.py3-none-any.whl (211 kB)\n",
            "\u001b[K     |████████████████████████████████| 211 kB 53.8 MB/s \n",
            "\u001b[?25hCollecting sentencepiece>=0.1.91\n",
            "  Downloading sentencepiece-0.1.96-cp37-cp37m-manylinux_2_17_x86_64.manylinux2014_x86_64.whl (1.2 MB)\n",
            "\u001b[K     |████████████████████████████████| 1.2 MB 29.1 MB/s \n",
            "\u001b[?25hRequirement already satisfied: absl-py>=0.10.0 in /usr/local/lib/python3.7/dist-packages (from tflite-model-maker-nightly->-r IA/requirements.txt (line 3)) (0.12.0)\n",
            "Collecting tfa-nightly\n",
            "  Downloading tfa_nightly-0.15.0.dev20210910145451-cp37-cp37m-manylinux_2_12_x86_64.manylinux2010_x86_64.whl (1.1 MB)\n",
            "\u001b[K     |████████████████████████████████| 1.1 MB 49.9 MB/s \n",
            "\u001b[?25hRequirement already satisfied: tensorflow==2.6.0 in /usr/local/lib/python3.7/dist-packages (from tflite-model-maker-nightly->-r IA/requirements.txt (line 3)) (2.6.0)\n",
            "Requirement already satisfied: urllib3!=1.25.0,!=1.25.1,<1.26,>=1.21.1 in /usr/local/lib/python3.7/dist-packages (from tflite-model-maker-nightly->-r IA/requirements.txt (line 3)) (1.24.3)\n",
            "Requirement already satisfied: tensorflow-datasets>=2.1.0 in /usr/local/lib/python3.7/dist-packages (from tflite-model-maker-nightly->-r IA/requirements.txt (line 3)) (4.0.1)\n",
            "Collecting neural-structured-learning>=1.3.1\n",
            "  Downloading neural_structured_learning-1.3.1-py2.py3-none-any.whl (120 kB)\n",
            "\u001b[K     |████████████████████████████████| 120 kB 67.3 MB/s \n",
            "\u001b[?25hCollecting lxml>=4.6.1\n",
            "  Downloading lxml-4.6.3-cp37-cp37m-manylinux2014_x86_64.whl (6.3 MB)\n",
            "\u001b[K     |████████████████████████████████| 6.3 MB 68.4 MB/s \n",
            "\u001b[?25hRequirement already satisfied: Cython>=0.29.13 in /usr/local/lib/python3.7/dist-packages (from tflite-model-maker-nightly->-r IA/requirements.txt (line 3)) (0.29.24)\n",
            "Collecting fire>=0.3.1\n",
            "  Downloading fire-0.4.0.tar.gz (87 kB)\n",
            "\u001b[K     |████████████████████████████████| 87 kB 6.6 MB/s \n",
            "\u001b[?25hRequirement already satisfied: tensorflow-hub<0.13,>=0.7.0 in /usr/local/lib/python3.7/dist-packages (from tflite-model-maker-nightly->-r IA/requirements.txt (line 3)) (0.12.0)\n",
            "Collecting numba==0.53\n",
            "  Downloading numba-0.53.0-cp37-cp37m-manylinux2014_x86_64.whl (3.4 MB)\n",
            "\u001b[K     |████████████████████████████████| 3.4 MB 34.3 MB/s \n",
            "\u001b[?25hRequirement already satisfied: flatbuffers==1.12 in /usr/local/lib/python3.7/dist-packages (from tflite-model-maker-nightly->-r IA/requirements.txt (line 3)) (1.12)\n",
            "Collecting tf-models-official==2.3.0\n",
            "  Downloading tf_models_official-2.3.0-py2.py3-none-any.whl (840 kB)\n",
            "\u001b[K     |████████████████████████████████| 840 kB 66.1 MB/s \n",
            "\u001b[?25hCollecting tflite-support-nightly\n",
            "  Downloading tflite_support_nightly-0.1.0.dev20210914-cp37-cp37m-manylinux_2_12_x86_64.manylinux2010_x86_64.whl (1.1 MB)\n",
            "\u001b[K     |████████████████████████████████| 1.1 MB 54.6 MB/s \n",
            "\u001b[?25hRequirement already satisfied: scikit-learn!=0.19.0,>=0.14.0 in /usr/local/lib/python3.7/dist-packages (from librosa==0.8.1->tflite-model-maker-nightly->-r IA/requirements.txt (line 3)) (0.22.2.post1)\n",
            "Requirement already satisfied: audioread>=2.0.0 in /usr/local/lib/python3.7/dist-packages (from librosa==0.8.1->tflite-model-maker-nightly->-r IA/requirements.txt (line 3)) (2.1.9)\n",
            "Requirement already satisfied: resampy>=0.2.2 in /usr/local/lib/python3.7/dist-packages (from librosa==0.8.1->tflite-model-maker-nightly->-r IA/requirements.txt (line 3)) (0.2.2)\n",
            "Requirement already satisfied: soundfile>=0.10.2 in /usr/local/lib/python3.7/dist-packages (from librosa==0.8.1->tflite-model-maker-nightly->-r IA/requirements.txt (line 3)) (0.10.3.post1)\n",
            "Requirement already satisfied: pooch>=1.0 in /usr/local/lib/python3.7/dist-packages (from librosa==0.8.1->tflite-model-maker-nightly->-r IA/requirements.txt (line 3)) (1.4.0)\n",
            "Requirement already satisfied: packaging>=20.0 in /usr/local/lib/python3.7/dist-packages (from librosa==0.8.1->tflite-model-maker-nightly->-r IA/requirements.txt (line 3)) (21.0)\n",
            "Requirement already satisfied: joblib>=0.14 in /usr/local/lib/python3.7/dist-packages (from librosa==0.8.1->tflite-model-maker-nightly->-r IA/requirements.txt (line 3)) (1.0.1)\n",
            "Requirement already satisfied: decorator>=3.0.0 in /usr/local/lib/python3.7/dist-packages (from librosa==0.8.1->tflite-model-maker-nightly->-r IA/requirements.txt (line 3)) (4.4.2)\n",
            "Collecting llvmlite<0.37,>=0.36.0rc1\n",
            "  Downloading llvmlite-0.36.0-cp37-cp37m-manylinux2010_x86_64.whl (25.3 MB)\n",
            "\u001b[K     |████████████████████████████████| 25.3 MB 78 kB/s \n",
            "\u001b[?25hRequirement already satisfied: setuptools in /usr/local/lib/python3.7/dist-packages (from numba==0.53->tflite-model-maker-nightly->-r IA/requirements.txt (line 3)) (57.4.0)\n",
            "Requirement already satisfied: typing-extensions~=3.7.4 in /usr/local/lib/python3.7/dist-packages (from tensorflow==2.6.0->tflite-model-maker-nightly->-r IA/requirements.txt (line 3)) (3.7.4.3)\n",
            "Requirement already satisfied: astunparse~=1.6.3 in /usr/local/lib/python3.7/dist-packages (from tensorflow==2.6.0->tflite-model-maker-nightly->-r IA/requirements.txt (line 3)) (1.6.3)\n",
            "Requirement already satisfied: clang~=5.0 in /usr/local/lib/python3.7/dist-packages (from tensorflow==2.6.0->tflite-model-maker-nightly->-r IA/requirements.txt (line 3)) (5.0)\n",
            "Requirement already satisfied: opt-einsum~=3.3.0 in /usr/local/lib/python3.7/dist-packages (from tensorflow==2.6.0->tflite-model-maker-nightly->-r IA/requirements.txt (line 3)) (3.3.0)\n",
            "Requirement already satisfied: wrapt~=1.12.1 in /usr/local/lib/python3.7/dist-packages (from tensorflow==2.6.0->tflite-model-maker-nightly->-r IA/requirements.txt (line 3)) (1.12.1)\n",
            "Requirement already satisfied: google-pasta~=0.2 in /usr/local/lib/python3.7/dist-packages (from tensorflow==2.6.0->tflite-model-maker-nightly->-r IA/requirements.txt (line 3)) (0.2.0)\n",
            "Requirement already satisfied: tensorflow-estimator~=2.6 in /usr/local/lib/python3.7/dist-packages (from tensorflow==2.6.0->tflite-model-maker-nightly->-r IA/requirements.txt (line 3)) (2.6.0)\n",
            "Requirement already satisfied: keras~=2.6 in /usr/local/lib/python3.7/dist-packages (from tensorflow==2.6.0->tflite-model-maker-nightly->-r IA/requirements.txt (line 3)) (2.6.0)\n",
            "Requirement already satisfied: wheel~=0.35 in /usr/local/lib/python3.7/dist-packages (from tensorflow==2.6.0->tflite-model-maker-nightly->-r IA/requirements.txt (line 3)) (0.37.0)\n",
            "Requirement already satisfied: gast==0.4.0 in /usr/local/lib/python3.7/dist-packages (from tensorflow==2.6.0->tflite-model-maker-nightly->-r IA/requirements.txt (line 3)) (0.4.0)\n",
            "Requirement already satisfied: protobuf>=3.9.2 in /usr/local/lib/python3.7/dist-packages (from tensorflow==2.6.0->tflite-model-maker-nightly->-r IA/requirements.txt (line 3)) (3.17.3)\n",
            "Requirement already satisfied: h5py~=3.1.0 in /usr/local/lib/python3.7/dist-packages (from tensorflow==2.6.0->tflite-model-maker-nightly->-r IA/requirements.txt (line 3)) (3.1.0)\n",
            "Requirement already satisfied: tensorboard~=2.6 in /usr/local/lib/python3.7/dist-packages (from tensorflow==2.6.0->tflite-model-maker-nightly->-r IA/requirements.txt (line 3)) (2.6.0)\n",
            "Requirement already satisfied: grpcio<2.0,>=1.37.0 in /usr/local/lib/python3.7/dist-packages (from tensorflow==2.6.0->tflite-model-maker-nightly->-r IA/requirements.txt (line 3)) (1.39.0)\n",
            "Requirement already satisfied: keras-preprocessing~=1.1.2 in /usr/local/lib/python3.7/dist-packages (from tensorflow==2.6.0->tflite-model-maker-nightly->-r IA/requirements.txt (line 3)) (1.1.2)\n",
            "Requirement already satisfied: termcolor~=1.1.0 in /usr/local/lib/python3.7/dist-packages (from tensorflow==2.6.0->tflite-model-maker-nightly->-r IA/requirements.txt (line 3)) (1.1.0)\n",
            "Collecting tensorflow-addons\n",
            "  Downloading tensorflow_addons-0.14.0-cp37-cp37m-manylinux_2_12_x86_64.manylinux2010_x86_64.whl (1.1 MB)\n",
            "\u001b[K     |████████████████████████████████| 1.1 MB 64.3 MB/s \n",
            "\u001b[?25hCollecting py-cpuinfo>=3.3.0\n",
            "  Downloading py-cpuinfo-8.0.0.tar.gz (99 kB)\n",
            "\u001b[K     |████████████████████████████████| 99 kB 7.9 MB/s \n",
            "\u001b[?25hRequirement already satisfied: google-api-python-client>=1.6.7 in /usr/local/lib/python3.7/dist-packages (from tf-models-official==2.3.0->tflite-model-maker-nightly->-r IA/requirements.txt (line 3)) (1.12.8)\n",
            "Requirement already satisfied: psutil>=5.4.3 in /usr/local/lib/python3.7/dist-packages (from tf-models-official==2.3.0->tflite-model-maker-nightly->-r IA/requirements.txt (line 3)) (5.4.8)\n",
            "Collecting dataclasses\n",
            "  Downloading dataclasses-0.6-py3-none-any.whl (14 kB)\n",
            "Requirement already satisfied: gin-config in /usr/local/lib/python3.7/dist-packages (from tf-models-official==2.3.0->tflite-model-maker-nightly->-r IA/requirements.txt (line 3)) (0.4.0)\n",
            "Requirement already satisfied: google-cloud-bigquery>=0.31.0 in /usr/local/lib/python3.7/dist-packages (from tf-models-official==2.3.0->tflite-model-maker-nightly->-r IA/requirements.txt (line 3)) (1.21.0)\n",
            "Requirement already satisfied: kaggle>=1.3.9 in /usr/local/lib/python3.7/dist-packages (from tf-models-official==2.3.0->tflite-model-maker-nightly->-r IA/requirements.txt (line 3)) (1.5.12)\n",
            "Requirement already satisfied: pandas>=0.22.0 in /usr/local/lib/python3.7/dist-packages (from tf-models-official==2.3.0->tflite-model-maker-nightly->-r IA/requirements.txt (line 3)) (1.1.5)\n",
            "Collecting opencv-python-headless\n",
            "  Downloading opencv_python_headless-4.5.3.56-cp37-cp37m-manylinux2014_x86_64.whl (37.1 MB)\n",
            "\u001b[K     |████████████████████████████████| 37.1 MB 1.3 MB/s \n",
            "\u001b[?25hCollecting tf-slim>=1.1.0\n",
            "  Downloading tf_slim-1.1.0-py2.py3-none-any.whl (352 kB)\n",
            "\u001b[K     |████████████████████████████████| 352 kB 70.0 MB/s \n",
            "\u001b[?25hRequirement already satisfied: httplib2<1dev,>=0.15.0 in /usr/local/lib/python3.7/dist-packages (from google-api-python-client>=1.6.7->tf-models-official==2.3.0->tflite-model-maker-nightly->-r IA/requirements.txt (line 3)) (0.17.4)\n",
            "Requirement already satisfied: uritemplate<4dev,>=3.0.0 in /usr/local/lib/python3.7/dist-packages (from google-api-python-client>=1.6.7->tf-models-official==2.3.0->tflite-model-maker-nightly->-r IA/requirements.txt (line 3)) (3.0.1)\n",
            "Requirement already satisfied: google-auth>=1.16.0 in /usr/local/lib/python3.7/dist-packages (from google-api-python-client>=1.6.7->tf-models-official==2.3.0->tflite-model-maker-nightly->-r IA/requirements.txt (line 3)) (1.34.0)\n",
            "Requirement already satisfied: google-api-core<2dev,>=1.21.0 in /usr/local/lib/python3.7/dist-packages (from google-api-python-client>=1.6.7->tf-models-official==2.3.0->tflite-model-maker-nightly->-r IA/requirements.txt (line 3)) (1.26.3)\n",
            "Requirement already satisfied: google-auth-httplib2>=0.0.3 in /usr/local/lib/python3.7/dist-packages (from google-api-python-client>=1.6.7->tf-models-official==2.3.0->tflite-model-maker-nightly->-r IA/requirements.txt (line 3)) (0.0.4)\n",
            "Requirement already satisfied: requests<3.0.0dev,>=2.18.0 in /usr/local/lib/python3.7/dist-packages (from google-api-core<2dev,>=1.21.0->google-api-python-client>=1.6.7->tf-models-official==2.3.0->tflite-model-maker-nightly->-r IA/requirements.txt (line 3)) (2.23.0)\n",
            "Requirement already satisfied: pytz in /usr/local/lib/python3.7/dist-packages (from google-api-core<2dev,>=1.21.0->google-api-python-client>=1.6.7->tf-models-official==2.3.0->tflite-model-maker-nightly->-r IA/requirements.txt (line 3)) (2018.9)\n",
            "Requirement already satisfied: googleapis-common-protos<2.0dev,>=1.6.0 in /usr/local/lib/python3.7/dist-packages (from google-api-core<2dev,>=1.21.0->google-api-python-client>=1.6.7->tf-models-official==2.3.0->tflite-model-maker-nightly->-r IA/requirements.txt (line 3)) (1.53.0)\n",
            "Requirement already satisfied: cachetools<5.0,>=2.0.0 in /usr/local/lib/python3.7/dist-packages (from google-auth>=1.16.0->google-api-python-client>=1.6.7->tf-models-official==2.3.0->tflite-model-maker-nightly->-r IA/requirements.txt (line 3)) (4.2.2)\n",
            "Requirement already satisfied: pyasn1-modules>=0.2.1 in /usr/local/lib/python3.7/dist-packages (from google-auth>=1.16.0->google-api-python-client>=1.6.7->tf-models-official==2.3.0->tflite-model-maker-nightly->-r IA/requirements.txt (line 3)) (0.2.8)\n",
            "Requirement already satisfied: rsa<5,>=3.1.4 in /usr/local/lib/python3.7/dist-packages (from google-auth>=1.16.0->google-api-python-client>=1.6.7->tf-models-official==2.3.0->tflite-model-maker-nightly->-r IA/requirements.txt (line 3)) (4.7.2)\n",
            "Requirement already satisfied: google-cloud-core<2.0dev,>=1.0.3 in /usr/local/lib/python3.7/dist-packages (from google-cloud-bigquery>=0.31.0->tf-models-official==2.3.0->tflite-model-maker-nightly->-r IA/requirements.txt (line 3)) (1.0.3)\n",
            "Requirement already satisfied: google-resumable-media!=0.4.0,<0.5.0dev,>=0.3.1 in /usr/local/lib/python3.7/dist-packages (from google-cloud-bigquery>=0.31.0->tf-models-official==2.3.0->tflite-model-maker-nightly->-r IA/requirements.txt (line 3)) (0.4.1)\n",
            "Requirement already satisfied: cached-property in /usr/local/lib/python3.7/dist-packages (from h5py~=3.1.0->tensorflow==2.6.0->tflite-model-maker-nightly->-r IA/requirements.txt (line 3)) (1.5.2)\n",
            "Requirement already satisfied: certifi in /usr/local/lib/python3.7/dist-packages (from kaggle>=1.3.9->tf-models-official==2.3.0->tflite-model-maker-nightly->-r IA/requirements.txt (line 3)) (2021.5.30)\n",
            "Requirement already satisfied: tqdm in /usr/local/lib/python3.7/dist-packages (from kaggle>=1.3.9->tf-models-official==2.3.0->tflite-model-maker-nightly->-r IA/requirements.txt (line 3)) (4.62.0)\n",
            "Requirement already satisfied: python-slugify in /usr/local/lib/python3.7/dist-packages (from kaggle>=1.3.9->tf-models-official==2.3.0->tflite-model-maker-nightly->-r IA/requirements.txt (line 3)) (5.0.2)\n",
            "Requirement already satisfied: attrs in /usr/local/lib/python3.7/dist-packages (from neural-structured-learning>=1.3.1->tflite-model-maker-nightly->-r IA/requirements.txt (line 3)) (21.2.0)\n",
            "Requirement already satisfied: appdirs in /usr/local/lib/python3.7/dist-packages (from pooch>=1.0->librosa==0.8.1->tflite-model-maker-nightly->-r IA/requirements.txt (line 3)) (1.4.4)\n",
            "Requirement already satisfied: pyasn1<0.5.0,>=0.4.6 in /usr/local/lib/python3.7/dist-packages (from pyasn1-modules>=0.2.1->google-auth>=1.16.0->google-api-python-client>=1.6.7->tf-models-official==2.3.0->tflite-model-maker-nightly->-r IA/requirements.txt (line 3)) (0.4.8)\n",
            "Requirement already satisfied: chardet<4,>=3.0.2 in /usr/local/lib/python3.7/dist-packages (from requests<3.0.0dev,>=2.18.0->google-api-core<2dev,>=1.21.0->google-api-python-client>=1.6.7->tf-models-official==2.3.0->tflite-model-maker-nightly->-r IA/requirements.txt (line 3)) (3.0.4)\n",
            "Requirement already satisfied: idna<3,>=2.5 in /usr/local/lib/python3.7/dist-packages (from requests<3.0.0dev,>=2.18.0->google-api-core<2dev,>=1.21.0->google-api-python-client>=1.6.7->tf-models-official==2.3.0->tflite-model-maker-nightly->-r IA/requirements.txt (line 3)) (2.10)\n",
            "Requirement already satisfied: cffi>=1.0 in /usr/local/lib/python3.7/dist-packages (from soundfile>=0.10.2->librosa==0.8.1->tflite-model-maker-nightly->-r IA/requirements.txt (line 3)) (1.14.6)\n",
            "Requirement already satisfied: pycparser in /usr/local/lib/python3.7/dist-packages (from cffi>=1.0->soundfile>=0.10.2->librosa==0.8.1->tflite-model-maker-nightly->-r IA/requirements.txt (line 3)) (2.20)\n",
            "Requirement already satisfied: markdown>=2.6.8 in /usr/local/lib/python3.7/dist-packages (from tensorboard~=2.6->tensorflow==2.6.0->tflite-model-maker-nightly->-r IA/requirements.txt (line 3)) (3.3.4)\n",
            "Requirement already satisfied: google-auth-oauthlib<0.5,>=0.4.1 in /usr/local/lib/python3.7/dist-packages (from tensorboard~=2.6->tensorflow==2.6.0->tflite-model-maker-nightly->-r IA/requirements.txt (line 3)) (0.4.5)\n",
            "Requirement already satisfied: tensorboard-data-server<0.7.0,>=0.6.0 in /usr/local/lib/python3.7/dist-packages (from tensorboard~=2.6->tensorflow==2.6.0->tflite-model-maker-nightly->-r IA/requirements.txt (line 3)) (0.6.1)\n",
            "Requirement already satisfied: tensorboard-plugin-wit>=1.6.0 in /usr/local/lib/python3.7/dist-packages (from tensorboard~=2.6->tensorflow==2.6.0->tflite-model-maker-nightly->-r IA/requirements.txt (line 3)) (1.8.0)\n",
            "Requirement already satisfied: werkzeug>=0.11.15 in /usr/local/lib/python3.7/dist-packages (from tensorboard~=2.6->tensorflow==2.6.0->tflite-model-maker-nightly->-r IA/requirements.txt (line 3)) (1.0.1)\n",
            "Requirement already satisfied: requests-oauthlib>=0.7.0 in /usr/local/lib/python3.7/dist-packages (from google-auth-oauthlib<0.5,>=0.4.1->tensorboard~=2.6->tensorflow==2.6.0->tflite-model-maker-nightly->-r IA/requirements.txt (line 3)) (1.3.0)\n",
            "Requirement already satisfied: importlib-metadata in /usr/local/lib/python3.7/dist-packages (from markdown>=2.6.8->tensorboard~=2.6->tensorflow==2.6.0->tflite-model-maker-nightly->-r IA/requirements.txt (line 3)) (4.6.4)\n",
            "Requirement already satisfied: oauthlib>=3.0.0 in /usr/local/lib/python3.7/dist-packages (from requests-oauthlib>=0.7.0->google-auth-oauthlib<0.5,>=0.4.1->tensorboard~=2.6->tensorflow==2.6.0->tflite-model-maker-nightly->-r IA/requirements.txt (line 3)) (3.1.1)\n",
            "Requirement already satisfied: dill in /usr/local/lib/python3.7/dist-packages (from tensorflow-datasets>=2.1.0->tflite-model-maker-nightly->-r IA/requirements.txt (line 3)) (0.3.4)\n",
            "Requirement already satisfied: future in /usr/local/lib/python3.7/dist-packages (from tensorflow-datasets>=2.1.0->tflite-model-maker-nightly->-r IA/requirements.txt (line 3)) (0.16.0)\n",
            "Requirement already satisfied: promise in /usr/local/lib/python3.7/dist-packages (from tensorflow-datasets>=2.1.0->tflite-model-maker-nightly->-r IA/requirements.txt (line 3)) (2.3)\n",
            "Requirement already satisfied: dm-tree in /usr/local/lib/python3.7/dist-packages (from tensorflow-datasets>=2.1.0->tflite-model-maker-nightly->-r IA/requirements.txt (line 3)) (0.1.6)\n",
            "Requirement already satisfied: importlib-resources in /usr/local/lib/python3.7/dist-packages (from tensorflow-datasets>=2.1.0->tflite-model-maker-nightly->-r IA/requirements.txt (line 3)) (5.2.2)\n",
            "Requirement already satisfied: tensorflow-metadata in /usr/local/lib/python3.7/dist-packages (from tensorflow-datasets>=2.1.0->tflite-model-maker-nightly->-r IA/requirements.txt (line 3)) (1.2.0)\n",
            "Requirement already satisfied: zipp>=0.5 in /usr/local/lib/python3.7/dist-packages (from importlib-metadata->markdown>=2.6.8->tensorboard~=2.6->tensorflow==2.6.0->tflite-model-maker-nightly->-r IA/requirements.txt (line 3)) (3.5.0)\n",
            "Requirement already satisfied: MarkupSafe>=0.23 in /usr/local/lib/python3.7/dist-packages (from jinja2->pascal-voc-writer->-r IA/requirements.txt (line 2)) (2.0.1)\n",
            "Requirement already satisfied: text-unidecode>=1.3 in /usr/local/lib/python3.7/dist-packages (from python-slugify->kaggle>=1.3.9->tf-models-official==2.3.0->tflite-model-maker-nightly->-r IA/requirements.txt (line 3)) (1.3)\n",
            "Requirement already satisfied: typeguard>=2.7 in /usr/local/lib/python3.7/dist-packages (from tensorflow-addons->tf-models-official==2.3.0->tflite-model-maker-nightly->-r IA/requirements.txt (line 3)) (2.7.1)\n",
            "Collecting pybind11>=2.6.0\n",
            "  Downloading pybind11-2.7.1-py2.py3-none-any.whl (200 kB)\n",
            "\u001b[K     |████████████████████████████████| 200 kB 64.9 MB/s \n",
            "\u001b[?25hBuilding wheels for collected packages: fire, py-cpuinfo\n",
            "  Building wheel for fire (setup.py) ... \u001b[?25l\u001b[?25hdone\n",
            "  Created wheel for fire: filename=fire-0.4.0-py2.py3-none-any.whl size=115943 sha256=e570ddf157bd842092a51d425eaecd3b8fd72466c04d1146c4c0e8610c6229f4\n",
            "  Stored in directory: /root/.cache/pip/wheels/8a/67/fb/2e8a12fa16661b9d5af1f654bd199366799740a85c64981226\n",
            "  Building wheel for py-cpuinfo (setup.py) ... \u001b[?25l\u001b[?25hdone\n",
            "  Created wheel for py-cpuinfo: filename=py_cpuinfo-8.0.0-py3-none-any.whl size=22258 sha256=a64c2a180f05e150b3a742d7526a649907f1d06a917168d3ef416e1a0f2bdb73\n",
            "  Stored in directory: /root/.cache/pip/wheels/d2/f1/1f/041add21dc9c4220157f1bd2bd6afe1f1a49524c3396b94401\n",
            "Successfully built fire py-cpuinfo\n",
            "Installing collected packages: llvmlite, numba, tf-slim, tensorflow-model-optimization, tensorflow-addons, sentencepiece, PyYAML, pybind11, py-cpuinfo, opencv-python-headless, dataclasses, tflite-support-nightly, tfa-nightly, tf-models-official, neural-structured-learning, lxml, fire, tflite-model-maker-nightly, pascal-voc-writer\n",
            "  Attempting uninstall: llvmlite\n",
            "    Found existing installation: llvmlite 0.34.0\n",
            "    Uninstalling llvmlite-0.34.0:\n",
            "      Successfully uninstalled llvmlite-0.34.0\n",
            "  Attempting uninstall: numba\n",
            "    Found existing installation: numba 0.51.2\n",
            "    Uninstalling numba-0.51.2:\n",
            "      Successfully uninstalled numba-0.51.2\n",
            "  Attempting uninstall: PyYAML\n",
            "    Found existing installation: PyYAML 3.13\n",
            "    Uninstalling PyYAML-3.13:\n",
            "      Successfully uninstalled PyYAML-3.13\n",
            "  Attempting uninstall: lxml\n",
            "    Found existing installation: lxml 4.2.6\n",
            "    Uninstalling lxml-4.2.6:\n",
            "      Successfully uninstalled lxml-4.2.6\n",
            "Successfully installed PyYAML-5.4.1 dataclasses-0.6 fire-0.4.0 llvmlite-0.36.0 lxml-4.6.3 neural-structured-learning-1.3.1 numba-0.53.0 opencv-python-headless-4.5.3.56 pascal-voc-writer-0.1.4 py-cpuinfo-8.0.0 pybind11-2.7.1 sentencepiece-0.1.96 tensorflow-addons-0.14.0 tensorflow-model-optimization-0.6.0 tf-models-official-2.3.0 tf-slim-1.1.0 tfa-nightly-0.15.0.dev20210910145451 tflite-model-maker-nightly-0.3.4.dev202109150508 tflite-support-nightly-0.1.0.dev20210914\n"
          ]
        },
        {
          "output_type": "execute_result",
          "data": {
            "text/plain": [
              ""
            ]
          },
          "metadata": {},
          "execution_count": 4
        }
      ]
    },
    {
      "cell_type": "markdown",
      "metadata": {
        "id": "d7J-CbLf5zk0"
      },
      "source": [
        "# Augmentation de données\n"
      ]
    },
    {
      "cell_type": "code",
      "metadata": {
        "colab": {
          "base_uri": "https://localhost:8080/"
        },
        "id": "zreMVUWh0ewv",
        "outputId": "617ac770-1b8d-4376-d84d-89dde3dea980"
      },
      "source": [
        "%%shell\n",
        "\n",
        "ls IA/data/*.zip"
      ],
      "execution_count": 5,
      "outputs": [
        {
          "output_type": "stream",
          "name": "stdout",
          "text": [
            "IA/data/feuilles.zip\t     IA/data/train_megots150images.zip\n",
            "IA/data/megots150images.zip  IA/data/valid_megots150images.zip\n"
          ]
        },
        {
          "output_type": "execute_result",
          "data": {
            "text/plain": [
              ""
            ]
          },
          "metadata": {},
          "execution_count": 5
        }
      ]
    },
    {
      "cell_type": "markdown",
      "metadata": {
        "id": "ZVzFfb4r2BfH"
      },
      "source": [
        "Pour choisir la base de données à augmenter"
      ]
    },
    {
      "cell_type": "code",
      "metadata": {
        "id": "G_wC522XzYLH"
      },
      "source": [
        "database = \"megots150images\""
      ],
      "execution_count": 6,
      "outputs": []
    },
    {
      "cell_type": "code",
      "metadata": {
        "id": "HJyT0Cn-z5gE"
      },
      "source": [
        "os.environ.update({\"database\": database})"
      ],
      "execution_count": 7,
      "outputs": []
    },
    {
      "cell_type": "markdown",
      "metadata": {
        "id": "HoMByU_X2Hqd"
      },
      "source": [
        "Mise en cohérence de la base issue de `label-studio` et augmentation de données"
      ]
    },
    {
      "cell_type": "code",
      "metadata": {
        "colab": {
          "base_uri": "https://localhost:8080/"
        },
        "id": "MgZJA6UQx2GP",
        "outputId": "558e1299-08d3-4119-a80e-5e8ce092348f"
      },
      "source": [
        "%%shell\n",
        "\n",
        "rm -rf train_$database.zip valid_$database.zip\n",
        "\n",
        "python IA/python/label_studio_voc_converter.py --zip IA/data/$database.zip"
      ],
      "execution_count": 8,
      "outputs": [
        {
          "output_type": "stream",
          "name": "stdout",
          "text": [
            "created zip temporary directory: /tmp/tmps_637soy\n",
            "extract zip file IA/data/megots150images.zip in /tmp/tmps_637soy\n",
            " * number of xml files : 147\n",
            " * train size : 117\n",
            " * valid size : 30\n",
            "created dataset temporary directory: /tmp/tmp1hb9ho18\n",
            "create annotations and images directories\n",
            "create dataset train with params {'xml_files': ['/tmp/tmps_637soy/Annotations/1608647763.xml', '/tmp/tmps_637soy/Annotations/1608647849.xml', '/tmp/tmps_637soy/Annotations/1608647538.xml', '/tmp/tmps_637soy/Annotations/1608645984.xml', '/tmp/tmps_637soy/Annotations/1608647078.xml', '/tmp/tmps_637soy/Annotations/1608648103.xml', '/tmp/tmps_637soy/Annotations/1608647611.xml', '/tmp/tmps_637soy/Annotations/1608645577.xml', '/tmp/tmps_637soy/Annotations/1608647486.xml', '/tmp/tmps_637soy/Annotations/1608647138.xml', '/tmp/tmps_637soy/Annotations/1608647368.xml', '/tmp/tmps_637soy/Annotations/1608646996.xml', '/tmp/tmps_637soy/Annotations/1608647212.xml', '/tmp/tmps_637soy/Annotations/1608647338.xml', '/tmp/tmps_637soy/Annotations/1608647944.xml', '/tmp/tmps_637soy/Annotations/1608645544.xml', '/tmp/tmps_637soy/Annotations/1608645760.xml', '/tmp/tmps_637soy/Annotations/1608647178.xml', '/tmp/tmps_637soy/Annotations/1608647162.xml', '/tmp/tmps_637soy/Annotations/1608647377.xml', '/tmp/tmps_637soy/Annotations/1608647053.xml', '/tmp/tmps_637soy/Annotations/1608648068.xml', '/tmp/tmps_637soy/Annotations/1608647410.xml', '/tmp/tmps_637soy/Annotations/1608646931.xml', '/tmp/tmps_637soy/Annotations/1608645146.xml', '/tmp/tmps_637soy/Annotations/1608645735.xml', '/tmp/tmps_637soy/Annotations/1608647317.xml', '/tmp/tmps_637soy/Annotations/1608647654.xml', '/tmp/tmps_637soy/Annotations/1608646950.xml', '/tmp/tmps_637soy/Annotations/1608647303.xml', '/tmp/tmps_637soy/Annotations/1608647099.xml', '/tmp/tmps_637soy/Annotations/1608647453.xml', '/tmp/tmps_637soy/Annotations/1608647418.xml', '/tmp/tmps_637soy/Annotations/1608647918.xml', '/tmp/tmps_637soy/Annotations/1608645179.xml', '/tmp/tmps_637soy/Annotations/1608648135.xml', '/tmp/tmps_637soy/Annotations/1608647586.xml', '/tmp/tmps_637soy/Annotations/1608647802.xml', '/tmp/tmps_637soy/Annotations/1608647186.xml', '/tmp/tmps_637soy/Annotations/1608647773.xml', '/tmp/tmps_637soy/Annotations/1608645513.xml', '/tmp/tmps_637soy/Annotations/1608645624.xml', '/tmp/tmps_637soy/Annotations/1608647984.xml', '/tmp/tmps_637soy/Annotations/1608647274.xml', '/tmp/tmps_637soy/Annotations/1608647753.xml', '/tmp/tmps_637soy/Annotations/1608645649.xml', '/tmp/tmps_637soy/Annotations/1608647147.xml', '/tmp/tmps_637soy/Annotations/1608648090.xml', '/tmp/tmps_637soy/Annotations/1608645605.xml', '/tmp/tmps_637soy/Annotations/1608645924.xml', '/tmp/tmps_637soy/Annotations/1608645915.xml', '/tmp/tmps_637soy/Annotations/1608644799.xml', '/tmp/tmps_637soy/Annotations/1608647552.xml', '/tmp/tmps_637soy/Annotations/1608644703.xml', '/tmp/tmps_637soy/Annotations/1608647426.xml', '/tmp/tmps_637soy/Annotations/1608647063.xml', '/tmp/tmps_637soy/Annotations/1608647952.xml', '/tmp/tmps_637soy/Annotations/1608645529.xml', '/tmp/tmps_637soy/Annotations/1608645551.xml', '/tmp/tmps_637soy/Annotations/1608645310.xml', '/tmp/tmps_637soy/Annotations/1608645788.xml', '/tmp/tmps_637soy/Annotations/1608647910.xml', '/tmp/tmps_637soy/Annotations/1608647662.xml', '/tmp/tmps_637soy/Annotations/1608647007.xml', '/tmp/tmps_637soy/Annotations/1608647744.xml', '/tmp/tmps_637soy/Annotations/calib.xml', '/tmp/tmps_637soy/Annotations/1608647737.xml', '/tmp/tmps_637soy/Annotations/1608646982.xml', '/tmp/tmps_637soy/Annotations/1608647226.xml', '/tmp/tmps_637soy/Annotations/1608645800.xml', '/tmp/tmps_637soy/Annotations/1608646942.xml', '/tmp/tmps_637soy/Annotations/1608646749.xml', '/tmp/tmps_637soy/Annotations/1608647903.xml', '/tmp/tmps_637soy/Annotations/1608645564.xml', '/tmp/tmps_637soy/Annotations/1608645953.xml', '/tmp/tmps_637soy/Annotations/1608647479.xml', '/tmp/tmps_637soy/Annotations/1608647840.xml', '/tmp/tmps_637soy/Annotations/1608647679.xml', '/tmp/tmps_637soy/Annotations/1608647669.xml', '/tmp/tmps_637soy/Annotations/1608647254.xml', '/tmp/tmps_637soy/Annotations/1608647695.xml', '/tmp/tmps_637soy/Annotations/1608647709.xml', '/tmp/tmps_637soy/Annotations/1608648034.xml', '/tmp/tmps_637soy/Annotations/1608647397.xml', '/tmp/tmps_637soy/Annotations/1608647193.xml', '/tmp/tmps_637soy/Annotations/1608647730.xml', '/tmp/tmps_637soy/Annotations/1608647702.xml', '/tmp/tmps_637soy/Annotations/1608647544.xml', '/tmp/tmps_637soy/Annotations/1608647262.xml', '/tmp/tmps_637soy/Annotations/1608647467.xml', '/tmp/tmps_637soy/Annotations/1608646964.xml', '/tmp/tmps_637soy/Annotations/1608645973.xml', '/tmp/tmps_637soy/Annotations/1608647403.xml', '/tmp/tmps_637soy/Annotations/1608647894.xml', '/tmp/tmps_637soy/Annotations/1608646899.xml', '/tmp/tmps_637soy/Annotations/1608647787.xml', '/tmp/tmps_637soy/Annotations/1608647523.xml', '/tmp/tmps_637soy/Annotations/1608644746.xml', '/tmp/tmps_637soy/Annotations/1608648009.xml', '/tmp/tmps_637soy/Annotations/1608647155.xml', '/tmp/tmps_637soy/Annotations/1608645855.xml', '/tmp/tmps_637soy/Annotations/1608647045.xml', '/tmp/tmps_637soy/Annotations/1608648016.xml', '/tmp/tmps_637soy/Annotations/1608647601.xml', '/tmp/tmps_637soy/Annotations/1608646917.xml', '/tmp/tmps_637soy/Annotations/1608647460.xml', '/tmp/tmps_637soy/Annotations/1608647219.xml', '/tmp/tmps_637soy/Annotations/1608647361.xml', '/tmp/tmps_637soy/Annotations/1608647593.xml', '/tmp/tmps_637soy/Annotations/1608647383.xml', '/tmp/tmps_637soy/Annotations/1608647578.xml', '/tmp/tmps_637soy/Annotations/1608647296.xml', '/tmp/tmps_637soy/Annotations/1608647563.xml', '/tmp/tmps_637soy/Annotations/1608645936.xml', '/tmp/tmps_637soy/Annotations/1608647288.xml', '/tmp/tmps_637soy/Annotations/1608648142.xml', '/tmp/tmps_637soy/Annotations/1608647473.xml'], 'size': 10}\n",
            "created zip file: train_megots150images.zip\n",
            "created dataset temporary directory: /tmp/tmp8yqipjhc\n",
            "create annotations and images directories\n",
            "create dataset valid with params {'xml_files': ['/tmp/tmps_637soy/Annotations/1608645897.xml', '/tmp/tmps_637soy/Annotations/1608647121.xml', '/tmp/tmps_637soy/Annotations/1608647200.xml', '/tmp/tmps_637soy/Annotations/1608647794.xml', '/tmp/tmps_637soy/Annotations/1608647326.xml', '/tmp/tmps_637soy/Annotations/1608645886.xml', '/tmp/tmps_637soy/Annotations/1608645843.xml', '/tmp/tmps_637soy/Annotations/1608647434.xml', '/tmp/tmps_637soy/Annotations/1608645747.xml', '/tmp/tmps_637soy/Annotations/1608648127.xml', '/tmp/tmps_637soy/Annotations/1608647247.xml', '/tmp/tmps_637soy/Annotations/1608648027.xml', '/tmp/tmps_637soy/Annotations/1608648083.xml', '/tmp/tmps_637soy/Annotations/1608645633.xml', '/tmp/tmps_637soy/Annotations/1608645962.xml', '/tmp/tmps_637soy/Annotations/1608647650.xml', '/tmp/tmps_637soy/Annotations/1608646908.xml', '/tmp/tmps_637soy/Annotations/1608645877.xml', '/tmp/tmps_637soy/Annotations/1608646972.xml', '/tmp/tmps_637soy/Annotations/1608647239.xml', '/tmp/tmps_637soy/Annotations/1608646890.xml', '/tmp/tmps_637soy/Annotations/1608645869.xml', '/tmp/tmps_637soy/Annotations/1608647015.xml', '/tmp/tmps_637soy/Annotations/1608647629.xml', '/tmp/tmps_637soy/Annotations/1608647936.xml', '/tmp/tmps_637soy/Annotations/1608647530.xml', '/tmp/tmps_637soy/Annotations/1608647282.xml', '/tmp/tmps_637soy/Annotations/1608647113.xml', '/tmp/tmps_637soy/Annotations/1608647639.xml', '/tmp/tmps_637soy/Annotations/1608647715.xml'], 'size': 0}\n",
            "created zip file: valid_megots150images.zip\n"
          ]
        },
        {
          "output_type": "execute_result",
          "data": {
            "text/plain": [
              ""
            ]
          },
          "metadata": {},
          "execution_count": 8
        }
      ]
    },
    {
      "cell_type": "markdown",
      "metadata": {
        "id": "z5cNZbbUzQjp"
      },
      "source": [
        "Pour Télécharger les fichiers générés (peut être long...)"
      ]
    },
    {
      "cell_type": "code",
      "metadata": {
        "colab": {
          "base_uri": "https://localhost:8080/",
          "height": 17
        },
        "id": "ZRUZSPPay4Mb",
        "outputId": "379d476b-aa1a-48a6-8f3c-9dbd658b0e5e"
      },
      "source": [
        "from google.colab import files\n",
        "files.download(f\"train_{database}.zip\")\n",
        "files.download(f\"valid_{database}.zip\")"
      ],
      "execution_count": 9,
      "outputs": [
        {
          "output_type": "display_data",
          "data": {
            "application/javascript": [
              "\n",
              "    async function download(id, filename, size) {\n",
              "      if (!google.colab.kernel.accessAllowed) {\n",
              "        return;\n",
              "      }\n",
              "      const div = document.createElement('div');\n",
              "      const label = document.createElement('label');\n",
              "      label.textContent = `Downloading \"${filename}\": `;\n",
              "      div.appendChild(label);\n",
              "      const progress = document.createElement('progress');\n",
              "      progress.max = size;\n",
              "      div.appendChild(progress);\n",
              "      document.body.appendChild(div);\n",
              "\n",
              "      const buffers = [];\n",
              "      let downloaded = 0;\n",
              "\n",
              "      const channel = await google.colab.kernel.comms.open(id);\n",
              "      // Send a message to notify the kernel that we're ready.\n",
              "      channel.send({})\n",
              "\n",
              "      for await (const message of channel.messages) {\n",
              "        // Send a message to notify the kernel that we're ready.\n",
              "        channel.send({})\n",
              "        if (message.buffers) {\n",
              "          for (const buffer of message.buffers) {\n",
              "            buffers.push(buffer);\n",
              "            downloaded += buffer.byteLength;\n",
              "            progress.value = downloaded;\n",
              "          }\n",
              "        }\n",
              "      }\n",
              "      const blob = new Blob(buffers, {type: 'application/binary'});\n",
              "      const a = document.createElement('a');\n",
              "      a.href = window.URL.createObjectURL(blob);\n",
              "      a.download = filename;\n",
              "      div.appendChild(a);\n",
              "      a.click();\n",
              "      div.remove();\n",
              "    }\n",
              "  "
            ],
            "text/plain": [
              "<IPython.core.display.Javascript object>"
            ]
          },
          "metadata": {}
        },
        {
          "output_type": "display_data",
          "data": {
            "application/javascript": [
              "download(\"download_563de899-3983-4a25-b1b1-1d921bfb2ebb\", \"train_megots150images.zip\", 60706864)"
            ],
            "text/plain": [
              "<IPython.core.display.Javascript object>"
            ]
          },
          "metadata": {}
        },
        {
          "output_type": "display_data",
          "data": {
            "application/javascript": [
              "\n",
              "    async function download(id, filename, size) {\n",
              "      if (!google.colab.kernel.accessAllowed) {\n",
              "        return;\n",
              "      }\n",
              "      const div = document.createElement('div');\n",
              "      const label = document.createElement('label');\n",
              "      label.textContent = `Downloading \"${filename}\": `;\n",
              "      div.appendChild(label);\n",
              "      const progress = document.createElement('progress');\n",
              "      progress.max = size;\n",
              "      div.appendChild(progress);\n",
              "      document.body.appendChild(div);\n",
              "\n",
              "      const buffers = [];\n",
              "      let downloaded = 0;\n",
              "\n",
              "      const channel = await google.colab.kernel.comms.open(id);\n",
              "      // Send a message to notify the kernel that we're ready.\n",
              "      channel.send({})\n",
              "\n",
              "      for await (const message of channel.messages) {\n",
              "        // Send a message to notify the kernel that we're ready.\n",
              "        channel.send({})\n",
              "        if (message.buffers) {\n",
              "          for (const buffer of message.buffers) {\n",
              "            buffers.push(buffer);\n",
              "            downloaded += buffer.byteLength;\n",
              "            progress.value = downloaded;\n",
              "          }\n",
              "        }\n",
              "      }\n",
              "      const blob = new Blob(buffers, {type: 'application/binary'});\n",
              "      const a = document.createElement('a');\n",
              "      a.href = window.URL.createObjectURL(blob);\n",
              "      a.download = filename;\n",
              "      div.appendChild(a);\n",
              "      a.click();\n",
              "      div.remove();\n",
              "    }\n",
              "  "
            ],
            "text/plain": [
              "<IPython.core.display.Javascript object>"
            ]
          },
          "metadata": {}
        },
        {
          "output_type": "display_data",
          "data": {
            "application/javascript": [
              "download(\"download_d9c55a5e-046b-4c5c-85e6-8a13d15a4efd\", \"valid_megots150images.zip\", 1434897)"
            ],
            "text/plain": [
              "<IPython.core.display.Javascript object>"
            ]
          },
          "metadata": {}
        }
      ]
    },
    {
      "cell_type": "code",
      "metadata": {
        "id": "c7sN_6D51Dx8"
      },
      "source": [
        ""
      ],
      "execution_count": null,
      "outputs": []
    }
  ]
}