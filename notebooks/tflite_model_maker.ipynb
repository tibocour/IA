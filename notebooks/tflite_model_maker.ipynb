{
  "nbformat": 4,
  "nbformat_minor": 0,
  "metadata": {
    "accelerator": "GPU",
    "colab": {
      "name": "tflite_model_maker.ipynb",
      "provenance": [],
      "collapsed_sections": []
    },
    "kernelspec": {
      "display_name": "Python 3",
      "name": "python3"
    },
    "language_info": {
      "name": "python"
    }
  },
  "cells": [
    {
      "cell_type": "markdown",
      "metadata": {
        "id": "2R2IdbfbXoIH"
      },
      "source": [
        "# Ressources\n",
        "\n",
        "* https://www.tensorflow.org/lite/tutorials/model_maker_object_detection\n",
        "* https://www.tensorflow.org/lite/api_docs/python/tflite_model_maker/object_detector\n",
        "* https://coral.ai/docs/edgetpu/retrain-detection/\n",
        "* https://github.com/google-coral/tflite/tree/master/python/examples/detection\n",
        "* https://github.com/tensorflow/examples/tree/master/lite/examples/object_detection/raspberry_pi"
      ]
    },
    {
      "cell_type": "code",
      "metadata": {
        "colab": {
          "base_uri": "https://localhost:8080/"
        },
        "id": "E0aWpDFlcUME",
        "outputId": "87a97904-04bf-4b48-becb-ebfea1ddf1a4"
      },
      "source": [
        "%%shell\n",
        "\n",
        "nvidia-smi"
      ],
      "execution_count": 1,
      "outputs": [
        {
          "output_type": "stream",
          "text": [
            "Thu Aug 26 14:35:09 2021       \n",
            "+-----------------------------------------------------------------------------+\n",
            "| NVIDIA-SMI 470.57.02    Driver Version: 460.32.03    CUDA Version: 11.2     |\n",
            "|-------------------------------+----------------------+----------------------+\n",
            "| GPU  Name        Persistence-M| Bus-Id        Disp.A | Volatile Uncorr. ECC |\n",
            "| Fan  Temp  Perf  Pwr:Usage/Cap|         Memory-Usage | GPU-Util  Compute M. |\n",
            "|                               |                      |               MIG M. |\n",
            "|===============================+======================+======================|\n",
            "|   0  Tesla K80           Off  | 00000000:00:04.0 Off |                    0 |\n",
            "| N/A   57C    P8    33W / 149W |      0MiB / 11441MiB |      0%      Default |\n",
            "|                               |                      |                  N/A |\n",
            "+-------------------------------+----------------------+----------------------+\n",
            "                                                                               \n",
            "+-----------------------------------------------------------------------------+\n",
            "| Processes:                                                                  |\n",
            "|  GPU   GI   CI        PID   Type   Process name                  GPU Memory |\n",
            "|        ID   ID                                                   Usage      |\n",
            "|=============================================================================|\n",
            "|  No running processes found                                                 |\n",
            "+-----------------------------------------------------------------------------+\n"
          ],
          "name": "stdout"
        },
        {
          "output_type": "execute_result",
          "data": {
            "text/plain": [
              ""
            ]
          },
          "metadata": {},
          "execution_count": 1
        }
      ]
    },
    {
      "cell_type": "code",
      "metadata": {
        "colab": {
          "base_uri": "https://localhost:8080/"
        },
        "id": "dqL5Jc5VZOv2",
        "outputId": "86dbee52-b2bc-48e4-99e2-04933dcbbb99"
      },
      "source": [
        "%%shell \n",
        "\n",
        "# see https://discuss.tensorflow.org/t/invalidargumenterror-required-broadcastable-shapes-op-mul/3824/4\n",
        "# pip install tensorflow==2.5.0\n",
        "# pip install tflite-model-maker\n",
        "pip install tflite-model-maker-nightly"
      ],
      "execution_count": 2,
      "outputs": [
        {
          "output_type": "stream",
          "text": [
            "Collecting tflite-model-maker-nightly\n",
            "  Downloading tflite_model_maker_nightly-0.3.4.dev202108260554-py3-none-any.whl (620 kB)\n",
            "\u001b[K     |████████████████████████████████| 620 kB 12.3 MB/s \n",
            "\u001b[?25hCollecting tflite-support-nightly\n",
            "  Downloading tflite_support_nightly-0.1.0.dev20210825-cp37-cp37m-manylinux_2_12_x86_64.manylinux2010_x86_64.whl (1.1 MB)\n",
            "\u001b[K     |████████████████████████████████| 1.1 MB 43.0 MB/s \n",
            "\u001b[?25hRequirement already satisfied: librosa==0.8.1 in /usr/local/lib/python3.7/dist-packages (from tflite-model-maker-nightly) (0.8.1)\n",
            "Requirement already satisfied: urllib3!=1.25.0,!=1.25.1,<1.26,>=1.21.1 in /usr/local/lib/python3.7/dist-packages (from tflite-model-maker-nightly) (1.24.3)\n",
            "Collecting numba==0.53\n",
            "  Downloading numba-0.53.0-cp37-cp37m-manylinux2014_x86_64.whl (3.4 MB)\n",
            "\u001b[K     |████████████████████████████████| 3.4 MB 44.4 MB/s \n",
            "\u001b[?25hCollecting sentencepiece>=0.1.91\n",
            "  Downloading sentencepiece-0.1.96-cp37-cp37m-manylinux_2_17_x86_64.manylinux2014_x86_64.whl (1.2 MB)\n",
            "\u001b[K     |████████████████████████████████| 1.2 MB 39.6 MB/s \n",
            "\u001b[?25hCollecting lxml>=4.6.1\n",
            "  Downloading lxml-4.6.3-cp37-cp37m-manylinux2014_x86_64.whl (6.3 MB)\n",
            "\u001b[K     |████████████████████████████████| 6.3 MB 49.7 MB/s \n",
            "\u001b[?25hCollecting fire>=0.3.1\n",
            "  Downloading fire-0.4.0.tar.gz (87 kB)\n",
            "\u001b[K     |████████████████████████████████| 87 kB 7.0 MB/s \n",
            "\u001b[?25hRequirement already satisfied: tensorflow-hub<0.13,>=0.7.0 in /usr/local/lib/python3.7/dist-packages (from tflite-model-maker-nightly) (0.12.0)\n",
            "Requirement already satisfied: pillow>=7.0.0 in /usr/local/lib/python3.7/dist-packages (from tflite-model-maker-nightly) (7.1.2)\n",
            "Collecting neural-structured-learning>=1.3.1\n",
            "  Downloading neural_structured_learning-1.3.1-py2.py3-none-any.whl (120 kB)\n",
            "\u001b[K     |████████████████████████████████| 120 kB 47.4 MB/s \n",
            "\u001b[?25hRequirement already satisfied: numpy>=1.17.3 in /usr/local/lib/python3.7/dist-packages (from tflite-model-maker-nightly) (1.19.5)\n",
            "Collecting tensorflow-model-optimization>=0.5\n",
            "  Downloading tensorflow_model_optimization-0.6.0-py2.py3-none-any.whl (211 kB)\n",
            "\u001b[K     |████████████████████████████████| 211 kB 52.7 MB/s \n",
            "\u001b[?25hCollecting tf-models-official==2.3.0\n",
            "  Downloading tf_models_official-2.3.0-py2.py3-none-any.whl (840 kB)\n",
            "\u001b[K     |████████████████████████████████| 840 kB 39.2 MB/s \n",
            "\u001b[?25hCollecting tfa-nightly\n",
            "  Downloading tfa_nightly-0.15.0.dev20210825184357-cp37-cp37m-manylinux_2_12_x86_64.manylinux2010_x86_64.whl (1.1 MB)\n",
            "\u001b[K     |████████████████████████████████| 1.1 MB 45.9 MB/s \n",
            "\u001b[?25hCollecting PyYAML>=5.1\n",
            "  Downloading PyYAML-5.4.1-cp37-cp37m-manylinux1_x86_64.whl (636 kB)\n",
            "\u001b[K     |████████████████████████████████| 636 kB 48.6 MB/s \n",
            "\u001b[?25hRequirement already satisfied: tensorflow-datasets>=2.1.0 in /usr/local/lib/python3.7/dist-packages (from tflite-model-maker-nightly) (4.0.1)\n",
            "Requirement already satisfied: matplotlib>=3.0.3 in /usr/local/lib/python3.7/dist-packages (from tflite-model-maker-nightly) (3.2.2)\n",
            "Requirement already satisfied: tensorflow==2.6.0 in /usr/local/lib/python3.7/dist-packages (from tflite-model-maker-nightly) (2.6.0)\n",
            "Requirement already satisfied: six>=1.12.0 in /usr/local/lib/python3.7/dist-packages (from tflite-model-maker-nightly) (1.15.0)\n",
            "Requirement already satisfied: flatbuffers==1.12 in /usr/local/lib/python3.7/dist-packages (from tflite-model-maker-nightly) (1.12)\n",
            "Requirement already satisfied: absl-py>=0.10.0 in /usr/local/lib/python3.7/dist-packages (from tflite-model-maker-nightly) (0.12.0)\n",
            "Requirement already satisfied: Cython>=0.29.13 in /usr/local/lib/python3.7/dist-packages (from tflite-model-maker-nightly) (0.29.24)\n",
            "Requirement already satisfied: decorator>=3.0.0 in /usr/local/lib/python3.7/dist-packages (from librosa==0.8.1->tflite-model-maker-nightly) (4.4.2)\n",
            "Requirement already satisfied: scipy>=1.0.0 in /usr/local/lib/python3.7/dist-packages (from librosa==0.8.1->tflite-model-maker-nightly) (1.4.1)\n",
            "Requirement already satisfied: resampy>=0.2.2 in /usr/local/lib/python3.7/dist-packages (from librosa==0.8.1->tflite-model-maker-nightly) (0.2.2)\n",
            "Requirement already satisfied: packaging>=20.0 in /usr/local/lib/python3.7/dist-packages (from librosa==0.8.1->tflite-model-maker-nightly) (21.0)\n",
            "Requirement already satisfied: pooch>=1.0 in /usr/local/lib/python3.7/dist-packages (from librosa==0.8.1->tflite-model-maker-nightly) (1.4.0)\n",
            "Requirement already satisfied: soundfile>=0.10.2 in /usr/local/lib/python3.7/dist-packages (from librosa==0.8.1->tflite-model-maker-nightly) (0.10.3.post1)\n",
            "Requirement already satisfied: scikit-learn!=0.19.0,>=0.14.0 in /usr/local/lib/python3.7/dist-packages (from librosa==0.8.1->tflite-model-maker-nightly) (0.22.2.post1)\n",
            "Requirement already satisfied: joblib>=0.14 in /usr/local/lib/python3.7/dist-packages (from librosa==0.8.1->tflite-model-maker-nightly) (1.0.1)\n",
            "Requirement already satisfied: audioread>=2.0.0 in /usr/local/lib/python3.7/dist-packages (from librosa==0.8.1->tflite-model-maker-nightly) (2.1.9)\n",
            "Collecting llvmlite<0.37,>=0.36.0rc1\n",
            "  Downloading llvmlite-0.36.0-cp37-cp37m-manylinux2010_x86_64.whl (25.3 MB)\n",
            "\u001b[K     |████████████████████████████████| 25.3 MB 78 kB/s \n",
            "\u001b[?25hRequirement already satisfied: setuptools in /usr/local/lib/python3.7/dist-packages (from numba==0.53->tflite-model-maker-nightly) (57.4.0)\n",
            "Requirement already satisfied: opt-einsum~=3.3.0 in /usr/local/lib/python3.7/dist-packages (from tensorflow==2.6.0->tflite-model-maker-nightly) (3.3.0)\n",
            "Requirement already satisfied: grpcio<2.0,>=1.37.0 in /usr/local/lib/python3.7/dist-packages (from tensorflow==2.6.0->tflite-model-maker-nightly) (1.39.0)\n",
            "Requirement already satisfied: termcolor~=1.1.0 in /usr/local/lib/python3.7/dist-packages (from tensorflow==2.6.0->tflite-model-maker-nightly) (1.1.0)\n",
            "Requirement already satisfied: wheel~=0.35 in /usr/local/lib/python3.7/dist-packages (from tensorflow==2.6.0->tflite-model-maker-nightly) (0.37.0)\n",
            "Requirement already satisfied: google-pasta~=0.2 in /usr/local/lib/python3.7/dist-packages (from tensorflow==2.6.0->tflite-model-maker-nightly) (0.2.0)\n",
            "Requirement already satisfied: keras-preprocessing~=1.1.2 in /usr/local/lib/python3.7/dist-packages (from tensorflow==2.6.0->tflite-model-maker-nightly) (1.1.2)\n",
            "Requirement already satisfied: astunparse~=1.6.3 in /usr/local/lib/python3.7/dist-packages (from tensorflow==2.6.0->tflite-model-maker-nightly) (1.6.3)\n",
            "Requirement already satisfied: wrapt~=1.12.1 in /usr/local/lib/python3.7/dist-packages (from tensorflow==2.6.0->tflite-model-maker-nightly) (1.12.1)\n",
            "Requirement already satisfied: gast==0.4.0 in /usr/local/lib/python3.7/dist-packages (from tensorflow==2.6.0->tflite-model-maker-nightly) (0.4.0)\n",
            "Requirement already satisfied: tensorflow-estimator~=2.6 in /usr/local/lib/python3.7/dist-packages (from tensorflow==2.6.0->tflite-model-maker-nightly) (2.6.0)\n",
            "Requirement already satisfied: typing-extensions~=3.7.4 in /usr/local/lib/python3.7/dist-packages (from tensorflow==2.6.0->tflite-model-maker-nightly) (3.7.4.3)\n",
            "Requirement already satisfied: h5py~=3.1.0 in /usr/local/lib/python3.7/dist-packages (from tensorflow==2.6.0->tflite-model-maker-nightly) (3.1.0)\n",
            "Requirement already satisfied: clang~=5.0 in /usr/local/lib/python3.7/dist-packages (from tensorflow==2.6.0->tflite-model-maker-nightly) (5.0)\n",
            "Requirement already satisfied: protobuf>=3.9.2 in /usr/local/lib/python3.7/dist-packages (from tensorflow==2.6.0->tflite-model-maker-nightly) (3.17.3)\n",
            "Requirement already satisfied: keras~=2.6 in /usr/local/lib/python3.7/dist-packages (from tensorflow==2.6.0->tflite-model-maker-nightly) (2.6.0)\n",
            "Requirement already satisfied: tensorboard~=2.6 in /usr/local/lib/python3.7/dist-packages (from tensorflow==2.6.0->tflite-model-maker-nightly) (2.6.0)\n",
            "Collecting dataclasses\n",
            "  Downloading dataclasses-0.6-py3-none-any.whl (14 kB)\n",
            "Collecting opencv-python-headless\n",
            "  Downloading opencv_python_headless-4.5.3.56-cp37-cp37m-manylinux2014_x86_64.whl (37.1 MB)\n",
            "\u001b[K     |████████████████████████████████| 37.1 MB 47 kB/s \n",
            "\u001b[?25hCollecting tensorflow-addons\n",
            "  Downloading tensorflow_addons-0.14.0-cp37-cp37m-manylinux_2_12_x86_64.manylinux2010_x86_64.whl (1.1 MB)\n",
            "\u001b[K     |████████████████████████████████| 1.1 MB 33.9 MB/s \n",
            "\u001b[?25hRequirement already satisfied: gin-config in /usr/local/lib/python3.7/dist-packages (from tf-models-official==2.3.0->tflite-model-maker-nightly) (0.4.0)\n",
            "Collecting tf-slim>=1.1.0\n",
            "  Downloading tf_slim-1.1.0-py2.py3-none-any.whl (352 kB)\n",
            "\u001b[K     |████████████████████████████████| 352 kB 49.3 MB/s \n",
            "\u001b[?25hRequirement already satisfied: pandas>=0.22.0 in /usr/local/lib/python3.7/dist-packages (from tf-models-official==2.3.0->tflite-model-maker-nightly) (1.1.5)\n",
            "Requirement already satisfied: google-cloud-bigquery>=0.31.0 in /usr/local/lib/python3.7/dist-packages (from tf-models-official==2.3.0->tflite-model-maker-nightly) (1.21.0)\n",
            "Requirement already satisfied: google-api-python-client>=1.6.7 in /usr/local/lib/python3.7/dist-packages (from tf-models-official==2.3.0->tflite-model-maker-nightly) (1.12.8)\n",
            "Requirement already satisfied: psutil>=5.4.3 in /usr/local/lib/python3.7/dist-packages (from tf-models-official==2.3.0->tflite-model-maker-nightly) (5.4.8)\n",
            "Requirement already satisfied: kaggle>=1.3.9 in /usr/local/lib/python3.7/dist-packages (from tf-models-official==2.3.0->tflite-model-maker-nightly) (1.5.12)\n",
            "Collecting py-cpuinfo>=3.3.0\n",
            "  Downloading py-cpuinfo-8.0.0.tar.gz (99 kB)\n",
            "\u001b[K     |████████████████████████████████| 99 kB 9.7 MB/s \n",
            "\u001b[?25hRequirement already satisfied: google-auth>=1.16.0 in /usr/local/lib/python3.7/dist-packages (from google-api-python-client>=1.6.7->tf-models-official==2.3.0->tflite-model-maker-nightly) (1.34.0)\n",
            "Requirement already satisfied: google-api-core<2dev,>=1.21.0 in /usr/local/lib/python3.7/dist-packages (from google-api-python-client>=1.6.7->tf-models-official==2.3.0->tflite-model-maker-nightly) (1.26.3)\n",
            "Requirement already satisfied: httplib2<1dev,>=0.15.0 in /usr/local/lib/python3.7/dist-packages (from google-api-python-client>=1.6.7->tf-models-official==2.3.0->tflite-model-maker-nightly) (0.17.4)\n",
            "Requirement already satisfied: google-auth-httplib2>=0.0.3 in /usr/local/lib/python3.7/dist-packages (from google-api-python-client>=1.6.7->tf-models-official==2.3.0->tflite-model-maker-nightly) (0.0.4)\n",
            "Requirement already satisfied: uritemplate<4dev,>=3.0.0 in /usr/local/lib/python3.7/dist-packages (from google-api-python-client>=1.6.7->tf-models-official==2.3.0->tflite-model-maker-nightly) (3.0.1)\n",
            "Requirement already satisfied: googleapis-common-protos<2.0dev,>=1.6.0 in /usr/local/lib/python3.7/dist-packages (from google-api-core<2dev,>=1.21.0->google-api-python-client>=1.6.7->tf-models-official==2.3.0->tflite-model-maker-nightly) (1.53.0)\n",
            "Requirement already satisfied: requests<3.0.0dev,>=2.18.0 in /usr/local/lib/python3.7/dist-packages (from google-api-core<2dev,>=1.21.0->google-api-python-client>=1.6.7->tf-models-official==2.3.0->tflite-model-maker-nightly) (2.23.0)\n",
            "Requirement already satisfied: pytz in /usr/local/lib/python3.7/dist-packages (from google-api-core<2dev,>=1.21.0->google-api-python-client>=1.6.7->tf-models-official==2.3.0->tflite-model-maker-nightly) (2018.9)\n",
            "Requirement already satisfied: pyasn1-modules>=0.2.1 in /usr/local/lib/python3.7/dist-packages (from google-auth>=1.16.0->google-api-python-client>=1.6.7->tf-models-official==2.3.0->tflite-model-maker-nightly) (0.2.8)\n",
            "Requirement already satisfied: cachetools<5.0,>=2.0.0 in /usr/local/lib/python3.7/dist-packages (from google-auth>=1.16.0->google-api-python-client>=1.6.7->tf-models-official==2.3.0->tflite-model-maker-nightly) (4.2.2)\n",
            "Requirement already satisfied: rsa<5,>=3.1.4 in /usr/local/lib/python3.7/dist-packages (from google-auth>=1.16.0->google-api-python-client>=1.6.7->tf-models-official==2.3.0->tflite-model-maker-nightly) (4.7.2)\n",
            "Requirement already satisfied: google-cloud-core<2.0dev,>=1.0.3 in /usr/local/lib/python3.7/dist-packages (from google-cloud-bigquery>=0.31.0->tf-models-official==2.3.0->tflite-model-maker-nightly) (1.0.3)\n",
            "Requirement already satisfied: google-resumable-media!=0.4.0,<0.5.0dev,>=0.3.1 in /usr/local/lib/python3.7/dist-packages (from google-cloud-bigquery>=0.31.0->tf-models-official==2.3.0->tflite-model-maker-nightly) (0.4.1)\n",
            "Requirement already satisfied: cached-property in /usr/local/lib/python3.7/dist-packages (from h5py~=3.1.0->tensorflow==2.6.0->tflite-model-maker-nightly) (1.5.2)\n",
            "Requirement already satisfied: python-slugify in /usr/local/lib/python3.7/dist-packages (from kaggle>=1.3.9->tf-models-official==2.3.0->tflite-model-maker-nightly) (5.0.2)\n",
            "Requirement already satisfied: tqdm in /usr/local/lib/python3.7/dist-packages (from kaggle>=1.3.9->tf-models-official==2.3.0->tflite-model-maker-nightly) (4.62.0)\n",
            "Requirement already satisfied: certifi in /usr/local/lib/python3.7/dist-packages (from kaggle>=1.3.9->tf-models-official==2.3.0->tflite-model-maker-nightly) (2021.5.30)\n",
            "Requirement already satisfied: python-dateutil in /usr/local/lib/python3.7/dist-packages (from kaggle>=1.3.9->tf-models-official==2.3.0->tflite-model-maker-nightly) (2.8.2)\n",
            "Requirement already satisfied: cycler>=0.10 in /usr/local/lib/python3.7/dist-packages (from matplotlib>=3.0.3->tflite-model-maker-nightly) (0.10.0)\n",
            "Requirement already satisfied: kiwisolver>=1.0.1 in /usr/local/lib/python3.7/dist-packages (from matplotlib>=3.0.3->tflite-model-maker-nightly) (1.3.1)\n",
            "Requirement already satisfied: pyparsing!=2.0.4,!=2.1.2,!=2.1.6,>=2.0.1 in /usr/local/lib/python3.7/dist-packages (from matplotlib>=3.0.3->tflite-model-maker-nightly) (2.4.7)\n",
            "Requirement already satisfied: attrs in /usr/local/lib/python3.7/dist-packages (from neural-structured-learning>=1.3.1->tflite-model-maker-nightly) (21.2.0)\n",
            "Requirement already satisfied: appdirs in /usr/local/lib/python3.7/dist-packages (from pooch>=1.0->librosa==0.8.1->tflite-model-maker-nightly) (1.4.4)\n",
            "Requirement already satisfied: pyasn1<0.5.0,>=0.4.6 in /usr/local/lib/python3.7/dist-packages (from pyasn1-modules>=0.2.1->google-auth>=1.16.0->google-api-python-client>=1.6.7->tf-models-official==2.3.0->tflite-model-maker-nightly) (0.4.8)\n",
            "Requirement already satisfied: chardet<4,>=3.0.2 in /usr/local/lib/python3.7/dist-packages (from requests<3.0.0dev,>=2.18.0->google-api-core<2dev,>=1.21.0->google-api-python-client>=1.6.7->tf-models-official==2.3.0->tflite-model-maker-nightly) (3.0.4)\n",
            "Requirement already satisfied: idna<3,>=2.5 in /usr/local/lib/python3.7/dist-packages (from requests<3.0.0dev,>=2.18.0->google-api-core<2dev,>=1.21.0->google-api-python-client>=1.6.7->tf-models-official==2.3.0->tflite-model-maker-nightly) (2.10)\n",
            "Requirement already satisfied: cffi>=1.0 in /usr/local/lib/python3.7/dist-packages (from soundfile>=0.10.2->librosa==0.8.1->tflite-model-maker-nightly) (1.14.6)\n",
            "Requirement already satisfied: pycparser in /usr/local/lib/python3.7/dist-packages (from cffi>=1.0->soundfile>=0.10.2->librosa==0.8.1->tflite-model-maker-nightly) (2.20)\n",
            "Requirement already satisfied: google-auth-oauthlib<0.5,>=0.4.1 in /usr/local/lib/python3.7/dist-packages (from tensorboard~=2.6->tensorflow==2.6.0->tflite-model-maker-nightly) (0.4.5)\n",
            "Requirement already satisfied: tensorboard-data-server<0.7.0,>=0.6.0 in /usr/local/lib/python3.7/dist-packages (from tensorboard~=2.6->tensorflow==2.6.0->tflite-model-maker-nightly) (0.6.1)\n",
            "Requirement already satisfied: werkzeug>=0.11.15 in /usr/local/lib/python3.7/dist-packages (from tensorboard~=2.6->tensorflow==2.6.0->tflite-model-maker-nightly) (1.0.1)\n",
            "Requirement already satisfied: markdown>=2.6.8 in /usr/local/lib/python3.7/dist-packages (from tensorboard~=2.6->tensorflow==2.6.0->tflite-model-maker-nightly) (3.3.4)\n",
            "Requirement already satisfied: tensorboard-plugin-wit>=1.6.0 in /usr/local/lib/python3.7/dist-packages (from tensorboard~=2.6->tensorflow==2.6.0->tflite-model-maker-nightly) (1.8.0)\n",
            "Requirement already satisfied: requests-oauthlib>=0.7.0 in /usr/local/lib/python3.7/dist-packages (from google-auth-oauthlib<0.5,>=0.4.1->tensorboard~=2.6->tensorflow==2.6.0->tflite-model-maker-nightly) (1.3.0)\n",
            "Requirement already satisfied: importlib-metadata in /usr/local/lib/python3.7/dist-packages (from markdown>=2.6.8->tensorboard~=2.6->tensorflow==2.6.0->tflite-model-maker-nightly) (4.6.4)\n",
            "Requirement already satisfied: oauthlib>=3.0.0 in /usr/local/lib/python3.7/dist-packages (from requests-oauthlib>=0.7.0->google-auth-oauthlib<0.5,>=0.4.1->tensorboard~=2.6->tensorflow==2.6.0->tflite-model-maker-nightly) (3.1.1)\n",
            "Requirement already satisfied: importlib-resources in /usr/local/lib/python3.7/dist-packages (from tensorflow-datasets>=2.1.0->tflite-model-maker-nightly) (5.2.2)\n",
            "Requirement already satisfied: promise in /usr/local/lib/python3.7/dist-packages (from tensorflow-datasets>=2.1.0->tflite-model-maker-nightly) (2.3)\n",
            "Requirement already satisfied: dill in /usr/local/lib/python3.7/dist-packages (from tensorflow-datasets>=2.1.0->tflite-model-maker-nightly) (0.3.4)\n",
            "Requirement already satisfied: dm-tree in /usr/local/lib/python3.7/dist-packages (from tensorflow-datasets>=2.1.0->tflite-model-maker-nightly) (0.1.6)\n",
            "Requirement already satisfied: tensorflow-metadata in /usr/local/lib/python3.7/dist-packages (from tensorflow-datasets>=2.1.0->tflite-model-maker-nightly) (1.2.0)\n",
            "Requirement already satisfied: future in /usr/local/lib/python3.7/dist-packages (from tensorflow-datasets>=2.1.0->tflite-model-maker-nightly) (0.16.0)\n",
            "Requirement already satisfied: zipp>=0.5 in /usr/local/lib/python3.7/dist-packages (from importlib-metadata->markdown>=2.6.8->tensorboard~=2.6->tensorflow==2.6.0->tflite-model-maker-nightly) (3.5.0)\n",
            "Requirement already satisfied: text-unidecode>=1.3 in /usr/local/lib/python3.7/dist-packages (from python-slugify->kaggle>=1.3.9->tf-models-official==2.3.0->tflite-model-maker-nightly) (1.3)\n",
            "Requirement already satisfied: typeguard>=2.7 in /usr/local/lib/python3.7/dist-packages (from tensorflow-addons->tf-models-official==2.3.0->tflite-model-maker-nightly) (2.7.1)\n",
            "Collecting pybind11>=2.6.0\n",
            "  Downloading pybind11-2.7.1-py2.py3-none-any.whl (200 kB)\n",
            "\u001b[K     |████████████████████████████████| 200 kB 51.7 MB/s \n",
            "\u001b[?25hBuilding wheels for collected packages: fire, py-cpuinfo\n",
            "  Building wheel for fire (setup.py) ... \u001b[?25l\u001b[?25hdone\n",
            "  Created wheel for fire: filename=fire-0.4.0-py2.py3-none-any.whl size=115943 sha256=a084371864abb2b90787774f443d9b96c23a49e0b82223fed30ab6514898af97\n",
            "  Stored in directory: /root/.cache/pip/wheels/8a/67/fb/2e8a12fa16661b9d5af1f654bd199366799740a85c64981226\n",
            "  Building wheel for py-cpuinfo (setup.py) ... \u001b[?25l\u001b[?25hdone\n",
            "  Created wheel for py-cpuinfo: filename=py_cpuinfo-8.0.0-py3-none-any.whl size=22258 sha256=60b892af1a871b23d2f3c908bd62b094d9c9730b72adb1c66f680d7a48a1fafa\n",
            "  Stored in directory: /root/.cache/pip/wheels/d2/f1/1f/041add21dc9c4220157f1bd2bd6afe1f1a49524c3396b94401\n",
            "Successfully built fire py-cpuinfo\n",
            "Installing collected packages: llvmlite, numba, tf-slim, tensorflow-model-optimization, tensorflow-addons, sentencepiece, PyYAML, pybind11, py-cpuinfo, opencv-python-headless, dataclasses, tflite-support-nightly, tfa-nightly, tf-models-official, neural-structured-learning, lxml, fire, tflite-model-maker-nightly\n",
            "  Attempting uninstall: llvmlite\n",
            "    Found existing installation: llvmlite 0.34.0\n",
            "    Uninstalling llvmlite-0.34.0:\n",
            "      Successfully uninstalled llvmlite-0.34.0\n",
            "  Attempting uninstall: numba\n",
            "    Found existing installation: numba 0.51.2\n",
            "    Uninstalling numba-0.51.2:\n",
            "      Successfully uninstalled numba-0.51.2\n",
            "  Attempting uninstall: PyYAML\n",
            "    Found existing installation: PyYAML 3.13\n",
            "    Uninstalling PyYAML-3.13:\n",
            "      Successfully uninstalled PyYAML-3.13\n",
            "  Attempting uninstall: lxml\n",
            "    Found existing installation: lxml 4.2.6\n",
            "    Uninstalling lxml-4.2.6:\n",
            "      Successfully uninstalled lxml-4.2.6\n",
            "Successfully installed PyYAML-5.4.1 dataclasses-0.6 fire-0.4.0 llvmlite-0.36.0 lxml-4.6.3 neural-structured-learning-1.3.1 numba-0.53.0 opencv-python-headless-4.5.3.56 py-cpuinfo-8.0.0 pybind11-2.7.1 sentencepiece-0.1.96 tensorflow-addons-0.14.0 tensorflow-model-optimization-0.6.0 tf-models-official-2.3.0 tf-slim-1.1.0 tfa-nightly-0.15.0.dev20210825184357 tflite-model-maker-nightly-0.3.4.dev202108260554 tflite-support-nightly-0.1.0.dev20210825\n"
          ],
          "name": "stdout"
        },
        {
          "output_type": "execute_result",
          "data": {
            "text/plain": [
              ""
            ]
          },
          "metadata": {},
          "execution_count": 2
        }
      ]
    },
    {
      "cell_type": "markdown",
      "metadata": {
        "id": "JVf_sKXN9H9f"
      },
      "source": [
        "# Installation du projet `bfc` et accès aux données\n",
        "\n",
        "Les login et mot de passe sont nécessaires pour accéder à des repos privés à partir de Google/Colab. Cela ne serait pas le cas en accès public."
      ]
    },
    {
      "cell_type": "code",
      "metadata": {
        "id": "CPOKLGaw9Qhx"
      },
      "source": [
        "import os\n",
        "from getpass import getpass"
      ],
      "execution_count": 3,
      "outputs": []
    },
    {
      "cell_type": "code",
      "metadata": {
        "colab": {
          "base_uri": "https://localhost:8080/"
        },
        "id": "36zlJOI5A0Go",
        "outputId": "5658a87e-89f6-4822-92f8-349d4359d51b"
      },
      "source": [
        "user = getpass('GitHub user')\n",
        "password = getpass('GitHub password')\n",
        "os.environ['GITHUB_AUTH'] = user + ':' + password"
      ],
      "execution_count": 4,
      "outputs": [
        {
          "output_type": "stream",
          "text": [
            "GitHub user··········\n",
            "GitHub password··········\n"
          ],
          "name": "stdout"
        }
      ]
    },
    {
      "cell_type": "code",
      "metadata": {
        "colab": {
          "base_uri": "https://localhost:8080/"
        },
        "id": "nF7dOnmdAc71",
        "outputId": "478b06b2-7488-45e7-b5de-3b8e9b16bab0"
      },
      "source": [
        "%%shell\n",
        "\n",
        "git clone https://$GITHUB_AUTH@github.com/tibocour/IA.git"
      ],
      "execution_count": 5,
      "outputs": [
        {
          "output_type": "stream",
          "text": [
            "Cloning into 'IA'...\n",
            "remote: Enumerating objects: 38, done.\u001b[K\n",
            "remote: Counting objects: 100% (38/38), done.\u001b[K\n",
            "remote: Compressing objects: 100% (26/26), done.\u001b[K\n",
            "remote: Total 38 (delta 9), reused 36 (delta 7), pack-reused 0\u001b[K\n",
            "Unpacking objects: 100% (38/38), done.\n"
          ],
          "name": "stdout"
        },
        {
          "output_type": "execute_result",
          "data": {
            "text/plain": [
              ""
            ]
          },
          "metadata": {},
          "execution_count": 5
        }
      ]
    },
    {
      "cell_type": "code",
      "metadata": {
        "colab": {
          "base_uri": "https://localhost:8080/"
        },
        "id": "0NA-ih6CBXLN",
        "outputId": "53f30b83-9cc2-46eb-f88c-3da5fb558353"
      },
      "source": [
        "%%shell\n",
        "\n",
        "rm -rf Annotations images\n",
        "mkdir train\n",
        "mkdir valid\n",
        "unzip -q IA/data/train_megots150images.zip -d train\n",
        "unzip -q IA/data/valid_megots150images.zip -d valid"
      ],
      "execution_count": 6,
      "outputs": [
        {
          "output_type": "execute_result",
          "data": {
            "text/plain": [
              ""
            ]
          },
          "metadata": {},
          "execution_count": 6
        }
      ]
    },
    {
      "cell_type": "markdown",
      "metadata": {
        "id": "WHw9gVRxPVbU"
      },
      "source": [
        "# Préparation des données [DEPRECATED]\n",
        "\n",
        "~~Le format `Pascal VOC` de `Label Studio` est encodé en `utf-8` ce qui n'est pas supporté par `tensorflow-lite`. D'autre part, le label `filename` des fichiers `xml` ne contient pas l'extension `.jpg`.~~"
      ]
    },
    {
      "cell_type": "code",
      "metadata": {
        "id": "CbWc3lOqqMGA"
      },
      "source": [
        "# import os"
      ],
      "execution_count": null,
      "outputs": []
    },
    {
      "cell_type": "code",
      "metadata": {
        "id": "YCSWSVKYqPw8"
      },
      "source": [
        "# os.makedirs(\"annotations\", exist_ok=True)"
      ],
      "execution_count": null,
      "outputs": []
    },
    {
      "cell_type": "code",
      "metadata": {
        "id": "o-kbvGi8qWC5"
      },
      "source": [
        "# for filename in os.listdir(\"Annotations\"):\n",
        "#    with open(os.path.join(\"Annotations\", filename), 'r') as file :\n",
        "#        filedata = file.read()\n",
        "\n",
        "#    filedata = filedata.replace(' encoding=\"utf-8\"', \"\")\n",
        "#    filedata = filedata.replace(\"</filename>\", \".jpg</filename>\")\n",
        "\n",
        "#    with open(os.path.join(\"annotations\", filename), 'w') as file:\n",
        "#        file.write(filedata)"
      ],
      "execution_count": null,
      "outputs": []
    },
    {
      "cell_type": "markdown",
      "metadata": {
        "id": "2ZKf1H_EPunp"
      },
      "source": [
        "~~On effectue une répartition aléatoire des données 80% pour l'entrainement et le reste pour la validation.~~\n",
        "\n",
        "> ~~C'est vraiment grossier. Dans le cas d'une détection à plusieurs classes, il convient d'avoir une stratégie plus adaptée pour ne pas sur / sous représenter des catégories.~~"
      ]
    },
    {
      "cell_type": "code",
      "metadata": {
        "id": "6tKO2IddK2kk"
      },
      "source": [
        "# filenames = [os.path.splitext(filename)[0] for filename in os.listdir(\"Annotations\")]"
      ],
      "execution_count": null,
      "outputs": []
    },
    {
      "cell_type": "code",
      "metadata": {
        "id": "SyETG_TyL-2n"
      },
      "source": [
        "# import random"
      ],
      "execution_count": null,
      "outputs": []
    },
    {
      "cell_type": "code",
      "metadata": {
        "id": "A8NH-v67LbuW"
      },
      "source": [
        "# random.shuffle(filenames)"
      ],
      "execution_count": null,
      "outputs": []
    },
    {
      "cell_type": "code",
      "metadata": {
        "id": "SGRDE2DlMEPQ"
      },
      "source": [
        "# train_size = int(len(filenames) * 0.8)"
      ],
      "execution_count": null,
      "outputs": []
    },
    {
      "cell_type": "code",
      "metadata": {
        "id": "pkkBJVumMTCv"
      },
      "source": [
        "# train_filenames = filenames[:train_size]\n",
        "# valid_filenames = filenames[train_size:]"
      ],
      "execution_count": null,
      "outputs": []
    },
    {
      "cell_type": "markdown",
      "metadata": {
        "id": "DXKzicjPfJns"
      },
      "source": [
        "# Apprentissage par transfer learning"
      ]
    },
    {
      "cell_type": "code",
      "metadata": {
        "colab": {
          "base_uri": "https://localhost:8080/",
          "height": 35
        },
        "id": "4_cwMT6cX4eO",
        "outputId": "9dbab65b-78ec-4835-a649-3e7f16869375"
      },
      "source": [
        "import tensorflow as tf\n",
        "tf.__version__"
      ],
      "execution_count": 9,
      "outputs": [
        {
          "output_type": "execute_result",
          "data": {
            "application/vnd.google.colaboratory.intrinsic+json": {
              "type": "string"
            },
            "text/plain": [
              "'2.6.0'"
            ]
          },
          "metadata": {},
          "execution_count": 9
        }
      ]
    },
    {
      "cell_type": "code",
      "metadata": {
        "id": "hxqKm27EYXRz"
      },
      "source": [
        "from tflite_model_maker import object_detector"
      ],
      "execution_count": 10,
      "outputs": []
    },
    {
      "cell_type": "code",
      "metadata": {
        "colab": {
          "base_uri": "https://localhost:8080/"
        },
        "id": "A59yQFBhmLLR",
        "outputId": "9f7513db-27b9-4cb5-9796-583ca999dca7"
      },
      "source": [
        "train_data = object_detector.DataLoader.from_pascal_voc(\n",
        "    images_dir=\"train/images\",\n",
        "    annotations_dir=\"train/annotations\",\n",
        "    label_map=[\"megot\"]\n",
        ")"
      ],
      "execution_count": 11,
      "outputs": [
        {
          "output_type": "stream",
          "text": [
            "INFO:tensorflow:Cache will be stored in /tmp/tmpp0uj7sr3 with prefix filename fd2c112752054ea1fcebcf49d7779205. Cache_prefix is /tmp/tmpp0uj7sr3/fd2c112752054ea1fcebcf49d7779205\n",
            "INFO:tensorflow:On image 0\n",
            "INFO:tensorflow:On image 100\n",
            "INFO:tensorflow:On image 200\n",
            "INFO:tensorflow:On image 300\n",
            "INFO:tensorflow:On image 400\n",
            "INFO:tensorflow:On image 500\n",
            "INFO:tensorflow:On image 600\n",
            "INFO:tensorflow:On image 700\n",
            "INFO:tensorflow:On image 800\n",
            "INFO:tensorflow:On image 900\n",
            "INFO:tensorflow:On image 1000\n",
            "INFO:tensorflow:On image 1100\n",
            "INFO:tensorflow:On image 1200\n"
          ],
          "name": "stdout"
        }
      ]
    },
    {
      "cell_type": "code",
      "metadata": {
        "colab": {
          "base_uri": "https://localhost:8080/"
        },
        "id": "EU1FFSgVNEJ-",
        "outputId": "77837511-5a7d-4ae9-99a4-703f4ddc5f4e"
      },
      "source": [
        "valid_data = object_detector.DataLoader.from_pascal_voc(\n",
        "    images_dir=\"valid/images\",\n",
        "    annotations_dir=\"valid/annotations\",\n",
        "    label_map=[\"megot\"]\n",
        ")"
      ],
      "execution_count": 12,
      "outputs": [
        {
          "output_type": "stream",
          "text": [
            "INFO:tensorflow:Cache will be stored in /tmp/tmpcm_u6ely with prefix filename fd2c112752054ea1fcebcf49d7779205. Cache_prefix is /tmp/tmpcm_u6ely/fd2c112752054ea1fcebcf49d7779205\n",
            "INFO:tensorflow:On image 0\n"
          ],
          "name": "stdout"
        }
      ]
    },
    {
      "cell_type": "code",
      "metadata": {
        "colab": {
          "base_uri": "https://localhost:8080/"
        },
        "id": "WtdsV91AbbbB",
        "outputId": "d8b8c88c-8730-4a03-c996-61dd1bf48cb4"
      },
      "source": [
        "len(train_data), len(valid_data)"
      ],
      "execution_count": 13,
      "outputs": [
        {
          "output_type": "execute_result",
          "data": {
            "text/plain": [
              "(1287, 30)"
            ]
          },
          "metadata": {},
          "execution_count": 13
        }
      ]
    },
    {
      "cell_type": "markdown",
      "metadata": {
        "id": "p--NAFIoTG1d"
      },
      "source": [
        "Architecture de detection : [EfficientDet](https://arxiv.org/pdf/1911.09070.pdf)\n",
        "voir également [ici](https://ai.googleblog.com/2020/04/efficientdet-towards-scalable-and.html) pour les détails."
      ]
    },
    {
      "cell_type": "code",
      "metadata": {
        "id": "__6roOOBrV-u"
      },
      "source": [
        "spec = object_detector.EfficientDetLite0Spec()"
      ],
      "execution_count": 14,
      "outputs": []
    },
    {
      "cell_type": "code",
      "metadata": {
        "colab": {
          "base_uri": "https://localhost:8080/"
        },
        "id": "DjM3daE0ratb",
        "outputId": "7daa82e0-f85c-46ea-c0b4-985d08b020b4"
      },
      "source": [
        "model = object_detector.create(train_data=train_data,\n",
        "                               model_spec=spec,\n",
        "                               validation_data=valid_data,\n",
        "                               epochs=50,\n",
        "                               batch_size=10,\n",
        "                               train_whole_model=True)"
      ],
      "execution_count": 15,
      "outputs": [
        {
          "output_type": "stream",
          "text": [
            "INFO:tensorflow:Retraining the models...\n",
            "Epoch 1/50\n",
            "128/128 [==============================] - 128s 502ms/step - det_loss: 0.7856 - cls_loss: 0.4179 - box_loss: 0.0074 - reg_l2_loss: 0.0630 - loss: 0.8486 - learning_rate: 0.0102 - gradient_norm: 2.5633 - val_det_loss: 0.6861 - val_cls_loss: 0.3128 - val_box_loss: 0.0075 - val_reg_l2_loss: 0.0631 - val_loss: 0.7492\n",
            "Epoch 2/50\n",
            "128/128 [==============================] - 61s 474ms/step - det_loss: 0.3268 - cls_loss: 0.1807 - box_loss: 0.0029 - reg_l2_loss: 0.0632 - loss: 0.3900 - learning_rate: 0.0125 - gradient_norm: 2.4834 - val_det_loss: 0.5386 - val_cls_loss: 0.3003 - val_box_loss: 0.0048 - val_reg_l2_loss: 0.0633 - val_loss: 0.6019\n",
            "Epoch 3/50\n",
            "128/128 [==============================] - 60s 473ms/step - det_loss: 0.2773 - cls_loss: 0.1598 - box_loss: 0.0023 - reg_l2_loss: 0.0633 - loss: 0.3406 - learning_rate: 0.0124 - gradient_norm: 2.1946 - val_det_loss: 0.3789 - val_cls_loss: 0.2189 - val_box_loss: 0.0032 - val_reg_l2_loss: 0.0634 - val_loss: 0.4422\n",
            "Epoch 4/50\n",
            "128/128 [==============================] - 61s 478ms/step - det_loss: 0.2466 - cls_loss: 0.1467 - box_loss: 0.0020 - reg_l2_loss: 0.0634 - loss: 0.3100 - learning_rate: 0.0123 - gradient_norm: 2.0070 - val_det_loss: 0.3408 - val_cls_loss: 0.2291 - val_box_loss: 0.0022 - val_reg_l2_loss: 0.0634 - val_loss: 0.4042\n",
            "Epoch 5/50\n",
            "128/128 [==============================] - 61s 475ms/step - det_loss: 0.2262 - cls_loss: 0.1400 - box_loss: 0.0017 - reg_l2_loss: 0.0634 - loss: 0.2897 - learning_rate: 0.0122 - gradient_norm: 1.8150 - val_det_loss: 0.3075 - val_cls_loss: 0.2111 - val_box_loss: 0.0019 - val_reg_l2_loss: 0.0634 - val_loss: 0.3709\n",
            "loading annotations into memory...\n",
            "Done (t=0.00s)\n",
            "creating index...\n",
            "index created!\n",
            "Loading and preparing results...\n",
            "Converting ndarray to lists...\n",
            "(3000, 7)\n",
            "0/3000\n",
            "DONE (t=0.01s)\n",
            "creating index...\n",
            "index created!\n",
            "Running per image evaluation...\n",
            "Evaluate annotation type *bbox*\n",
            "DONE (t=0.15s).\n",
            "Accumulating evaluation results...\n",
            "DONE (t=0.02s).\n",
            " Average Precision  (AP) @[ IoU=0.50:0.95 | area=   all | maxDets=100 ] = 0.711\n",
            " Average Precision  (AP) @[ IoU=0.50      | area=   all | maxDets=100 ] = 1.000\n",
            " Average Precision  (AP) @[ IoU=0.75      | area=   all | maxDets=100 ] = 0.960\n",
            " Average Precision  (AP) @[ IoU=0.50:0.95 | area= small | maxDets=100 ] = -1.000\n",
            " Average Precision  (AP) @[ IoU=0.50:0.95 | area=medium | maxDets=100 ] = -1.000\n",
            " Average Precision  (AP) @[ IoU=0.50:0.95 | area= large | maxDets=100 ] = 0.711\n",
            " Average Recall     (AR) @[ IoU=0.50:0.95 | area=   all | maxDets=  1 ] = 0.730\n",
            " Average Recall     (AR) @[ IoU=0.50:0.95 | area=   all | maxDets= 10 ] = 0.777\n",
            " Average Recall     (AR) @[ IoU=0.50:0.95 | area=   all | maxDets=100 ] = 0.787\n",
            " Average Recall     (AR) @[ IoU=0.50:0.95 | area= small | maxDets=100 ] = -1.000\n",
            " Average Recall     (AR) @[ IoU=0.50:0.95 | area=medium | maxDets=100 ] = -1.000\n",
            " Average Recall     (AR) @[ IoU=0.50:0.95 | area= large | maxDets=100 ] = 0.787\n",
            "Epoch 6/50\n",
            "128/128 [==============================] - 61s 472ms/step - det_loss: 0.2090 - cls_loss: 0.1307 - box_loss: 0.0016 - reg_l2_loss: 0.0634 - loss: 0.2724 - learning_rate: 0.0121 - gradient_norm: 1.7203 - val_det_loss: 0.2997 - val_cls_loss: 0.2050 - val_box_loss: 0.0019 - val_reg_l2_loss: 0.0635 - val_loss: 0.3631\n",
            "Epoch 7/50\n",
            "128/128 [==============================] - 61s 474ms/step - det_loss: 0.2062 - cls_loss: 0.1284 - box_loss: 0.0016 - reg_l2_loss: 0.0635 - loss: 0.2696 - learning_rate: 0.0120 - gradient_norm: 1.7692 - val_det_loss: 0.4530 - val_cls_loss: 0.2417 - val_box_loss: 0.0042 - val_reg_l2_loss: 0.0635 - val_loss: 0.5164\n",
            "Epoch 8/50\n",
            "128/128 [==============================] - 60s 471ms/step - det_loss: 0.2056 - cls_loss: 0.1306 - box_loss: 0.0015 - reg_l2_loss: 0.0635 - loss: 0.2690 - learning_rate: 0.0118 - gradient_norm: 1.7406 - val_det_loss: 0.2293 - val_cls_loss: 0.1583 - val_box_loss: 0.0014 - val_reg_l2_loss: 0.0635 - val_loss: 0.2927\n",
            "Epoch 9/50\n",
            "128/128 [==============================] - 61s 473ms/step - det_loss: 0.2009 - cls_loss: 0.1276 - box_loss: 0.0015 - reg_l2_loss: 0.0635 - loss: 0.2644 - learning_rate: 0.0116 - gradient_norm: 1.7446 - val_det_loss: 0.3021 - val_cls_loss: 0.2066 - val_box_loss: 0.0019 - val_reg_l2_loss: 0.0635 - val_loss: 0.3657\n",
            "Epoch 10/50\n",
            "128/128 [==============================] - 60s 470ms/step - det_loss: 0.1940 - cls_loss: 0.1231 - box_loss: 0.0014 - reg_l2_loss: 0.0635 - loss: 0.2575 - learning_rate: 0.0114 - gradient_norm: 1.6167 - val_det_loss: 0.2823 - val_cls_loss: 0.1815 - val_box_loss: 0.0020 - val_reg_l2_loss: 0.0635 - val_loss: 0.3458\n",
            "loading annotations into memory...\n",
            "Done (t=0.00s)\n",
            "creating index...\n",
            "index created!\n",
            "Loading and preparing results...\n",
            "Converting ndarray to lists...\n",
            "(3000, 7)\n",
            "0/3000\n",
            "DONE (t=0.02s)\n",
            "creating index...\n",
            "index created!\n",
            "Running per image evaluation...\n",
            "Evaluate annotation type *bbox*\n",
            "DONE (t=0.16s).\n",
            "Accumulating evaluation results...\n",
            "DONE (t=0.02s).\n",
            " Average Precision  (AP) @[ IoU=0.50:0.95 | area=   all | maxDets=100 ] = 0.702\n",
            " Average Precision  (AP) @[ IoU=0.50      | area=   all | maxDets=100 ] = 1.000\n",
            " Average Precision  (AP) @[ IoU=0.75      | area=   all | maxDets=100 ] = 0.895\n",
            " Average Precision  (AP) @[ IoU=0.50:0.95 | area= small | maxDets=100 ] = -1.000\n",
            " Average Precision  (AP) @[ IoU=0.50:0.95 | area=medium | maxDets=100 ] = -1.000\n",
            " Average Precision  (AP) @[ IoU=0.50:0.95 | area= large | maxDets=100 ] = 0.702\n",
            " Average Recall     (AR) @[ IoU=0.50:0.95 | area=   all | maxDets=  1 ] = 0.707\n",
            " Average Recall     (AR) @[ IoU=0.50:0.95 | area=   all | maxDets= 10 ] = 0.757\n",
            " Average Recall     (AR) @[ IoU=0.50:0.95 | area=   all | maxDets=100 ] = 0.757\n",
            " Average Recall     (AR) @[ IoU=0.50:0.95 | area= small | maxDets=100 ] = -1.000\n",
            " Average Recall     (AR) @[ IoU=0.50:0.95 | area=medium | maxDets=100 ] = -1.000\n",
            " Average Recall     (AR) @[ IoU=0.50:0.95 | area= large | maxDets=100 ] = 0.757\n",
            "Epoch 11/50\n",
            "128/128 [==============================] - 60s 470ms/step - det_loss: 0.1787 - cls_loss: 0.1164 - box_loss: 0.0012 - reg_l2_loss: 0.0635 - loss: 0.2422 - learning_rate: 0.0111 - gradient_norm: 1.5899 - val_det_loss: 0.2386 - val_cls_loss: 0.1448 - val_box_loss: 0.0019 - val_reg_l2_loss: 0.0635 - val_loss: 0.3021\n",
            "Epoch 12/50\n",
            "128/128 [==============================] - 61s 474ms/step - det_loss: 0.1779 - cls_loss: 0.1169 - box_loss: 0.0012 - reg_l2_loss: 0.0635 - loss: 0.2414 - learning_rate: 0.0109 - gradient_norm: 1.5864 - val_det_loss: 0.2433 - val_cls_loss: 0.1616 - val_box_loss: 0.0016 - val_reg_l2_loss: 0.0635 - val_loss: 0.3068\n",
            "Epoch 13/50\n",
            "128/128 [==============================] - 61s 475ms/step - det_loss: 0.1727 - cls_loss: 0.1128 - box_loss: 0.0012 - reg_l2_loss: 0.0635 - loss: 0.2362 - learning_rate: 0.0106 - gradient_norm: 1.5865 - val_det_loss: 0.2468 - val_cls_loss: 0.1828 - val_box_loss: 0.0013 - val_reg_l2_loss: 0.0635 - val_loss: 0.3103\n",
            "Epoch 14/50\n",
            "128/128 [==============================] - 61s 473ms/step - det_loss: 0.1786 - cls_loss: 0.1151 - box_loss: 0.0013 - reg_l2_loss: 0.0635 - loss: 0.2421 - learning_rate: 0.0103 - gradient_norm: 1.6088 - val_det_loss: 0.2749 - val_cls_loss: 0.1713 - val_box_loss: 0.0021 - val_reg_l2_loss: 0.0635 - val_loss: 0.3384\n",
            "Epoch 15/50\n",
            "128/128 [==============================] - 61s 475ms/step - det_loss: 0.1601 - cls_loss: 0.1065 - box_loss: 0.0011 - reg_l2_loss: 0.0635 - loss: 0.2235 - learning_rate: 0.0100 - gradient_norm: 1.4883 - val_det_loss: 0.2401 - val_cls_loss: 0.1595 - val_box_loss: 0.0016 - val_reg_l2_loss: 0.0635 - val_loss: 0.3036\n",
            "loading annotations into memory...\n",
            "Done (t=0.00s)\n",
            "creating index...\n",
            "index created!\n",
            "Loading and preparing results...\n",
            "Converting ndarray to lists...\n",
            "(3000, 7)\n",
            "0/3000\n",
            "DONE (t=0.02s)\n",
            "creating index...\n",
            "index created!\n",
            "Running per image evaluation...\n",
            "Evaluate annotation type *bbox*\n",
            "DONE (t=0.16s).\n",
            "Accumulating evaluation results...\n",
            "DONE (t=0.02s).\n",
            " Average Precision  (AP) @[ IoU=0.50:0.95 | area=   all | maxDets=100 ] = 0.705\n",
            " Average Precision  (AP) @[ IoU=0.50      | area=   all | maxDets=100 ] = 1.000\n",
            " Average Precision  (AP) @[ IoU=0.75      | area=   all | maxDets=100 ] = 0.879\n",
            " Average Precision  (AP) @[ IoU=0.50:0.95 | area= small | maxDets=100 ] = -1.000\n",
            " Average Precision  (AP) @[ IoU=0.50:0.95 | area=medium | maxDets=100 ] = -1.000\n",
            " Average Precision  (AP) @[ IoU=0.50:0.95 | area= large | maxDets=100 ] = 0.706\n",
            " Average Recall     (AR) @[ IoU=0.50:0.95 | area=   all | maxDets=  1 ] = 0.753\n",
            " Average Recall     (AR) @[ IoU=0.50:0.95 | area=   all | maxDets= 10 ] = 0.813\n",
            " Average Recall     (AR) @[ IoU=0.50:0.95 | area=   all | maxDets=100 ] = 0.813\n",
            " Average Recall     (AR) @[ IoU=0.50:0.95 | area= small | maxDets=100 ] = -1.000\n",
            " Average Recall     (AR) @[ IoU=0.50:0.95 | area=medium | maxDets=100 ] = -1.000\n",
            " Average Recall     (AR) @[ IoU=0.50:0.95 | area= large | maxDets=100 ] = 0.813\n",
            "Epoch 16/50\n",
            "128/128 [==============================] - 61s 473ms/step - det_loss: 0.1570 - cls_loss: 0.1067 - box_loss: 0.0010 - reg_l2_loss: 0.0635 - loss: 0.2205 - learning_rate: 0.0097 - gradient_norm: 1.4732 - val_det_loss: 0.2260 - val_cls_loss: 0.1581 - val_box_loss: 0.0014 - val_reg_l2_loss: 0.0635 - val_loss: 0.2894\n",
            "Epoch 17/50\n",
            "128/128 [==============================] - 60s 471ms/step - det_loss: 0.1581 - cls_loss: 0.1066 - box_loss: 0.0010 - reg_l2_loss: 0.0634 - loss: 0.2216 - learning_rate: 0.0093 - gradient_norm: 1.5775 - val_det_loss: 0.1994 - val_cls_loss: 0.1436 - val_box_loss: 0.0011 - val_reg_l2_loss: 0.0634 - val_loss: 0.2629\n",
            "Epoch 18/50\n",
            "128/128 [==============================] - 60s 473ms/step - det_loss: 0.1597 - cls_loss: 0.1081 - box_loss: 0.0010 - reg_l2_loss: 0.0634 - loss: 0.2231 - learning_rate: 0.0090 - gradient_norm: 1.5586 - val_det_loss: 0.1992 - val_cls_loss: 0.1392 - val_box_loss: 0.0012 - val_reg_l2_loss: 0.0634 - val_loss: 0.2626\n",
            "Epoch 19/50\n",
            "128/128 [==============================] - 61s 475ms/step - det_loss: 0.1496 - cls_loss: 0.1010 - box_loss: 9.7243e-04 - reg_l2_loss: 0.0634 - loss: 0.2130 - learning_rate: 0.0086 - gradient_norm: 1.4480 - val_det_loss: 0.3107 - val_cls_loss: 0.2058 - val_box_loss: 0.0021 - val_reg_l2_loss: 0.0634 - val_loss: 0.3742\n",
            "Epoch 20/50\n",
            "128/128 [==============================] - 61s 473ms/step - det_loss: 0.1470 - cls_loss: 0.0999 - box_loss: 9.4203e-04 - reg_l2_loss: 0.0634 - loss: 0.2104 - learning_rate: 0.0082 - gradient_norm: 1.4798 - val_det_loss: 0.2078 - val_cls_loss: 0.1528 - val_box_loss: 0.0011 - val_reg_l2_loss: 0.0634 - val_loss: 0.2712\n",
            "loading annotations into memory...\n",
            "Done (t=0.00s)\n",
            "creating index...\n",
            "index created!\n",
            "Loading and preparing results...\n",
            "Converting ndarray to lists...\n",
            "(3000, 7)\n",
            "0/3000\n",
            "DONE (t=0.02s)\n",
            "creating index...\n",
            "index created!\n",
            "Running per image evaluation...\n",
            "Evaluate annotation type *bbox*\n",
            "DONE (t=0.15s).\n",
            "Accumulating evaluation results...\n",
            "DONE (t=0.02s).\n",
            " Average Precision  (AP) @[ IoU=0.50:0.95 | area=   all | maxDets=100 ] = 0.777\n",
            " Average Precision  (AP) @[ IoU=0.50      | area=   all | maxDets=100 ] = 1.000\n",
            " Average Precision  (AP) @[ IoU=0.75      | area=   all | maxDets=100 ] = 0.973\n",
            " Average Precision  (AP) @[ IoU=0.50:0.95 | area= small | maxDets=100 ] = -1.000\n",
            " Average Precision  (AP) @[ IoU=0.50:0.95 | area=medium | maxDets=100 ] = -1.000\n",
            " Average Precision  (AP) @[ IoU=0.50:0.95 | area= large | maxDets=100 ] = 0.777\n",
            " Average Recall     (AR) @[ IoU=0.50:0.95 | area=   all | maxDets=  1 ] = 0.790\n",
            " Average Recall     (AR) @[ IoU=0.50:0.95 | area=   all | maxDets= 10 ] = 0.827\n",
            " Average Recall     (AR) @[ IoU=0.50:0.95 | area=   all | maxDets=100 ] = 0.827\n",
            " Average Recall     (AR) @[ IoU=0.50:0.95 | area= small | maxDets=100 ] = -1.000\n",
            " Average Recall     (AR) @[ IoU=0.50:0.95 | area=medium | maxDets=100 ] = -1.000\n",
            " Average Recall     (AR) @[ IoU=0.50:0.95 | area= large | maxDets=100 ] = 0.827\n",
            "Epoch 21/50\n",
            "128/128 [==============================] - 61s 474ms/step - det_loss: 0.1461 - cls_loss: 0.0990 - box_loss: 9.4163e-04 - reg_l2_loss: 0.0634 - loss: 0.2095 - learning_rate: 0.0078 - gradient_norm: 1.5360 - val_det_loss: 0.3814 - val_cls_loss: 0.2632 - val_box_loss: 0.0024 - val_reg_l2_loss: 0.0634 - val_loss: 0.4448\n",
            "Epoch 22/50\n",
            "128/128 [==============================] - 61s 473ms/step - det_loss: 0.1512 - cls_loss: 0.1018 - box_loss: 9.8865e-04 - reg_l2_loss: 0.0634 - loss: 0.2146 - learning_rate: 0.0074 - gradient_norm: 1.5915 - val_det_loss: 0.2552 - val_cls_loss: 0.1860 - val_box_loss: 0.0014 - val_reg_l2_loss: 0.0634 - val_loss: 0.3186\n",
            "Epoch 23/50\n",
            "128/128 [==============================] - 60s 471ms/step - det_loss: 0.1468 - cls_loss: 0.0995 - box_loss: 9.4710e-04 - reg_l2_loss: 0.0634 - loss: 0.2102 - learning_rate: 0.0070 - gradient_norm: 1.5239 - val_det_loss: 0.2353 - val_cls_loss: 0.1696 - val_box_loss: 0.0013 - val_reg_l2_loss: 0.0634 - val_loss: 0.2986\n",
            "Epoch 24/50\n",
            "128/128 [==============================] - 61s 475ms/step - det_loss: 0.1406 - cls_loss: 0.0974 - box_loss: 8.6262e-04 - reg_l2_loss: 0.0633 - loss: 0.2039 - learning_rate: 0.0067 - gradient_norm: 1.4467 - val_det_loss: 0.1820 - val_cls_loss: 0.1333 - val_box_loss: 9.7362e-04 - val_reg_l2_loss: 0.0633 - val_loss: 0.2453\n",
            "Epoch 25/50\n",
            "128/128 [==============================] - 61s 476ms/step - det_loss: 0.1374 - cls_loss: 0.0963 - box_loss: 8.2126e-04 - reg_l2_loss: 0.0633 - loss: 0.2007 - learning_rate: 0.0063 - gradient_norm: 1.4497 - val_det_loss: 0.2736 - val_cls_loss: 0.2021 - val_box_loss: 0.0014 - val_reg_l2_loss: 0.0633 - val_loss: 0.3369\n",
            "loading annotations into memory...\n",
            "Done (t=0.00s)\n",
            "creating index...\n",
            "index created!\n",
            "Loading and preparing results...\n",
            "Converting ndarray to lists...\n",
            "(3000, 7)\n",
            "0/3000\n",
            "DONE (t=0.01s)\n",
            "creating index...\n",
            "index created!\n",
            "Running per image evaluation...\n",
            "Evaluate annotation type *bbox*\n",
            "DONE (t=0.16s).\n",
            "Accumulating evaluation results...\n",
            "DONE (t=0.02s).\n",
            " Average Precision  (AP) @[ IoU=0.50:0.95 | area=   all | maxDets=100 ] = 0.770\n",
            " Average Precision  (AP) @[ IoU=0.50      | area=   all | maxDets=100 ] = 1.000\n",
            " Average Precision  (AP) @[ IoU=0.75      | area=   all | maxDets=100 ] = 0.975\n",
            " Average Precision  (AP) @[ IoU=0.50:0.95 | area= small | maxDets=100 ] = -1.000\n",
            " Average Precision  (AP) @[ IoU=0.50:0.95 | area=medium | maxDets=100 ] = -1.000\n",
            " Average Precision  (AP) @[ IoU=0.50:0.95 | area= large | maxDets=100 ] = 0.770\n",
            " Average Recall     (AR) @[ IoU=0.50:0.95 | area=   all | maxDets=  1 ] = 0.793\n",
            " Average Recall     (AR) @[ IoU=0.50:0.95 | area=   all | maxDets= 10 ] = 0.823\n",
            " Average Recall     (AR) @[ IoU=0.50:0.95 | area=   all | maxDets=100 ] = 0.823\n",
            " Average Recall     (AR) @[ IoU=0.50:0.95 | area= small | maxDets=100 ] = -1.000\n",
            " Average Recall     (AR) @[ IoU=0.50:0.95 | area=medium | maxDets=100 ] = -1.000\n",
            " Average Recall     (AR) @[ IoU=0.50:0.95 | area= large | maxDets=100 ] = 0.823\n",
            "Epoch 26/50\n",
            "128/128 [==============================] - 61s 474ms/step - det_loss: 0.1343 - cls_loss: 0.0949 - box_loss: 7.8777e-04 - reg_l2_loss: 0.0633 - loss: 0.1976 - learning_rate: 0.0058 - gradient_norm: 1.4857 - val_det_loss: 0.2203 - val_cls_loss: 0.1729 - val_box_loss: 9.4744e-04 - val_reg_l2_loss: 0.0633 - val_loss: 0.2836\n",
            "Epoch 27/50\n",
            "128/128 [==============================] - 61s 474ms/step - det_loss: 0.1280 - cls_loss: 0.0908 - box_loss: 7.4576e-04 - reg_l2_loss: 0.0633 - loss: 0.1913 - learning_rate: 0.0055 - gradient_norm: 1.4150 - val_det_loss: 0.2240 - val_cls_loss: 0.1626 - val_box_loss: 0.0012 - val_reg_l2_loss: 0.0633 - val_loss: 0.2872\n",
            "Epoch 28/50\n",
            "128/128 [==============================] - 61s 474ms/step - det_loss: 0.1308 - cls_loss: 0.0924 - box_loss: 7.6881e-04 - reg_l2_loss: 0.0633 - loss: 0.1941 - learning_rate: 0.0051 - gradient_norm: 1.4521 - val_det_loss: 0.1886 - val_cls_loss: 0.1401 - val_box_loss: 9.6985e-04 - val_reg_l2_loss: 0.0633 - val_loss: 0.2519\n",
            "Epoch 29/50\n",
            "128/128 [==============================] - 60s 472ms/step - det_loss: 0.1255 - cls_loss: 0.0895 - box_loss: 7.1848e-04 - reg_l2_loss: 0.0633 - loss: 0.1887 - learning_rate: 0.0047 - gradient_norm: 1.4666 - val_det_loss: 0.2230 - val_cls_loss: 0.1675 - val_box_loss: 0.0011 - val_reg_l2_loss: 0.0632 - val_loss: 0.2863\n",
            "Epoch 30/50\n",
            "128/128 [==============================] - 60s 471ms/step - det_loss: 0.1245 - cls_loss: 0.0890 - box_loss: 7.1059e-04 - reg_l2_loss: 0.0632 - loss: 0.1877 - learning_rate: 0.0043 - gradient_norm: 1.4873 - val_det_loss: 0.2042 - val_cls_loss: 0.1514 - val_box_loss: 0.0011 - val_reg_l2_loss: 0.0632 - val_loss: 0.2674\n",
            "loading annotations into memory...\n",
            "Done (t=0.00s)\n",
            "creating index...\n",
            "index created!\n",
            "Loading and preparing results...\n",
            "Converting ndarray to lists...\n",
            "(3000, 7)\n",
            "0/3000\n",
            "DONE (t=0.01s)\n",
            "creating index...\n",
            "index created!\n",
            "Running per image evaluation...\n",
            "Evaluate annotation type *bbox*\n",
            "DONE (t=0.14s).\n",
            "Accumulating evaluation results...\n",
            "DONE (t=0.02s).\n",
            " Average Precision  (AP) @[ IoU=0.50:0.95 | area=   all | maxDets=100 ] = 0.793\n",
            " Average Precision  (AP) @[ IoU=0.50      | area=   all | maxDets=100 ] = 1.000\n",
            " Average Precision  (AP) @[ IoU=0.75      | area=   all | maxDets=100 ] = 0.945\n",
            " Average Precision  (AP) @[ IoU=0.50:0.95 | area= small | maxDets=100 ] = -1.000\n",
            " Average Precision  (AP) @[ IoU=0.50:0.95 | area=medium | maxDets=100 ] = -1.000\n",
            " Average Precision  (AP) @[ IoU=0.50:0.95 | area= large | maxDets=100 ] = 0.793\n",
            " Average Recall     (AR) @[ IoU=0.50:0.95 | area=   all | maxDets=  1 ] = 0.820\n",
            " Average Recall     (AR) @[ IoU=0.50:0.95 | area=   all | maxDets= 10 ] = 0.847\n",
            " Average Recall     (AR) @[ IoU=0.50:0.95 | area=   all | maxDets=100 ] = 0.847\n",
            " Average Recall     (AR) @[ IoU=0.50:0.95 | area= small | maxDets=100 ] = -1.000\n",
            " Average Recall     (AR) @[ IoU=0.50:0.95 | area=medium | maxDets=100 ] = -1.000\n",
            " Average Recall     (AR) @[ IoU=0.50:0.95 | area= large | maxDets=100 ] = 0.847\n",
            "Epoch 31/50\n",
            "128/128 [==============================] - 61s 473ms/step - det_loss: 0.1242 - cls_loss: 0.0876 - box_loss: 7.3263e-04 - reg_l2_loss: 0.0632 - loss: 0.1874 - learning_rate: 0.0039 - gradient_norm: 1.5278 - val_det_loss: 0.2164 - val_cls_loss: 0.1517 - val_box_loss: 0.0013 - val_reg_l2_loss: 0.0632 - val_loss: 0.2796\n",
            "Epoch 32/50\n",
            "128/128 [==============================] - 61s 473ms/step - det_loss: 0.1180 - cls_loss: 0.0847 - box_loss: 6.6655e-04 - reg_l2_loss: 0.0632 - loss: 0.1812 - learning_rate: 0.0035 - gradient_norm: 1.3858 - val_det_loss: 0.2166 - val_cls_loss: 0.1575 - val_box_loss: 0.0012 - val_reg_l2_loss: 0.0632 - val_loss: 0.2798\n",
            "Epoch 33/50\n",
            "128/128 [==============================] - 61s 474ms/step - det_loss: 0.1150 - cls_loss: 0.0836 - box_loss: 6.2786e-04 - reg_l2_loss: 0.0632 - loss: 0.1782 - learning_rate: 0.0032 - gradient_norm: 1.4373 - val_det_loss: 0.1981 - val_cls_loss: 0.1570 - val_box_loss: 8.2018e-04 - val_reg_l2_loss: 0.0632 - val_loss: 0.2612\n",
            "Epoch 34/50\n",
            "128/128 [==============================] - 61s 473ms/step - det_loss: 0.1156 - cls_loss: 0.0842 - box_loss: 6.2719e-04 - reg_l2_loss: 0.0632 - loss: 0.1788 - learning_rate: 0.0028 - gradient_norm: 1.4429 - val_det_loss: 0.2013 - val_cls_loss: 0.1551 - val_box_loss: 9.2245e-04 - val_reg_l2_loss: 0.0632 - val_loss: 0.2644\n",
            "Epoch 35/50\n",
            "128/128 [==============================] - 61s 474ms/step - det_loss: 0.1159 - cls_loss: 0.0837 - box_loss: 6.4278e-04 - reg_l2_loss: 0.0632 - loss: 0.1790 - learning_rate: 0.0025 - gradient_norm: 1.4724 - val_det_loss: 0.2446 - val_cls_loss: 0.1706 - val_box_loss: 0.0015 - val_reg_l2_loss: 0.0632 - val_loss: 0.3078\n",
            "loading annotations into memory...\n",
            "Done (t=0.00s)\n",
            "creating index...\n",
            "index created!\n",
            "Loading and preparing results...\n",
            "Converting ndarray to lists...\n",
            "(3000, 7)\n",
            "0/3000\n",
            "DONE (t=0.01s)\n",
            "creating index...\n",
            "index created!\n",
            "Running per image evaluation...\n",
            "Evaluate annotation type *bbox*\n",
            "DONE (t=0.14s).\n",
            "Accumulating evaluation results...\n",
            "DONE (t=0.02s).\n",
            " Average Precision  (AP) @[ IoU=0.50:0.95 | area=   all | maxDets=100 ] = 0.747\n",
            " Average Precision  (AP) @[ IoU=0.50      | area=   all | maxDets=100 ] = 1.000\n",
            " Average Precision  (AP) @[ IoU=0.75      | area=   all | maxDets=100 ] = 0.944\n",
            " Average Precision  (AP) @[ IoU=0.50:0.95 | area= small | maxDets=100 ] = -1.000\n",
            " Average Precision  (AP) @[ IoU=0.50:0.95 | area=medium | maxDets=100 ] = -1.000\n",
            " Average Precision  (AP) @[ IoU=0.50:0.95 | area= large | maxDets=100 ] = 0.747\n",
            " Average Recall     (AR) @[ IoU=0.50:0.95 | area=   all | maxDets=  1 ] = 0.773\n",
            " Average Recall     (AR) @[ IoU=0.50:0.95 | area=   all | maxDets= 10 ] = 0.807\n",
            " Average Recall     (AR) @[ IoU=0.50:0.95 | area=   all | maxDets=100 ] = 0.813\n",
            " Average Recall     (AR) @[ IoU=0.50:0.95 | area= small | maxDets=100 ] = -1.000\n",
            " Average Recall     (AR) @[ IoU=0.50:0.95 | area=medium | maxDets=100 ] = -1.000\n",
            " Average Recall     (AR) @[ IoU=0.50:0.95 | area= large | maxDets=100 ] = 0.813\n",
            "Epoch 36/50\n",
            "128/128 [==============================] - 61s 473ms/step - det_loss: 0.1112 - cls_loss: 0.0811 - box_loss: 6.0224e-04 - reg_l2_loss: 0.0632 - loss: 0.1743 - learning_rate: 0.0022 - gradient_norm: 1.3860 - val_det_loss: 0.2348 - val_cls_loss: 0.1842 - val_box_loss: 0.0010 - val_reg_l2_loss: 0.0632 - val_loss: 0.2980\n",
            "Epoch 37/50\n",
            "128/128 [==============================] - 61s 474ms/step - det_loss: 0.1072 - cls_loss: 0.0789 - box_loss: 5.6532e-04 - reg_l2_loss: 0.0631 - loss: 0.1703 - learning_rate: 0.0019 - gradient_norm: 1.3504 - val_det_loss: 0.2310 - val_cls_loss: 0.1782 - val_box_loss: 0.0011 - val_reg_l2_loss: 0.0631 - val_loss: 0.2941\n",
            "Epoch 38/50\n",
            "128/128 [==============================] - 61s 475ms/step - det_loss: 0.1109 - cls_loss: 0.0812 - box_loss: 5.9476e-04 - reg_l2_loss: 0.0631 - loss: 0.1741 - learning_rate: 0.0016 - gradient_norm: 1.4128 - val_det_loss: 0.1996 - val_cls_loss: 0.1540 - val_box_loss: 9.1162e-04 - val_reg_l2_loss: 0.0631 - val_loss: 0.2628\n",
            "Epoch 39/50\n",
            "128/128 [==============================] - 60s 472ms/step - det_loss: 0.1087 - cls_loss: 0.0798 - box_loss: 5.7834e-04 - reg_l2_loss: 0.0631 - loss: 0.1719 - learning_rate: 0.0014 - gradient_norm: 1.4503 - val_det_loss: 0.2093 - val_cls_loss: 0.1629 - val_box_loss: 9.2805e-04 - val_reg_l2_loss: 0.0631 - val_loss: 0.2725\n",
            "Epoch 40/50\n",
            "128/128 [==============================] - 61s 474ms/step - det_loss: 0.1051 - cls_loss: 0.0774 - box_loss: 5.5400e-04 - reg_l2_loss: 0.0631 - loss: 0.1682 - learning_rate: 0.0011 - gradient_norm: 1.3987 - val_det_loss: 0.2192 - val_cls_loss: 0.1645 - val_box_loss: 0.0011 - val_reg_l2_loss: 0.0631 - val_loss: 0.2824\n",
            "loading annotations into memory...\n",
            "Done (t=0.00s)\n",
            "creating index...\n",
            "index created!\n",
            "Loading and preparing results...\n",
            "Converting ndarray to lists...\n",
            "(3000, 7)\n",
            "0/3000\n",
            "DONE (t=0.02s)\n",
            "creating index...\n",
            "index created!\n",
            "Running per image evaluation...\n",
            "Evaluate annotation type *bbox*\n",
            "DONE (t=0.13s).\n",
            "Accumulating evaluation results...\n",
            "DONE (t=0.02s).\n",
            " Average Precision  (AP) @[ IoU=0.50:0.95 | area=   all | maxDets=100 ] = 0.790\n",
            " Average Precision  (AP) @[ IoU=0.50      | area=   all | maxDets=100 ] = 1.000\n",
            " Average Precision  (AP) @[ IoU=0.75      | area=   all | maxDets=100 ] = 0.944\n",
            " Average Precision  (AP) @[ IoU=0.50:0.95 | area= small | maxDets=100 ] = -1.000\n",
            " Average Precision  (AP) @[ IoU=0.50:0.95 | area=medium | maxDets=100 ] = -1.000\n",
            " Average Precision  (AP) @[ IoU=0.50:0.95 | area= large | maxDets=100 ] = 0.790\n",
            " Average Recall     (AR) @[ IoU=0.50:0.95 | area=   all | maxDets=  1 ] = 0.813\n",
            " Average Recall     (AR) @[ IoU=0.50:0.95 | area=   all | maxDets= 10 ] = 0.833\n",
            " Average Recall     (AR) @[ IoU=0.50:0.95 | area=   all | maxDets=100 ] = 0.840\n",
            " Average Recall     (AR) @[ IoU=0.50:0.95 | area= small | maxDets=100 ] = -1.000\n",
            " Average Recall     (AR) @[ IoU=0.50:0.95 | area=medium | maxDets=100 ] = -1.000\n",
            " Average Recall     (AR) @[ IoU=0.50:0.95 | area= large | maxDets=100 ] = 0.840\n",
            "Epoch 41/50\n",
            "128/128 [==============================] - 61s 474ms/step - det_loss: 0.1075 - cls_loss: 0.0797 - box_loss: 5.5621e-04 - reg_l2_loss: 0.0631 - loss: 0.1706 - learning_rate: 9.0630e-04 - gradient_norm: 1.4902 - val_det_loss: 0.1889 - val_cls_loss: 0.1436 - val_box_loss: 9.0643e-04 - val_reg_l2_loss: 0.0631 - val_loss: 0.2521\n",
            "Epoch 42/50\n",
            "128/128 [==============================] - 61s 473ms/step - det_loss: 0.1089 - cls_loss: 0.0812 - box_loss: 5.5334e-04 - reg_l2_loss: 0.0631 - loss: 0.1720 - learning_rate: 7.0973e-04 - gradient_norm: 1.4646 - val_det_loss: 0.2029 - val_cls_loss: 0.1530 - val_box_loss: 9.9884e-04 - val_reg_l2_loss: 0.0631 - val_loss: 0.2660\n",
            "Epoch 43/50\n",
            "128/128 [==============================] - 61s 475ms/step - det_loss: 0.1057 - cls_loss: 0.0776 - box_loss: 5.6148e-04 - reg_l2_loss: 0.0631 - loss: 0.1688 - learning_rate: 5.3592e-04 - gradient_norm: 1.3809 - val_det_loss: 0.2207 - val_cls_loss: 0.1672 - val_box_loss: 0.0011 - val_reg_l2_loss: 0.0631 - val_loss: 0.2838\n",
            "Epoch 44/50\n",
            "128/128 [==============================] - 61s 474ms/step - det_loss: 0.1064 - cls_loss: 0.0790 - box_loss: 5.4756e-04 - reg_l2_loss: 0.0631 - loss: 0.1695 - learning_rate: 3.8560e-04 - gradient_norm: 1.4281 - val_det_loss: 0.2167 - val_cls_loss: 0.1628 - val_box_loss: 0.0011 - val_reg_l2_loss: 0.0631 - val_loss: 0.2798\n",
            "Epoch 45/50\n",
            "128/128 [==============================] - 60s 471ms/step - det_loss: 0.1038 - cls_loss: 0.0760 - box_loss: 5.5634e-04 - reg_l2_loss: 0.0631 - loss: 0.1669 - learning_rate: 2.5937e-04 - gradient_norm: 1.3769 - val_det_loss: 0.2154 - val_cls_loss: 0.1632 - val_box_loss: 0.0010 - val_reg_l2_loss: 0.0631 - val_loss: 0.2785\n",
            "loading annotations into memory...\n",
            "Done (t=0.00s)\n",
            "creating index...\n",
            "index created!\n",
            "Loading and preparing results...\n",
            "Converting ndarray to lists...\n",
            "(3000, 7)\n",
            "0/3000\n",
            "DONE (t=0.02s)\n",
            "creating index...\n",
            "index created!\n",
            "Running per image evaluation...\n",
            "Evaluate annotation type *bbox*\n",
            "DONE (t=0.12s).\n",
            "Accumulating evaluation results...\n",
            "DONE (t=0.02s).\n",
            " Average Precision  (AP) @[ IoU=0.50:0.95 | area=   all | maxDets=100 ] = 0.794\n",
            " Average Precision  (AP) @[ IoU=0.50      | area=   all | maxDets=100 ] = 1.000\n",
            " Average Precision  (AP) @[ IoU=0.75      | area=   all | maxDets=100 ] = 0.945\n",
            " Average Precision  (AP) @[ IoU=0.50:0.95 | area= small | maxDets=100 ] = -1.000\n",
            " Average Precision  (AP) @[ IoU=0.50:0.95 | area=medium | maxDets=100 ] = -1.000\n",
            " Average Precision  (AP) @[ IoU=0.50:0.95 | area= large | maxDets=100 ] = 0.794\n",
            " Average Recall     (AR) @[ IoU=0.50:0.95 | area=   all | maxDets=  1 ] = 0.820\n",
            " Average Recall     (AR) @[ IoU=0.50:0.95 | area=   all | maxDets= 10 ] = 0.837\n",
            " Average Recall     (AR) @[ IoU=0.50:0.95 | area=   all | maxDets=100 ] = 0.847\n",
            " Average Recall     (AR) @[ IoU=0.50:0.95 | area= small | maxDets=100 ] = -1.000\n",
            " Average Recall     (AR) @[ IoU=0.50:0.95 | area=medium | maxDets=100 ] = -1.000\n",
            " Average Recall     (AR) @[ IoU=0.50:0.95 | area= large | maxDets=100 ] = 0.847\n",
            "Epoch 46/50\n",
            "128/128 [==============================] - 60s 470ms/step - det_loss: 0.1039 - cls_loss: 0.0762 - box_loss: 5.5346e-04 - reg_l2_loss: 0.0631 - loss: 0.1670 - learning_rate: 1.5776e-04 - gradient_norm: 1.3804 - val_det_loss: 0.2183 - val_cls_loss: 0.1652 - val_box_loss: 0.0011 - val_reg_l2_loss: 0.0631 - val_loss: 0.2814\n",
            "Epoch 47/50\n",
            "128/128 [==============================] - 61s 474ms/step - det_loss: 0.1048 - cls_loss: 0.0772 - box_loss: 5.5298e-04 - reg_l2_loss: 0.0631 - loss: 0.1679 - learning_rate: 8.1190e-05 - gradient_norm: 1.4644 - val_det_loss: 0.2163 - val_cls_loss: 0.1638 - val_box_loss: 0.0010 - val_reg_l2_loss: 0.0631 - val_loss: 0.2794\n",
            "Epoch 48/50\n",
            "128/128 [==============================] - 61s 475ms/step - det_loss: 0.1059 - cls_loss: 0.0783 - box_loss: 5.5199e-04 - reg_l2_loss: 0.0631 - loss: 0.1690 - learning_rate: 2.9964e-05 - gradient_norm: 1.4155 - val_det_loss: 0.2133 - val_cls_loss: 0.1615 - val_box_loss: 0.0010 - val_reg_l2_loss: 0.0631 - val_loss: 0.2764\n",
            "Epoch 49/50\n",
            "128/128 [==============================] - 61s 474ms/step - det_loss: 0.1034 - cls_loss: 0.0772 - box_loss: 5.2362e-04 - reg_l2_loss: 0.0631 - loss: 0.1665 - learning_rate: 4.2977e-06 - gradient_norm: 1.4101 - val_det_loss: 0.2120 - val_cls_loss: 0.1606 - val_box_loss: 0.0010 - val_reg_l2_loss: 0.0631 - val_loss: 0.2751\n",
            "Epoch 50/50\n",
            "128/128 [==============================] - 61s 474ms/step - det_loss: 0.1022 - cls_loss: 0.0759 - box_loss: 5.2517e-04 - reg_l2_loss: 0.0631 - loss: 0.1653 - learning_rate: 4.2962e-06 - gradient_norm: 1.3708 - val_det_loss: 0.2131 - val_cls_loss: 0.1611 - val_box_loss: 0.0010 - val_reg_l2_loss: 0.0631 - val_loss: 0.2762\n",
            "loading annotations into memory...\n",
            "Done (t=0.00s)\n",
            "creating index...\n",
            "index created!\n",
            "Loading and preparing results...\n",
            "Converting ndarray to lists...\n",
            "(3000, 7)\n",
            "0/3000\n",
            "DONE (t=0.01s)\n",
            "creating index...\n",
            "index created!\n",
            "Running per image evaluation...\n",
            "Evaluate annotation type *bbox*\n",
            "DONE (t=0.12s).\n",
            "Accumulating evaluation results...\n",
            "DONE (t=0.02s).\n",
            " Average Precision  (AP) @[ IoU=0.50:0.95 | area=   all | maxDets=100 ] = 0.794\n",
            " Average Precision  (AP) @[ IoU=0.50      | area=   all | maxDets=100 ] = 1.000\n",
            " Average Precision  (AP) @[ IoU=0.75      | area=   all | maxDets=100 ] = 0.944\n",
            " Average Precision  (AP) @[ IoU=0.50:0.95 | area= small | maxDets=100 ] = -1.000\n",
            " Average Precision  (AP) @[ IoU=0.50:0.95 | area=medium | maxDets=100 ] = -1.000\n",
            " Average Precision  (AP) @[ IoU=0.50:0.95 | area= large | maxDets=100 ] = 0.794\n",
            " Average Recall     (AR) @[ IoU=0.50:0.95 | area=   all | maxDets=  1 ] = 0.820\n",
            " Average Recall     (AR) @[ IoU=0.50:0.95 | area=   all | maxDets= 10 ] = 0.837\n",
            " Average Recall     (AR) @[ IoU=0.50:0.95 | area=   all | maxDets=100 ] = 0.843\n",
            " Average Recall     (AR) @[ IoU=0.50:0.95 | area= small | maxDets=100 ] = -1.000\n",
            " Average Recall     (AR) @[ IoU=0.50:0.95 | area=medium | maxDets=100 ] = -1.000\n",
            " Average Recall     (AR) @[ IoU=0.50:0.95 | area= large | maxDets=100 ] = 0.843\n"
          ],
          "name": "stdout"
        }
      ]
    },
    {
      "cell_type": "code",
      "metadata": {
        "colab": {
          "base_uri": "https://localhost:8080/"
        },
        "id": "XDjjS7KjrnBJ",
        "outputId": "25ab4878-43fe-4df7-a258-25c0ac569917"
      },
      "source": [
        "model.evaluate(train_data)"
      ],
      "execution_count": 16,
      "outputs": [
        {
          "output_type": "stream",
          "text": [
            "21/21 [==============================] - 41s 1s/step\n",
            "\n",
            "loading annotations into memory...\n",
            "Done (t=0.01s)\n",
            "creating index...\n",
            "index created!\n",
            "Loading and preparing results...\n",
            "Converting ndarray to lists...\n",
            "(128700, 7)\n",
            "0/128700\n",
            "DONE (t=1.11s)\n",
            "creating index...\n",
            "index created!\n",
            "Running per image evaluation...\n",
            "Evaluate annotation type *bbox*\n",
            "DONE (t=5.77s).\n",
            "Accumulating evaluation results...\n",
            "DONE (t=0.53s).\n",
            " Average Precision  (AP) @[ IoU=0.50:0.95 | area=   all | maxDets=100 ] = 0.901\n",
            " Average Precision  (AP) @[ IoU=0.50      | area=   all | maxDets=100 ] = 1.000\n",
            " Average Precision  (AP) @[ IoU=0.75      | area=   all | maxDets=100 ] = 1.000\n",
            " Average Precision  (AP) @[ IoU=0.50:0.95 | area= small | maxDets=100 ] = -1.000\n",
            " Average Precision  (AP) @[ IoU=0.50:0.95 | area=medium | maxDets=100 ] = -1.000\n",
            " Average Precision  (AP) @[ IoU=0.50:0.95 | area= large | maxDets=100 ] = 0.901\n",
            " Average Recall     (AR) @[ IoU=0.50:0.95 | area=   all | maxDets=  1 ] = 0.923\n",
            " Average Recall     (AR) @[ IoU=0.50:0.95 | area=   all | maxDets= 10 ] = 0.948\n",
            " Average Recall     (AR) @[ IoU=0.50:0.95 | area=   all | maxDets=100 ] = 0.950\n",
            " Average Recall     (AR) @[ IoU=0.50:0.95 | area= small | maxDets=100 ] = -1.000\n",
            " Average Recall     (AR) @[ IoU=0.50:0.95 | area=medium | maxDets=100 ] = -1.000\n",
            " Average Recall     (AR) @[ IoU=0.50:0.95 | area= large | maxDets=100 ] = 0.950\n"
          ],
          "name": "stdout"
        },
        {
          "output_type": "execute_result",
          "data": {
            "text/plain": [
              "{'AP': 0.9012645,\n",
              " 'AP50': 1.0,\n",
              " 'AP75': 1.0,\n",
              " 'AP_/megot': 0.9012645,\n",
              " 'APl': 0.901353,\n",
              " 'APm': -1.0,\n",
              " 'APs': -1.0,\n",
              " 'ARl': 0.9501166,\n",
              " 'ARm': -1.0,\n",
              " 'ARmax1': 0.9228438,\n",
              " 'ARmax10': 0.94817406,\n",
              " 'ARmax100': 0.9501166,\n",
              " 'ARs': -1.0}"
            ]
          },
          "metadata": {},
          "execution_count": 16
        }
      ]
    },
    {
      "cell_type": "code",
      "metadata": {
        "colab": {
          "base_uri": "https://localhost:8080/"
        },
        "id": "iW2xyGqbSTVx",
        "outputId": "d591628c-b3c2-4859-fa62-7e83e64324ee"
      },
      "source": [
        "model.evaluate(valid_data)"
      ],
      "execution_count": 17,
      "outputs": [
        {
          "output_type": "stream",
          "text": [
            "\r1/1 [==============================] - 7s 7s/step\n",
            "\n",
            "loading annotations into memory...\n",
            "Done (t=0.00s)\n",
            "creating index...\n",
            "index created!\n",
            "Loading and preparing results...\n",
            "Converting ndarray to lists...\n",
            "(3000, 7)\n",
            "0/3000\n",
            "DONE (t=0.01s)\n",
            "creating index...\n",
            "index created!\n",
            "Running per image evaluation...\n",
            "Evaluate annotation type *bbox*\n",
            "DONE (t=0.12s).\n",
            "Accumulating evaluation results...\n",
            "DONE (t=0.02s).\n",
            " Average Precision  (AP) @[ IoU=0.50:0.95 | area=   all | maxDets=100 ] = 0.794\n",
            " Average Precision  (AP) @[ IoU=0.50      | area=   all | maxDets=100 ] = 1.000\n",
            " Average Precision  (AP) @[ IoU=0.75      | area=   all | maxDets=100 ] = 0.944\n",
            " Average Precision  (AP) @[ IoU=0.50:0.95 | area= small | maxDets=100 ] = -1.000\n",
            " Average Precision  (AP) @[ IoU=0.50:0.95 | area=medium | maxDets=100 ] = -1.000\n",
            " Average Precision  (AP) @[ IoU=0.50:0.95 | area= large | maxDets=100 ] = 0.794\n",
            " Average Recall     (AR) @[ IoU=0.50:0.95 | area=   all | maxDets=  1 ] = 0.820\n",
            " Average Recall     (AR) @[ IoU=0.50:0.95 | area=   all | maxDets= 10 ] = 0.837\n",
            " Average Recall     (AR) @[ IoU=0.50:0.95 | area=   all | maxDets=100 ] = 0.843\n",
            " Average Recall     (AR) @[ IoU=0.50:0.95 | area= small | maxDets=100 ] = -1.000\n",
            " Average Recall     (AR) @[ IoU=0.50:0.95 | area=medium | maxDets=100 ] = -1.000\n",
            " Average Recall     (AR) @[ IoU=0.50:0.95 | area= large | maxDets=100 ] = 0.843\n"
          ],
          "name": "stdout"
        },
        {
          "output_type": "execute_result",
          "data": {
            "text/plain": [
              "{'AP': 0.7942807,\n",
              " 'AP50': 1.0,\n",
              " 'AP75': 0.9438944,\n",
              " 'AP_/megot': 0.7942807,\n",
              " 'APl': 0.7943406,\n",
              " 'APm': -1.0,\n",
              " 'APs': -1.0,\n",
              " 'ARl': 0.8433333,\n",
              " 'ARm': -1.0,\n",
              " 'ARmax1': 0.82,\n",
              " 'ARmax10': 0.83666664,\n",
              " 'ARmax100': 0.8433333,\n",
              " 'ARs': -1.0}"
            ]
          },
          "metadata": {},
          "execution_count": 17
        }
      ]
    },
    {
      "cell_type": "code",
      "metadata": {
        "id": "-b71KikySnEZ"
      },
      "source": [
        "from tflite_model_maker.config import ExportFormat"
      ],
      "execution_count": 18,
      "outputs": []
    },
    {
      "cell_type": "code",
      "metadata": {
        "colab": {
          "base_uri": "https://localhost:8080/"
        },
        "id": "REu7Or_XESoR",
        "outputId": "79e0ccb7-1d15-40d4-e3af-83a58b7bd894"
      },
      "source": [
        "model.export(export_dir='.',\n",
        "             tflite_filename='efficientdet-lite-bfc.tflite',\n",
        "             label_filename='bfc-labels.txt',\n",
        "             export_format=[ExportFormat.TFLITE, ExportFormat.LABEL])"
      ],
      "execution_count": 19,
      "outputs": [
        {
          "output_type": "stream",
          "text": [
            "WARNING:tensorflow:Skipping full serialization of Keras layer <tensorflow_examples.lite.model_maker.core.task.model_spec.object_detector_spec.ExportModel object at 0x7fd9c5f60310>, because it is not built.\n"
          ],
          "name": "stdout"
        },
        {
          "output_type": "stream",
          "text": [
            "WARNING:tensorflow:Skipping full serialization of Keras layer <tensorflow_examples.lite.model_maker.core.task.model_spec.object_detector_spec.ExportModel object at 0x7fd9c5f60310>, because it is not built.\n",
            "WARNING:absl:Found untraced functions such as restored_function_body, restored_function_body, restored_function_body, restored_function_body, restored_function_body while saving (showing 5 of 1520). These functions will not be directly callable after loading.\n"
          ],
          "name": "stderr"
        },
        {
          "output_type": "stream",
          "text": [
            "INFO:tensorflow:Assets written to: /tmp/tmpnmeym94o/assets\n"
          ],
          "name": "stdout"
        },
        {
          "output_type": "stream",
          "text": [
            "INFO:tensorflow:Assets written to: /tmp/tmpnmeym94o/assets\n",
            "WARNING:absl:For model inputs containing unsupported operations which cannot be quantized, the `inference_input_type` attribute will default to the original type.\n"
          ],
          "name": "stderr"
        },
        {
          "output_type": "stream",
          "text": [
            "INFO:tensorflow:Label file is inside the TFLite model with metadata.\n"
          ],
          "name": "stdout"
        },
        {
          "output_type": "stream",
          "text": [
            "INFO:tensorflow:Label file is inside the TFLite model with metadata.\n"
          ],
          "name": "stderr"
        },
        {
          "output_type": "stream",
          "text": [
            "INFO:tensorflow:Saving labels in /tmp/tmpa43990cm/labelmap.txt.\n"
          ],
          "name": "stdout"
        },
        {
          "output_type": "stream",
          "text": [
            "INFO:tensorflow:Saving labels in /tmp/tmpa43990cm/labelmap.txt.\n"
          ],
          "name": "stderr"
        },
        {
          "output_type": "stream",
          "text": [
            "INFO:tensorflow:Finished populating metadata and associated file to the model:\n"
          ],
          "name": "stdout"
        },
        {
          "output_type": "stream",
          "text": [
            "INFO:tensorflow:Finished populating metadata and associated file to the model:\n"
          ],
          "name": "stderr"
        },
        {
          "output_type": "stream",
          "text": [
            "INFO:tensorflow:./efficientdet-lite-bfc.tflite\n"
          ],
          "name": "stdout"
        },
        {
          "output_type": "stream",
          "text": [
            "INFO:tensorflow:./efficientdet-lite-bfc.tflite\n"
          ],
          "name": "stderr"
        },
        {
          "output_type": "stream",
          "text": [
            "INFO:tensorflow:The associated file that has been been packed to the model is:\n"
          ],
          "name": "stdout"
        },
        {
          "output_type": "stream",
          "text": [
            "INFO:tensorflow:The associated file that has been been packed to the model is:\n"
          ],
          "name": "stderr"
        },
        {
          "output_type": "stream",
          "text": [
            "INFO:tensorflow:['labelmap.txt']\n"
          ],
          "name": "stdout"
        },
        {
          "output_type": "stream",
          "text": [
            "INFO:tensorflow:['labelmap.txt']\n"
          ],
          "name": "stderr"
        },
        {
          "output_type": "stream",
          "text": [
            "INFO:tensorflow:TensorFlow Lite model exported successfully: ./efficientdet-lite-bfc.tflite\n"
          ],
          "name": "stdout"
        },
        {
          "output_type": "stream",
          "text": [
            "INFO:tensorflow:TensorFlow Lite model exported successfully: ./efficientdet-lite-bfc.tflite\n"
          ],
          "name": "stderr"
        },
        {
          "output_type": "stream",
          "text": [
            "WARNING:tensorflow:Export a separated label file even though label file is already inside the TFLite model with metadata.\n"
          ],
          "name": "stdout"
        },
        {
          "output_type": "stream",
          "text": [
            "WARNING:tensorflow:Export a separated label file even though label file is already inside the TFLite model with metadata.\n"
          ],
          "name": "stderr"
        },
        {
          "output_type": "stream",
          "text": [
            "INFO:tensorflow:Saving labels in ./bfc-labels.txt.\n"
          ],
          "name": "stdout"
        },
        {
          "output_type": "stream",
          "text": [
            "INFO:tensorflow:Saving labels in ./bfc-labels.txt.\n"
          ],
          "name": "stderr"
        }
      ]
    },
    {
      "cell_type": "code",
      "metadata": {
        "colab": {
          "base_uri": "https://localhost:8080/"
        },
        "id": "8rrgJn_7EWC-",
        "outputId": "c73f6d2e-1432-4a1e-c9de-d8c0b72b866b"
      },
      "source": [
        "model.evaluate_tflite('efficientdet-lite-bfc.tflite', train_data)"
      ],
      "execution_count": 21,
      "outputs": [
        {
          "output_type": "stream",
          "text": [
            "1287/1287 [==============================] - 3456s 3s/step\n",
            "\n",
            "loading annotations into memory...\n",
            "Done (t=0.01s)\n",
            "creating index...\n",
            "index created!\n",
            "Loading and preparing results...\n",
            "Converting ndarray to lists...\n",
            "(32175, 7)\n",
            "0/32175\n",
            "DONE (t=0.13s)\n",
            "creating index...\n",
            "index created!\n",
            "Running per image evaluation...\n",
            "Evaluate annotation type *bbox*\n",
            "DONE (t=2.72s).\n",
            "Accumulating evaluation results...\n",
            "DONE (t=0.25s).\n",
            " Average Precision  (AP) @[ IoU=0.50:0.95 | area=   all | maxDets=100 ] = 0.887\n",
            " Average Precision  (AP) @[ IoU=0.50      | area=   all | maxDets=100 ] = 1.000\n",
            " Average Precision  (AP) @[ IoU=0.75      | area=   all | maxDets=100 ] = 1.000\n",
            " Average Precision  (AP) @[ IoU=0.50:0.95 | area= small | maxDets=100 ] = -1.000\n",
            " Average Precision  (AP) @[ IoU=0.50:0.95 | area=medium | maxDets=100 ] = -1.000\n",
            " Average Precision  (AP) @[ IoU=0.50:0.95 | area= large | maxDets=100 ] = 0.887\n",
            " Average Recall     (AR) @[ IoU=0.50:0.95 | area=   all | maxDets=  1 ] = 0.919\n",
            " Average Recall     (AR) @[ IoU=0.50:0.95 | area=   all | maxDets= 10 ] = 0.919\n",
            " Average Recall     (AR) @[ IoU=0.50:0.95 | area=   all | maxDets=100 ] = 0.919\n",
            " Average Recall     (AR) @[ IoU=0.50:0.95 | area= small | maxDets=100 ] = -1.000\n",
            " Average Recall     (AR) @[ IoU=0.50:0.95 | area=medium | maxDets=100 ] = -1.000\n",
            " Average Recall     (AR) @[ IoU=0.50:0.95 | area= large | maxDets=100 ] = 0.919\n"
          ],
          "name": "stdout"
        },
        {
          "output_type": "execute_result",
          "data": {
            "text/plain": [
              "{'AP': 0.8870405,\n",
              " 'AP50': 1.0,\n",
              " 'AP75': 1.0,\n",
              " 'AP_/megot': 0.8870405,\n",
              " 'APl': 0.8870405,\n",
              " 'APm': -1.0,\n",
              " 'APs': -1.0,\n",
              " 'ARl': 0.9190365,\n",
              " 'ARm': -1.0,\n",
              " 'ARmax1': 0.9190365,\n",
              " 'ARmax10': 0.9190365,\n",
              " 'ARmax100': 0.9190365,\n",
              " 'ARs': -1.0}"
            ]
          },
          "metadata": {},
          "execution_count": 21
        }
      ]
    },
    {
      "cell_type": "code",
      "metadata": {
        "id": "Pp2fA2DLS3YW",
        "colab": {
          "base_uri": "https://localhost:8080/"
        },
        "outputId": "37660d23-951e-49c8-acc5-8e6c49708228"
      },
      "source": [
        "model.evaluate_tflite('efficientdet-lite-bfc.tflite', valid_data)"
      ],
      "execution_count": 22,
      "outputs": [
        {
          "output_type": "stream",
          "text": [
            "30/30 [==============================] - 81s 3s/step\n",
            "\n",
            "loading annotations into memory...\n",
            "Done (t=0.00s)\n",
            "creating index...\n",
            "index created!\n",
            "Loading and preparing results...\n",
            "Converting ndarray to lists...\n",
            "(750, 7)\n",
            "0/750\n",
            "DONE (t=0.01s)\n",
            "creating index...\n",
            "index created!\n",
            "Running per image evaluation...\n",
            "Evaluate annotation type *bbox*\n",
            "DONE (t=0.06s).\n",
            "Accumulating evaluation results...\n",
            "DONE (t=0.01s).\n",
            " Average Precision  (AP) @[ IoU=0.50:0.95 | area=   all | maxDets=100 ] = 0.798\n",
            " Average Precision  (AP) @[ IoU=0.50      | area=   all | maxDets=100 ] = 1.000\n",
            " Average Precision  (AP) @[ IoU=0.75      | area=   all | maxDets=100 ] = 0.937\n",
            " Average Precision  (AP) @[ IoU=0.50:0.95 | area= small | maxDets=100 ] = -1.000\n",
            " Average Precision  (AP) @[ IoU=0.50:0.95 | area=medium | maxDets=100 ] = -1.000\n",
            " Average Precision  (AP) @[ IoU=0.50:0.95 | area= large | maxDets=100 ] = 0.798\n",
            " Average Recall     (AR) @[ IoU=0.50:0.95 | area=   all | maxDets=  1 ] = 0.823\n",
            " Average Recall     (AR) @[ IoU=0.50:0.95 | area=   all | maxDets= 10 ] = 0.823\n",
            " Average Recall     (AR) @[ IoU=0.50:0.95 | area=   all | maxDets=100 ] = 0.823\n",
            " Average Recall     (AR) @[ IoU=0.50:0.95 | area= small | maxDets=100 ] = -1.000\n",
            " Average Recall     (AR) @[ IoU=0.50:0.95 | area=medium | maxDets=100 ] = -1.000\n",
            " Average Recall     (AR) @[ IoU=0.50:0.95 | area= large | maxDets=100 ] = 0.823\n"
          ],
          "name": "stdout"
        },
        {
          "output_type": "execute_result",
          "data": {
            "text/plain": [
              "{'AP': 0.7977346,\n",
              " 'AP50': 1.0,\n",
              " 'AP75': 0.9372937,\n",
              " 'AP_/megot': 0.7977346,\n",
              " 'APl': 0.7977346,\n",
              " 'APm': -1.0,\n",
              " 'APs': -1.0,\n",
              " 'ARl': 0.8233333,\n",
              " 'ARm': -1.0,\n",
              " 'ARmax1': 0.8233333,\n",
              " 'ARmax10': 0.8233333,\n",
              " 'ARmax100': 0.8233333,\n",
              " 'ARs': -1.0}"
            ]
          },
          "metadata": {},
          "execution_count": 22
        }
      ]
    },
    {
      "cell_type": "markdown",
      "metadata": {
        "id": "ncJ38Ww6phEu"
      },
      "source": [
        "# Inférence\n",
        "\n",
        "A partir d'ici, la librairie `tflite-model-maker` est inutile. On utilise nativement `tflite`.\n",
        "\n",
        "Le code suivant est une alternative à l'outillage proposé pour le Coral TPU, voir [ici](https://github.com/google-coral/tflite/tree/master/python/examples/detection)."
      ]
    },
    {
      "cell_type": "code",
      "metadata": {
        "id": "mI5LHxA8xPYx"
      },
      "source": [
        "import numpy as np\n",
        "import cv2\n",
        "\n",
        "from PIL import Image\n",
        "\n",
        "# Load the labels into a list\n",
        "classes = [\"megot\"]\n",
        "\n",
        "# Define a list of colors for visualization\n",
        "COLORS = np.random.randint(0, 255, size=(len(classes), 3), dtype=np.uint8)\n",
        "\n",
        "def preprocess_image(image_path, input_size):\n",
        "  \"\"\"Preprocess the input image to feed to the TFLite model\"\"\"\n",
        "  img = tf.io.read_file(image_path)\n",
        "  img = tf.io.decode_image(img, channels=3)\n",
        "  img = tf.image.convert_image_dtype(img, tf.uint8)\n",
        "  original_image = img\n",
        "  resized_img = tf.image.resize(img, input_size)\n",
        "  resized_img = resized_img[tf.newaxis, :]\n",
        "  return resized_img, original_image\n",
        "\n",
        "\n",
        "def set_input_tensor(interpreter, image):\n",
        "  \"\"\"Set the input tensor.\"\"\"\n",
        "  tensor_index = interpreter.get_input_details()[0]['index']\n",
        "  input_tensor = interpreter.tensor(tensor_index)()[0]\n",
        "  input_tensor[:, :] = image\n",
        "\n",
        "\n",
        "def get_output_tensor(interpreter, index):\n",
        "  \"\"\"Retur the output tensor at the given index.\"\"\"\n",
        "  output_details = interpreter.get_output_details()[index]\n",
        "  tensor = np.squeeze(interpreter.get_tensor(output_details['index']))\n",
        "  return tensor\n",
        "\n",
        "\n",
        "def detect_objects(interpreter, image, threshold):\n",
        "  \"\"\"Returns a list of detection results, each a dictionary of object info.\"\"\"\n",
        "  # Feed the input image to the model\n",
        "  set_input_tensor(interpreter, image)\n",
        "  interpreter.invoke()\n",
        "\n",
        "  # Get all outputs from the model\n",
        "  boxes = get_output_tensor(interpreter, 1)\n",
        "  classes = get_output_tensor(interpreter, 3)\n",
        "  scores = get_output_tensor(interpreter, 0)\n",
        "  count = int(get_output_tensor(interpreter, 2))\n",
        "\n",
        "  results = []\n",
        "  for i in range(count):\n",
        "    if scores[i] >= threshold:\n",
        "      result = {\n",
        "        'bounding_box': boxes[i],\n",
        "        'class_id': classes[i],\n",
        "        'score': scores[i]\n",
        "      }\n",
        "      results.append(result)\n",
        "  return results\n",
        "\n",
        "\n",
        "def run_odt_and_draw_results(image_path, interpreter, threshold=0.5):\n",
        "  \"\"\"Run object detection on the input image and draw the detection results\"\"\"\n",
        "  # Load the input shape required by the model\n",
        "  _, input_height, input_width, _ = interpreter.get_input_details()[0]['shape']\n",
        "\n",
        "  # Load the input image and preprocess it\n",
        "  preprocessed_image, original_image = preprocess_image(\n",
        "      image_path,\n",
        "      (input_height, input_width)\n",
        "    )\n",
        "\n",
        "  # Run object detection on the input image\n",
        "  results = detect_objects(interpreter, preprocessed_image, threshold=threshold)\n",
        "\n",
        "  # Plot the detection results on the input image\n",
        "  original_image_np = original_image.numpy().astype(np.uint8)\n",
        "  for obj in results:\n",
        "    # Convert the object bounding box from relative coordinates to absolute\n",
        "    # coordinates based on the original image resolution\n",
        "    ymin, xmin, ymax, xmax = obj['bounding_box']\n",
        "    xmin = int(xmin * original_image_np.shape[1])\n",
        "    xmax = int(xmax * original_image_np.shape[1])\n",
        "    ymin = int(ymin * original_image_np.shape[0])\n",
        "    ymax = int(ymax * original_image_np.shape[0])\n",
        "\n",
        "    # Find the class index of the current object\n",
        "    class_id = int(obj['class_id'])\n",
        "\n",
        "    # Draw the bounding box and label on the image\n",
        "    color = [int(c) for c in COLORS[class_id]]\n",
        "    cv2.rectangle(original_image_np, (xmin, ymin), (xmax, ymax), color, 2)\n",
        "    # Make adjustments to make the label visible for all objects\n",
        "    y = ymin - 15 if ymin - 15 > 15 else ymin + 15\n",
        "    label = \"{}: {:.0f}%\".format(classes[class_id], obj['score'] * 100)\n",
        "    cv2.putText(original_image_np, label, (xmin, y),\n",
        "        cv2.FONT_HERSHEY_SIMPLEX, 0.5, color, 2)\n",
        "\n",
        "  # Return the final image\n",
        "  original_uint8 = original_image_np.astype(np.uint8)\n",
        "  return original_uint8"
      ],
      "execution_count": 23,
      "outputs": []
    },
    {
      "cell_type": "code",
      "metadata": {
        "colab": {
          "base_uri": "https://localhost:8080/",
          "height": 401
        },
        "id": "kskARQiE30qu",
        "outputId": "893f9588-8c83-42a9-9070-6a2df5d7d4ff"
      },
      "source": [
        "im = Image.open(\"valid/images/1608644746.jpg\")\n",
        "im.thumbnail((512, 512), Image.ANTIALIAS)\n",
        "im.save(\"/tmp/image.png\", 'PNG')\n",
        "\n",
        "# Load the TFLite model\n",
        "interpreter = tf.lite.Interpreter(model_path=\"efficientdet-lite-bfc.tflite\")\n",
        "interpreter.allocate_tensors()\n",
        "\n",
        "# Run inference and draw detection result on the local copy of the original file\n",
        "detection_result_image = run_odt_and_draw_results(\n",
        "    \"/tmp/image.png\",\n",
        "    interpreter,\n",
        "    threshold=0.5\n",
        ")\n",
        "\n",
        "# Show the detection result\n",
        "Image.fromarray(detection_result_image)"
      ],
      "execution_count": 26,
      "outputs": [
        {
          "output_type": "execute_result",
          "data": {
            "image/png": "[encoded data removed]",
            "text/plain": [
              "<PIL.Image.Image image mode=RGB size=512x384 at 0x7FD9BBC7D750>"
            ]
          },
          "metadata": {},
          "execution_count": 26
        }
      ]
    },
    {
      "cell_type": "code",
      "metadata": {
        "id": "QpNbPBp5Ht7S"
      },
      "source": [
        ""
      ],
      "execution_count": null,
      "outputs": []
    }
  ]
}