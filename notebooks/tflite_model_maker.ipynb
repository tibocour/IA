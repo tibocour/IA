{
  "nbformat": 4,
  "nbformat_minor": 0,
  "metadata": {
    "accelerator": "GPU",
    "colab": {
      "name": "tflite_model_maker.ipynb",
      "provenance": [],
      "collapsed_sections": [],
      "toc_visible": true
    },
    "kernelspec": {
      "display_name": "Python 3",
      "name": "python3"
    },
    "language_info": {
      "name": "python"
    }
  },
  "cells": [
    {
      "cell_type": "markdown",
      "metadata": {
        "id": "2R2IdbfbXoIH"
      },
      "source": [
        "# Ressources\n",
        "\n",
        "* https://www.tensorflow.org/lite/tutorials/model_maker_object_detection\n",
        "* https://www.tensorflow.org/lite/api_docs/python/tflite_model_maker/object_detector\n",
        "* https://coral.ai/docs/edgetpu/retrain-detection/\n",
        "* https://github.com/google-coral/tflite/tree/master/python/examples/detection\n",
        "* https://github.com/tensorflow/examples/tree/master/lite/examples/object_detection/raspberry_pi"
      ]
    },
    {
      "cell_type": "code",
      "metadata": {
        "colab": {
          "base_uri": "https://localhost:8080/"
        },
        "id": "E0aWpDFlcUME",
        "outputId": "7c072743-a541-4fbd-8e71-f60d092da333"
      },
      "source": [
        "%%shell\n",
        "\n",
        "nvidia-smi"
      ],
      "execution_count": 3,
      "outputs": [
        {
          "output_type": "stream",
          "text": [
            "Wed Aug 25 14:26:42 2021       \n",
            "+-----------------------------------------------------------------------------+\n",
            "| NVIDIA-SMI 470.57.02    Driver Version: 460.32.03    CUDA Version: 11.2     |\n",
            "|-------------------------------+----------------------+----------------------+\n",
            "| GPU  Name        Persistence-M| Bus-Id        Disp.A | Volatile Uncorr. ECC |\n",
            "| Fan  Temp  Perf  Pwr:Usage/Cap|         Memory-Usage | GPU-Util  Compute M. |\n",
            "|                               |                      |               MIG M. |\n",
            "|===============================+======================+======================|\n",
            "|   0  Tesla K80           Off  | 00000000:00:04.0 Off |                    0 |\n",
            "| N/A   70C    P8    33W / 149W |      0MiB / 11441MiB |      0%      Default |\n",
            "|                               |                      |                  N/A |\n",
            "+-------------------------------+----------------------+----------------------+\n",
            "                                                                               \n",
            "+-----------------------------------------------------------------------------+\n",
            "| Processes:                                                                  |\n",
            "|  GPU   GI   CI        PID   Type   Process name                  GPU Memory |\n",
            "|        ID   ID                                                   Usage      |\n",
            "|=============================================================================|\n",
            "|  No running processes found                                                 |\n",
            "+-----------------------------------------------------------------------------+\n"
          ],
          "name": "stdout"
        },
        {
          "output_type": "execute_result",
          "data": {
            "text/plain": [
              ""
            ]
          },
          "metadata": {},
          "execution_count": 3
        }
      ]
    },
    {
      "cell_type": "code",
      "metadata": {
        "colab": {
          "base_uri": "https://localhost:8080/"
        },
        "id": "dqL5Jc5VZOv2",
        "outputId": "2065d329-b6ce-4abb-b703-5733703b829a"
      },
      "source": [
        "%%shell \n",
        "\n",
        "# see https://discuss.tensorflow.org/t/invalidargumenterror-required-broadcastable-shapes-op-mul/3824/4\n",
        "# pip install tensorflow==2.5.0\n",
        "# pip install tflite-model-maker\n",
        "pip install tflite-model-maker-nightly"
      ],
      "execution_count": 2,
      "outputs": [
        {
          "output_type": "stream",
          "text": [
            "Collecting tflite-model-maker-nightly\n",
            "  Downloading tflite_model_maker_nightly-0.3.4.dev202108251013-py3-none-any.whl (620 kB)\n",
            "\u001b[K     |████████████████████████████████| 620 kB 3.8 MB/s \n",
            "\u001b[?25hCollecting neural-structured-learning>=1.3.1\n",
            "  Downloading neural_structured_learning-1.3.1-py2.py3-none-any.whl (120 kB)\n",
            "\u001b[K     |████████████████████████████████| 120 kB 56.0 MB/s \n",
            "\u001b[?25hCollecting tfa-nightly\n",
            "  Downloading tfa_nightly-0.15.0.dev20210819135717-cp37-cp37m-manylinux_2_12_x86_64.manylinux2010_x86_64.whl (1.1 MB)\n",
            "\u001b[K     |████████████████████████████████| 1.1 MB 21.4 MB/s \n",
            "\u001b[?25hRequirement already satisfied: librosa==0.8.1 in /usr/local/lib/python3.7/dist-packages (from tflite-model-maker-nightly) (0.8.1)\n",
            "Requirement already satisfied: absl-py>=0.10.0 in /usr/local/lib/python3.7/dist-packages (from tflite-model-maker-nightly) (0.12.0)\n",
            "Collecting tensorflow-model-optimization>=0.5\n",
            "  Downloading tensorflow_model_optimization-0.6.0-py2.py3-none-any.whl (211 kB)\n",
            "\u001b[K     |████████████████████████████████| 211 kB 51.0 MB/s \n",
            "\u001b[?25hRequirement already satisfied: tensorflow==2.6.0 in /usr/local/lib/python3.7/dist-packages (from tflite-model-maker-nightly) (2.6.0)\n",
            "Requirement already satisfied: six>=1.12.0 in /usr/local/lib/python3.7/dist-packages (from tflite-model-maker-nightly) (1.15.0)\n",
            "Requirement already satisfied: numpy>=1.17.3 in /usr/local/lib/python3.7/dist-packages (from tflite-model-maker-nightly) (1.19.5)\n",
            "Collecting lxml>=4.6.1\n",
            "  Downloading lxml-4.6.3-cp37-cp37m-manylinux2014_x86_64.whl (6.3 MB)\n",
            "\u001b[K     |████████████████████████████████| 6.3 MB 38.0 MB/s \n",
            "\u001b[?25hRequirement already satisfied: pillow>=7.0.0 in /usr/local/lib/python3.7/dist-packages (from tflite-model-maker-nightly) (7.1.2)\n",
            "Collecting tflite-support-nightly\n",
            "  Downloading tflite_support_nightly-0.1.0.dev20210824-cp37-cp37m-manylinux_2_12_x86_64.manylinux2010_x86_64.whl (1.1 MB)\n",
            "\u001b[K     |████████████████████████████████| 1.1 MB 37.4 MB/s \n",
            "\u001b[?25hCollecting fire>=0.3.1\n",
            "  Downloading fire-0.4.0.tar.gz (87 kB)\n",
            "\u001b[K     |████████████████████████████████| 87 kB 6.2 MB/s \n",
            "\u001b[?25hCollecting PyYAML>=5.1\n",
            "  Downloading PyYAML-5.4.1-cp37-cp37m-manylinux1_x86_64.whl (636 kB)\n",
            "\u001b[K     |████████████████████████████████| 636 kB 33.1 MB/s \n",
            "\u001b[?25hRequirement already satisfied: matplotlib>=3.0.3 in /usr/local/lib/python3.7/dist-packages (from tflite-model-maker-nightly) (3.2.2)\n",
            "Requirement already satisfied: tensorflow-hub<0.13,>=0.7.0 in /usr/local/lib/python3.7/dist-packages (from tflite-model-maker-nightly) (0.12.0)\n",
            "Collecting numba==0.53\n",
            "  Downloading numba-0.53.0-cp37-cp37m-manylinux2014_x86_64.whl (3.4 MB)\n",
            "\u001b[K     |████████████████████████████████| 3.4 MB 28.8 MB/s \n",
            "\u001b[?25hCollecting tf-models-official==2.3.0\n",
            "  Downloading tf_models_official-2.3.0-py2.py3-none-any.whl (840 kB)\n",
            "\u001b[K     |████████████████████████████████| 840 kB 32.1 MB/s \n",
            "\u001b[?25hCollecting sentencepiece>=0.1.91\n",
            "  Downloading sentencepiece-0.1.96-cp37-cp37m-manylinux_2_17_x86_64.manylinux2014_x86_64.whl (1.2 MB)\n",
            "\u001b[K     |████████████████████████████████| 1.2 MB 35.5 MB/s \n",
            "\u001b[?25hRequirement already satisfied: Cython>=0.29.13 in /usr/local/lib/python3.7/dist-packages (from tflite-model-maker-nightly) (0.29.24)\n",
            "Requirement already satisfied: tensorflow-datasets>=2.1.0 in /usr/local/lib/python3.7/dist-packages (from tflite-model-maker-nightly) (4.0.1)\n",
            "Requirement already satisfied: urllib3!=1.25.0,!=1.25.1,<1.26,>=1.21.1 in /usr/local/lib/python3.7/dist-packages (from tflite-model-maker-nightly) (1.24.3)\n",
            "Requirement already satisfied: flatbuffers==1.12 in /usr/local/lib/python3.7/dist-packages (from tflite-model-maker-nightly) (1.12)\n",
            "Requirement already satisfied: resampy>=0.2.2 in /usr/local/lib/python3.7/dist-packages (from librosa==0.8.1->tflite-model-maker-nightly) (0.2.2)\n",
            "Requirement already satisfied: pooch>=1.0 in /usr/local/lib/python3.7/dist-packages (from librosa==0.8.1->tflite-model-maker-nightly) (1.4.0)\n",
            "Requirement already satisfied: joblib>=0.14 in /usr/local/lib/python3.7/dist-packages (from librosa==0.8.1->tflite-model-maker-nightly) (1.0.1)\n",
            "Requirement already satisfied: audioread>=2.0.0 in /usr/local/lib/python3.7/dist-packages (from librosa==0.8.1->tflite-model-maker-nightly) (2.1.9)\n",
            "Requirement already satisfied: soundfile>=0.10.2 in /usr/local/lib/python3.7/dist-packages (from librosa==0.8.1->tflite-model-maker-nightly) (0.10.3.post1)\n",
            "Requirement already satisfied: decorator>=3.0.0 in /usr/local/lib/python3.7/dist-packages (from librosa==0.8.1->tflite-model-maker-nightly) (4.4.2)\n",
            "Requirement already satisfied: packaging>=20.0 in /usr/local/lib/python3.7/dist-packages (from librosa==0.8.1->tflite-model-maker-nightly) (21.0)\n",
            "Requirement already satisfied: scipy>=1.0.0 in /usr/local/lib/python3.7/dist-packages (from librosa==0.8.1->tflite-model-maker-nightly) (1.4.1)\n",
            "Requirement already satisfied: scikit-learn!=0.19.0,>=0.14.0 in /usr/local/lib/python3.7/dist-packages (from librosa==0.8.1->tflite-model-maker-nightly) (0.22.2.post1)\n",
            "Collecting llvmlite<0.37,>=0.36.0rc1\n",
            "  Downloading llvmlite-0.36.0-cp37-cp37m-manylinux2010_x86_64.whl (25.3 MB)\n",
            "\u001b[K     |████████████████████████████████| 25.3 MB 78 kB/s \n",
            "\u001b[?25hRequirement already satisfied: setuptools in /usr/local/lib/python3.7/dist-packages (from numba==0.53->tflite-model-maker-nightly) (57.4.0)\n",
            "Requirement already satisfied: h5py~=3.1.0 in /usr/local/lib/python3.7/dist-packages (from tensorflow==2.6.0->tflite-model-maker-nightly) (3.1.0)\n",
            "Requirement already satisfied: wrapt~=1.12.1 in /usr/local/lib/python3.7/dist-packages (from tensorflow==2.6.0->tflite-model-maker-nightly) (1.12.1)\n",
            "Requirement already satisfied: astunparse~=1.6.3 in /usr/local/lib/python3.7/dist-packages (from tensorflow==2.6.0->tflite-model-maker-nightly) (1.6.3)\n",
            "Requirement already satisfied: termcolor~=1.1.0 in /usr/local/lib/python3.7/dist-packages (from tensorflow==2.6.0->tflite-model-maker-nightly) (1.1.0)\n",
            "Requirement already satisfied: keras~=2.6 in /usr/local/lib/python3.7/dist-packages (from tensorflow==2.6.0->tflite-model-maker-nightly) (2.6.0)\n",
            "Requirement already satisfied: protobuf>=3.9.2 in /usr/local/lib/python3.7/dist-packages (from tensorflow==2.6.0->tflite-model-maker-nightly) (3.17.3)\n",
            "Requirement already satisfied: grpcio<2.0,>=1.37.0 in /usr/local/lib/python3.7/dist-packages (from tensorflow==2.6.0->tflite-model-maker-nightly) (1.39.0)\n",
            "Requirement already satisfied: typing-extensions~=3.7.4 in /usr/local/lib/python3.7/dist-packages (from tensorflow==2.6.0->tflite-model-maker-nightly) (3.7.4.3)\n",
            "Requirement already satisfied: tensorboard~=2.6 in /usr/local/lib/python3.7/dist-packages (from tensorflow==2.6.0->tflite-model-maker-nightly) (2.6.0)\n",
            "Requirement already satisfied: gast==0.4.0 in /usr/local/lib/python3.7/dist-packages (from tensorflow==2.6.0->tflite-model-maker-nightly) (0.4.0)\n",
            "Requirement already satisfied: tensorflow-estimator~=2.6 in /usr/local/lib/python3.7/dist-packages (from tensorflow==2.6.0->tflite-model-maker-nightly) (2.6.0)\n",
            "Requirement already satisfied: keras-preprocessing~=1.1.2 in /usr/local/lib/python3.7/dist-packages (from tensorflow==2.6.0->tflite-model-maker-nightly) (1.1.2)\n",
            "Requirement already satisfied: opt-einsum~=3.3.0 in /usr/local/lib/python3.7/dist-packages (from tensorflow==2.6.0->tflite-model-maker-nightly) (3.3.0)\n",
            "Requirement already satisfied: google-pasta~=0.2 in /usr/local/lib/python3.7/dist-packages (from tensorflow==2.6.0->tflite-model-maker-nightly) (0.2.0)\n",
            "Requirement already satisfied: wheel~=0.35 in /usr/local/lib/python3.7/dist-packages (from tensorflow==2.6.0->tflite-model-maker-nightly) (0.37.0)\n",
            "Requirement already satisfied: clang~=5.0 in /usr/local/lib/python3.7/dist-packages (from tensorflow==2.6.0->tflite-model-maker-nightly) (5.0)\n",
            "Collecting tensorflow-addons\n",
            "  Downloading tensorflow_addons-0.14.0-cp37-cp37m-manylinux_2_12_x86_64.manylinux2010_x86_64.whl (1.1 MB)\n",
            "\u001b[K     |████████████████████████████████| 1.1 MB 46.4 MB/s \n",
            "\u001b[?25hRequirement already satisfied: gin-config in /usr/local/lib/python3.7/dist-packages (from tf-models-official==2.3.0->tflite-model-maker-nightly) (0.4.0)\n",
            "Collecting py-cpuinfo>=3.3.0\n",
            "  Downloading py-cpuinfo-8.0.0.tar.gz (99 kB)\n",
            "\u001b[K     |████████████████████████████████| 99 kB 9.3 MB/s \n",
            "\u001b[?25hCollecting opencv-python-headless\n",
            "  Downloading opencv_python_headless-4.5.3.56-cp37-cp37m-manylinux2014_x86_64.whl (37.1 MB)\n",
            "\u001b[K     |████████████████████████████████| 37.1 MB 39 kB/s \n",
            "\u001b[?25hRequirement already satisfied: pandas>=0.22.0 in /usr/local/lib/python3.7/dist-packages (from tf-models-official==2.3.0->tflite-model-maker-nightly) (1.1.5)\n",
            "Requirement already satisfied: google-cloud-bigquery>=0.31.0 in /usr/local/lib/python3.7/dist-packages (from tf-models-official==2.3.0->tflite-model-maker-nightly) (1.21.0)\n",
            "Requirement already satisfied: psutil>=5.4.3 in /usr/local/lib/python3.7/dist-packages (from tf-models-official==2.3.0->tflite-model-maker-nightly) (5.4.8)\n",
            "Collecting dataclasses\n",
            "  Downloading dataclasses-0.6-py3-none-any.whl (14 kB)\n",
            "Collecting tf-slim>=1.1.0\n",
            "  Downloading tf_slim-1.1.0-py2.py3-none-any.whl (352 kB)\n",
            "\u001b[K     |████████████████████████████████| 352 kB 27.8 MB/s \n",
            "\u001b[?25hRequirement already satisfied: kaggle>=1.3.9 in /usr/local/lib/python3.7/dist-packages (from tf-models-official==2.3.0->tflite-model-maker-nightly) (1.5.12)\n",
            "Requirement already satisfied: google-api-python-client>=1.6.7 in /usr/local/lib/python3.7/dist-packages (from tf-models-official==2.3.0->tflite-model-maker-nightly) (1.12.8)\n",
            "Requirement already satisfied: google-auth>=1.16.0 in /usr/local/lib/python3.7/dist-packages (from google-api-python-client>=1.6.7->tf-models-official==2.3.0->tflite-model-maker-nightly) (1.34.0)\n",
            "Requirement already satisfied: httplib2<1dev,>=0.15.0 in /usr/local/lib/python3.7/dist-packages (from google-api-python-client>=1.6.7->tf-models-official==2.3.0->tflite-model-maker-nightly) (0.17.4)\n",
            "Requirement already satisfied: google-auth-httplib2>=0.0.3 in /usr/local/lib/python3.7/dist-packages (from google-api-python-client>=1.6.7->tf-models-official==2.3.0->tflite-model-maker-nightly) (0.0.4)\n",
            "Requirement already satisfied: uritemplate<4dev,>=3.0.0 in /usr/local/lib/python3.7/dist-packages (from google-api-python-client>=1.6.7->tf-models-official==2.3.0->tflite-model-maker-nightly) (3.0.1)\n",
            "Requirement already satisfied: google-api-core<2dev,>=1.21.0 in /usr/local/lib/python3.7/dist-packages (from google-api-python-client>=1.6.7->tf-models-official==2.3.0->tflite-model-maker-nightly) (1.26.3)\n",
            "Requirement already satisfied: requests<3.0.0dev,>=2.18.0 in /usr/local/lib/python3.7/dist-packages (from google-api-core<2dev,>=1.21.0->google-api-python-client>=1.6.7->tf-models-official==2.3.0->tflite-model-maker-nightly) (2.23.0)\n",
            "Requirement already satisfied: pytz in /usr/local/lib/python3.7/dist-packages (from google-api-core<2dev,>=1.21.0->google-api-python-client>=1.6.7->tf-models-official==2.3.0->tflite-model-maker-nightly) (2018.9)\n",
            "Requirement already satisfied: googleapis-common-protos<2.0dev,>=1.6.0 in /usr/local/lib/python3.7/dist-packages (from google-api-core<2dev,>=1.21.0->google-api-python-client>=1.6.7->tf-models-official==2.3.0->tflite-model-maker-nightly) (1.53.0)\n",
            "Requirement already satisfied: cachetools<5.0,>=2.0.0 in /usr/local/lib/python3.7/dist-packages (from google-auth>=1.16.0->google-api-python-client>=1.6.7->tf-models-official==2.3.0->tflite-model-maker-nightly) (4.2.2)\n",
            "Requirement already satisfied: pyasn1-modules>=0.2.1 in /usr/local/lib/python3.7/dist-packages (from google-auth>=1.16.0->google-api-python-client>=1.6.7->tf-models-official==2.3.0->tflite-model-maker-nightly) (0.2.8)\n",
            "Requirement already satisfied: rsa<5,>=3.1.4 in /usr/local/lib/python3.7/dist-packages (from google-auth>=1.16.0->google-api-python-client>=1.6.7->tf-models-official==2.3.0->tflite-model-maker-nightly) (4.7.2)\n",
            "Requirement already satisfied: google-resumable-media!=0.4.0,<0.5.0dev,>=0.3.1 in /usr/local/lib/python3.7/dist-packages (from google-cloud-bigquery>=0.31.0->tf-models-official==2.3.0->tflite-model-maker-nightly) (0.4.1)\n",
            "Requirement already satisfied: google-cloud-core<2.0dev,>=1.0.3 in /usr/local/lib/python3.7/dist-packages (from google-cloud-bigquery>=0.31.0->tf-models-official==2.3.0->tflite-model-maker-nightly) (1.0.3)\n",
            "Requirement already satisfied: cached-property in /usr/local/lib/python3.7/dist-packages (from h5py~=3.1.0->tensorflow==2.6.0->tflite-model-maker-nightly) (1.5.2)\n",
            "Requirement already satisfied: python-dateutil in /usr/local/lib/python3.7/dist-packages (from kaggle>=1.3.9->tf-models-official==2.3.0->tflite-model-maker-nightly) (2.8.2)\n",
            "Requirement already satisfied: tqdm in /usr/local/lib/python3.7/dist-packages (from kaggle>=1.3.9->tf-models-official==2.3.0->tflite-model-maker-nightly) (4.62.0)\n",
            "Requirement already satisfied: certifi in /usr/local/lib/python3.7/dist-packages (from kaggle>=1.3.9->tf-models-official==2.3.0->tflite-model-maker-nightly) (2021.5.30)\n",
            "Requirement already satisfied: python-slugify in /usr/local/lib/python3.7/dist-packages (from kaggle>=1.3.9->tf-models-official==2.3.0->tflite-model-maker-nightly) (5.0.2)\n",
            "Requirement already satisfied: pyparsing!=2.0.4,!=2.1.2,!=2.1.6,>=2.0.1 in /usr/local/lib/python3.7/dist-packages (from matplotlib>=3.0.3->tflite-model-maker-nightly) (2.4.7)\n",
            "Requirement already satisfied: cycler>=0.10 in /usr/local/lib/python3.7/dist-packages (from matplotlib>=3.0.3->tflite-model-maker-nightly) (0.10.0)\n",
            "Requirement already satisfied: kiwisolver>=1.0.1 in /usr/local/lib/python3.7/dist-packages (from matplotlib>=3.0.3->tflite-model-maker-nightly) (1.3.1)\n",
            "Requirement already satisfied: attrs in /usr/local/lib/python3.7/dist-packages (from neural-structured-learning>=1.3.1->tflite-model-maker-nightly) (21.2.0)\n",
            "Requirement already satisfied: appdirs in /usr/local/lib/python3.7/dist-packages (from pooch>=1.0->librosa==0.8.1->tflite-model-maker-nightly) (1.4.4)\n",
            "Requirement already satisfied: pyasn1<0.5.0,>=0.4.6 in /usr/local/lib/python3.7/dist-packages (from pyasn1-modules>=0.2.1->google-auth>=1.16.0->google-api-python-client>=1.6.7->tf-models-official==2.3.0->tflite-model-maker-nightly) (0.4.8)\n",
            "Requirement already satisfied: chardet<4,>=3.0.2 in /usr/local/lib/python3.7/dist-packages (from requests<3.0.0dev,>=2.18.0->google-api-core<2dev,>=1.21.0->google-api-python-client>=1.6.7->tf-models-official==2.3.0->tflite-model-maker-nightly) (3.0.4)\n",
            "Requirement already satisfied: idna<3,>=2.5 in /usr/local/lib/python3.7/dist-packages (from requests<3.0.0dev,>=2.18.0->google-api-core<2dev,>=1.21.0->google-api-python-client>=1.6.7->tf-models-official==2.3.0->tflite-model-maker-nightly) (2.10)\n",
            "Requirement already satisfied: cffi>=1.0 in /usr/local/lib/python3.7/dist-packages (from soundfile>=0.10.2->librosa==0.8.1->tflite-model-maker-nightly) (1.14.6)\n",
            "Requirement already satisfied: pycparser in /usr/local/lib/python3.7/dist-packages (from cffi>=1.0->soundfile>=0.10.2->librosa==0.8.1->tflite-model-maker-nightly) (2.20)\n",
            "Requirement already satisfied: google-auth-oauthlib<0.5,>=0.4.1 in /usr/local/lib/python3.7/dist-packages (from tensorboard~=2.6->tensorflow==2.6.0->tflite-model-maker-nightly) (0.4.5)\n",
            "Requirement already satisfied: markdown>=2.6.8 in /usr/local/lib/python3.7/dist-packages (from tensorboard~=2.6->tensorflow==2.6.0->tflite-model-maker-nightly) (3.3.4)\n",
            "Requirement already satisfied: tensorboard-plugin-wit>=1.6.0 in /usr/local/lib/python3.7/dist-packages (from tensorboard~=2.6->tensorflow==2.6.0->tflite-model-maker-nightly) (1.8.0)\n",
            "Requirement already satisfied: werkzeug>=0.11.15 in /usr/local/lib/python3.7/dist-packages (from tensorboard~=2.6->tensorflow==2.6.0->tflite-model-maker-nightly) (1.0.1)\n",
            "Requirement already satisfied: tensorboard-data-server<0.7.0,>=0.6.0 in /usr/local/lib/python3.7/dist-packages (from tensorboard~=2.6->tensorflow==2.6.0->tflite-model-maker-nightly) (0.6.1)\n",
            "Requirement already satisfied: requests-oauthlib>=0.7.0 in /usr/local/lib/python3.7/dist-packages (from google-auth-oauthlib<0.5,>=0.4.1->tensorboard~=2.6->tensorflow==2.6.0->tflite-model-maker-nightly) (1.3.0)\n",
            "Requirement already satisfied: importlib-metadata in /usr/local/lib/python3.7/dist-packages (from markdown>=2.6.8->tensorboard~=2.6->tensorflow==2.6.0->tflite-model-maker-nightly) (4.6.4)\n",
            "Requirement already satisfied: oauthlib>=3.0.0 in /usr/local/lib/python3.7/dist-packages (from requests-oauthlib>=0.7.0->google-auth-oauthlib<0.5,>=0.4.1->tensorboard~=2.6->tensorflow==2.6.0->tflite-model-maker-nightly) (3.1.1)\n",
            "Requirement already satisfied: dill in /usr/local/lib/python3.7/dist-packages (from tensorflow-datasets>=2.1.0->tflite-model-maker-nightly) (0.3.4)\n",
            "Requirement already satisfied: future in /usr/local/lib/python3.7/dist-packages (from tensorflow-datasets>=2.1.0->tflite-model-maker-nightly) (0.16.0)\n",
            "Requirement already satisfied: dm-tree in /usr/local/lib/python3.7/dist-packages (from tensorflow-datasets>=2.1.0->tflite-model-maker-nightly) (0.1.6)\n",
            "Requirement already satisfied: promise in /usr/local/lib/python3.7/dist-packages (from tensorflow-datasets>=2.1.0->tflite-model-maker-nightly) (2.3)\n",
            "Requirement already satisfied: importlib-resources in /usr/local/lib/python3.7/dist-packages (from tensorflow-datasets>=2.1.0->tflite-model-maker-nightly) (5.2.2)\n",
            "Requirement already satisfied: tensorflow-metadata in /usr/local/lib/python3.7/dist-packages (from tensorflow-datasets>=2.1.0->tflite-model-maker-nightly) (1.2.0)\n",
            "Requirement already satisfied: zipp>=0.5 in /usr/local/lib/python3.7/dist-packages (from importlib-metadata->markdown>=2.6.8->tensorboard~=2.6->tensorflow==2.6.0->tflite-model-maker-nightly) (3.5.0)\n",
            "Requirement already satisfied: text-unidecode>=1.3 in /usr/local/lib/python3.7/dist-packages (from python-slugify->kaggle>=1.3.9->tf-models-official==2.3.0->tflite-model-maker-nightly) (1.3)\n",
            "Requirement already satisfied: typeguard>=2.7 in /usr/local/lib/python3.7/dist-packages (from tensorflow-addons->tf-models-official==2.3.0->tflite-model-maker-nightly) (2.7.1)\n",
            "Collecting pybind11>=2.6.0\n",
            "  Downloading pybind11-2.7.1-py2.py3-none-any.whl (200 kB)\n",
            "\u001b[K     |████████████████████████████████| 200 kB 39.8 MB/s \n",
            "\u001b[?25hBuilding wheels for collected packages: fire, py-cpuinfo\n",
            "  Building wheel for fire (setup.py) ... \u001b[?25l\u001b[?25hdone\n",
            "  Created wheel for fire: filename=fire-0.4.0-py2.py3-none-any.whl size=115943 sha256=716525aefd29b2d747ca47ee003ec6454ba968c52482213cc47f3a14a1545c3e\n",
            "  Stored in directory: /root/.cache/pip/wheels/8a/67/fb/2e8a12fa16661b9d5af1f654bd199366799740a85c64981226\n",
            "  Building wheel for py-cpuinfo (setup.py) ... \u001b[?25l\u001b[?25hdone\n",
            "  Created wheel for py-cpuinfo: filename=py_cpuinfo-8.0.0-py3-none-any.whl size=22258 sha256=fe6e68041940d8687dc0a18f5bee9b0b4f65253a931490276ef33f2b53c3374c\n",
            "  Stored in directory: /root/.cache/pip/wheels/d2/f1/1f/041add21dc9c4220157f1bd2bd6afe1f1a49524c3396b94401\n",
            "Successfully built fire py-cpuinfo\n",
            "Installing collected packages: llvmlite, numba, tf-slim, tensorflow-model-optimization, tensorflow-addons, sentencepiece, PyYAML, pybind11, py-cpuinfo, opencv-python-headless, dataclasses, tflite-support-nightly, tfa-nightly, tf-models-official, neural-structured-learning, lxml, fire, tflite-model-maker-nightly\n",
            "  Attempting uninstall: llvmlite\n",
            "    Found existing installation: llvmlite 0.34.0\n",
            "    Uninstalling llvmlite-0.34.0:\n",
            "      Successfully uninstalled llvmlite-0.34.0\n",
            "  Attempting uninstall: numba\n",
            "    Found existing installation: numba 0.51.2\n",
            "    Uninstalling numba-0.51.2:\n",
            "      Successfully uninstalled numba-0.51.2\n",
            "  Attempting uninstall: PyYAML\n",
            "    Found existing installation: PyYAML 3.13\n",
            "    Uninstalling PyYAML-3.13:\n",
            "      Successfully uninstalled PyYAML-3.13\n",
            "  Attempting uninstall: lxml\n",
            "    Found existing installation: lxml 4.2.6\n",
            "    Uninstalling lxml-4.2.6:\n",
            "      Successfully uninstalled lxml-4.2.6\n",
            "Successfully installed PyYAML-5.4.1 dataclasses-0.6 fire-0.4.0 llvmlite-0.36.0 lxml-4.6.3 neural-structured-learning-1.3.1 numba-0.53.0 opencv-python-headless-4.5.3.56 py-cpuinfo-8.0.0 pybind11-2.7.1 sentencepiece-0.1.96 tensorflow-addons-0.14.0 tensorflow-model-optimization-0.6.0 tf-models-official-2.3.0 tf-slim-1.1.0 tfa-nightly-0.15.0.dev20210819135717 tflite-model-maker-nightly-0.3.4.dev202108251013 tflite-support-nightly-0.1.0.dev20210824\n"
          ],
          "name": "stdout"
        },
        {
          "output_type": "execute_result",
          "data": {
            "text/plain": [
              ""
            ]
          },
          "metadata": {},
          "execution_count": 2
        }
      ]
    },
    {
      "cell_type": "markdown",
      "metadata": {
        "id": "JVf_sKXN9H9f"
      },
      "source": [
        "# Installation du projet `bfc` et accès aux données\n",
        "\n",
        "Les login et mot de passe sont nécessaires pour accéder à des repos privés à partir de Google/Colab. Cela ne serait pas le cas en accès public."
      ]
    },
    {
      "cell_type": "code",
      "metadata": {
        "id": "CPOKLGaw9Qhx"
      },
      "source": [
        "import os\n",
        "from getpass import getpass"
      ],
      "execution_count": 4,
      "outputs": []
    },
    {
      "cell_type": "code",
      "metadata": {
        "colab": {
          "base_uri": "https://localhost:8080/"
        },
        "id": "36zlJOI5A0Go",
        "outputId": "c19e5541-466c-4aa5-b07b-5bd6c2ced0e2"
      },
      "source": [
        "user = getpass('GitHub user')\n",
        "password = getpass('GitHub password')\n",
        "os.environ['GITHUB_AUTH'] = user + ':' + password"
      ],
      "execution_count": 6,
      "outputs": [
        {
          "output_type": "stream",
          "text": [
            "GitHub user··········\n",
            "GitHub password··········\n"
          ],
          "name": "stdout"
        }
      ]
    },
    {
      "cell_type": "code",
      "metadata": {
        "colab": {
          "base_uri": "https://localhost:8080/"
        },
        "id": "nF7dOnmdAc71",
        "outputId": "ec5df2ee-bb39-4e12-911f-5761472d6c24"
      },
      "source": [
        "%%shell\n",
        "\n",
        "git clone https://$GITHUB_AUTH@github.com/tibocour/IA.git"
      ],
      "execution_count": 7,
      "outputs": [
        {
          "output_type": "stream",
          "text": [
            "Cloning into 'IA'...\n",
            "remote: Enumerating objects: 18, done.\u001b[K\n",
            "remote: Counting objects: 100% (18/18), done.\u001b[K\n",
            "remote: Compressing objects: 100% (12/12), done.\u001b[K\n",
            "remote: Total 18 (delta 2), reused 18 (delta 2), pack-reused 0\u001b[K\n",
            "Unpacking objects: 100% (18/18), done.\n"
          ],
          "name": "stdout"
        },
        {
          "output_type": "execute_result",
          "data": {
            "text/plain": [
              ""
            ]
          },
          "metadata": {},
          "execution_count": 7
        }
      ]
    },
    {
      "cell_type": "code",
      "metadata": {
        "colab": {
          "base_uri": "https://localhost:8080/"
        },
        "id": "0NA-ih6CBXLN",
        "outputId": "4a8b2c2a-2e42-4282-fff0-4d62ece0ddda"
      },
      "source": [
        "%%shell\n",
        "\n",
        "rm -rf Annotations images\n",
        "unzip -q IA/data/megots150images.zip"
      ],
      "execution_count": 8,
      "outputs": [
        {
          "output_type": "execute_result",
          "data": {
            "text/plain": [
              ""
            ]
          },
          "metadata": {},
          "execution_count": 8
        }
      ]
    },
    {
      "cell_type": "markdown",
      "metadata": {
        "id": "WHw9gVRxPVbU"
      },
      "source": [
        "# Préparation des données\n",
        "\n",
        "Le format `Pascal VOC` de `Label Studio` est encodé en `utf-8` ce qui n'est pas supporté par `tensorflow-lite`. D'autre part, le label `filename` des fichiers `xml` ne contient pas l'extension `.jpg`. "
      ]
    },
    {
      "cell_type": "code",
      "metadata": {
        "id": "CbWc3lOqqMGA"
      },
      "source": [
        "import os"
      ],
      "execution_count": 9,
      "outputs": []
    },
    {
      "cell_type": "code",
      "metadata": {
        "id": "YCSWSVKYqPw8"
      },
      "source": [
        "os.makedirs(\"annotations\", exist_ok=True)"
      ],
      "execution_count": 10,
      "outputs": []
    },
    {
      "cell_type": "code",
      "metadata": {
        "id": "o-kbvGi8qWC5"
      },
      "source": [
        "for filename in os.listdir(\"Annotations\"):\n",
        "    with open(os.path.join(\"Annotations\", filename), 'r') as file :\n",
        "        filedata = file.read()\n",
        "\n",
        "    filedata = filedata.replace(' encoding=\"utf-8\"', \"\")\n",
        "    filedata = filedata.replace(\"</filename>\", \".jpg</filename>\")\n",
        "\n",
        "    with open(os.path.join(\"annotations\", filename), 'w') as file:\n",
        "        file.write(filedata)"
      ],
      "execution_count": 11,
      "outputs": []
    },
    {
      "cell_type": "markdown",
      "metadata": {
        "id": "2ZKf1H_EPunp"
      },
      "source": [
        "On effectue une répartition aléatoire des données 80% pour l'entrainement et le reste pour la validation.\n",
        "\n",
        "> C'est vraiment grossier. Dans le cas d'une détection à plusieurs classes, il convient d'avoir une stratégie plus adaptée pour ne pas sur / sous représenter des catégories."
      ]
    },
    {
      "cell_type": "code",
      "metadata": {
        "id": "6tKO2IddK2kk"
      },
      "source": [
        "filenames = [os.path.splitext(filename)[0] for filename in os.listdir(\"Annotations\")]"
      ],
      "execution_count": 12,
      "outputs": []
    },
    {
      "cell_type": "code",
      "metadata": {
        "id": "SyETG_TyL-2n"
      },
      "source": [
        "import random"
      ],
      "execution_count": 13,
      "outputs": []
    },
    {
      "cell_type": "code",
      "metadata": {
        "id": "A8NH-v67LbuW"
      },
      "source": [
        "random.shuffle(filenames)"
      ],
      "execution_count": 14,
      "outputs": []
    },
    {
      "cell_type": "code",
      "metadata": {
        "id": "SGRDE2DlMEPQ"
      },
      "source": [
        "train_size = int(len(filenames) * 0.8)"
      ],
      "execution_count": 15,
      "outputs": []
    },
    {
      "cell_type": "code",
      "metadata": {
        "id": "pkkBJVumMTCv"
      },
      "source": [
        "train_filenames = filenames[:train_size]\n",
        "valid_filenames = filenames[train_size:]"
      ],
      "execution_count": 16,
      "outputs": []
    },
    {
      "cell_type": "markdown",
      "metadata": {
        "id": "DXKzicjPfJns"
      },
      "source": [
        "# Apprentissage par transfer learning"
      ]
    },
    {
      "cell_type": "code",
      "metadata": {
        "colab": {
          "base_uri": "https://localhost:8080/",
          "height": 35
        },
        "id": "4_cwMT6cX4eO",
        "outputId": "f168254a-6c5e-42f3-818e-4dcbd4edb806"
      },
      "source": [
        "import tensorflow as tf\n",
        "tf.__version__"
      ],
      "execution_count": 17,
      "outputs": [
        {
          "output_type": "execute_result",
          "data": {
            "application/vnd.google.colaboratory.intrinsic+json": {
              "type": "string"
            },
            "text/plain": [
              "'2.6.0'"
            ]
          },
          "metadata": {},
          "execution_count": 17
        }
      ]
    },
    {
      "cell_type": "code",
      "metadata": {
        "id": "hxqKm27EYXRz"
      },
      "source": [
        "from tflite_model_maker import object_detector"
      ],
      "execution_count": 18,
      "outputs": []
    },
    {
      "cell_type": "code",
      "metadata": {
        "colab": {
          "base_uri": "https://localhost:8080/"
        },
        "id": "A59yQFBhmLLR",
        "outputId": "0ab4d5d1-c9e5-462e-e018-ecf4a623255a"
      },
      "source": [
        "train_data = object_detector.DataLoader.from_pascal_voc(\n",
        "    images_dir=\"images\",\n",
        "    annotations_dir=\"annotations\",\n",
        "    annotation_filenames=train_filenames,\n",
        "    label_map=[\"megot\"]\n",
        ")"
      ],
      "execution_count": 19,
      "outputs": [
        {
          "output_type": "stream",
          "text": [
            "INFO:tensorflow:Cache will be stored in /tmp/tmp2ij389pm with prefix filename 1c97ed988c3f4ceb234698c23d258e2a. Cache_prefix is /tmp/tmp2ij389pm/1c97ed988c3f4ceb234698c23d258e2a\n",
            "INFO:tensorflow:On image 0\n",
            "INFO:tensorflow:On image 100\n"
          ],
          "name": "stdout"
        }
      ]
    },
    {
      "cell_type": "code",
      "metadata": {
        "colab": {
          "base_uri": "https://localhost:8080/"
        },
        "id": "EU1FFSgVNEJ-",
        "outputId": "3e98856c-766d-45d7-c004-446696c441d7"
      },
      "source": [
        "valid_data = object_detector.DataLoader.from_pascal_voc(\n",
        "    images_dir=\"images\",\n",
        "    annotations_dir=\"annotations\",\n",
        "    annotation_filenames=valid_filenames,\n",
        "    label_map=[\"megot\"]\n",
        ")"
      ],
      "execution_count": 20,
      "outputs": [
        {
          "output_type": "stream",
          "text": [
            "INFO:tensorflow:Cache will be stored in /tmp/tmp_8s3nzjo with prefix filename 91236c2603930c40de5ab93bf11d91de. Cache_prefix is /tmp/tmp_8s3nzjo/91236c2603930c40de5ab93bf11d91de\n",
            "INFO:tensorflow:On image 0\n"
          ],
          "name": "stdout"
        }
      ]
    },
    {
      "cell_type": "code",
      "metadata": {
        "colab": {
          "base_uri": "https://localhost:8080/"
        },
        "id": "WtdsV91AbbbB",
        "outputId": "4484fbdd-3ccd-413b-e776-7b569e5bc0d6"
      },
      "source": [
        "len(train_data), len(valid_data)"
      ],
      "execution_count": 21,
      "outputs": [
        {
          "output_type": "execute_result",
          "data": {
            "text/plain": [
              "(117, 30)"
            ]
          },
          "metadata": {},
          "execution_count": 21
        }
      ]
    },
    {
      "cell_type": "markdown",
      "metadata": {
        "id": "p--NAFIoTG1d"
      },
      "source": [
        "Architecture de detection : [EfficientDet](https://arxiv.org/pdf/1911.09070.pdf)\n",
        "voir également [ici](https://ai.googleblog.com/2020/04/efficientdet-towards-scalable-and.html) pour les détails."
      ]
    },
    {
      "cell_type": "code",
      "metadata": {
        "id": "__6roOOBrV-u"
      },
      "source": [
        "spec = object_detector.EfficientDetLite0Spec()"
      ],
      "execution_count": 22,
      "outputs": []
    },
    {
      "cell_type": "code",
      "metadata": {
        "colab": {
          "base_uri": "https://localhost:8080/"
        },
        "id": "DjM3daE0ratb",
        "outputId": "b78c4a98-f56a-451b-c629-7b3297627f5c"
      },
      "source": [
        "model = object_detector.create(train_data=train_data,\n",
        "                               model_spec=spec,\n",
        "                               validation_data=valid_data,\n",
        "                               epochs=50,\n",
        "                               batch_size=10,\n",
        "                               train_whole_model=True)"
      ],
      "execution_count": null,
      "outputs": [
        {
          "output_type": "stream",
          "text": [
            "INFO:tensorflow:Retraining the models...\n",
            "Epoch 1/50\n",
            "11/11 [==============================] - 74s 1s/step - det_loss: 1.7422 - cls_loss: 1.1305 - box_loss: 0.0122 - reg_l2_loss: 0.0630 - loss: 1.8051 - learning_rate: 0.0102 - gradient_norm: 1.7865 - val_det_loss: 1.6254 - val_cls_loss: 1.0625 - val_box_loss: 0.0113 - val_reg_l2_loss: 0.0630 - val_loss: 1.6884\n",
            "Epoch 2/50\n",
            "11/11 [==============================] - 7s 600ms/step - det_loss: 1.4795 - cls_loss: 0.9450 - box_loss: 0.0107 - reg_l2_loss: 0.0630 - loss: 1.5424 - learning_rate: 0.0125 - gradient_norm: 2.0787 - val_det_loss: 1.0527 - val_cls_loss: 0.5795 - val_box_loss: 0.0095 - val_reg_l2_loss: 0.0630 - val_loss: 1.1156\n",
            "Epoch 3/50\n",
            "11/11 [==============================] - 6s 600ms/step - det_loss: 0.9724 - cls_loss: 0.5229 - box_loss: 0.0090 - reg_l2_loss: 0.0630 - loss: 1.0354 - learning_rate: 0.0124 - gradient_norm: 3.4097 - val_det_loss: 1.2637 - val_cls_loss: 0.8455 - val_box_loss: 0.0084 - val_reg_l2_loss: 0.0630 - val_loss: 1.3267\n",
            "Epoch 4/50\n",
            "11/11 [==============================] - 6s 598ms/step - det_loss: 0.7614 - cls_loss: 0.3642 - box_loss: 0.0079 - reg_l2_loss: 0.0630 - loss: 0.8244 - learning_rate: 0.0123 - gradient_norm: 2.4722 - val_det_loss: 1.2583 - val_cls_loss: 0.8726 - val_box_loss: 0.0077 - val_reg_l2_loss: 0.0630 - val_loss: 1.3213\n",
            "Epoch 5/50\n",
            "11/11 [==============================] - 7s 619ms/step - det_loss: 0.6294 - cls_loss: 0.2928 - box_loss: 0.0067 - reg_l2_loss: 0.0630 - loss: 0.6925 - learning_rate: 0.0122 - gradient_norm: 2.1324 - val_det_loss: 1.0018 - val_cls_loss: 0.6248 - val_box_loss: 0.0075 - val_reg_l2_loss: 0.0630 - val_loss: 1.0648\n",
            "loading annotations into memory...\n",
            "Done (t=0.00s)\n",
            "creating index...\n",
            "index created!\n",
            "Loading and preparing results...\n",
            "Converting ndarray to lists...\n",
            "(3000, 7)\n",
            "0/3000\n",
            "DONE (t=0.01s)\n",
            "creating index...\n",
            "index created!\n",
            "Running per image evaluation...\n",
            "Evaluate annotation type *bbox*\n",
            "DONE (t=0.25s).\n",
            "Accumulating evaluation results...\n",
            "DONE (t=0.02s).\n",
            " Average Precision  (AP) @[ IoU=0.50:0.95 | area=   all | maxDets=100 ] = 0.189\n",
            " Average Precision  (AP) @[ IoU=0.50      | area=   all | maxDets=100 ] = 0.523\n",
            " Average Precision  (AP) @[ IoU=0.75      | area=   all | maxDets=100 ] = 0.064\n",
            " Average Precision  (AP) @[ IoU=0.50:0.95 | area= small | maxDets=100 ] = -1.000\n",
            " Average Precision  (AP) @[ IoU=0.50:0.95 | area=medium | maxDets=100 ] = -1.000\n",
            " Average Precision  (AP) @[ IoU=0.50:0.95 | area= large | maxDets=100 ] = 0.189\n",
            " Average Recall     (AR) @[ IoU=0.50:0.95 | area=   all | maxDets=  1 ] = 0.303\n",
            " Average Recall     (AR) @[ IoU=0.50:0.95 | area=   all | maxDets= 10 ] = 0.400\n",
            " Average Recall     (AR) @[ IoU=0.50:0.95 | area=   all | maxDets=100 ] = 0.410\n",
            " Average Recall     (AR) @[ IoU=0.50:0.95 | area= small | maxDets=100 ] = -1.000\n",
            " Average Recall     (AR) @[ IoU=0.50:0.95 | area=medium | maxDets=100 ] = -1.000\n",
            " Average Recall     (AR) @[ IoU=0.50:0.95 | area= large | maxDets=100 ] = 0.410\n",
            "Epoch 6/50\n",
            "11/11 [==============================] - 7s 612ms/step - det_loss: 0.5585 - cls_loss: 0.2761 - box_loss: 0.0056 - reg_l2_loss: 0.0631 - loss: 0.6216 - learning_rate: 0.0121 - gradient_norm: 2.3702 - val_det_loss: 0.8648 - val_cls_loss: 0.5616 - val_box_loss: 0.0061 - val_reg_l2_loss: 0.0631 - val_loss: 0.9279\n",
            "Epoch 7/50\n",
            "11/11 [==============================] - 7s 616ms/step - det_loss: 0.4594 - cls_loss: 0.2411 - box_loss: 0.0044 - reg_l2_loss: 0.0631 - loss: 0.5225 - learning_rate: 0.0120 - gradient_norm: 2.8700 - val_det_loss: 0.8506 - val_cls_loss: 0.5462 - val_box_loss: 0.0061 - val_reg_l2_loss: 0.0631 - val_loss: 0.9136\n",
            "Epoch 8/50\n",
            "11/11 [==============================] - 7s 612ms/step - det_loss: 0.4354 - cls_loss: 0.2279 - box_loss: 0.0042 - reg_l2_loss: 0.0631 - loss: 0.4986 - learning_rate: 0.0118 - gradient_norm: 2.6494 - val_det_loss: 0.5297 - val_cls_loss: 0.3032 - val_box_loss: 0.0045 - val_reg_l2_loss: 0.0631 - val_loss: 0.5928\n",
            "Epoch 9/50\n",
            "11/11 [==============================] - 7s 607ms/step - det_loss: 0.3864 - cls_loss: 0.2106 - box_loss: 0.0035 - reg_l2_loss: 0.0631 - loss: 0.4496 - learning_rate: 0.0116 - gradient_norm: 2.5268 - val_det_loss: 0.4382 - val_cls_loss: 0.2517 - val_box_loss: 0.0037 - val_reg_l2_loss: 0.0631 - val_loss: 0.5014\n",
            "Epoch 10/50\n",
            "11/11 [==============================] - 7s 604ms/step - det_loss: 0.3763 - cls_loss: 0.2080 - box_loss: 0.0034 - reg_l2_loss: 0.0631 - loss: 0.4395 - learning_rate: 0.0114 - gradient_norm: 2.3688 - val_det_loss: 0.4123 - val_cls_loss: 0.2313 - val_box_loss: 0.0036 - val_reg_l2_loss: 0.0631 - val_loss: 0.4754\n",
            "loading annotations into memory...\n",
            "Done (t=0.00s)\n",
            "creating index...\n",
            "index created!\n",
            "Loading and preparing results...\n",
            "Converting ndarray to lists...\n",
            "(3000, 7)\n",
            "0/3000\n",
            "DONE (t=0.52s)\n",
            "creating index...\n",
            "index created!\n",
            "Running per image evaluation...\n",
            "Evaluate annotation type *bbox*\n",
            "DONE (t=0.17s).\n",
            "Accumulating evaluation results...\n",
            "DONE (t=0.02s).\n",
            " Average Precision  (AP) @[ IoU=0.50:0.95 | area=   all | maxDets=100 ] = 0.487\n",
            " Average Precision  (AP) @[ IoU=0.50      | area=   all | maxDets=100 ] = 0.953\n",
            " Average Precision  (AP) @[ IoU=0.75      | area=   all | maxDets=100 ] = 0.412\n",
            " Average Precision  (AP) @[ IoU=0.50:0.95 | area= small | maxDets=100 ] = -1.000\n",
            " Average Precision  (AP) @[ IoU=0.50:0.95 | area=medium | maxDets=100 ] = -1.000\n",
            " Average Precision  (AP) @[ IoU=0.50:0.95 | area= large | maxDets=100 ] = 0.487\n",
            " Average Recall     (AR) @[ IoU=0.50:0.95 | area=   all | maxDets=  1 ] = 0.533\n",
            " Average Recall     (AR) @[ IoU=0.50:0.95 | area=   all | maxDets= 10 ] = 0.617\n",
            " Average Recall     (AR) @[ IoU=0.50:0.95 | area=   all | maxDets=100 ] = 0.623\n",
            " Average Recall     (AR) @[ IoU=0.50:0.95 | area= small | maxDets=100 ] = -1.000\n",
            " Average Recall     (AR) @[ IoU=0.50:0.95 | area=medium | maxDets=100 ] = -1.000\n",
            " Average Recall     (AR) @[ IoU=0.50:0.95 | area= large | maxDets=100 ] = 0.623\n",
            "Epoch 11/50\n",
            "11/11 [==============================] - 7s 628ms/step - det_loss: 0.3481 - cls_loss: 0.1862 - box_loss: 0.0032 - reg_l2_loss: 0.0632 - loss: 0.4113 - learning_rate: 0.0111 - gradient_norm: 2.5415 - val_det_loss: 0.4700 - val_cls_loss: 0.2697 - val_box_loss: 0.0040 - val_reg_l2_loss: 0.0632 - val_loss: 0.5332\n",
            "Epoch 12/50\n",
            "11/11 [==============================] - 7s 619ms/step - det_loss: 0.3385 - cls_loss: 0.1873 - box_loss: 0.0030 - reg_l2_loss: 0.0632 - loss: 0.4017 - learning_rate: 0.0109 - gradient_norm: 2.2027 - val_det_loss: 0.4028 - val_cls_loss: 0.2582 - val_box_loss: 0.0029 - val_reg_l2_loss: 0.0632 - val_loss: 0.4659\n",
            "Epoch 13/50\n",
            "11/11 [==============================] - 7s 615ms/step - det_loss: 0.2860 - cls_loss: 0.1634 - box_loss: 0.0025 - reg_l2_loss: 0.0632 - loss: 0.3492 - learning_rate: 0.0106 - gradient_norm: 2.1290 - val_det_loss: 0.4611 - val_cls_loss: 0.2659 - val_box_loss: 0.0039 - val_reg_l2_loss: 0.0632 - val_loss: 0.5243\n",
            "Epoch 14/50\n",
            "11/11 [==============================] - 7s 615ms/step - det_loss: 0.3104 - cls_loss: 0.1813 - box_loss: 0.0026 - reg_l2_loss: 0.0632 - loss: 0.3736 - learning_rate: 0.0103 - gradient_norm: 2.4139 - val_det_loss: 0.4367 - val_cls_loss: 0.2585 - val_box_loss: 0.0036 - val_reg_l2_loss: 0.0632 - val_loss: 0.4999\n",
            "Epoch 15/50\n",
            "11/11 [==============================] - 7s 628ms/step - det_loss: 0.3094 - cls_loss: 0.1750 - box_loss: 0.0027 - reg_l2_loss: 0.0632 - loss: 0.3726 - learning_rate: 0.0100 - gradient_norm: 2.5114 - val_det_loss: 0.3669 - val_cls_loss: 0.1824 - val_box_loss: 0.0037 - val_reg_l2_loss: 0.0632 - val_loss: 0.4301\n",
            "loading annotations into memory...\n",
            "Done (t=0.00s)\n",
            "creating index...\n",
            "index created!\n",
            "Loading and preparing results...\n",
            "Converting ndarray to lists...\n",
            "(3000, 7)\n",
            "0/3000\n",
            "DONE (t=0.01s)\n",
            "creating index...\n",
            "index created!\n",
            "Running per image evaluation...\n",
            "Evaluate annotation type *bbox*\n",
            "DONE (t=0.14s).\n",
            "Accumulating evaluation results...\n",
            "DONE (t=0.02s).\n",
            " Average Precision  (AP) @[ IoU=0.50:0.95 | area=   all | maxDets=100 ] = 0.560\n",
            " Average Precision  (AP) @[ IoU=0.50      | area=   all | maxDets=100 ] = 0.960\n",
            " Average Precision  (AP) @[ IoU=0.75      | area=   all | maxDets=100 ] = 0.591\n",
            " Average Precision  (AP) @[ IoU=0.50:0.95 | area= small | maxDets=100 ] = -1.000\n",
            " Average Precision  (AP) @[ IoU=0.50:0.95 | area=medium | maxDets=100 ] = -1.000\n",
            " Average Precision  (AP) @[ IoU=0.50:0.95 | area= large | maxDets=100 ] = 0.560\n",
            " Average Recall     (AR) @[ IoU=0.50:0.95 | area=   all | maxDets=  1 ] = 0.600\n",
            " Average Recall     (AR) @[ IoU=0.50:0.95 | area=   all | maxDets= 10 ] = 0.700\n",
            " Average Recall     (AR) @[ IoU=0.50:0.95 | area=   all | maxDets=100 ] = 0.703\n",
            " Average Recall     (AR) @[ IoU=0.50:0.95 | area= small | maxDets=100 ] = -1.000\n",
            " Average Recall     (AR) @[ IoU=0.50:0.95 | area=medium | maxDets=100 ] = -1.000\n",
            " Average Recall     (AR) @[ IoU=0.50:0.95 | area= large | maxDets=100 ] = 0.703\n",
            "Epoch 16/50\n",
            "11/11 [==============================] - 7s 616ms/step - det_loss: 0.2884 - cls_loss: 0.1735 - box_loss: 0.0023 - reg_l2_loss: 0.0632 - loss: 0.3516 - learning_rate: 0.0097 - gradient_norm: 2.6889 - val_det_loss: 0.3590 - val_cls_loss: 0.1934 - val_box_loss: 0.0033 - val_reg_l2_loss: 0.0632 - val_loss: 0.4222\n",
            "Epoch 17/50\n",
            "11/11 [==============================] - 7s 626ms/step - det_loss: 0.2761 - cls_loss: 0.1669 - box_loss: 0.0022 - reg_l2_loss: 0.0632 - loss: 0.3393 - learning_rate: 0.0093 - gradient_norm: 2.5656 - val_det_loss: 0.3933 - val_cls_loss: 0.2454 - val_box_loss: 0.0030 - val_reg_l2_loss: 0.0632 - val_loss: 0.4565\n",
            "Epoch 18/50\n",
            "11/11 [==============================] - 7s 627ms/step - det_loss: 0.2587 - cls_loss: 0.1555 - box_loss: 0.0021 - reg_l2_loss: 0.0632 - loss: 0.3220 - learning_rate: 0.0090 - gradient_norm: 2.0294 - val_det_loss: 0.3257 - val_cls_loss: 0.1777 - val_box_loss: 0.0030 - val_reg_l2_loss: 0.0632 - val_loss: 0.3890\n",
            "Epoch 19/50\n",
            "11/11 [==============================] - 7s 613ms/step - det_loss: 0.2563 - cls_loss: 0.1683 - box_loss: 0.0018 - reg_l2_loss: 0.0632 - loss: 0.3196 - learning_rate: 0.0086 - gradient_norm: 2.0444 - val_det_loss: 0.3524 - val_cls_loss: 0.2122 - val_box_loss: 0.0028 - val_reg_l2_loss: 0.0632 - val_loss: 0.4156\n",
            "Epoch 20/50\n",
            "11/11 [==============================] - 7s 624ms/step - det_loss: 0.2547 - cls_loss: 0.1599 - box_loss: 0.0019 - reg_l2_loss: 0.0632 - loss: 0.3180 - learning_rate: 0.0082 - gradient_norm: 2.3851 - val_det_loss: 0.2850 - val_cls_loss: 0.1644 - val_box_loss: 0.0024 - val_reg_l2_loss: 0.0632 - val_loss: 0.3483\n",
            "loading annotations into memory...\n",
            "Done (t=0.00s)\n",
            "creating index...\n",
            "index created!\n",
            "Loading and preparing results...\n",
            "Converting ndarray to lists...\n",
            "(3000, 7)\n",
            "0/3000\n",
            "DONE (t=0.02s)\n",
            "creating index...\n",
            "index created!\n",
            "Running per image evaluation...\n",
            "Evaluate annotation type *bbox*\n",
            "DONE (t=0.14s).\n",
            "Accumulating evaluation results...\n",
            "DONE (t=0.02s).\n",
            " Average Precision  (AP) @[ IoU=0.50:0.95 | area=   all | maxDets=100 ] = 0.661\n",
            " Average Precision  (AP) @[ IoU=0.50      | area=   all | maxDets=100 ] = 1.000\n",
            " Average Precision  (AP) @[ IoU=0.75      | area=   all | maxDets=100 ] = 0.826\n",
            " Average Precision  (AP) @[ IoU=0.50:0.95 | area= small | maxDets=100 ] = -1.000\n",
            " Average Precision  (AP) @[ IoU=0.50:0.95 | area=medium | maxDets=100 ] = -1.000\n",
            " Average Precision  (AP) @[ IoU=0.50:0.95 | area= large | maxDets=100 ] = 0.661\n",
            " Average Recall     (AR) @[ IoU=0.50:0.95 | area=   all | maxDets=  1 ] = 0.667\n",
            " Average Recall     (AR) @[ IoU=0.50:0.95 | area=   all | maxDets= 10 ] = 0.740\n",
            " Average Recall     (AR) @[ IoU=0.50:0.95 | area=   all | maxDets=100 ] = 0.747\n",
            " Average Recall     (AR) @[ IoU=0.50:0.95 | area= small | maxDets=100 ] = -1.000\n",
            " Average Recall     (AR) @[ IoU=0.50:0.95 | area=medium | maxDets=100 ] = -1.000\n",
            " Average Recall     (AR) @[ IoU=0.50:0.95 | area= large | maxDets=100 ] = 0.747\n",
            "Epoch 21/50\n",
            "11/11 [==============================] - 7s 615ms/step - det_loss: 0.2412 - cls_loss: 0.1464 - box_loss: 0.0019 - reg_l2_loss: 0.0632 - loss: 0.3044 - learning_rate: 0.0078 - gradient_norm: 1.9888 - val_det_loss: 0.2781 - val_cls_loss: 0.1665 - val_box_loss: 0.0022 - val_reg_l2_loss: 0.0632 - val_loss: 0.3414\n",
            "Epoch 22/50\n",
            "11/11 [==============================] - 7s 616ms/step - det_loss: 0.2425 - cls_loss: 0.1480 - box_loss: 0.0019 - reg_l2_loss: 0.0632 - loss: 0.3058 - learning_rate: 0.0074 - gradient_norm: 1.9637 - val_det_loss: 0.2575 - val_cls_loss: 0.1617 - val_box_loss: 0.0019 - val_reg_l2_loss: 0.0632 - val_loss: 0.3207\n",
            "Epoch 23/50\n",
            "11/11 [==============================] - 7s 614ms/step - det_loss: 0.2366 - cls_loss: 0.1530 - box_loss: 0.0017 - reg_l2_loss: 0.0632 - loss: 0.2999 - learning_rate: 0.0071 - gradient_norm: 1.9447 - val_det_loss: 0.2828 - val_cls_loss: 0.1643 - val_box_loss: 0.0024 - val_reg_l2_loss: 0.0632 - val_loss: 0.3460\n",
            "Epoch 24/50\n",
            "11/11 [==============================] - 7s 613ms/step - det_loss: 0.2286 - cls_loss: 0.1490 - box_loss: 0.0016 - reg_l2_loss: 0.0632 - loss: 0.2918 - learning_rate: 0.0067 - gradient_norm: 1.8783 - val_det_loss: 0.2443 - val_cls_loss: 0.1403 - val_box_loss: 0.0021 - val_reg_l2_loss: 0.0632 - val_loss: 0.3075\n",
            "Epoch 25/50\n",
            "11/11 [==============================] - 6s 601ms/step - det_loss: 0.2171 - cls_loss: 0.1424 - box_loss: 0.0015 - reg_l2_loss: 0.0632 - loss: 0.2804 - learning_rate: 0.0063 - gradient_norm: 1.9066 - val_det_loss: 0.2473 - val_cls_loss: 0.1398 - val_box_loss: 0.0022 - val_reg_l2_loss: 0.0632 - val_loss: 0.3105\n",
            "loading annotations into memory...\n",
            "Done (t=0.00s)\n",
            "creating index...\n",
            "index created!\n",
            "Loading and preparing results...\n",
            "Converting ndarray to lists...\n",
            "(3000, 7)\n",
            "0/3000\n",
            "DONE (t=0.02s)\n",
            "creating index...\n",
            "index created!\n",
            "Running per image evaluation...\n",
            "Evaluate annotation type *bbox*\n",
            "DONE (t=0.13s).\n",
            "Accumulating evaluation results...\n",
            "DONE (t=0.02s).\n",
            " Average Precision  (AP) @[ IoU=0.50:0.95 | area=   all | maxDets=100 ] = 0.650\n",
            " Average Precision  (AP) @[ IoU=0.50      | area=   all | maxDets=100 ] = 1.000\n",
            " Average Precision  (AP) @[ IoU=0.75      | area=   all | maxDets=100 ] = 0.770\n",
            " Average Precision  (AP) @[ IoU=0.50:0.95 | area= small | maxDets=100 ] = -1.000\n",
            " Average Precision  (AP) @[ IoU=0.50:0.95 | area=medium | maxDets=100 ] = -1.000\n",
            " Average Precision  (AP) @[ IoU=0.50:0.95 | area= large | maxDets=100 ] = 0.650\n",
            " Average Recall     (AR) @[ IoU=0.50:0.95 | area=   all | maxDets=  1 ] = 0.667\n",
            " Average Recall     (AR) @[ IoU=0.50:0.95 | area=   all | maxDets= 10 ] = 0.760\n",
            " Average Recall     (AR) @[ IoU=0.50:0.95 | area=   all | maxDets=100 ] = 0.763\n",
            " Average Recall     (AR) @[ IoU=0.50:0.95 | area= small | maxDets=100 ] = -1.000\n",
            " Average Recall     (AR) @[ IoU=0.50:0.95 | area=medium | maxDets=100 ] = -1.000\n",
            " Average Recall     (AR) @[ IoU=0.50:0.95 | area= large | maxDets=100 ] = 0.763\n",
            "Epoch 26/50\n",
            "11/11 [==============================] - 7s 615ms/step - det_loss: 0.2236 - cls_loss: 0.1449 - box_loss: 0.0016 - reg_l2_loss: 0.0632 - loss: 0.2868 - learning_rate: 0.0059 - gradient_norm: 2.0028 - val_det_loss: 0.2286 - val_cls_loss: 0.1439 - val_box_loss: 0.0017 - val_reg_l2_loss: 0.0632 - val_loss: 0.2919\n",
            "Epoch 27/50\n",
            "11/11 [==============================] - 7s 613ms/step - det_loss: 0.2013 - cls_loss: 0.1274 - box_loss: 0.0015 - reg_l2_loss: 0.0632 - loss: 0.2646 - learning_rate: 0.0055 - gradient_norm: 1.9238 - val_det_loss: 0.2121 - val_cls_loss: 0.1257 - val_box_loss: 0.0017 - val_reg_l2_loss: 0.0632 - val_loss: 0.2753\n",
            "Epoch 28/50\n",
            "11/11 [==============================] - 7s 613ms/step - det_loss: 0.1937 - cls_loss: 0.1263 - box_loss: 0.0013 - reg_l2_loss: 0.0632 - loss: 0.2570 - learning_rate: 0.0051 - gradient_norm: 1.6948 - val_det_loss: 0.2317 - val_cls_loss: 0.1363 - val_box_loss: 0.0019 - val_reg_l2_loss: 0.0632 - val_loss: 0.2950\n",
            "Epoch 29/50\n",
            "11/11 [==============================] - 7s 614ms/step - det_loss: 0.2049 - cls_loss: 0.1366 - box_loss: 0.0014 - reg_l2_loss: 0.0632 - loss: 0.2682 - learning_rate: 0.0047 - gradient_norm: 2.0071 - val_det_loss: 0.2231 - val_cls_loss: 0.1385 - val_box_loss: 0.0017 - val_reg_l2_loss: 0.0632 - val_loss: 0.2863\n",
            "Epoch 30/50\n",
            "11/11 [==============================] - 7s 615ms/step - det_loss: 0.2015 - cls_loss: 0.1359 - box_loss: 0.0013 - reg_l2_loss: 0.0632 - loss: 0.2648 - learning_rate: 0.0043 - gradient_norm: 1.7530 - val_det_loss: 0.1954 - val_cls_loss: 0.1249 - val_box_loss: 0.0014 - val_reg_l2_loss: 0.0632 - val_loss: 0.2587\n",
            "loading annotations into memory...\n",
            "Done (t=0.00s)\n",
            "creating index...\n",
            "index created!\n",
            "Loading and preparing results...\n",
            "Converting ndarray to lists...\n",
            "(3000, 7)\n",
            "0/3000\n",
            "DONE (t=0.02s)\n",
            "creating index...\n",
            "index created!\n",
            "Running per image evaluation...\n",
            "Evaluate annotation type *bbox*\n",
            "DONE (t=0.16s).\n",
            "Accumulating evaluation results...\n",
            "DONE (t=0.03s).\n",
            " Average Precision  (AP) @[ IoU=0.50:0.95 | area=   all | maxDets=100 ] = 0.694\n",
            " Average Precision  (AP) @[ IoU=0.50      | area=   all | maxDets=100 ] = 1.000\n",
            " Average Precision  (AP) @[ IoU=0.75      | area=   all | maxDets=100 ] = 0.887\n",
            " Average Precision  (AP) @[ IoU=0.50:0.95 | area= small | maxDets=100 ] = -1.000\n",
            " Average Precision  (AP) @[ IoU=0.50:0.95 | area=medium | maxDets=100 ] = -1.000\n",
            " Average Precision  (AP) @[ IoU=0.50:0.95 | area= large | maxDets=100 ] = 0.694\n",
            " Average Recall     (AR) @[ IoU=0.50:0.95 | area=   all | maxDets=  1 ] = 0.717\n",
            " Average Recall     (AR) @[ IoU=0.50:0.95 | area=   all | maxDets= 10 ] = 0.770\n",
            " Average Recall     (AR) @[ IoU=0.50:0.95 | area=   all | maxDets=100 ] = 0.773\n",
            " Average Recall     (AR) @[ IoU=0.50:0.95 | area= small | maxDets=100 ] = -1.000\n",
            " Average Recall     (AR) @[ IoU=0.50:0.95 | area=medium | maxDets=100 ] = -1.000\n",
            " Average Recall     (AR) @[ IoU=0.50:0.95 | area= large | maxDets=100 ] = 0.773\n",
            "Epoch 31/50\n",
            "11/11 [==============================] - 7s 606ms/step - det_loss: 0.1838 - cls_loss: 0.1223 - box_loss: 0.0012 - reg_l2_loss: 0.0632 - loss: 0.2470 - learning_rate: 0.0039 - gradient_norm: 1.5752 - val_det_loss: 0.1917 - val_cls_loss: 0.1254 - val_box_loss: 0.0013 - val_reg_l2_loss: 0.0632 - val_loss: 0.2550\n",
            "Epoch 32/50\n",
            "11/11 [==============================] - 7s 619ms/step - det_loss: 0.1913 - cls_loss: 0.1260 - box_loss: 0.0013 - reg_l2_loss: 0.0632 - loss: 0.2545 - learning_rate: 0.0035 - gradient_norm: 2.2807 - val_det_loss: 0.1883 - val_cls_loss: 0.1317 - val_box_loss: 0.0011 - val_reg_l2_loss: 0.0632 - val_loss: 0.2516\n",
            "Epoch 33/50\n",
            "11/11 [==============================] - 7s 630ms/step - det_loss: 0.1852 - cls_loss: 0.1240 - box_loss: 0.0012 - reg_l2_loss: 0.0632 - loss: 0.2484 - learning_rate: 0.0032 - gradient_norm: 1.6918 - val_det_loss: 0.1977 - val_cls_loss: 0.1217 - val_box_loss: 0.0015 - val_reg_l2_loss: 0.0632 - val_loss: 0.2609\n",
            "Epoch 34/50\n",
            "11/11 [==============================] - 7s 625ms/step - det_loss: 0.1984 - cls_loss: 0.1316 - box_loss: 0.0013 - reg_l2_loss: 0.0632 - loss: 0.2617 - learning_rate: 0.0028 - gradient_norm: 1.7252 - val_det_loss: 0.1861 - val_cls_loss: 0.1278 - val_box_loss: 0.0012 - val_reg_l2_loss: 0.0632 - val_loss: 0.2494\n",
            "Epoch 35/50\n",
            "11/11 [==============================] - 7s 624ms/step - det_loss: 0.1668 - cls_loss: 0.1164 - box_loss: 0.0010 - reg_l2_loss: 0.0632 - loss: 0.2301 - learning_rate: 0.0025 - gradient_norm: 1.3713 - val_det_loss: 0.1979 - val_cls_loss: 0.1243 - val_box_loss: 0.0015 - val_reg_l2_loss: 0.0632 - val_loss: 0.2612\n",
            "loading annotations into memory...\n",
            "Done (t=0.00s)\n",
            "creating index...\n",
            "index created!\n",
            "Loading and preparing results...\n",
            "Converting ndarray to lists...\n",
            "(3000, 7)\n",
            "0/3000\n",
            "DONE (t=0.01s)\n",
            "creating index...\n",
            "index created!\n",
            "Running per image evaluation...\n",
            "Evaluate annotation type *bbox*\n",
            "DONE (t=0.14s).\n",
            "Accumulating evaluation results...\n",
            "DONE (t=0.02s).\n",
            " Average Precision  (AP) @[ IoU=0.50:0.95 | area=   all | maxDets=100 ] = 0.690\n",
            " Average Precision  (AP) @[ IoU=0.50      | area=   all | maxDets=100 ] = 1.000\n",
            " Average Precision  (AP) @[ IoU=0.75      | area=   all | maxDets=100 ] = 0.930\n",
            " Average Precision  (AP) @[ IoU=0.50:0.95 | area= small | maxDets=100 ] = -1.000\n",
            " Average Precision  (AP) @[ IoU=0.50:0.95 | area=medium | maxDets=100 ] = -1.000\n",
            " Average Precision  (AP) @[ IoU=0.50:0.95 | area= large | maxDets=100 ] = 0.690\n",
            " Average Recall     (AR) @[ IoU=0.50:0.95 | area=   all | maxDets=  1 ] = 0.717\n",
            " Average Recall     (AR) @[ IoU=0.50:0.95 | area=   all | maxDets= 10 ] = 0.803\n",
            " Average Recall     (AR) @[ IoU=0.50:0.95 | area=   all | maxDets=100 ] = 0.807\n",
            " Average Recall     (AR) @[ IoU=0.50:0.95 | area= small | maxDets=100 ] = -1.000\n",
            " Average Recall     (AR) @[ IoU=0.50:0.95 | area=medium | maxDets=100 ] = -1.000\n",
            " Average Recall     (AR) @[ IoU=0.50:0.95 | area= large | maxDets=100 ] = 0.807\n",
            "Epoch 36/50\n",
            "11/11 [==============================] - 7s 623ms/step - det_loss: 0.1743 - cls_loss: 0.1194 - box_loss: 0.0011 - reg_l2_loss: 0.0632 - loss: 0.2376 - learning_rate: 0.0022 - gradient_norm: 1.6584 - val_det_loss: 0.1735 - val_cls_loss: 0.1197 - val_box_loss: 0.0011 - val_reg_l2_loss: 0.0632 - val_loss: 0.2367\n",
            "Epoch 37/50\n",
            "11/11 [==============================] - 7s 621ms/step - det_loss: 0.1857 - cls_loss: 0.1274 - box_loss: 0.0012 - reg_l2_loss: 0.0632 - loss: 0.2490 - learning_rate: 0.0019 - gradient_norm: 1.7397 - val_det_loss: 0.1727 - val_cls_loss: 0.1175 - val_box_loss: 0.0011 - val_reg_l2_loss: 0.0632 - val_loss: 0.2360\n",
            "Epoch 38/50\n",
            "11/11 [==============================] - 7s 614ms/step - det_loss: 0.1703 - cls_loss: 0.1198 - box_loss: 0.0010 - reg_l2_loss: 0.0632 - loss: 0.2335 - learning_rate: 0.0016 - gradient_norm: 1.5181 - val_det_loss: 0.1704 - val_cls_loss: 0.1171 - val_box_loss: 0.0011 - val_reg_l2_loss: 0.0632 - val_loss: 0.2337\n",
            "Epoch 39/50\n",
            "11/11 [==============================] - 7s 623ms/step - det_loss: 0.1839 - cls_loss: 0.1264 - box_loss: 0.0012 - reg_l2_loss: 0.0632 - loss: 0.2472 - learning_rate: 0.0014 - gradient_norm: 1.5617 - val_det_loss: 0.1695 - val_cls_loss: 0.1175 - val_box_loss: 0.0010 - val_reg_l2_loss: 0.0632 - val_loss: 0.2327\n",
            "Epoch 40/50\n",
            "11/11 [==============================] - 7s 621ms/step - det_loss: 0.1677 - cls_loss: 0.1162 - box_loss: 0.0010 - reg_l2_loss: 0.0632 - loss: 0.2309 - learning_rate: 0.0011 - gradient_norm: 1.3763 - val_det_loss: 0.1646 - val_cls_loss: 0.1160 - val_box_loss: 9.7333e-04 - val_reg_l2_loss: 0.0632 - val_loss: 0.2279\n",
            "loading annotations into memory...\n",
            "Done (t=0.00s)\n",
            "creating index...\n",
            "index created!\n",
            "Loading and preparing results...\n",
            "Converting ndarray to lists...\n",
            "(3000, 7)\n",
            "0/3000\n",
            "DONE (t=0.01s)\n",
            "creating index...\n",
            "index created!\n",
            "Running per image evaluation...\n",
            "Evaluate annotation type *bbox*\n",
            "DONE (t=0.14s).\n",
            "Accumulating evaluation results...\n",
            "DONE (t=0.02s).\n",
            " Average Precision  (AP) @[ IoU=0.50:0.95 | area=   all | maxDets=100 ] = 0.750\n",
            " Average Precision  (AP) @[ IoU=0.50      | area=   all | maxDets=100 ] = 1.000\n",
            " Average Precision  (AP) @[ IoU=0.75      | area=   all | maxDets=100 ] = 0.933\n",
            " Average Precision  (AP) @[ IoU=0.50:0.95 | area= small | maxDets=100 ] = -1.000\n",
            " Average Precision  (AP) @[ IoU=0.50:0.95 | area=medium | maxDets=100 ] = -1.000\n",
            " Average Precision  (AP) @[ IoU=0.50:0.95 | area= large | maxDets=100 ] = 0.750\n",
            " Average Recall     (AR) @[ IoU=0.50:0.95 | area=   all | maxDets=  1 ] = 0.763\n",
            " Average Recall     (AR) @[ IoU=0.50:0.95 | area=   all | maxDets= 10 ] = 0.817\n",
            " Average Recall     (AR) @[ IoU=0.50:0.95 | area=   all | maxDets=100 ] = 0.833\n",
            " Average Recall     (AR) @[ IoU=0.50:0.95 | area= small | maxDets=100 ] = -1.000\n",
            " Average Recall     (AR) @[ IoU=0.50:0.95 | area=medium | maxDets=100 ] = -1.000\n",
            " Average Recall     (AR) @[ IoU=0.50:0.95 | area= large | maxDets=100 ] = 0.833\n",
            "Epoch 41/50\n",
            "11/11 [==============================] - 7s 604ms/step - det_loss: 0.1798 - cls_loss: 0.1245 - box_loss: 0.0011 - reg_l2_loss: 0.0632 - loss: 0.2430 - learning_rate: 9.0794e-04 - gradient_norm: 1.8241 - val_det_loss: 0.1678 - val_cls_loss: 0.1158 - val_box_loss: 0.0010 - val_reg_l2_loss: 0.0632 - val_loss: 0.2310\n",
            "Epoch 42/50\n",
            "11/11 [==============================] - 7s 613ms/step - det_loss: 0.1732 - cls_loss: 0.1191 - box_loss: 0.0011 - reg_l2_loss: 0.0632 - loss: 0.2364 - learning_rate: 7.1120e-04 - gradient_norm: 1.4397 - val_det_loss: 0.1641 - val_cls_loss: 0.1151 - val_box_loss: 9.8038e-04 - val_reg_l2_loss: 0.0632 - val_loss: 0.2273\n",
            "Epoch 43/50\n",
            "11/11 [==============================] - 7s 606ms/step - det_loss: 0.1692 - cls_loss: 0.1147 - box_loss: 0.0011 - reg_l2_loss: 0.0632 - loss: 0.2324 - learning_rate: 5.3723e-04 - gradient_norm: 1.6045 - val_det_loss: 0.1621 - val_cls_loss: 0.1138 - val_box_loss: 9.6595e-04 - val_reg_l2_loss: 0.0632 - val_loss: 0.2253\n",
            "Epoch 44/50\n",
            "11/11 [==============================] - 7s 618ms/step - det_loss: 0.1689 - cls_loss: 0.1171 - box_loss: 0.0010 - reg_l2_loss: 0.0632 - loss: 0.2321 - learning_rate: 3.8672e-04 - gradient_norm: 1.4708 - val_det_loss: 0.1616 - val_cls_loss: 0.1133 - val_box_loss: 9.6567e-04 - val_reg_l2_loss: 0.0632 - val_loss: 0.2248\n",
            "Epoch 45/50\n",
            "11/11 [==============================] - 7s 614ms/step - det_loss: 0.1846 - cls_loss: 0.1301 - box_loss: 0.0011 - reg_l2_loss: 0.0632 - loss: 0.2479 - learning_rate: 2.6032e-04 - gradient_norm: 1.6650 - val_det_loss: 0.1613 - val_cls_loss: 0.1129 - val_box_loss: 9.6758e-04 - val_reg_l2_loss: 0.0632 - val_loss: 0.2246\n",
            "loading annotations into memory...\n",
            "Done (t=0.00s)\n",
            "creating index...\n",
            "index created!\n",
            "Loading and preparing results...\n",
            "Converting ndarray to lists...\n",
            "(3000, 7)\n",
            "0/3000\n",
            "DONE (t=0.02s)\n",
            "creating index...\n",
            "index created!\n",
            "Running per image evaluation...\n",
            "Evaluate annotation type *bbox*\n",
            "DONE (t=0.13s).\n",
            "Accumulating evaluation results...\n",
            "DONE (t=0.02s).\n",
            " Average Precision  (AP) @[ IoU=0.50:0.95 | area=   all | maxDets=100 ] = 0.764\n",
            " Average Precision  (AP) @[ IoU=0.50      | area=   all | maxDets=100 ] = 1.000\n",
            " Average Precision  (AP) @[ IoU=0.75      | area=   all | maxDets=100 ] = 0.931\n",
            " Average Precision  (AP) @[ IoU=0.50:0.95 | area= small | maxDets=100 ] = -1.000\n",
            " Average Precision  (AP) @[ IoU=0.50:0.95 | area=medium | maxDets=100 ] = -1.000\n",
            " Average Precision  (AP) @[ IoU=0.50:0.95 | area= large | maxDets=100 ] = 0.764\n",
            " Average Recall     (AR) @[ IoU=0.50:0.95 | area=   all | maxDets=  1 ] = 0.780\n",
            " Average Recall     (AR) @[ IoU=0.50:0.95 | area=   all | maxDets= 10 ] = 0.827\n",
            " Average Recall     (AR) @[ IoU=0.50:0.95 | area=   all | maxDets=100 ] = 0.827\n",
            " Average Recall     (AR) @[ IoU=0.50:0.95 | area= small | maxDets=100 ] = -1.000\n",
            " Average Recall     (AR) @[ IoU=0.50:0.95 | area=medium | maxDets=100 ] = -1.000\n",
            " Average Recall     (AR) @[ IoU=0.50:0.95 | area= large | maxDets=100 ] = 0.827\n",
            "Epoch 46/50\n",
            "11/11 [==============================] - 7s 619ms/step - det_loss: 0.1787 - cls_loss: 0.1233 - box_loss: 0.0011 - reg_l2_loss: 0.0632 - loss: 0.2419 - learning_rate: 1.5852e-04 - gradient_norm: 1.5702 - val_det_loss: 0.1604 - val_cls_loss: 0.1127 - val_box_loss: 9.5393e-04 - val_reg_l2_loss: 0.0632 - val_loss: 0.2236\n",
            "Epoch 47/50\n",
            "11/11 [==============================] - 6s 604ms/step - det_loss: 0.1704 - cls_loss: 0.1172 - box_loss: 0.0011 - reg_l2_loss: 0.0632 - loss: 0.2337 - learning_rate: 8.1760e-05 - gradient_norm: 1.5542 - val_det_loss: 0.1609 - val_cls_loss: 0.1127 - val_box_loss: 9.6360e-04 - val_reg_l2_loss: 0.0632 - val_loss: 0.2242\n",
            "Epoch 48/50\n",
            "11/11 [==============================] - 7s 616ms/step - det_loss: 0.1831 - cls_loss: 0.1226 - box_loss: 0.0012 - reg_l2_loss: 0.0632 - loss: 0.2464 - learning_rate: 3.0343e-05 - gradient_norm: 1.7196 - val_det_loss: 0.1612 - val_cls_loss: 0.1128 - val_box_loss: 9.6920e-04 - val_reg_l2_loss: 0.0632 - val_loss: 0.2245\n",
            "Epoch 49/50\n",
            "11/11 [==============================] - 7s 610ms/step - det_loss: 0.1630 - cls_loss: 0.1142 - box_loss: 9.7576e-04 - reg_l2_loss: 0.0632 - loss: 0.2262 - learning_rate: 4.4843e-06 - gradient_norm: 1.4243 - val_det_loss: 0.1619 - val_cls_loss: 0.1129 - val_box_loss: 9.7986e-04 - val_reg_l2_loss: 0.0632 - val_loss: 0.2251\n",
            "Epoch 50/50\n",
            "11/11 [==============================] - 7s 618ms/step - det_loss: 0.1680 - cls_loss: 0.1172 - box_loss: 0.0010 - reg_l2_loss: 0.0632 - loss: 0.2312 - learning_rate: 4.2899e-06 - gradient_norm: 1.4764 - val_det_loss: 0.1624 - val_cls_loss: 0.1130 - val_box_loss: 9.8711e-04 - val_reg_l2_loss: 0.0632 - val_loss: 0.2256\n",
            "loading annotations into memory...\n",
            "Done (t=0.00s)\n",
            "creating index...\n",
            "index created!\n",
            "Loading and preparing results...\n",
            "Converting ndarray to lists...\n",
            "(3000, 7)\n",
            "0/3000\n",
            "DONE (t=0.01s)\n",
            "creating index...\n",
            "index created!\n",
            "Running per image evaluation...\n",
            "Evaluate annotation type *bbox*\n",
            "DONE (t=0.13s).\n",
            "Accumulating evaluation results...\n",
            "DONE (t=0.02s).\n",
            " Average Precision  (AP) @[ IoU=0.50:0.95 | area=   all | maxDets=100 ] = 0.766\n",
            " Average Precision  (AP) @[ IoU=0.50      | area=   all | maxDets=100 ] = 1.000\n",
            " Average Precision  (AP) @[ IoU=0.75      | area=   all | maxDets=100 ] = 0.930\n",
            " Average Precision  (AP) @[ IoU=0.50:0.95 | area= small | maxDets=100 ] = -1.000\n",
            " Average Precision  (AP) @[ IoU=0.50:0.95 | area=medium | maxDets=100 ] = -1.000\n",
            " Average Precision  (AP) @[ IoU=0.50:0.95 | area= large | maxDets=100 ] = 0.766\n",
            " Average Recall     (AR) @[ IoU=0.50:0.95 | area=   all | maxDets=  1 ] = 0.783\n",
            " Average Recall     (AR) @[ IoU=0.50:0.95 | area=   all | maxDets= 10 ] = 0.837\n",
            " Average Recall     (AR) @[ IoU=0.50:0.95 | area=   all | maxDets=100 ] = 0.837\n",
            " Average Recall     (AR) @[ IoU=0.50:0.95 | area= small | maxDets=100 ] = -1.000\n",
            " Average Recall     (AR) @[ IoU=0.50:0.95 | area=medium | maxDets=100 ] = -1.000\n",
            " Average Recall     (AR) @[ IoU=0.50:0.95 | area= large | maxDets=100 ] = 0.837\n"
          ],
          "name": "stdout"
        }
      ]
    },
    {
      "cell_type": "code",
      "metadata": {
        "colab": {
          "base_uri": "https://localhost:8080/"
        },
        "id": "XDjjS7KjrnBJ",
        "outputId": "752f9d75-30e9-418b-9061-40c6fc83097a"
      },
      "source": [
        "model.evaluate(train_data)"
      ],
      "execution_count": null,
      "outputs": [
        {
          "output_type": "stream",
          "text": [
            "2/2 [==============================] - 21s 9s/step\n",
            "\n",
            "loading annotations into memory...\n",
            "Done (t=0.00s)\n",
            "creating index...\n",
            "index created!\n",
            "Loading and preparing results...\n",
            "Converting ndarray to lists...\n",
            "(11700, 7)\n",
            "0/11700\n",
            "DONE (t=0.05s)\n",
            "creating index...\n",
            "index created!\n",
            "Running per image evaluation...\n",
            "Evaluate annotation type *bbox*\n",
            "DONE (t=0.54s).\n",
            "Accumulating evaluation results...\n",
            "DONE (t=0.05s).\n",
            " Average Precision  (AP) @[ IoU=0.50:0.95 | area=   all | maxDets=100 ] = 0.852\n",
            " Average Precision  (AP) @[ IoU=0.50      | area=   all | maxDets=100 ] = 1.000\n",
            " Average Precision  (AP) @[ IoU=0.75      | area=   all | maxDets=100 ] = 1.000\n",
            " Average Precision  (AP) @[ IoU=0.50:0.95 | area= small | maxDets=100 ] = -1.000\n",
            " Average Precision  (AP) @[ IoU=0.50:0.95 | area=medium | maxDets=100 ] = -1.000\n",
            " Average Precision  (AP) @[ IoU=0.50:0.95 | area= large | maxDets=100 ] = 0.852\n",
            " Average Recall     (AR) @[ IoU=0.50:0.95 | area=   all | maxDets=  1 ] = 0.869\n",
            " Average Recall     (AR) @[ IoU=0.50:0.95 | area=   all | maxDets= 10 ] = 0.894\n",
            " Average Recall     (AR) @[ IoU=0.50:0.95 | area=   all | maxDets=100 ] = 0.897\n",
            " Average Recall     (AR) @[ IoU=0.50:0.95 | area= small | maxDets=100 ] = -1.000\n",
            " Average Recall     (AR) @[ IoU=0.50:0.95 | area=medium | maxDets=100 ] = -1.000\n",
            " Average Recall     (AR) @[ IoU=0.50:0.95 | area= large | maxDets=100 ] = 0.897\n"
          ],
          "name": "stdout"
        },
        {
          "output_type": "execute_result",
          "data": {
            "text/plain": [
              "{'AP': 0.85182446,\n",
              " 'AP50': 1.0,\n",
              " 'AP75': 1.0,\n",
              " 'AP_/megot': 0.85182446,\n",
              " 'APl': 0.851936,\n",
              " 'APm': -1.0,\n",
              " 'APs': -1.0,\n",
              " 'ARl': 0.8965812,\n",
              " 'ARm': -1.0,\n",
              " 'ARmax1': 0.86923075,\n",
              " 'ARmax10': 0.8940171,\n",
              " 'ARmax100': 0.8965812,\n",
              " 'ARs': -1.0}"
            ]
          },
          "metadata": {},
          "execution_count": 22
        }
      ]
    },
    {
      "cell_type": "code",
      "metadata": {
        "colab": {
          "base_uri": "https://localhost:8080/"
        },
        "id": "iW2xyGqbSTVx",
        "outputId": "136b4c28-af8d-42b5-b174-c2418614bf48"
      },
      "source": [
        "model.evaluate(valid_data)"
      ],
      "execution_count": null,
      "outputs": [
        {
          "output_type": "stream",
          "text": [
            "\r1/1 [==============================] - 8s 8s/step\n",
            "\n",
            "loading annotations into memory...\n",
            "Done (t=0.00s)\n",
            "creating index...\n",
            "index created!\n",
            "Loading and preparing results...\n",
            "Converting ndarray to lists...\n",
            "(3000, 7)\n",
            "0/3000\n",
            "DONE (t=0.01s)\n",
            "creating index...\n",
            "index created!\n",
            "Running per image evaluation...\n",
            "Evaluate annotation type *bbox*\n",
            "DONE (t=0.13s).\n",
            "Accumulating evaluation results...\n",
            "DONE (t=0.02s).\n",
            " Average Precision  (AP) @[ IoU=0.50:0.95 | area=   all | maxDets=100 ] = 0.766\n",
            " Average Precision  (AP) @[ IoU=0.50      | area=   all | maxDets=100 ] = 1.000\n",
            " Average Precision  (AP) @[ IoU=0.75      | area=   all | maxDets=100 ] = 0.930\n",
            " Average Precision  (AP) @[ IoU=0.50:0.95 | area= small | maxDets=100 ] = -1.000\n",
            " Average Precision  (AP) @[ IoU=0.50:0.95 | area=medium | maxDets=100 ] = -1.000\n",
            " Average Precision  (AP) @[ IoU=0.50:0.95 | area= large | maxDets=100 ] = 0.766\n",
            " Average Recall     (AR) @[ IoU=0.50:0.95 | area=   all | maxDets=  1 ] = 0.783\n",
            " Average Recall     (AR) @[ IoU=0.50:0.95 | area=   all | maxDets= 10 ] = 0.837\n",
            " Average Recall     (AR) @[ IoU=0.50:0.95 | area=   all | maxDets=100 ] = 0.837\n",
            " Average Recall     (AR) @[ IoU=0.50:0.95 | area= small | maxDets=100 ] = -1.000\n",
            " Average Recall     (AR) @[ IoU=0.50:0.95 | area=medium | maxDets=100 ] = -1.000\n",
            " Average Recall     (AR) @[ IoU=0.50:0.95 | area= large | maxDets=100 ] = 0.837\n"
          ],
          "name": "stdout"
        },
        {
          "output_type": "execute_result",
          "data": {
            "text/plain": [
              "{'AP': 0.7656801,\n",
              " 'AP50': 1.0,\n",
              " 'AP75': 0.92973596,\n",
              " 'AP_/megot': 0.7656801,\n",
              " 'APl': 0.76598155,\n",
              " 'APm': -1.0,\n",
              " 'APs': -1.0,\n",
              " 'ARl': 0.83666664,\n",
              " 'ARm': -1.0,\n",
              " 'ARmax1': 0.78333336,\n",
              " 'ARmax10': 0.83666664,\n",
              " 'ARmax100': 0.83666664,\n",
              " 'ARs': -1.0}"
            ]
          },
          "metadata": {},
          "execution_count": 23
        }
      ]
    },
    {
      "cell_type": "code",
      "metadata": {
        "id": "-b71KikySnEZ"
      },
      "source": [
        "from tflite_model_maker.config import ExportFormat"
      ],
      "execution_count": null,
      "outputs": []
    },
    {
      "cell_type": "code",
      "metadata": {
        "colab": {
          "base_uri": "https://localhost:8080/"
        },
        "id": "REu7Or_XESoR",
        "outputId": "ae1918a9-a753-48bf-9d1f-eca32831fa85"
      },
      "source": [
        "model.export(export_dir='.',\n",
        "             tflite_filename='efficientdet-lite-bfc.tflite',\n",
        "             label_filename='bfc-labels.txt',\n",
        "             export_format=[ExportFormat.TFLITE, ExportFormat.LABEL])"
      ],
      "execution_count": null,
      "outputs": [
        {
          "output_type": "stream",
          "text": [
            "WARNING:tensorflow:Skipping full serialization of Keras layer <tensorflow_examples.lite.model_maker.core.task.model_spec.object_detector_spec.ExportModel object at 0x7f5f81a03cd0>, because it is not built.\n"
          ],
          "name": "stdout"
        },
        {
          "output_type": "stream",
          "text": [
            "WARNING:tensorflow:Skipping full serialization of Keras layer <tensorflow_examples.lite.model_maker.core.task.model_spec.object_detector_spec.ExportModel object at 0x7f5f81a03cd0>, because it is not built.\n",
            "WARNING:absl:Found untraced functions such as restored_function_body, restored_function_body, restored_function_body, restored_function_body, restored_function_body while saving (showing 5 of 1520). These functions will not be directly callable after loading.\n"
          ],
          "name": "stderr"
        },
        {
          "output_type": "stream",
          "text": [
            "INFO:tensorflow:Assets written to: /tmp/tmpgxz7htyz/assets\n"
          ],
          "name": "stdout"
        },
        {
          "output_type": "stream",
          "text": [
            "INFO:tensorflow:Assets written to: /tmp/tmpgxz7htyz/assets\n",
            "WARNING:absl:For model inputs containing unsupported operations which cannot be quantized, the `inference_input_type` attribute will default to the original type.\n"
          ],
          "name": "stderr"
        },
        {
          "output_type": "stream",
          "text": [
            "INFO:tensorflow:Label file is inside the TFLite model with metadata.\n"
          ],
          "name": "stdout"
        },
        {
          "output_type": "stream",
          "text": [
            "INFO:tensorflow:Label file is inside the TFLite model with metadata.\n"
          ],
          "name": "stderr"
        },
        {
          "output_type": "stream",
          "text": [
            "INFO:tensorflow:Saving labels in /tmp/tmp0dsmxxn5/labelmap.txt.\n"
          ],
          "name": "stdout"
        },
        {
          "output_type": "stream",
          "text": [
            "INFO:tensorflow:Saving labels in /tmp/tmp0dsmxxn5/labelmap.txt.\n"
          ],
          "name": "stderr"
        },
        {
          "output_type": "stream",
          "text": [
            "INFO:tensorflow:Finished populating metadata and associated file to the model:\n"
          ],
          "name": "stdout"
        },
        {
          "output_type": "stream",
          "text": [
            "INFO:tensorflow:Finished populating metadata and associated file to the model:\n"
          ],
          "name": "stderr"
        },
        {
          "output_type": "stream",
          "text": [
            "INFO:tensorflow:./efficientdet-lite-bfc.tflite\n"
          ],
          "name": "stdout"
        },
        {
          "output_type": "stream",
          "text": [
            "INFO:tensorflow:./efficientdet-lite-bfc.tflite\n"
          ],
          "name": "stderr"
        },
        {
          "output_type": "stream",
          "text": [
            "INFO:tensorflow:The associated file that has been been packed to the model is:\n"
          ],
          "name": "stdout"
        },
        {
          "output_type": "stream",
          "text": [
            "INFO:tensorflow:The associated file that has been been packed to the model is:\n"
          ],
          "name": "stderr"
        },
        {
          "output_type": "stream",
          "text": [
            "INFO:tensorflow:['labelmap.txt']\n"
          ],
          "name": "stdout"
        },
        {
          "output_type": "stream",
          "text": [
            "INFO:tensorflow:['labelmap.txt']\n"
          ],
          "name": "stderr"
        },
        {
          "output_type": "stream",
          "text": [
            "INFO:tensorflow:TensorFlow Lite model exported successfully: ./efficientdet-lite-bfc.tflite\n"
          ],
          "name": "stdout"
        },
        {
          "output_type": "stream",
          "text": [
            "INFO:tensorflow:TensorFlow Lite model exported successfully: ./efficientdet-lite-bfc.tflite\n"
          ],
          "name": "stderr"
        },
        {
          "output_type": "stream",
          "text": [
            "WARNING:tensorflow:Export a separated label file even though label file is already inside the TFLite model with metadata.\n"
          ],
          "name": "stdout"
        },
        {
          "output_type": "stream",
          "text": [
            "WARNING:tensorflow:Export a separated label file even though label file is already inside the TFLite model with metadata.\n"
          ],
          "name": "stderr"
        },
        {
          "output_type": "stream",
          "text": [
            "INFO:tensorflow:Saving labels in ./bfc-labels.txt.\n"
          ],
          "name": "stdout"
        },
        {
          "output_type": "stream",
          "text": [
            "INFO:tensorflow:Saving labels in ./bfc-labels.txt.\n"
          ],
          "name": "stderr"
        }
      ]
    },
    {
      "cell_type": "code",
      "metadata": {
        "id": "T3ESmHXqtmz_"
      },
      "source": [
        "model = "
      ],
      "execution_count": null,
      "outputs": []
    },
    {
      "cell_type": "code",
      "metadata": {
        "colab": {
          "base_uri": "https://localhost:8080/"
        },
        "id": "8rrgJn_7EWC-",
        "outputId": "00d48315-080f-4ae0-c5e6-28537936a9b7"
      },
      "source": [
        "model.evaluate_tflite('efficientdet-lite-bfc.tflite', train_data)"
      ],
      "execution_count": null,
      "outputs": [
        {
          "output_type": "stream",
          "text": [
            "117/117 [==============================] - 318s 3s/step\n",
            "\n",
            "loading annotations into memory...\n",
            "Done (t=0.00s)\n",
            "creating index...\n",
            "index created!\n",
            "Loading and preparing results...\n",
            "Converting ndarray to lists...\n",
            "(2925, 7)\n",
            "0/2925\n",
            "DONE (t=0.01s)\n",
            "creating index...\n",
            "index created!\n",
            "Running per image evaluation...\n",
            "Evaluate annotation type *bbox*\n",
            "DONE (t=0.29s).\n",
            "Accumulating evaluation results...\n",
            "DONE (t=0.03s).\n",
            " Average Precision  (AP) @[ IoU=0.50:0.95 | area=   all | maxDets=100 ] = 0.831\n",
            " Average Precision  (AP) @[ IoU=0.50      | area=   all | maxDets=100 ] = 1.000\n",
            " Average Precision  (AP) @[ IoU=0.75      | area=   all | maxDets=100 ] = 1.000\n",
            " Average Precision  (AP) @[ IoU=0.50:0.95 | area= small | maxDets=100 ] = -1.000\n",
            " Average Precision  (AP) @[ IoU=0.50:0.95 | area=medium | maxDets=100 ] = -1.000\n",
            " Average Precision  (AP) @[ IoU=0.50:0.95 | area= large | maxDets=100 ] = 0.831\n",
            " Average Recall     (AR) @[ IoU=0.50:0.95 | area=   all | maxDets=  1 ] = 0.863\n",
            " Average Recall     (AR) @[ IoU=0.50:0.95 | area=   all | maxDets= 10 ] = 0.863\n",
            " Average Recall     (AR) @[ IoU=0.50:0.95 | area=   all | maxDets=100 ] = 0.863\n",
            " Average Recall     (AR) @[ IoU=0.50:0.95 | area= small | maxDets=100 ] = -1.000\n",
            " Average Recall     (AR) @[ IoU=0.50:0.95 | area=medium | maxDets=100 ] = -1.000\n",
            " Average Recall     (AR) @[ IoU=0.50:0.95 | area= large | maxDets=100 ] = 0.863\n"
          ],
          "name": "stdout"
        },
        {
          "output_type": "execute_result",
          "data": {
            "text/plain": [
              "{'AP': 0.8311202,\n",
              " 'AP50': 1.0,\n",
              " 'AP75': 1.0,\n",
              " 'AP_/megot': 0.8311202,\n",
              " 'APl': 0.8311202,\n",
              " 'APm': -1.0,\n",
              " 'APs': -1.0,\n",
              " 'ARl': 0.8632479,\n",
              " 'ARm': -1.0,\n",
              " 'ARmax1': 0.8632479,\n",
              " 'ARmax10': 0.8632479,\n",
              " 'ARmax100': 0.8632479,\n",
              " 'ARs': -1.0}"
            ]
          },
          "metadata": {},
          "execution_count": 26
        }
      ]
    },
    {
      "cell_type": "code",
      "metadata": {
        "id": "Pp2fA2DLS3YW",
        "colab": {
          "base_uri": "https://localhost:8080/"
        },
        "outputId": "2130a68a-c4be-4ea0-9de6-7ffd826a8297"
      },
      "source": [
        "model.evaluate_tflite('efficientdet-lite-bfc.tflite', valid_data)"
      ],
      "execution_count": null,
      "outputs": [
        {
          "output_type": "stream",
          "text": [
            "30/30 [==============================] - 83s 3s/step\n",
            "\n",
            "loading annotations into memory...\n",
            "Done (t=0.00s)\n",
            "creating index...\n",
            "index created!\n",
            "Loading and preparing results...\n",
            "Converting ndarray to lists...\n",
            "(750, 7)\n",
            "0/750\n",
            "DONE (t=0.00s)\n",
            "creating index...\n",
            "index created!\n",
            "Running per image evaluation...\n",
            "Evaluate annotation type *bbox*\n",
            "DONE (t=0.08s).\n",
            "Accumulating evaluation results...\n",
            "DONE (t=0.01s).\n",
            " Average Precision  (AP) @[ IoU=0.50:0.95 | area=   all | maxDets=100 ] = 0.743\n",
            " Average Precision  (AP) @[ IoU=0.50      | area=   all | maxDets=100 ] = 1.000\n",
            " Average Precision  (AP) @[ IoU=0.75      | area=   all | maxDets=100 ] = 0.914\n",
            " Average Precision  (AP) @[ IoU=0.50:0.95 | area= small | maxDets=100 ] = -1.000\n",
            " Average Precision  (AP) @[ IoU=0.50:0.95 | area=medium | maxDets=100 ] = -1.000\n",
            " Average Precision  (AP) @[ IoU=0.50:0.95 | area= large | maxDets=100 ] = 0.743\n",
            " Average Recall     (AR) @[ IoU=0.50:0.95 | area=   all | maxDets=  1 ] = 0.780\n",
            " Average Recall     (AR) @[ IoU=0.50:0.95 | area=   all | maxDets= 10 ] = 0.780\n",
            " Average Recall     (AR) @[ IoU=0.50:0.95 | area=   all | maxDets=100 ] = 0.780\n",
            " Average Recall     (AR) @[ IoU=0.50:0.95 | area= small | maxDets=100 ] = -1.000\n",
            " Average Recall     (AR) @[ IoU=0.50:0.95 | area=medium | maxDets=100 ] = -1.000\n",
            " Average Recall     (AR) @[ IoU=0.50:0.95 | area= large | maxDets=100 ] = 0.780\n"
          ],
          "name": "stdout"
        },
        {
          "output_type": "execute_result",
          "data": {
            "text/plain": [
              "{'AP': 0.743105,\n",
              " 'AP50': 1.0,\n",
              " 'AP75': 0.91410893,\n",
              " 'AP_/megot': 0.743105,\n",
              " 'APl': 0.743105,\n",
              " 'APm': -1.0,\n",
              " 'APs': -1.0,\n",
              " 'ARl': 0.78,\n",
              " 'ARm': -1.0,\n",
              " 'ARmax1': 0.78,\n",
              " 'ARmax10': 0.78,\n",
              " 'ARmax100': 0.78,\n",
              " 'ARs': -1.0}"
            ]
          },
          "metadata": {},
          "execution_count": 27
        }
      ]
    },
    {
      "cell_type": "markdown",
      "metadata": {
        "id": "ncJ38Ww6phEu"
      },
      "source": [
        "# Inférence\n",
        "\n",
        "A partir d'ici, la librairie `tflite-model-maker` est inutile. On utilise nativement `tflite`.\n",
        "\n",
        "Le code suivant est une alternative à l'outillage proposé pour le Coral TPU, voir [ici](https://github.com/google-coral/tflite/tree/master/python/examples/detection)."
      ]
    },
    {
      "cell_type": "code",
      "metadata": {
        "id": "mI5LHxA8xPYx"
      },
      "source": [
        "import numpy as np\n",
        "import cv2\n",
        "\n",
        "from PIL import Image\n",
        "\n",
        "# Load the labels into a list\n",
        "classes = [\"megot\"]\n",
        "\n",
        "# Define a list of colors for visualization\n",
        "COLORS = np.random.randint(0, 255, size=(len(classes), 3), dtype=np.uint8)\n",
        "\n",
        "def preprocess_image(image_path, input_size):\n",
        "  \"\"\"Preprocess the input image to feed to the TFLite model\"\"\"\n",
        "  img = tf.io.read_file(image_path)\n",
        "  img = tf.io.decode_image(img, channels=3)\n",
        "  img = tf.image.convert_image_dtype(img, tf.uint8)\n",
        "  original_image = img\n",
        "  resized_img = tf.image.resize(img, input_size)\n",
        "  resized_img = resized_img[tf.newaxis, :]\n",
        "  return resized_img, original_image\n",
        "\n",
        "\n",
        "def set_input_tensor(interpreter, image):\n",
        "  \"\"\"Set the input tensor.\"\"\"\n",
        "  tensor_index = interpreter.get_input_details()[0]['index']\n",
        "  input_tensor = interpreter.tensor(tensor_index)()[0]\n",
        "  input_tensor[:, :] = image\n",
        "\n",
        "\n",
        "def get_output_tensor(interpreter, index):\n",
        "  \"\"\"Retur the output tensor at the given index.\"\"\"\n",
        "  output_details = interpreter.get_output_details()[index]\n",
        "  tensor = np.squeeze(interpreter.get_tensor(output_details['index']))\n",
        "  return tensor\n",
        "\n",
        "\n",
        "def detect_objects(interpreter, image, threshold):\n",
        "  \"\"\"Returns a list of detection results, each a dictionary of object info.\"\"\"\n",
        "  # Feed the input image to the model\n",
        "  set_input_tensor(interpreter, image)\n",
        "  interpreter.invoke()\n",
        "\n",
        "  # Get all outputs from the model\n",
        "  boxes = get_output_tensor(interpreter, 1)\n",
        "  classes = get_output_tensor(interpreter, 3)\n",
        "  scores = get_output_tensor(interpreter, 0)\n",
        "  count = int(get_output_tensor(interpreter, 2))\n",
        "\n",
        "  results = []\n",
        "  for i in range(count):\n",
        "    if scores[i] >= threshold:\n",
        "      result = {\n",
        "        'bounding_box': boxes[i],\n",
        "        'class_id': classes[i],\n",
        "        'score': scores[i]\n",
        "      }\n",
        "      results.append(result)\n",
        "  return results\n",
        "\n",
        "\n",
        "def run_odt_and_draw_results(image_path, interpreter, threshold=0.5):\n",
        "  \"\"\"Run object detection on the input image and draw the detection results\"\"\"\n",
        "  # Load the input shape required by the model\n",
        "  _, input_height, input_width, _ = interpreter.get_input_details()[0]['shape']\n",
        "\n",
        "  # Load the input image and preprocess it\n",
        "  preprocessed_image, original_image = preprocess_image(\n",
        "      image_path,\n",
        "      (input_height, input_width)\n",
        "    )\n",
        "\n",
        "  # Run object detection on the input image\n",
        "  results = detect_objects(interpreter, preprocessed_image, threshold=threshold)\n",
        "\n",
        "  # Plot the detection results on the input image\n",
        "  original_image_np = original_image.numpy().astype(np.uint8)\n",
        "  for obj in results:\n",
        "    # Convert the object bounding box from relative coordinates to absolute\n",
        "    # coordinates based on the original image resolution\n",
        "    ymin, xmin, ymax, xmax = obj['bounding_box']\n",
        "    xmin = int(xmin * original_image_np.shape[1])\n",
        "    xmax = int(xmax * original_image_np.shape[1])\n",
        "    ymin = int(ymin * original_image_np.shape[0])\n",
        "    ymax = int(ymax * original_image_np.shape[0])\n",
        "\n",
        "    # Find the class index of the current object\n",
        "    class_id = int(obj['class_id'])\n",
        "\n",
        "    # Draw the bounding box and label on the image\n",
        "    color = [int(c) for c in COLORS[class_id]]\n",
        "    cv2.rectangle(original_image_np, (xmin, ymin), (xmax, ymax), color, 2)\n",
        "    # Make adjustments to make the label visible for all objects\n",
        "    y = ymin - 15 if ymin - 15 > 15 else ymin + 15\n",
        "    label = \"{}: {:.0f}%\".format(classes[class_id], obj['score'] * 100)\n",
        "    cv2.putText(original_image_np, label, (xmin, y),\n",
        "        cv2.FONT_HERSHEY_SIMPLEX, 0.5, color, 2)\n",
        "\n",
        "  # Return the final image\n",
        "  original_uint8 = original_image_np.astype(np.uint8)\n",
        "  return original_uint8"
      ],
      "execution_count": 80,
      "outputs": []
    },
    {
      "cell_type": "code",
      "metadata": {
        "colab": {
          "base_uri": "https://localhost:8080/",
          "height": 401
        },
        "id": "kskARQiE30qu",
        "outputId": "8817d8c8-48b5-4541-f1bb-72bcf980a7b9"
      },
      "source": [
        "im = Image.open(\"images/1608644703.jpg\")\n",
        "im.thumbnail((512, 512), Image.ANTIALIAS)\n",
        "im.save(\"/tmp/image.png\", 'PNG')\n",
        "\n",
        "# Load the TFLite model\n",
        "interpreter = tf.lite.Interpreter(model_path=\"efficientdet-lite-bfc.tflite\")\n",
        "interpreter.allocate_tensors()\n",
        "\n",
        "# Run inference and draw detection result on the local copy of the original file\n",
        "detection_result_image = run_odt_and_draw_results(\n",
        "    \"/tmp/image.png\",\n",
        "    interpreter,\n",
        "    threshold=0.5\n",
        ")\n",
        "\n",
        "# Show the detection result\n",
        "Image.fromarray(detection_result_image)"
      ],
      "execution_count": 82,
      "outputs": [
        {
          "output_type": "execute_result",
          "data": {
            "image/png": "[encoded data removed]",
            "text/plain": [
              "<PIL.Image.Image image mode=RGB size=512x384 at 0x7F5705E69B90>"
            ]
          },
          "metadata": {},
          "execution_count": 82
        }
      ]
    }
  ]
}