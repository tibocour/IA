{
  "nbformat": 4,
  "nbformat_minor": 0,
  "metadata": {
    "accelerator": "GPU",
    "colab": {
      "name": "train_tflite_model.ipynb",
      "provenance": [],
      "collapsed_sections": []
    },
    "kernelspec": {
      "display_name": "Python 3",
      "name": "python3"
    },
    "language_info": {
      "name": "python"
    }
  },
  "cells": [
    {
      "cell_type": "markdown",
      "metadata": {
        "id": "2n2UNZwpmCGm"
      },
      "source": [
        "# Utilisation des scripts\n",
        "\n",
        "Ce notebook vise à montrer l'utilisation des scripts du projet afin d'effectuer un entrainement et une inférence."
      ]
    },
    {
      "cell_type": "code",
      "metadata": {
        "colab": {
          "base_uri": "https://localhost:8080/"
        },
        "id": "E0aWpDFlcUME",
        "outputId": "10c51261-0bea-4ee7-8c2c-ecd5afcaf8eb"
      },
      "source": [
        "%%shell\n",
        "\n",
        "nvidia-smi"
      ],
      "execution_count": 1,
      "outputs": [
        {
          "output_type": "stream",
          "name": "stdout",
          "text": [
            "Tue Aug 31 06:49:09 2021       \n",
            "+-----------------------------------------------------------------------------+\n",
            "| NVIDIA-SMI 470.57.02    Driver Version: 460.32.03    CUDA Version: 11.2     |\n",
            "|-------------------------------+----------------------+----------------------+\n",
            "| GPU  Name        Persistence-M| Bus-Id        Disp.A | Volatile Uncorr. ECC |\n",
            "| Fan  Temp  Perf  Pwr:Usage/Cap|         Memory-Usage | GPU-Util  Compute M. |\n",
            "|                               |                      |               MIG M. |\n",
            "|===============================+======================+======================|\n",
            "|   0  Tesla K80           Off  | 00000000:00:04.0 Off |                    0 |\n",
            "| N/A   30C    P8    28W / 149W |      0MiB / 11441MiB |      0%      Default |\n",
            "|                               |                      |                  N/A |\n",
            "+-------------------------------+----------------------+----------------------+\n",
            "                                                                               \n",
            "+-----------------------------------------------------------------------------+\n",
            "| Processes:                                                                  |\n",
            "|  GPU   GI   CI        PID   Type   Process name                  GPU Memory |\n",
            "|        ID   ID                                                   Usage      |\n",
            "|=============================================================================|\n",
            "|  No running processes found                                                 |\n",
            "+-----------------------------------------------------------------------------+\n"
          ]
        },
        {
          "output_type": "execute_result",
          "data": {
            "text/plain": [
              ""
            ]
          },
          "metadata": {},
          "execution_count": 1
        }
      ]
    },
    {
      "cell_type": "markdown",
      "metadata": {
        "id": "JVf_sKXN9H9f"
      },
      "source": [
        "# Installation du projet `bfc` et accès aux données\n",
        "\n",
        "Les login et mot de passe sont nécessaires pour accéder à des repos privés à partir de Google/Colab. Cela ne serait pas le cas en accès public."
      ]
    },
    {
      "cell_type": "code",
      "metadata": {
        "id": "CPOKLGaw9Qhx"
      },
      "source": [
        "import os\n",
        "from getpass import getpass"
      ],
      "execution_count": 2,
      "outputs": []
    },
    {
      "cell_type": "code",
      "metadata": {
        "colab": {
          "base_uri": "https://localhost:8080/"
        },
        "id": "36zlJOI5A0Go",
        "outputId": "1363023a-079b-4d6c-db8a-5d97553506d9"
      },
      "source": [
        "user = getpass('GitHub user')\n",
        "password = getpass('GitHub password')\n",
        "os.environ['GITHUB_AUTH'] = user + ':' + password"
      ],
      "execution_count": 3,
      "outputs": [
        {
          "name": "stdout",
          "output_type": "stream",
          "text": [
            "GitHub user··········\n",
            "GitHub password··········\n"
          ]
        }
      ]
    },
    {
      "cell_type": "code",
      "metadata": {
        "colab": {
          "base_uri": "https://localhost:8080/"
        },
        "id": "nF7dOnmdAc71",
        "outputId": "9d48d72c-bcfb-4304-8d55-a3be1afe88f6"
      },
      "source": [
        "%%shell\n",
        "\n",
        "git clone https://$GITHUB_AUTH@github.com/tibocour/IA.git"
      ],
      "execution_count": 4,
      "outputs": [
        {
          "output_type": "stream",
          "name": "stdout",
          "text": [
            "Cloning into 'IA'...\n",
            "remote: Enumerating objects: 71, done.\u001b[K\n",
            "remote: Counting objects: 100% (71/71), done.\u001b[K\n",
            "remote: Compressing objects: 100% (48/48), done.\u001b[K\n",
            "remote: Total 71 (delta 30), reused 59 (delta 18), pack-reused 0\u001b[K\n",
            "Unpacking objects: 100% (71/71), done.\n"
          ]
        },
        {
          "output_type": "execute_result",
          "data": {
            "text/plain": [
              ""
            ]
          },
          "metadata": {},
          "execution_count": 4
        }
      ]
    },
    {
      "cell_type": "markdown",
      "metadata": {
        "id": "pGC1hAM2nHu1"
      },
      "source": [
        "# Installation des dépendances"
      ]
    },
    {
      "cell_type": "code",
      "metadata": {
        "colab": {
          "base_uri": "https://localhost:8080/"
        },
        "id": "0NA-ih6CBXLN",
        "outputId": "3ee3737f-5359-4989-9899-c05d2f8e0ad1"
      },
      "source": [
        "%%shell\n",
        "\n",
        "pip install -r IA/requirements.txt"
      ],
      "execution_count": 5,
      "outputs": [
        {
          "output_type": "stream",
          "name": "stdout",
          "text": [
            "Requirement already satisfied: imgaug in /usr/local/lib/python3.7/dist-packages (from -r IA/requirements.txt (line 1)) (0.2.9)\n",
            "Collecting pascal-voc-writer\n",
            "  Downloading pascal_voc_writer-0.1.4-py2.py3-none-any.whl (4.0 kB)\n",
            "Collecting tflite-model-maker-nightly\n",
            "  Downloading tflite_model_maker_nightly-0.3.4.dev202108310559-py3-none-any.whl (620 kB)\n",
            "\u001b[K     |████████████████████████████████| 620 kB 11.5 MB/s \n",
            "\u001b[?25hRequirement already satisfied: pycocotools in /usr/local/lib/python3.7/dist-packages (from -r IA/requirements.txt (line 4)) (2.0.2)\n",
            "Requirement already satisfied: scikit-image>=0.11.0 in /usr/local/lib/python3.7/dist-packages (from imgaug->-r IA/requirements.txt (line 1)) (0.16.2)\n",
            "Requirement already satisfied: scipy in /usr/local/lib/python3.7/dist-packages (from imgaug->-r IA/requirements.txt (line 1)) (1.4.1)\n",
            "Requirement already satisfied: imageio in /usr/local/lib/python3.7/dist-packages (from imgaug->-r IA/requirements.txt (line 1)) (2.4.1)\n",
            "Requirement already satisfied: six in /usr/local/lib/python3.7/dist-packages (from imgaug->-r IA/requirements.txt (line 1)) (1.15.0)\n",
            "Requirement already satisfied: Pillow in /usr/local/lib/python3.7/dist-packages (from imgaug->-r IA/requirements.txt (line 1)) (7.1.2)\n",
            "Requirement already satisfied: matplotlib in /usr/local/lib/python3.7/dist-packages (from imgaug->-r IA/requirements.txt (line 1)) (3.2.2)\n",
            "Requirement already satisfied: Shapely in /usr/local/lib/python3.7/dist-packages (from imgaug->-r IA/requirements.txt (line 1)) (1.7.1)\n",
            "Requirement already satisfied: opencv-python in /usr/local/lib/python3.7/dist-packages (from imgaug->-r IA/requirements.txt (line 1)) (4.1.2.30)\n",
            "Requirement already satisfied: numpy>=1.15.0 in /usr/local/lib/python3.7/dist-packages (from imgaug->-r IA/requirements.txt (line 1)) (1.19.5)\n",
            "Requirement already satisfied: PyWavelets>=0.4.0 in /usr/local/lib/python3.7/dist-packages (from scikit-image>=0.11.0->imgaug->-r IA/requirements.txt (line 1)) (1.1.1)\n",
            "Requirement already satisfied: networkx>=2.0 in /usr/local/lib/python3.7/dist-packages (from scikit-image>=0.11.0->imgaug->-r IA/requirements.txt (line 1)) (2.6.2)\n",
            "Requirement already satisfied: cycler>=0.10 in /usr/local/lib/python3.7/dist-packages (from matplotlib->imgaug->-r IA/requirements.txt (line 1)) (0.10.0)\n",
            "Requirement already satisfied: kiwisolver>=1.0.1 in /usr/local/lib/python3.7/dist-packages (from matplotlib->imgaug->-r IA/requirements.txt (line 1)) (1.3.1)\n",
            "Requirement already satisfied: pyparsing!=2.0.4,!=2.1.2,!=2.1.6,>=2.0.1 in /usr/local/lib/python3.7/dist-packages (from matplotlib->imgaug->-r IA/requirements.txt (line 1)) (2.4.7)\n",
            "Requirement already satisfied: python-dateutil>=2.1 in /usr/local/lib/python3.7/dist-packages (from matplotlib->imgaug->-r IA/requirements.txt (line 1)) (2.8.2)\n",
            "Requirement already satisfied: jinja2 in /usr/local/lib/python3.7/dist-packages (from pascal-voc-writer->-r IA/requirements.txt (line 2)) (2.11.3)\n",
            "Collecting lxml>=4.6.1\n",
            "  Downloading lxml-4.6.3-cp37-cp37m-manylinux2014_x86_64.whl (6.3 MB)\n",
            "\u001b[K     |████████████████████████████████| 6.3 MB 31.7 MB/s \n",
            "\u001b[?25hRequirement already satisfied: tensorflow-datasets>=2.1.0 in /usr/local/lib/python3.7/dist-packages (from tflite-model-maker-nightly->-r IA/requirements.txt (line 3)) (4.0.1)\n",
            "Collecting PyYAML>=5.1\n",
            "  Downloading PyYAML-5.4.1-cp37-cp37m-manylinux1_x86_64.whl (636 kB)\n",
            "\u001b[K     |████████████████████████████████| 636 kB 46.2 MB/s \n",
            "\u001b[?25hCollecting numba==0.53\n",
            "  Downloading numba-0.53.0-cp37-cp37m-manylinux2014_x86_64.whl (3.4 MB)\n",
            "\u001b[K     |████████████████████████████████| 3.4 MB 36.6 MB/s \n",
            "\u001b[?25hCollecting fire>=0.3.1\n",
            "  Downloading fire-0.4.0.tar.gz (87 kB)\n",
            "\u001b[K     |████████████████████████████████| 87 kB 5.4 MB/s \n",
            "\u001b[?25hRequirement already satisfied: Cython>=0.29.13 in /usr/local/lib/python3.7/dist-packages (from tflite-model-maker-nightly->-r IA/requirements.txt (line 3)) (0.29.24)\n",
            "Collecting tensorflow-model-optimization>=0.5\n",
            "  Downloading tensorflow_model_optimization-0.6.0-py2.py3-none-any.whl (211 kB)\n",
            "\u001b[K     |████████████████████████████████| 211 kB 48.0 MB/s \n",
            "\u001b[?25hCollecting sentencepiece>=0.1.91\n",
            "  Downloading sentencepiece-0.1.96-cp37-cp37m-manylinux_2_17_x86_64.manylinux2014_x86_64.whl (1.2 MB)\n",
            "\u001b[K     |████████████████████████████████| 1.2 MB 41.5 MB/s \n",
            "\u001b[?25hRequirement already satisfied: flatbuffers==1.12 in /usr/local/lib/python3.7/dist-packages (from tflite-model-maker-nightly->-r IA/requirements.txt (line 3)) (1.12)\n",
            "Requirement already satisfied: librosa==0.8.1 in /usr/local/lib/python3.7/dist-packages (from tflite-model-maker-nightly->-r IA/requirements.txt (line 3)) (0.8.1)\n",
            "Requirement already satisfied: tensorflow-hub<0.13,>=0.7.0 in /usr/local/lib/python3.7/dist-packages (from tflite-model-maker-nightly->-r IA/requirements.txt (line 3)) (0.12.0)\n",
            "Collecting tf-models-official==2.3.0\n",
            "  Downloading tf_models_official-2.3.0-py2.py3-none-any.whl (840 kB)\n",
            "\u001b[K     |████████████████████████████████| 840 kB 38.1 MB/s \n",
            "\u001b[?25hCollecting tfa-nightly\n",
            "  Downloading tfa_nightly-0.15.0.dev20210825184357-cp37-cp37m-manylinux_2_12_x86_64.manylinux2010_x86_64.whl (1.1 MB)\n",
            "\u001b[K     |████████████████████████████████| 1.1 MB 36.4 MB/s \n",
            "\u001b[?25hRequirement already satisfied: tensorflow==2.6.0 in /usr/local/lib/python3.7/dist-packages (from tflite-model-maker-nightly->-r IA/requirements.txt (line 3)) (2.6.0)\n",
            "Requirement already satisfied: absl-py>=0.10.0 in /usr/local/lib/python3.7/dist-packages (from tflite-model-maker-nightly->-r IA/requirements.txt (line 3)) (0.12.0)\n",
            "Requirement already satisfied: urllib3!=1.25.0,!=1.25.1,<1.26,>=1.21.1 in /usr/local/lib/python3.7/dist-packages (from tflite-model-maker-nightly->-r IA/requirements.txt (line 3)) (1.24.3)\n",
            "Collecting tflite-support-nightly\n",
            "  Downloading tflite_support_nightly-0.1.0.dev20210830-cp37-cp37m-manylinux_2_12_x86_64.manylinux2010_x86_64.whl (1.1 MB)\n",
            "\u001b[K     |████████████████████████████████| 1.1 MB 36.8 MB/s \n",
            "\u001b[?25hCollecting neural-structured-learning>=1.3.1\n",
            "  Downloading neural_structured_learning-1.3.1-py2.py3-none-any.whl (120 kB)\n",
            "\u001b[K     |████████████████████████████████| 120 kB 48.2 MB/s \n",
            "\u001b[?25hRequirement already satisfied: scikit-learn!=0.19.0,>=0.14.0 in /usr/local/lib/python3.7/dist-packages (from librosa==0.8.1->tflite-model-maker-nightly->-r IA/requirements.txt (line 3)) (0.22.2.post1)\n",
            "Requirement already satisfied: audioread>=2.0.0 in /usr/local/lib/python3.7/dist-packages (from librosa==0.8.1->tflite-model-maker-nightly->-r IA/requirements.txt (line 3)) (2.1.9)\n",
            "Requirement already satisfied: resampy>=0.2.2 in /usr/local/lib/python3.7/dist-packages (from librosa==0.8.1->tflite-model-maker-nightly->-r IA/requirements.txt (line 3)) (0.2.2)\n",
            "Requirement already satisfied: decorator>=3.0.0 in /usr/local/lib/python3.7/dist-packages (from librosa==0.8.1->tflite-model-maker-nightly->-r IA/requirements.txt (line 3)) (4.4.2)\n",
            "Requirement already satisfied: packaging>=20.0 in /usr/local/lib/python3.7/dist-packages (from librosa==0.8.1->tflite-model-maker-nightly->-r IA/requirements.txt (line 3)) (21.0)\n",
            "Requirement already satisfied: joblib>=0.14 in /usr/local/lib/python3.7/dist-packages (from librosa==0.8.1->tflite-model-maker-nightly->-r IA/requirements.txt (line 3)) (1.0.1)\n",
            "Requirement already satisfied: soundfile>=0.10.2 in /usr/local/lib/python3.7/dist-packages (from librosa==0.8.1->tflite-model-maker-nightly->-r IA/requirements.txt (line 3)) (0.10.3.post1)\n",
            "Requirement already satisfied: pooch>=1.0 in /usr/local/lib/python3.7/dist-packages (from librosa==0.8.1->tflite-model-maker-nightly->-r IA/requirements.txt (line 3)) (1.4.0)\n",
            "Collecting llvmlite<0.37,>=0.36.0rc1\n",
            "  Downloading llvmlite-0.36.0-cp37-cp37m-manylinux2010_x86_64.whl (25.3 MB)\n",
            "\u001b[K     |████████████████████████████████| 25.3 MB 78 kB/s \n",
            "\u001b[?25hRequirement already satisfied: setuptools in /usr/local/lib/python3.7/dist-packages (from numba==0.53->tflite-model-maker-nightly->-r IA/requirements.txt (line 3)) (57.4.0)\n",
            "Requirement already satisfied: typing-extensions~=3.7.4 in /usr/local/lib/python3.7/dist-packages (from tensorflow==2.6.0->tflite-model-maker-nightly->-r IA/requirements.txt (line 3)) (3.7.4.3)\n",
            "Requirement already satisfied: clang~=5.0 in /usr/local/lib/python3.7/dist-packages (from tensorflow==2.6.0->tflite-model-maker-nightly->-r IA/requirements.txt (line 3)) (5.0)\n",
            "Requirement already satisfied: astunparse~=1.6.3 in /usr/local/lib/python3.7/dist-packages (from tensorflow==2.6.0->tflite-model-maker-nightly->-r IA/requirements.txt (line 3)) (1.6.3)\n",
            "Requirement already satisfied: wrapt~=1.12.1 in /usr/local/lib/python3.7/dist-packages (from tensorflow==2.6.0->tflite-model-maker-nightly->-r IA/requirements.txt (line 3)) (1.12.1)\n",
            "Requirement already satisfied: keras~=2.6 in /usr/local/lib/python3.7/dist-packages (from tensorflow==2.6.0->tflite-model-maker-nightly->-r IA/requirements.txt (line 3)) (2.6.0)\n",
            "Requirement already satisfied: keras-preprocessing~=1.1.2 in /usr/local/lib/python3.7/dist-packages (from tensorflow==2.6.0->tflite-model-maker-nightly->-r IA/requirements.txt (line 3)) (1.1.2)\n",
            "Requirement already satisfied: gast==0.4.0 in /usr/local/lib/python3.7/dist-packages (from tensorflow==2.6.0->tflite-model-maker-nightly->-r IA/requirements.txt (line 3)) (0.4.0)\n",
            "Requirement already satisfied: grpcio<2.0,>=1.37.0 in /usr/local/lib/python3.7/dist-packages (from tensorflow==2.6.0->tflite-model-maker-nightly->-r IA/requirements.txt (line 3)) (1.39.0)\n",
            "Requirement already satisfied: tensorboard~=2.6 in /usr/local/lib/python3.7/dist-packages (from tensorflow==2.6.0->tflite-model-maker-nightly->-r IA/requirements.txt (line 3)) (2.6.0)\n",
            "Requirement already satisfied: h5py~=3.1.0 in /usr/local/lib/python3.7/dist-packages (from tensorflow==2.6.0->tflite-model-maker-nightly->-r IA/requirements.txt (line 3)) (3.1.0)\n",
            "Requirement already satisfied: google-pasta~=0.2 in /usr/local/lib/python3.7/dist-packages (from tensorflow==2.6.0->tflite-model-maker-nightly->-r IA/requirements.txt (line 3)) (0.2.0)\n",
            "Requirement already satisfied: tensorflow-estimator~=2.6 in /usr/local/lib/python3.7/dist-packages (from tensorflow==2.6.0->tflite-model-maker-nightly->-r IA/requirements.txt (line 3)) (2.6.0)\n",
            "Requirement already satisfied: termcolor~=1.1.0 in /usr/local/lib/python3.7/dist-packages (from tensorflow==2.6.0->tflite-model-maker-nightly->-r IA/requirements.txt (line 3)) (1.1.0)\n",
            "Requirement already satisfied: opt-einsum~=3.3.0 in /usr/local/lib/python3.7/dist-packages (from tensorflow==2.6.0->tflite-model-maker-nightly->-r IA/requirements.txt (line 3)) (3.3.0)\n",
            "Requirement already satisfied: wheel~=0.35 in /usr/local/lib/python3.7/dist-packages (from tensorflow==2.6.0->tflite-model-maker-nightly->-r IA/requirements.txt (line 3)) (0.37.0)\n",
            "Requirement already satisfied: protobuf>=3.9.2 in /usr/local/lib/python3.7/dist-packages (from tensorflow==2.6.0->tflite-model-maker-nightly->-r IA/requirements.txt (line 3)) (3.17.3)\n",
            "Collecting py-cpuinfo>=3.3.0\n",
            "  Downloading py-cpuinfo-8.0.0.tar.gz (99 kB)\n",
            "\u001b[K     |████████████████████████████████| 99 kB 8.6 MB/s \n",
            "\u001b[?25hRequirement already satisfied: google-cloud-bigquery>=0.31.0 in /usr/local/lib/python3.7/dist-packages (from tf-models-official==2.3.0->tflite-model-maker-nightly->-r IA/requirements.txt (line 3)) (1.21.0)\n",
            "Requirement already satisfied: gin-config in /usr/local/lib/python3.7/dist-packages (from tf-models-official==2.3.0->tflite-model-maker-nightly->-r IA/requirements.txt (line 3)) (0.4.0)\n",
            "Requirement already satisfied: google-api-python-client>=1.6.7 in /usr/local/lib/python3.7/dist-packages (from tf-models-official==2.3.0->tflite-model-maker-nightly->-r IA/requirements.txt (line 3)) (1.12.8)\n",
            "Collecting dataclasses\n",
            "  Downloading dataclasses-0.6-py3-none-any.whl (14 kB)\n",
            "Requirement already satisfied: pandas>=0.22.0 in /usr/local/lib/python3.7/dist-packages (from tf-models-official==2.3.0->tflite-model-maker-nightly->-r IA/requirements.txt (line 3)) (1.1.5)\n",
            "Requirement already satisfied: psutil>=5.4.3 in /usr/local/lib/python3.7/dist-packages (from tf-models-official==2.3.0->tflite-model-maker-nightly->-r IA/requirements.txt (line 3)) (5.4.8)\n",
            "Requirement already satisfied: kaggle>=1.3.9 in /usr/local/lib/python3.7/dist-packages (from tf-models-official==2.3.0->tflite-model-maker-nightly->-r IA/requirements.txt (line 3)) (1.5.12)\n",
            "Collecting tensorflow-addons\n",
            "  Downloading tensorflow_addons-0.14.0-cp37-cp37m-manylinux_2_12_x86_64.manylinux2010_x86_64.whl (1.1 MB)\n",
            "\u001b[K     |████████████████████████████████| 1.1 MB 20.3 MB/s \n",
            "\u001b[?25hCollecting tf-slim>=1.1.0\n",
            "  Downloading tf_slim-1.1.0-py2.py3-none-any.whl (352 kB)\n",
            "\u001b[K     |████████████████████████████████| 352 kB 52.3 MB/s \n",
            "\u001b[?25hCollecting opencv-python-headless\n",
            "  Downloading opencv_python_headless-4.5.3.56-cp37-cp37m-manylinux2014_x86_64.whl (37.1 MB)\n",
            "\u001b[K     |████████████████████████████████| 37.1 MB 39 kB/s \n",
            "\u001b[?25hRequirement already satisfied: httplib2<1dev,>=0.15.0 in /usr/local/lib/python3.7/dist-packages (from google-api-python-client>=1.6.7->tf-models-official==2.3.0->tflite-model-maker-nightly->-r IA/requirements.txt (line 3)) (0.17.4)\n",
            "Requirement already satisfied: uritemplate<4dev,>=3.0.0 in /usr/local/lib/python3.7/dist-packages (from google-api-python-client>=1.6.7->tf-models-official==2.3.0->tflite-model-maker-nightly->-r IA/requirements.txt (line 3)) (3.0.1)\n",
            "Requirement already satisfied: google-api-core<2dev,>=1.21.0 in /usr/local/lib/python3.7/dist-packages (from google-api-python-client>=1.6.7->tf-models-official==2.3.0->tflite-model-maker-nightly->-r IA/requirements.txt (line 3)) (1.26.3)\n",
            "Requirement already satisfied: google-auth>=1.16.0 in /usr/local/lib/python3.7/dist-packages (from google-api-python-client>=1.6.7->tf-models-official==2.3.0->tflite-model-maker-nightly->-r IA/requirements.txt (line 3)) (1.34.0)\n",
            "Requirement already satisfied: google-auth-httplib2>=0.0.3 in /usr/local/lib/python3.7/dist-packages (from google-api-python-client>=1.6.7->tf-models-official==2.3.0->tflite-model-maker-nightly->-r IA/requirements.txt (line 3)) (0.0.4)\n",
            "Requirement already satisfied: pytz in /usr/local/lib/python3.7/dist-packages (from google-api-core<2dev,>=1.21.0->google-api-python-client>=1.6.7->tf-models-official==2.3.0->tflite-model-maker-nightly->-r IA/requirements.txt (line 3)) (2018.9)\n",
            "Requirement already satisfied: googleapis-common-protos<2.0dev,>=1.6.0 in /usr/local/lib/python3.7/dist-packages (from google-api-core<2dev,>=1.21.0->google-api-python-client>=1.6.7->tf-models-official==2.3.0->tflite-model-maker-nightly->-r IA/requirements.txt (line 3)) (1.53.0)\n",
            "Requirement already satisfied: requests<3.0.0dev,>=2.18.0 in /usr/local/lib/python3.7/dist-packages (from google-api-core<2dev,>=1.21.0->google-api-python-client>=1.6.7->tf-models-official==2.3.0->tflite-model-maker-nightly->-r IA/requirements.txt (line 3)) (2.23.0)\n",
            "Requirement already satisfied: pyasn1-modules>=0.2.1 in /usr/local/lib/python3.7/dist-packages (from google-auth>=1.16.0->google-api-python-client>=1.6.7->tf-models-official==2.3.0->tflite-model-maker-nightly->-r IA/requirements.txt (line 3)) (0.2.8)\n",
            "Requirement already satisfied: cachetools<5.0,>=2.0.0 in /usr/local/lib/python3.7/dist-packages (from google-auth>=1.16.0->google-api-python-client>=1.6.7->tf-models-official==2.3.0->tflite-model-maker-nightly->-r IA/requirements.txt (line 3)) (4.2.2)\n",
            "Requirement already satisfied: rsa<5,>=3.1.4 in /usr/local/lib/python3.7/dist-packages (from google-auth>=1.16.0->google-api-python-client>=1.6.7->tf-models-official==2.3.0->tflite-model-maker-nightly->-r IA/requirements.txt (line 3)) (4.7.2)\n",
            "Requirement already satisfied: google-resumable-media!=0.4.0,<0.5.0dev,>=0.3.1 in /usr/local/lib/python3.7/dist-packages (from google-cloud-bigquery>=0.31.0->tf-models-official==2.3.0->tflite-model-maker-nightly->-r IA/requirements.txt (line 3)) (0.4.1)\n",
            "Requirement already satisfied: google-cloud-core<2.0dev,>=1.0.3 in /usr/local/lib/python3.7/dist-packages (from google-cloud-bigquery>=0.31.0->tf-models-official==2.3.0->tflite-model-maker-nightly->-r IA/requirements.txt (line 3)) (1.0.3)\n",
            "Requirement already satisfied: cached-property in /usr/local/lib/python3.7/dist-packages (from h5py~=3.1.0->tensorflow==2.6.0->tflite-model-maker-nightly->-r IA/requirements.txt (line 3)) (1.5.2)\n",
            "Requirement already satisfied: python-slugify in /usr/local/lib/python3.7/dist-packages (from kaggle>=1.3.9->tf-models-official==2.3.0->tflite-model-maker-nightly->-r IA/requirements.txt (line 3)) (5.0.2)\n",
            "Requirement already satisfied: tqdm in /usr/local/lib/python3.7/dist-packages (from kaggle>=1.3.9->tf-models-official==2.3.0->tflite-model-maker-nightly->-r IA/requirements.txt (line 3)) (4.62.0)\n",
            "Requirement already satisfied: certifi in /usr/local/lib/python3.7/dist-packages (from kaggle>=1.3.9->tf-models-official==2.3.0->tflite-model-maker-nightly->-r IA/requirements.txt (line 3)) (2021.5.30)\n",
            "Requirement already satisfied: attrs in /usr/local/lib/python3.7/dist-packages (from neural-structured-learning>=1.3.1->tflite-model-maker-nightly->-r IA/requirements.txt (line 3)) (21.2.0)\n",
            "Requirement already satisfied: appdirs in /usr/local/lib/python3.7/dist-packages (from pooch>=1.0->librosa==0.8.1->tflite-model-maker-nightly->-r IA/requirements.txt (line 3)) (1.4.4)\n",
            "Requirement already satisfied: pyasn1<0.5.0,>=0.4.6 in /usr/local/lib/python3.7/dist-packages (from pyasn1-modules>=0.2.1->google-auth>=1.16.0->google-api-python-client>=1.6.7->tf-models-official==2.3.0->tflite-model-maker-nightly->-r IA/requirements.txt (line 3)) (0.4.8)\n",
            "Requirement already satisfied: chardet<4,>=3.0.2 in /usr/local/lib/python3.7/dist-packages (from requests<3.0.0dev,>=2.18.0->google-api-core<2dev,>=1.21.0->google-api-python-client>=1.6.7->tf-models-official==2.3.0->tflite-model-maker-nightly->-r IA/requirements.txt (line 3)) (3.0.4)\n",
            "Requirement already satisfied: idna<3,>=2.5 in /usr/local/lib/python3.7/dist-packages (from requests<3.0.0dev,>=2.18.0->google-api-core<2dev,>=1.21.0->google-api-python-client>=1.6.7->tf-models-official==2.3.0->tflite-model-maker-nightly->-r IA/requirements.txt (line 3)) (2.10)\n",
            "Requirement already satisfied: cffi>=1.0 in /usr/local/lib/python3.7/dist-packages (from soundfile>=0.10.2->librosa==0.8.1->tflite-model-maker-nightly->-r IA/requirements.txt (line 3)) (1.14.6)\n",
            "Requirement already satisfied: pycparser in /usr/local/lib/python3.7/dist-packages (from cffi>=1.0->soundfile>=0.10.2->librosa==0.8.1->tflite-model-maker-nightly->-r IA/requirements.txt (line 3)) (2.20)\n",
            "Requirement already satisfied: tensorboard-data-server<0.7.0,>=0.6.0 in /usr/local/lib/python3.7/dist-packages (from tensorboard~=2.6->tensorflow==2.6.0->tflite-model-maker-nightly->-r IA/requirements.txt (line 3)) (0.6.1)\n",
            "Requirement already satisfied: tensorboard-plugin-wit>=1.6.0 in /usr/local/lib/python3.7/dist-packages (from tensorboard~=2.6->tensorflow==2.6.0->tflite-model-maker-nightly->-r IA/requirements.txt (line 3)) (1.8.0)\n",
            "Requirement already satisfied: google-auth-oauthlib<0.5,>=0.4.1 in /usr/local/lib/python3.7/dist-packages (from tensorboard~=2.6->tensorflow==2.6.0->tflite-model-maker-nightly->-r IA/requirements.txt (line 3)) (0.4.5)\n",
            "Requirement already satisfied: werkzeug>=0.11.15 in /usr/local/lib/python3.7/dist-packages (from tensorboard~=2.6->tensorflow==2.6.0->tflite-model-maker-nightly->-r IA/requirements.txt (line 3)) (1.0.1)\n",
            "Requirement already satisfied: markdown>=2.6.8 in /usr/local/lib/python3.7/dist-packages (from tensorboard~=2.6->tensorflow==2.6.0->tflite-model-maker-nightly->-r IA/requirements.txt (line 3)) (3.3.4)\n",
            "Requirement already satisfied: requests-oauthlib>=0.7.0 in /usr/local/lib/python3.7/dist-packages (from google-auth-oauthlib<0.5,>=0.4.1->tensorboard~=2.6->tensorflow==2.6.0->tflite-model-maker-nightly->-r IA/requirements.txt (line 3)) (1.3.0)\n",
            "Requirement already satisfied: importlib-metadata in /usr/local/lib/python3.7/dist-packages (from markdown>=2.6.8->tensorboard~=2.6->tensorflow==2.6.0->tflite-model-maker-nightly->-r IA/requirements.txt (line 3)) (4.6.4)\n",
            "Requirement already satisfied: oauthlib>=3.0.0 in /usr/local/lib/python3.7/dist-packages (from requests-oauthlib>=0.7.0->google-auth-oauthlib<0.5,>=0.4.1->tensorboard~=2.6->tensorflow==2.6.0->tflite-model-maker-nightly->-r IA/requirements.txt (line 3)) (3.1.1)\n",
            "Requirement already satisfied: future in /usr/local/lib/python3.7/dist-packages (from tensorflow-datasets>=2.1.0->tflite-model-maker-nightly->-r IA/requirements.txt (line 3)) (0.16.0)\n",
            "Requirement already satisfied: importlib-resources in /usr/local/lib/python3.7/dist-packages (from tensorflow-datasets>=2.1.0->tflite-model-maker-nightly->-r IA/requirements.txt (line 3)) (5.2.2)\n",
            "Requirement already satisfied: dill in /usr/local/lib/python3.7/dist-packages (from tensorflow-datasets>=2.1.0->tflite-model-maker-nightly->-r IA/requirements.txt (line 3)) (0.3.4)\n",
            "Requirement already satisfied: promise in /usr/local/lib/python3.7/dist-packages (from tensorflow-datasets>=2.1.0->tflite-model-maker-nightly->-r IA/requirements.txt (line 3)) (2.3)\n",
            "Requirement already satisfied: dm-tree in /usr/local/lib/python3.7/dist-packages (from tensorflow-datasets>=2.1.0->tflite-model-maker-nightly->-r IA/requirements.txt (line 3)) (0.1.6)\n",
            "Requirement already satisfied: tensorflow-metadata in /usr/local/lib/python3.7/dist-packages (from tensorflow-datasets>=2.1.0->tflite-model-maker-nightly->-r IA/requirements.txt (line 3)) (1.2.0)\n",
            "Requirement already satisfied: zipp>=0.5 in /usr/local/lib/python3.7/dist-packages (from importlib-metadata->markdown>=2.6.8->tensorboard~=2.6->tensorflow==2.6.0->tflite-model-maker-nightly->-r IA/requirements.txt (line 3)) (3.5.0)\n",
            "Requirement already satisfied: MarkupSafe>=0.23 in /usr/local/lib/python3.7/dist-packages (from jinja2->pascal-voc-writer->-r IA/requirements.txt (line 2)) (2.0.1)\n",
            "Requirement already satisfied: text-unidecode>=1.3 in /usr/local/lib/python3.7/dist-packages (from python-slugify->kaggle>=1.3.9->tf-models-official==2.3.0->tflite-model-maker-nightly->-r IA/requirements.txt (line 3)) (1.3)\n",
            "Requirement already satisfied: typeguard>=2.7 in /usr/local/lib/python3.7/dist-packages (from tensorflow-addons->tf-models-official==2.3.0->tflite-model-maker-nightly->-r IA/requirements.txt (line 3)) (2.7.1)\n",
            "Collecting pybind11>=2.6.0\n",
            "  Downloading pybind11-2.7.1-py2.py3-none-any.whl (200 kB)\n",
            "\u001b[K     |████████████████████████████████| 200 kB 43.9 MB/s \n",
            "\u001b[?25hBuilding wheels for collected packages: fire, py-cpuinfo\n",
            "  Building wheel for fire (setup.py) ... \u001b[?25l\u001b[?25hdone\n",
            "  Created wheel for fire: filename=fire-0.4.0-py2.py3-none-any.whl size=115943 sha256=28b5f7b4bce630d054dc9939b0c7b07dcb6ca2e39bb76b29b7bad9274f50ce9e\n",
            "  Stored in directory: /root/.cache/pip/wheels/8a/67/fb/2e8a12fa16661b9d5af1f654bd199366799740a85c64981226\n",
            "  Building wheel for py-cpuinfo (setup.py) ... \u001b[?25l\u001b[?25hdone\n",
            "  Created wheel for py-cpuinfo: filename=py_cpuinfo-8.0.0-py3-none-any.whl size=22258 sha256=d7a1566110bb0310908d795c218c6048c9b243fbfd3268a8fb2a3c46adeb6eef\n",
            "  Stored in directory: /root/.cache/pip/wheels/d2/f1/1f/041add21dc9c4220157f1bd2bd6afe1f1a49524c3396b94401\n",
            "Successfully built fire py-cpuinfo\n",
            "Installing collected packages: llvmlite, numba, tf-slim, tensorflow-model-optimization, tensorflow-addons, sentencepiece, PyYAML, pybind11, py-cpuinfo, opencv-python-headless, dataclasses, tflite-support-nightly, tfa-nightly, tf-models-official, neural-structured-learning, lxml, fire, tflite-model-maker-nightly, pascal-voc-writer\n",
            "  Attempting uninstall: llvmlite\n",
            "    Found existing installation: llvmlite 0.34.0\n",
            "    Uninstalling llvmlite-0.34.0:\n",
            "      Successfully uninstalled llvmlite-0.34.0\n",
            "  Attempting uninstall: numba\n",
            "    Found existing installation: numba 0.51.2\n",
            "    Uninstalling numba-0.51.2:\n",
            "      Successfully uninstalled numba-0.51.2\n",
            "  Attempting uninstall: PyYAML\n",
            "    Found existing installation: PyYAML 3.13\n",
            "    Uninstalling PyYAML-3.13:\n",
            "      Successfully uninstalled PyYAML-3.13\n",
            "  Attempting uninstall: lxml\n",
            "    Found existing installation: lxml 4.2.6\n",
            "    Uninstalling lxml-4.2.6:\n",
            "      Successfully uninstalled lxml-4.2.6\n",
            "Successfully installed PyYAML-5.4.1 dataclasses-0.6 fire-0.4.0 llvmlite-0.36.0 lxml-4.6.3 neural-structured-learning-1.3.1 numba-0.53.0 opencv-python-headless-4.5.3.56 pascal-voc-writer-0.1.4 py-cpuinfo-8.0.0 pybind11-2.7.1 sentencepiece-0.1.96 tensorflow-addons-0.14.0 tensorflow-model-optimization-0.6.0 tf-models-official-2.3.0 tf-slim-1.1.0 tfa-nightly-0.15.0.dev20210825184357 tflite-model-maker-nightly-0.3.4.dev202108310559 tflite-support-nightly-0.1.0.dev20210830\n"
          ]
        },
        {
          "output_type": "execute_result",
          "data": {
            "text/plain": [
              ""
            ]
          },
          "metadata": {},
          "execution_count": 5
        }
      ]
    },
    {
      "cell_type": "markdown",
      "metadata": {
        "id": "DXKzicjPfJns"
      },
      "source": [
        "# Apprentissage par transfer learning"
      ]
    },
    {
      "cell_type": "code",
      "metadata": {
        "colab": {
          "base_uri": "https://localhost:8080/"
        },
        "id": "4_cwMT6cX4eO",
        "outputId": "3631de4d-aded-40d8-cd87-a37131012fd5"
      },
      "source": [
        "%%shell\n",
        "\n",
        "python IA/python/train.py --train_zip IA/data/train_megots150images.zip --valid_zip IA/data/valid_megots150images.zip "
      ],
      "execution_count": 7,
      "outputs": [
        {
          "output_type": "stream",
          "name": "stdout",
          "text": [
            "Tensorflow version : 2.6.0\n",
            "args : Namespace(batch_size=10, epochs=50, train_zip='IA/data/train_megots150images.zip', valid_zip='IA/data/valid_megots150images.zip', with_tflite_eval=0)\n",
            "created zip temporary directory: /tmp/tmpbi8ytx_y\n",
            "extract zip file IA/data/train_megots150images.zip in /tmp/tmpbi8ytx_y/train\n",
            "labels : ['megot']\n",
            "extract zip file IA/data/valid_megots150images.zip in /tmp/tmpbi8ytx_y/valid\n",
            "labels : ['megot']\n",
            "* train dataset len : 1287\n",
            "* valid dataset len : 30\n",
            "2021-08-31 07:32:31.390592: I tensorflow/stream_executor/cuda/cuda_gpu_executor.cc:937] successful NUMA node read from SysFS had negative value (-1), but there must be at least one NUMA node, so returning NUMA node zero\n",
            "2021-08-31 07:32:31.399739: I tensorflow/stream_executor/cuda/cuda_gpu_executor.cc:937] successful NUMA node read from SysFS had negative value (-1), but there must be at least one NUMA node, so returning NUMA node zero\n",
            "2021-08-31 07:32:31.400551: I tensorflow/stream_executor/cuda/cuda_gpu_executor.cc:937] successful NUMA node read from SysFS had negative value (-1), but there must be at least one NUMA node, so returning NUMA node zero\n",
            "2021-08-31 07:32:31.402098: I tensorflow/stream_executor/cuda/cuda_gpu_executor.cc:937] successful NUMA node read from SysFS had negative value (-1), but there must be at least one NUMA node, so returning NUMA node zero\n",
            "2021-08-31 07:32:31.402926: I tensorflow/stream_executor/cuda/cuda_gpu_executor.cc:937] successful NUMA node read from SysFS had negative value (-1), but there must be at least one NUMA node, so returning NUMA node zero\n",
            "2021-08-31 07:32:31.403677: I tensorflow/stream_executor/cuda/cuda_gpu_executor.cc:937] successful NUMA node read from SysFS had negative value (-1), but there must be at least one NUMA node, so returning NUMA node zero\n",
            "2021-08-31 07:32:31.878173: I tensorflow/stream_executor/cuda/cuda_gpu_executor.cc:937] successful NUMA node read from SysFS had negative value (-1), but there must be at least one NUMA node, so returning NUMA node zero\n",
            "2021-08-31 07:32:31.878978: I tensorflow/stream_executor/cuda/cuda_gpu_executor.cc:937] successful NUMA node read from SysFS had negative value (-1), but there must be at least one NUMA node, so returning NUMA node zero\n",
            "2021-08-31 07:32:31.879738: I tensorflow/stream_executor/cuda/cuda_gpu_executor.cc:937] successful NUMA node read from SysFS had negative value (-1), but there must be at least one NUMA node, so returning NUMA node zero\n",
            "2021-08-31 07:32:31.880426: W tensorflow/core/common_runtime/gpu/gpu_bfc_allocator.cc:39] Overriding allow_growth setting because the TF_FORCE_GPU_ALLOW_GROWTH environment variable is set. Original config value was 0.\n",
            "2021-08-31 07:32:31.880516: I tensorflow/core/common_runtime/gpu/gpu_device.cc:1510] Created device /job:localhost/replica:0/task:0/device:GPU:0 with 10819 MB memory:  -> device: 0, name: Tesla K80, pci bus id: 0000:00:04.0, compute capability: 3.7\n",
            "2021-08-31 07:32:47.720623: I tensorflow/compiler/mlir/mlir_graph_optimization_pass.cc:185] None of the MLIR Optimization Passes are enabled (registered 2)\n",
            "Epoch 1/50\n",
            "2021-08-31 07:33:19.880419: I tensorflow/stream_executor/cuda/cuda_dnn.cc:369] Loaded cuDNN version 8004\n",
            "128/128 [==============================] - 99s 502ms/step - det_loss: 0.8419 - cls_loss: 0.4785 - box_loss: 0.0073 - reg_l2_loss: 0.0631 - loss: 0.9050 - learning_rate: 0.0102 - gradient_norm: 2.3988 - val_det_loss: 0.4990 - val_cls_loss: 0.2381 - val_box_loss: 0.0052 - val_reg_l2_loss: 0.0631 - val_loss: 0.5621\n",
            "Epoch 2/50\n",
            "128/128 [==============================] - 60s 472ms/step - det_loss: 0.3249 - cls_loss: 0.1842 - box_loss: 0.0028 - reg_l2_loss: 0.0632 - loss: 0.3881 - learning_rate: 0.0125 - gradient_norm: 2.4754 - val_det_loss: 0.4216 - val_cls_loss: 0.2144 - val_box_loss: 0.0041 - val_reg_l2_loss: 0.0633 - val_loss: 0.4849\n",
            "Epoch 3/50\n",
            "128/128 [==============================] - 60s 471ms/step - det_loss: 0.2884 - cls_loss: 0.1681 - box_loss: 0.0024 - reg_l2_loss: 0.0634 - loss: 0.3518 - learning_rate: 0.0124 - gradient_norm: 2.4643 - val_det_loss: 0.3281 - val_cls_loss: 0.1994 - val_box_loss: 0.0026 - val_reg_l2_loss: 0.0635 - val_loss: 0.3916\n",
            "Epoch 4/50\n",
            "128/128 [==============================] - 61s 474ms/step - det_loss: 0.2543 - cls_loss: 0.1491 - box_loss: 0.0021 - reg_l2_loss: 0.0635 - loss: 0.3179 - learning_rate: 0.0123 - gradient_norm: 2.0357 - val_det_loss: 0.2121 - val_cls_loss: 0.1365 - val_box_loss: 0.0015 - val_reg_l2_loss: 0.0635 - val_loss: 0.2757\n",
            "Epoch 5/50\n",
            "128/128 [==============================] - 60s 471ms/step - det_loss: 0.2333 - cls_loss: 0.1394 - box_loss: 0.0019 - reg_l2_loss: 0.0636 - loss: 0.2969 - learning_rate: 0.0122 - gradient_norm: 1.9111 - val_det_loss: 0.2246 - val_cls_loss: 0.1519 - val_box_loss: 0.0015 - val_reg_l2_loss: 0.0636 - val_loss: 0.2882\n",
            "Epoch 6/50\n",
            "128/128 [==============================] - 60s 470ms/step - det_loss: 0.2198 - cls_loss: 0.1374 - box_loss: 0.0016 - reg_l2_loss: 0.0636 - loss: 0.2834 - learning_rate: 0.0121 - gradient_norm: 1.9557 - val_det_loss: 0.2259 - val_cls_loss: 0.1522 - val_box_loss: 0.0015 - val_reg_l2_loss: 0.0636 - val_loss: 0.2895\n",
            "Epoch 7/50\n",
            "128/128 [==============================] - 60s 470ms/step - det_loss: 0.2124 - cls_loss: 0.1334 - box_loss: 0.0016 - reg_l2_loss: 0.0636 - loss: 0.2761 - learning_rate: 0.0120 - gradient_norm: 1.7699 - val_det_loss: 0.2535 - val_cls_loss: 0.1672 - val_box_loss: 0.0017 - val_reg_l2_loss: 0.0637 - val_loss: 0.3171\n",
            "Epoch 8/50\n",
            "128/128 [==============================] - 60s 471ms/step - det_loss: 0.2095 - cls_loss: 0.1301 - box_loss: 0.0016 - reg_l2_loss: 0.0637 - loss: 0.2731 - learning_rate: 0.0118 - gradient_norm: 1.7376 - val_det_loss: 0.3207 - val_cls_loss: 0.1906 - val_box_loss: 0.0026 - val_reg_l2_loss: 0.0637 - val_loss: 0.3843\n",
            "Epoch 9/50\n",
            "128/128 [==============================] - 60s 471ms/step - det_loss: 0.2008 - cls_loss: 0.1286 - box_loss: 0.0014 - reg_l2_loss: 0.0637 - loss: 0.2645 - learning_rate: 0.0116 - gradient_norm: 1.6318 - val_det_loss: 0.3726 - val_cls_loss: 0.2395 - val_box_loss: 0.0027 - val_reg_l2_loss: 0.0637 - val_loss: 0.4362\n",
            "Epoch 10/50\n",
            "128/128 [==============================] - 60s 469ms/step - det_loss: 0.1837 - cls_loss: 0.1194 - box_loss: 0.0013 - reg_l2_loss: 0.0637 - loss: 0.2473 - learning_rate: 0.0114 - gradient_norm: 1.5184 - val_det_loss: 0.2243 - val_cls_loss: 0.1468 - val_box_loss: 0.0015 - val_reg_l2_loss: 0.0637 - val_loss: 0.2879\n",
            "Epoch 11/50\n",
            "128/128 [==============================] - 60s 466ms/step - det_loss: 0.1873 - cls_loss: 0.1228 - box_loss: 0.0013 - reg_l2_loss: 0.0637 - loss: 0.2510 - learning_rate: 0.0111 - gradient_norm: 1.5982 - val_det_loss: 0.2506 - val_cls_loss: 0.1679 - val_box_loss: 0.0017 - val_reg_l2_loss: 0.0636 - val_loss: 0.3143\n",
            "Epoch 12/50\n",
            "128/128 [==============================] - 60s 471ms/step - det_loss: 0.1836 - cls_loss: 0.1202 - box_loss: 0.0013 - reg_l2_loss: 0.0636 - loss: 0.2473 - learning_rate: 0.0109 - gradient_norm: 1.6248 - val_det_loss: 0.2114 - val_cls_loss: 0.1543 - val_box_loss: 0.0011 - val_reg_l2_loss: 0.0636 - val_loss: 0.2750\n",
            "Epoch 13/50\n",
            "128/128 [==============================] - 60s 472ms/step - det_loss: 0.1765 - cls_loss: 0.1170 - box_loss: 0.0012 - reg_l2_loss: 0.0636 - loss: 0.2402 - learning_rate: 0.0106 - gradient_norm: 1.5635 - val_det_loss: 0.2156 - val_cls_loss: 0.1441 - val_box_loss: 0.0014 - val_reg_l2_loss: 0.0636 - val_loss: 0.2792\n",
            "Epoch 14/50\n",
            "128/128 [==============================] - 60s 467ms/step - det_loss: 0.1770 - cls_loss: 0.1142 - box_loss: 0.0013 - reg_l2_loss: 0.0636 - loss: 0.2407 - learning_rate: 0.0103 - gradient_norm: 1.5963 - val_det_loss: 0.2241 - val_cls_loss: 0.1434 - val_box_loss: 0.0016 - val_reg_l2_loss: 0.0636 - val_loss: 0.2878\n",
            "Epoch 15/50\n",
            "128/128 [==============================] - 60s 468ms/step - det_loss: 0.1719 - cls_loss: 0.1146 - box_loss: 0.0011 - reg_l2_loss: 0.0636 - loss: 0.2355 - learning_rate: 0.0100 - gradient_norm: 1.5498 - val_det_loss: 0.2369 - val_cls_loss: 0.1624 - val_box_loss: 0.0015 - val_reg_l2_loss: 0.0636 - val_loss: 0.3006\n",
            "Epoch 16/50\n",
            "128/128 [==============================] - 60s 471ms/step - det_loss: 0.1705 - cls_loss: 0.1130 - box_loss: 0.0012 - reg_l2_loss: 0.0636 - loss: 0.2341 - learning_rate: 0.0097 - gradient_norm: 1.5345 - val_det_loss: 0.2248 - val_cls_loss: 0.1454 - val_box_loss: 0.0016 - val_reg_l2_loss: 0.0636 - val_loss: 0.2885\n",
            "Epoch 17/50\n",
            "128/128 [==============================] - 60s 468ms/step - det_loss: 0.1651 - cls_loss: 0.1099 - box_loss: 0.0011 - reg_l2_loss: 0.0636 - loss: 0.2287 - learning_rate: 0.0093 - gradient_norm: 1.5513 - val_det_loss: 0.2759 - val_cls_loss: 0.1848 - val_box_loss: 0.0018 - val_reg_l2_loss: 0.0636 - val_loss: 0.3395\n",
            "Epoch 18/50\n",
            "128/128 [==============================] - 60s 468ms/step - det_loss: 0.1626 - cls_loss: 0.1090 - box_loss: 0.0011 - reg_l2_loss: 0.0636 - loss: 0.2262 - learning_rate: 0.0090 - gradient_norm: 1.4918 - val_det_loss: 0.2235 - val_cls_loss: 0.1593 - val_box_loss: 0.0013 - val_reg_l2_loss: 0.0636 - val_loss: 0.2871\n",
            "Epoch 19/50\n",
            "128/128 [==============================] - 60s 466ms/step - det_loss: 0.1594 - cls_loss: 0.1055 - box_loss: 0.0011 - reg_l2_loss: 0.0636 - loss: 0.2229 - learning_rate: 0.0086 - gradient_norm: 1.4855 - val_det_loss: 0.2603 - val_cls_loss: 0.1789 - val_box_loss: 0.0016 - val_reg_l2_loss: 0.0636 - val_loss: 0.3239\n",
            "Epoch 20/50\n",
            "128/128 [==============================] - 60s 467ms/step - det_loss: 0.1522 - cls_loss: 0.1034 - box_loss: 9.7521e-04 - reg_l2_loss: 0.0636 - loss: 0.2157 - learning_rate: 0.0082 - gradient_norm: 1.4136 - val_det_loss: 0.2021 - val_cls_loss: 0.1405 - val_box_loss: 0.0012 - val_reg_l2_loss: 0.0636 - val_loss: 0.2657\n",
            "Epoch 21/50\n",
            "128/128 [==============================] - 60s 468ms/step - det_loss: 0.1488 - cls_loss: 0.1028 - box_loss: 9.2016e-04 - reg_l2_loss: 0.0635 - loss: 0.2124 - learning_rate: 0.0078 - gradient_norm: 1.4146 - val_det_loss: 0.2230 - val_cls_loss: 0.1606 - val_box_loss: 0.0012 - val_reg_l2_loss: 0.0635 - val_loss: 0.2865\n",
            "Epoch 22/50\n",
            "128/128 [==============================] - 60s 471ms/step - det_loss: 0.1466 - cls_loss: 0.1007 - box_loss: 9.1765e-04 - reg_l2_loss: 0.0635 - loss: 0.2101 - learning_rate: 0.0074 - gradient_norm: 1.4727 - val_det_loss: 0.2331 - val_cls_loss: 0.1635 - val_box_loss: 0.0014 - val_reg_l2_loss: 0.0635 - val_loss: 0.2966\n",
            "Epoch 23/50\n",
            "128/128 [==============================] - 60s 472ms/step - det_loss: 0.1408 - cls_loss: 0.0972 - box_loss: 8.7217e-04 - reg_l2_loss: 0.0635 - loss: 0.2043 - learning_rate: 0.0070 - gradient_norm: 1.3727 - val_det_loss: 0.2292 - val_cls_loss: 0.1626 - val_box_loss: 0.0013 - val_reg_l2_loss: 0.0635 - val_loss: 0.2927\n",
            "Epoch 24/50\n",
            "128/128 [==============================] - 60s 471ms/step - det_loss: 0.1412 - cls_loss: 0.0972 - box_loss: 8.8071e-04 - reg_l2_loss: 0.0635 - loss: 0.2047 - learning_rate: 0.0067 - gradient_norm: 1.3906 - val_det_loss: 0.2310 - val_cls_loss: 0.1707 - val_box_loss: 0.0012 - val_reg_l2_loss: 0.0635 - val_loss: 0.2944\n",
            "Epoch 25/50\n",
            "128/128 [==============================] - 61s 474ms/step - det_loss: 0.1385 - cls_loss: 0.0979 - box_loss: 8.1333e-04 - reg_l2_loss: 0.0635 - loss: 0.2020 - learning_rate: 0.0063 - gradient_norm: 1.4055 - val_det_loss: 0.2361 - val_cls_loss: 0.1635 - val_box_loss: 0.0015 - val_reg_l2_loss: 0.0635 - val_loss: 0.2996\n",
            "Epoch 26/50\n",
            "128/128 [==============================] - 60s 469ms/step - det_loss: 0.1385 - cls_loss: 0.0977 - box_loss: 8.1637e-04 - reg_l2_loss: 0.0634 - loss: 0.2020 - learning_rate: 0.0058 - gradient_norm: 1.4123 - val_det_loss: 0.2366 - val_cls_loss: 0.1588 - val_box_loss: 0.0016 - val_reg_l2_loss: 0.0634 - val_loss: 0.3000\n",
            "Epoch 27/50\n",
            "128/128 [==============================] - 60s 470ms/step - det_loss: 0.1328 - cls_loss: 0.0938 - box_loss: 7.7882e-04 - reg_l2_loss: 0.0634 - loss: 0.1962 - learning_rate: 0.0055 - gradient_norm: 1.4101 - val_det_loss: 0.2694 - val_cls_loss: 0.1861 - val_box_loss: 0.0017 - val_reg_l2_loss: 0.0634 - val_loss: 0.3329\n",
            "Epoch 28/50\n",
            "128/128 [==============================] - 60s 473ms/step - det_loss: 0.1354 - cls_loss: 0.0952 - box_loss: 8.0332e-04 - reg_l2_loss: 0.0634 - loss: 0.1988 - learning_rate: 0.0051 - gradient_norm: 1.4445 - val_det_loss: 0.2458 - val_cls_loss: 0.1712 - val_box_loss: 0.0015 - val_reg_l2_loss: 0.0634 - val_loss: 0.3092\n",
            "Epoch 29/50\n",
            "128/128 [==============================] - 60s 470ms/step - det_loss: 0.1303 - cls_loss: 0.0910 - box_loss: 7.8616e-04 - reg_l2_loss: 0.0634 - loss: 0.1937 - learning_rate: 0.0047 - gradient_norm: 1.4816 - val_det_loss: 0.2495 - val_cls_loss: 0.1851 - val_box_loss: 0.0013 - val_reg_l2_loss: 0.0634 - val_loss: 0.3129\n",
            "Epoch 30/50\n",
            "128/128 [==============================] - 60s 472ms/step - det_loss: 0.1214 - cls_loss: 0.0865 - box_loss: 6.9899e-04 - reg_l2_loss: 0.0634 - loss: 0.1848 - learning_rate: 0.0043 - gradient_norm: 1.3535 - val_det_loss: 0.2381 - val_cls_loss: 0.1762 - val_box_loss: 0.0012 - val_reg_l2_loss: 0.0634 - val_loss: 0.3015\n",
            "Epoch 31/50\n",
            "128/128 [==============================] - 60s 472ms/step - det_loss: 0.1241 - cls_loss: 0.0881 - box_loss: 7.2060e-04 - reg_l2_loss: 0.0634 - loss: 0.1875 - learning_rate: 0.0039 - gradient_norm: 1.4488 - val_det_loss: 0.2488 - val_cls_loss: 0.1792 - val_box_loss: 0.0014 - val_reg_l2_loss: 0.0633 - val_loss: 0.3122\n",
            "Epoch 32/50\n",
            "128/128 [==============================] - 60s 471ms/step - det_loss: 0.1260 - cls_loss: 0.0893 - box_loss: 7.3427e-04 - reg_l2_loss: 0.0633 - loss: 0.1893 - learning_rate: 0.0035 - gradient_norm: 1.4514 - val_det_loss: 0.2319 - val_cls_loss: 0.1668 - val_box_loss: 0.0013 - val_reg_l2_loss: 0.0633 - val_loss: 0.2953\n",
            "Epoch 33/50\n",
            "128/128 [==============================] - 60s 470ms/step - det_loss: 0.1193 - cls_loss: 0.0849 - box_loss: 6.8938e-04 - reg_l2_loss: 0.0633 - loss: 0.1827 - learning_rate: 0.0032 - gradient_norm: 1.3953 - val_det_loss: 0.2160 - val_cls_loss: 0.1493 - val_box_loss: 0.0013 - val_reg_l2_loss: 0.0633 - val_loss: 0.2793\n",
            "Epoch 34/50\n",
            "128/128 [==============================] - 60s 472ms/step - det_loss: 0.1230 - cls_loss: 0.0873 - box_loss: 7.1400e-04 - reg_l2_loss: 0.0633 - loss: 0.1863 - learning_rate: 0.0028 - gradient_norm: 1.4769 - val_det_loss: 0.2315 - val_cls_loss: 0.1647 - val_box_loss: 0.0013 - val_reg_l2_loss: 0.0633 - val_loss: 0.2948\n",
            "Epoch 35/50\n",
            "128/128 [==============================] - 60s 469ms/step - det_loss: 0.1174 - cls_loss: 0.0846 - box_loss: 6.5611e-04 - reg_l2_loss: 0.0633 - loss: 0.1807 - learning_rate: 0.0025 - gradient_norm: 1.3952 - val_det_loss: 0.2461 - val_cls_loss: 0.1744 - val_box_loss: 0.0014 - val_reg_l2_loss: 0.0633 - val_loss: 0.3094\n",
            "Epoch 36/50\n",
            "128/128 [==============================] - 60s 467ms/step - det_loss: 0.1134 - cls_loss: 0.0822 - box_loss: 6.2339e-04 - reg_l2_loss: 0.0633 - loss: 0.1767 - learning_rate: 0.0022 - gradient_norm: 1.3603 - val_det_loss: 0.2380 - val_cls_loss: 0.1708 - val_box_loss: 0.0013 - val_reg_l2_loss: 0.0633 - val_loss: 0.3013\n",
            "Epoch 37/50\n",
            "128/128 [==============================] - 60s 466ms/step - det_loss: 0.1136 - cls_loss: 0.0822 - box_loss: 6.2902e-04 - reg_l2_loss: 0.0633 - loss: 0.1769 - learning_rate: 0.0019 - gradient_norm: 1.3829 - val_det_loss: 0.2352 - val_cls_loss: 0.1712 - val_box_loss: 0.0013 - val_reg_l2_loss: 0.0633 - val_loss: 0.2985\n",
            "Epoch 38/50\n",
            "128/128 [==============================] - 60s 469ms/step - det_loss: 0.1159 - cls_loss: 0.0849 - box_loss: 6.1978e-04 - reg_l2_loss: 0.0633 - loss: 0.1792 - learning_rate: 0.0016 - gradient_norm: 1.4016 - val_det_loss: 0.2115 - val_cls_loss: 0.1538 - val_box_loss: 0.0012 - val_reg_l2_loss: 0.0633 - val_loss: 0.2748\n",
            "Epoch 39/50\n",
            "128/128 [==============================] - 60s 469ms/step - det_loss: 0.1119 - cls_loss: 0.0817 - box_loss: 6.0259e-04 - reg_l2_loss: 0.0633 - loss: 0.1751 - learning_rate: 0.0014 - gradient_norm: 1.3702 - val_det_loss: 0.2262 - val_cls_loss: 0.1594 - val_box_loss: 0.0013 - val_reg_l2_loss: 0.0633 - val_loss: 0.2894\n",
            "Epoch 40/50\n",
            "128/128 [==============================] - 59s 464ms/step - det_loss: 0.1139 - cls_loss: 0.0829 - box_loss: 6.1956e-04 - reg_l2_loss: 0.0633 - loss: 0.1772 - learning_rate: 0.0011 - gradient_norm: 1.4368 - val_det_loss: 0.2177 - val_cls_loss: 0.1599 - val_box_loss: 0.0012 - val_reg_l2_loss: 0.0633 - val_loss: 0.2809\n",
            "Epoch 41/50\n",
            "128/128 [==============================] - 60s 472ms/step - det_loss: 0.1097 - cls_loss: 0.0793 - box_loss: 6.0753e-04 - reg_l2_loss: 0.0633 - loss: 0.1730 - learning_rate: 9.0630e-04 - gradient_norm: 1.3532 - val_det_loss: 0.2182 - val_cls_loss: 0.1604 - val_box_loss: 0.0012 - val_reg_l2_loss: 0.0632 - val_loss: 0.2815\n",
            "Epoch 42/50\n",
            "128/128 [==============================] - 61s 474ms/step - det_loss: 0.1113 - cls_loss: 0.0811 - box_loss: 6.0370e-04 - reg_l2_loss: 0.0632 - loss: 0.1746 - learning_rate: 7.0973e-04 - gradient_norm: 1.4355 - val_det_loss: 0.2140 - val_cls_loss: 0.1574 - val_box_loss: 0.0011 - val_reg_l2_loss: 0.0632 - val_loss: 0.2772\n",
            "Epoch 43/50\n",
            "128/128 [==============================] - 61s 474ms/step - det_loss: 0.1091 - cls_loss: 0.0803 - box_loss: 5.7683e-04 - reg_l2_loss: 0.0632 - loss: 0.1723 - learning_rate: 5.3592e-04 - gradient_norm: 1.3944 - val_det_loss: 0.2232 - val_cls_loss: 0.1615 - val_box_loss: 0.0012 - val_reg_l2_loss: 0.0632 - val_loss: 0.2865\n",
            "Epoch 44/50\n",
            "128/128 [==============================] - 61s 474ms/step - det_loss: 0.1092 - cls_loss: 0.0805 - box_loss: 5.7398e-04 - reg_l2_loss: 0.0632 - loss: 0.1725 - learning_rate: 3.8560e-04 - gradient_norm: 1.4073 - val_det_loss: 0.2142 - val_cls_loss: 0.1561 - val_box_loss: 0.0012 - val_reg_l2_loss: 0.0632 - val_loss: 0.2775\n",
            "Epoch 45/50\n",
            "128/128 [==============================] - 61s 474ms/step - det_loss: 0.1068 - cls_loss: 0.0787 - box_loss: 5.6205e-04 - reg_l2_loss: 0.0632 - loss: 0.1700 - learning_rate: 2.5937e-04 - gradient_norm: 1.3450 - val_det_loss: 0.2106 - val_cls_loss: 0.1533 - val_box_loss: 0.0011 - val_reg_l2_loss: 0.0632 - val_loss: 0.2738\n",
            "Epoch 46/50\n",
            "128/128 [==============================] - 60s 469ms/step - det_loss: 0.1092 - cls_loss: 0.0804 - box_loss: 5.7603e-04 - reg_l2_loss: 0.0632 - loss: 0.1725 - learning_rate: 1.5776e-04 - gradient_norm: 1.3653 - val_det_loss: 0.2146 - val_cls_loss: 0.1561 - val_box_loss: 0.0012 - val_reg_l2_loss: 0.0632 - val_loss: 0.2778\n",
            "Epoch 47/50\n",
            "128/128 [==============================] - 60s 469ms/step - det_loss: 0.1060 - cls_loss: 0.0777 - box_loss: 5.6448e-04 - reg_l2_loss: 0.0632 - loss: 0.1692 - learning_rate: 8.1190e-05 - gradient_norm: 1.3638 - val_det_loss: 0.2143 - val_cls_loss: 0.1563 - val_box_loss: 0.0012 - val_reg_l2_loss: 0.0632 - val_loss: 0.2775\n",
            "Epoch 48/50\n",
            "128/128 [==============================] - 60s 472ms/step - det_loss: 0.1078 - cls_loss: 0.0790 - box_loss: 5.7573e-04 - reg_l2_loss: 0.0632 - loss: 0.1711 - learning_rate: 2.9964e-05 - gradient_norm: 1.3951 - val_det_loss: 0.2139 - val_cls_loss: 0.1563 - val_box_loss: 0.0012 - val_reg_l2_loss: 0.0632 - val_loss: 0.2771\n",
            "Epoch 49/50\n",
            "128/128 [==============================] - 60s 471ms/step - det_loss: 0.1128 - cls_loss: 0.0826 - box_loss: 6.0407e-04 - reg_l2_loss: 0.0632 - loss: 0.1760 - learning_rate: 4.2977e-06 - gradient_norm: 1.4181 - val_det_loss: 0.2138 - val_cls_loss: 0.1561 - val_box_loss: 0.0012 - val_reg_l2_loss: 0.0632 - val_loss: 0.2770\n",
            "Epoch 50/50\n",
            "128/128 [==============================] - 60s 469ms/step - det_loss: 0.1073 - cls_loss: 0.0786 - box_loss: 5.7477e-04 - reg_l2_loss: 0.0632 - loss: 0.1705 - learning_rate: 4.2962e-06 - gradient_norm: 1.3611 - val_det_loss: 0.2143 - val_cls_loss: 0.1566 - val_box_loss: 0.0012 - val_reg_l2_loss: 0.0632 - val_loss: 0.2776\n",
            "evaluate on train_data\n",
            "21/21 [==============================] - 40s 1s/step\n",
            "\n",
            "{'AP': 0.89346457, 'AP50': 1.0, 'AP75': 1.0, 'APs': -1.0, 'APm': -1.0, 'APl': 0.8935194, 'ARmax1': 0.917094, 'ARmax10': 0.9412587, 'ARmax100': 0.9444444, 'ARs': -1.0, 'ARm': -1.0, 'ARl': 0.9444444, 'AP_/megot': 0.89346457}\n",
            "evaluate on valid_data\n",
            "1/1 [==============================] - 7s 7s/step\n",
            "\n",
            "{'AP': 0.80127805, 'AP50': 1.0, 'AP75': 1.0, 'APs': -1.0, 'APm': -1.0, 'APl': 0.801324, 'ARmax1': 0.82, 'ARmax10': 0.8566667, 'ARmax100': 0.86, 'ARs': -1.0, 'ARm': -1.0, 'ARl': 0.86, 'AP_/megot': 0.80127805}\n",
            "WARNING:tensorflow:Skipping full serialization of Keras layer <tensorflow_examples.lite.model_maker.core.task.model_spec.object_detector_spec.ExportModel object at 0x7f4a4b7e7f90>, because it is not built.\n",
            "WARNING:tensorflow:Skipping full serialization of Keras layer <tensorflow_examples.lite.model_maker.core.task.model_spec.object_detector_spec.ExportModel object at 0x7f4a4b7e7f90>, because it is not built.\n",
            "2021-08-31 08:25:52.944412: W tensorflow/python/util/util.cc:348] Sets are not currently considered sequences, but this may change in the future, so consider avoiding using them.\n",
            "WARNING:absl:Found untraced functions such as restored_function_body, restored_function_body, restored_function_body, restored_function_body, restored_function_body while saving (showing 5 of 1520). These functions will not be directly callable after loading.\n",
            "2021-08-31 08:26:22.294539: W tensorflow/core/common_runtime/graph_constructor.cc:803] Node 'resample_p7/PartitionedCall' has 1 outputs but the _output_shapes attribute specifies shapes for 3 outputs. Output shapes may be inaccurate.\n",
            "2021-08-31 08:26:36.507722: W tensorflow/compiler/mlir/lite/python/tf_tfl_flatbuffer_helpers.cc:351] Ignored output_format.\n",
            "2021-08-31 08:26:36.507820: W tensorflow/compiler/mlir/lite/python/tf_tfl_flatbuffer_helpers.cc:354] Ignored drop_control_dependency.\n",
            "2021-08-31 08:26:36.507840: W tensorflow/compiler/mlir/lite/python/tf_tfl_flatbuffer_helpers.cc:360] Ignored change_concat_input_ranges.\n",
            "2021-08-31 08:26:36.508877: I tensorflow/cc/saved_model/reader.cc:38] Reading SavedModel from: /tmp/tmp5ooj_h3i\n",
            "2021-08-31 08:26:36.629581: I tensorflow/cc/saved_model/reader.cc:90] Reading meta graph with tags { serve }\n",
            "2021-08-31 08:26:36.629689: I tensorflow/cc/saved_model/reader.cc:132] Reading SavedModel debug info (if present) from: /tmp/tmp5ooj_h3i\n",
            "2021-08-31 08:26:37.090490: I tensorflow/cc/saved_model/loader.cc:211] Restoring SavedModel bundle.\n",
            "2021-08-31 08:26:38.548332: I tensorflow/cc/saved_model/loader.cc:195] Running initialization op on SavedModel bundle at path: /tmp/tmp5ooj_h3i\n",
            "2021-08-31 08:26:38.950301: I tensorflow/cc/saved_model/loader.cc:283] SavedModel load for tags { serve }; Status: success: OK. Took 2441426 microseconds.\n",
            "2021-08-31 08:26:40.118778: I tensorflow/compiler/mlir/tensorflow/utils/dump_mlir_util.cc:210] disabling MLIR crash reproducer, set env var `MLIR_CRASH_REPRODUCER_DIRECTORY` to enable.\n",
            "2021-08-31 08:26:41.396333: I tensorflow/compiler/mlir/lite/flatbuffer_export.cc:1899] Estimated count of arithmetic ops: 1.752 G  ops, equivalently 0.876 G  MACs\n",
            "fully_quantize: 0, inference_type: 6, input_inference_type: 3, output_inference_type: 0\n",
            "2021-08-31 08:28:53.424719: I tensorflow/compiler/mlir/lite/flatbuffer_export.cc:1899] Estimated count of arithmetic ops: 1.752 G  ops, equivalently 0.876 G  MACs\n",
            "WARNING:absl:For model inputs containing unsupported operations which cannot be quantized, the `inference_input_type` attribute will default to the original type.\n",
            "WARNING:tensorflow:Export a separated label file even though label file is already inside the TFLite model with metadata.\n",
            "WARNING:tensorflow:Export a separated label file even though label file is already inside the TFLite model with metadata.\n"
          ]
        },
        {
          "output_type": "execute_result",
          "data": {
            "text/plain": [
              ""
            ]
          },
          "metadata": {},
          "execution_count": 7
        }
      ]
    },
    {
      "cell_type": "markdown",
      "metadata": {
        "id": "ncJ38Ww6phEu"
      },
      "source": [
        "# Inférence\n"
      ]
    },
    {
      "cell_type": "code",
      "metadata": {
        "id": "QpNbPBp5Ht7S",
        "colab": {
          "base_uri": "https://localhost:8080/"
        },
        "outputId": "bae7c675-bf0d-4529-ec0d-d2e4acf4bb08"
      },
      "source": [
        "%%shell\n",
        "\n",
        "rm -rf /tmp/images /tmp/annotations\n",
        "unzip -q IA/data/valid_megots150images.zip -d /tmp\n",
        "\n",
        "ls /tmp/images"
      ],
      "execution_count": 8,
      "outputs": [
        {
          "output_type": "stream",
          "name": "stdout",
          "text": [
            "1608644746.jpg\t1608645649.jpg\t1608646942.jpg\t1608647303.jpg\t1608647611.jpg\n",
            "1608645146.jpg\t1608645747.jpg\t1608646972.jpg\t1608647317.jpg\t1608647715.jpg\n",
            "1608645513.jpg\t1608645788.jpg\t1608646996.jpg\t1608647434.jpg\t1608647773.jpg\n",
            "1608645529.jpg\t1608645800.jpg\t1608647099.jpg\t1608647473.jpg\t1608647849.jpg\n",
            "1608645551.jpg\t1608645936.jpg\t1608647155.jpg\t1608647544.jpg\t1608648016.jpg\n",
            "1608645605.jpg\t1608646908.jpg\t1608647288.jpg\t1608647601.jpg\t1608648090.jpg\n"
          ]
        },
        {
          "output_type": "execute_result",
          "data": {
            "text/plain": [
              ""
            ]
          },
          "metadata": {},
          "execution_count": 8
        }
      ]
    },
    {
      "cell_type": "code",
      "metadata": {
        "colab": {
          "base_uri": "https://localhost:8080/"
        },
        "id": "OoPP7iVXkLrr",
        "outputId": "ec7ef6ae-f657-42d3-fadd-519a1ca20e61"
      },
      "source": [
        "%%shell\n",
        "\n",
        "python IA/python/inference_x86.py --image /tmp/images/1608644746.jpg --tflite_model efficientdet-lite-bfc.tflite --labels bfc-labels.txt --output infer.jpg"
      ],
      "execution_count": 9,
      "outputs": [
        {
          "output_type": "stream",
          "name": "stdout",
          "text": [
            "labels : ['megot']\n",
            "created zip temporary directory: /tmp/tmpsosh3470\n",
            "open image /tmp/images/1608644746.jpg\n",
            "load model tflite efficientdet-lite-bfc.tflite\n",
            "run inference and dump the detection in the image \n",
            "2021-08-31 08:54:41.692830: I tensorflow/stream_executor/cuda/cuda_gpu_executor.cc:937] successful NUMA node read from SysFS had negative value (-1), but there must be at least one NUMA node, so returning NUMA node zero\n",
            "2021-08-31 08:54:41.748565: I tensorflow/stream_executor/cuda/cuda_gpu_executor.cc:937] successful NUMA node read from SysFS had negative value (-1), but there must be at least one NUMA node, so returning NUMA node zero\n",
            "2021-08-31 08:54:41.749508: I tensorflow/stream_executor/cuda/cuda_gpu_executor.cc:937] successful NUMA node read from SysFS had negative value (-1), but there must be at least one NUMA node, so returning NUMA node zero\n",
            "2021-08-31 08:54:41.751040: I tensorflow/stream_executor/cuda/cuda_gpu_executor.cc:937] successful NUMA node read from SysFS had negative value (-1), but there must be at least one NUMA node, so returning NUMA node zero\n",
            "2021-08-31 08:54:41.753525: I tensorflow/stream_executor/cuda/cuda_gpu_executor.cc:937] successful NUMA node read from SysFS had negative value (-1), but there must be at least one NUMA node, so returning NUMA node zero\n",
            "2021-08-31 08:54:41.754620: I tensorflow/stream_executor/cuda/cuda_gpu_executor.cc:937] successful NUMA node read from SysFS had negative value (-1), but there must be at least one NUMA node, so returning NUMA node zero\n",
            "2021-08-31 08:54:42.244490: I tensorflow/stream_executor/cuda/cuda_gpu_executor.cc:937] successful NUMA node read from SysFS had negative value (-1), but there must be at least one NUMA node, so returning NUMA node zero\n",
            "2021-08-31 08:54:42.245447: I tensorflow/stream_executor/cuda/cuda_gpu_executor.cc:937] successful NUMA node read from SysFS had negative value (-1), but there must be at least one NUMA node, so returning NUMA node zero\n",
            "2021-08-31 08:54:42.246265: I tensorflow/stream_executor/cuda/cuda_gpu_executor.cc:937] successful NUMA node read from SysFS had negative value (-1), but there must be at least one NUMA node, so returning NUMA node zero\n",
            "2021-08-31 08:54:42.247030: W tensorflow/core/common_runtime/gpu/gpu_bfc_allocator.cc:39] Overriding allow_growth setting because the TF_FORCE_GPU_ALLOW_GROWTH environment variable is set. Original config value was 0.\n",
            "2021-08-31 08:54:42.247276: I tensorflow/core/common_runtime/gpu/gpu_device.cc:1510] Created device /job:localhost/replica:0/task:0/device:GPU:0 with 10819 MB memory:  -> device: 0, name: Tesla K80, pci bus id: 0000:00:04.0, compute capability: 3.7\n",
            "detection results : [{'bounding_box': array([0.2262491 , 0.3869351 , 0.5940442 , 0.62444603], dtype=float32), 'class_id': 0.0, 'score': 0.9375}]\n"
          ]
        },
        {
          "output_type": "execute_result",
          "data": {
            "text/plain": [
              ""
            ]
          },
          "metadata": {},
          "execution_count": 9
        }
      ]
    },
    {
      "cell_type": "code",
      "metadata": {
        "id": "CdpNEgHZlTSV"
      },
      "source": [
        "from PIL import Image"
      ],
      "execution_count": 10,
      "outputs": []
    },
    {
      "cell_type": "code",
      "metadata": {
        "id": "_kgWOt7KkPJe"
      },
      "source": [
        "im = Image.open(\"infer.jpg\")"
      ],
      "execution_count": 11,
      "outputs": []
    },
    {
      "cell_type": "code",
      "metadata": {
        "id": "lvaFt_xllWUV"
      },
      "source": [
        "import matplotlib.pyplot as plt"
      ],
      "execution_count": 12,
      "outputs": []
    },
    {
      "cell_type": "code",
      "metadata": {
        "colab": {
          "base_uri": "https://localhost:8080/",
          "height": 269
        },
        "id": "IhUdtAJek0Xp",
        "outputId": "2e06a5b9-969b-4138-94e4-98f78164b461"
      },
      "source": [
        "plt.imshow(im)\n",
        "plt.show()"
      ],
      "execution_count": 13,
      "outputs": [
        {
          "output_type": "display_data",
          "data": {
            "image/png": "[encoded data removed]",
            "text/plain": [
              "<Figure size 432x288 with 1 Axes>"
            ]
          },
          "metadata": {
            "needs_background": "light"
          }
        }
      ]
    },
    {
      "cell_type": "code",
      "metadata": {
        "id": "B2__IF73sApi",
        "colab": {
          "base_uri": "https://localhost:8080/",
          "height": 17
        },
        "outputId": "4dab27b0-d0b1-4b58-ebdf-1ac66a86ea33"
      },
      "source": [
        "from google.colab import files\n",
        "files.download(\"efficientdet-lite-bfc.tflite\")\n",
        "files.download(\"bfc-labels.txt\")"
      ],
      "execution_count": 17,
      "outputs": [
        {
          "output_type": "display_data",
          "data": {
            "application/javascript": [
              "\n",
              "    async function download(id, filename, size) {\n",
              "      if (!google.colab.kernel.accessAllowed) {\n",
              "        return;\n",
              "      }\n",
              "      const div = document.createElement('div');\n",
              "      const label = document.createElement('label');\n",
              "      label.textContent = `Downloading \"${filename}\": `;\n",
              "      div.appendChild(label);\n",
              "      const progress = document.createElement('progress');\n",
              "      progress.max = size;\n",
              "      div.appendChild(progress);\n",
              "      document.body.appendChild(div);\n",
              "\n",
              "      const buffers = [];\n",
              "      let downloaded = 0;\n",
              "\n",
              "      const channel = await google.colab.kernel.comms.open(id);\n",
              "      // Send a message to notify the kernel that we're ready.\n",
              "      channel.send({})\n",
              "\n",
              "      for await (const message of channel.messages) {\n",
              "        // Send a message to notify the kernel that we're ready.\n",
              "        channel.send({})\n",
              "        if (message.buffers) {\n",
              "          for (const buffer of message.buffers) {\n",
              "            buffers.push(buffer);\n",
              "            downloaded += buffer.byteLength;\n",
              "            progress.value = downloaded;\n",
              "          }\n",
              "        }\n",
              "      }\n",
              "      const blob = new Blob(buffers, {type: 'application/binary'});\n",
              "      const a = document.createElement('a');\n",
              "      a.href = window.URL.createObjectURL(blob);\n",
              "      a.download = filename;\n",
              "      div.appendChild(a);\n",
              "      a.click();\n",
              "      div.remove();\n",
              "    }\n",
              "  "
            ],
            "text/plain": [
              "<IPython.core.display.Javascript object>"
            ]
          },
          "metadata": {}
        },
        {
          "output_type": "display_data",
          "data": {
            "application/javascript": [
              "download(\"download_a53368d4-ee61-49a2-95b5-444aa471944c\", \"efficientdet-lite-bfc.tflite\", 4427820)"
            ],
            "text/plain": [
              "<IPython.core.display.Javascript object>"
            ]
          },
          "metadata": {}
        },
        {
          "output_type": "display_data",
          "data": {
            "application/javascript": [
              "\n",
              "    async function download(id, filename, size) {\n",
              "      if (!google.colab.kernel.accessAllowed) {\n",
              "        return;\n",
              "      }\n",
              "      const div = document.createElement('div');\n",
              "      const label = document.createElement('label');\n",
              "      label.textContent = `Downloading \"${filename}\": `;\n",
              "      div.appendChild(label);\n",
              "      const progress = document.createElement('progress');\n",
              "      progress.max = size;\n",
              "      div.appendChild(progress);\n",
              "      document.body.appendChild(div);\n",
              "\n",
              "      const buffers = [];\n",
              "      let downloaded = 0;\n",
              "\n",
              "      const channel = await google.colab.kernel.comms.open(id);\n",
              "      // Send a message to notify the kernel that we're ready.\n",
              "      channel.send({})\n",
              "\n",
              "      for await (const message of channel.messages) {\n",
              "        // Send a message to notify the kernel that we're ready.\n",
              "        channel.send({})\n",
              "        if (message.buffers) {\n",
              "          for (const buffer of message.buffers) {\n",
              "            buffers.push(buffer);\n",
              "            downloaded += buffer.byteLength;\n",
              "            progress.value = downloaded;\n",
              "          }\n",
              "        }\n",
              "      }\n",
              "      const blob = new Blob(buffers, {type: 'application/binary'});\n",
              "      const a = document.createElement('a');\n",
              "      a.href = window.URL.createObjectURL(blob);\n",
              "      a.download = filename;\n",
              "      div.appendChild(a);\n",
              "      a.click();\n",
              "      div.remove();\n",
              "    }\n",
              "  "
            ],
            "text/plain": [
              "<IPython.core.display.Javascript object>"
            ]
          },
          "metadata": {}
        },
        {
          "output_type": "display_data",
          "data": {
            "application/javascript": [
              "download(\"download_7968dcd7-f834-4456-af82-2dc677eeb584\", \"bfc-labels.txt\", 10)"
            ],
            "text/plain": [
              "<IPython.core.display.Javascript object>"
            ]
          },
          "metadata": {}
        }
      ]
    },
    {
      "cell_type": "code",
      "metadata": {
        "id": "hIRfhTRJa_X4"
      },
      "source": [
        ""
      ],
      "execution_count": null,
      "outputs": []
    }
  ]
}