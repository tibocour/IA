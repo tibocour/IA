{
  "nbformat": 4,
  "nbformat_minor": 0,
  "metadata": {
    "accelerator": "GPU",
    "colab": {
      "name": "train_tflite_model.ipynb",
      "provenance": [],
      "collapsed_sections": []
    },
    "kernelspec": {
      "display_name": "Python 3",
      "name": "python3"
    },
    "language_info": {
      "name": "python"
    }
  },
  "cells": [
    {
      "cell_type": "markdown",
      "metadata": {
        "id": "2n2UNZwpmCGm"
      },
      "source": [
        "# Utilisation des scripts\n",
        "\n",
        "Ce notebook vise à montrer l'utilisation des scripts du projet afin d'effectuer un entrainement et une inférence."
      ]
    },
    {
      "cell_type": "code",
      "metadata": {
        "colab": {
          "base_uri": "https://localhost:8080/"
        },
        "id": "E0aWpDFlcUME",
        "outputId": "6f164384-4a69-4cb1-822c-b45b22c14f04"
      },
      "source": [
        "%%shell\n",
        "\n",
        "nvidia-smi"
      ],
      "execution_count": 1,
      "outputs": [
        {
          "output_type": "stream",
          "name": "stdout",
          "text": [
            "Tue Aug 31 12:40:06 2021       \n",
            "+-----------------------------------------------------------------------------+\n",
            "| NVIDIA-SMI 470.57.02    Driver Version: 460.32.03    CUDA Version: 11.2     |\n",
            "|-------------------------------+----------------------+----------------------+\n",
            "| GPU  Name        Persistence-M| Bus-Id        Disp.A | Volatile Uncorr. ECC |\n",
            "| Fan  Temp  Perf  Pwr:Usage/Cap|         Memory-Usage | GPU-Util  Compute M. |\n",
            "|                               |                      |               MIG M. |\n",
            "|===============================+======================+======================|\n",
            "|   0  Tesla K80           Off  | 00000000:00:04.0 Off |                    0 |\n",
            "| N/A   39C    P8    28W / 149W |      0MiB / 11441MiB |      0%      Default |\n",
            "|                               |                      |                  N/A |\n",
            "+-------------------------------+----------------------+----------------------+\n",
            "                                                                               \n",
            "+-----------------------------------------------------------------------------+\n",
            "| Processes:                                                                  |\n",
            "|  GPU   GI   CI        PID   Type   Process name                  GPU Memory |\n",
            "|        ID   ID                                                   Usage      |\n",
            "|=============================================================================|\n",
            "|  No running processes found                                                 |\n",
            "+-----------------------------------------------------------------------------+\n"
          ]
        },
        {
          "output_type": "execute_result",
          "data": {
            "text/plain": [
              ""
            ]
          },
          "metadata": {},
          "execution_count": 1
        }
      ]
    },
    {
      "cell_type": "markdown",
      "metadata": {
        "id": "JVf_sKXN9H9f"
      },
      "source": [
        "# Installation du projet `bfc` et accès aux données\n",
        "\n",
        "Les login et mot de passe sont nécessaires pour accéder à des repos privés à partir de Google/Colab. Cela ne serait pas le cas en accès public."
      ]
    },
    {
      "cell_type": "code",
      "metadata": {
        "id": "CPOKLGaw9Qhx"
      },
      "source": [
        "import os\n",
        "from getpass import getpass"
      ],
      "execution_count": 2,
      "outputs": []
    },
    {
      "cell_type": "code",
      "metadata": {
        "colab": {
          "base_uri": "https://localhost:8080/"
        },
        "id": "36zlJOI5A0Go",
        "outputId": "418c58c8-db01-46c3-c1ac-f25b858c0eaf"
      },
      "source": [
        "user = getpass('GitHub user')\n",
        "password = getpass('GitHub password')\n",
        "os.environ['GITHUB_AUTH'] = user + ':' + password"
      ],
      "execution_count": 3,
      "outputs": [
        {
          "name": "stdout",
          "output_type": "stream",
          "text": [
            "GitHub user··········\n",
            "GitHub password··········\n"
          ]
        }
      ]
    },
    {
      "cell_type": "code",
      "metadata": {
        "colab": {
          "base_uri": "https://localhost:8080/"
        },
        "id": "nF7dOnmdAc71",
        "outputId": "3ce1332e-da8f-4725-9161-066fa67890b8"
      },
      "source": [
        "%%shell\n",
        "\n",
        "git clone https://$GITHUB_AUTH@github.com/tibocour/IA.git"
      ],
      "execution_count": 4,
      "outputs": [
        {
          "output_type": "stream",
          "name": "stdout",
          "text": [
            "Cloning into 'IA'...\n",
            "remote: Enumerating objects: 86, done.\u001b[K\n",
            "remote: Counting objects: 100% (86/86), done.\u001b[K\n",
            "remote: Compressing objects: 100% (60/60), done.\u001b[K\n",
            "remote: Total 86 (delta 36), reused 70 (delta 20), pack-reused 0\u001b[K\n",
            "Unpacking objects: 100% (86/86), done.\n"
          ]
        },
        {
          "output_type": "execute_result",
          "data": {
            "text/plain": [
              ""
            ]
          },
          "metadata": {},
          "execution_count": 4
        }
      ]
    },
    {
      "cell_type": "markdown",
      "metadata": {
        "id": "pGC1hAM2nHu1"
      },
      "source": [
        "# Installation des dépendances"
      ]
    },
    {
      "cell_type": "code",
      "metadata": {
        "colab": {
          "base_uri": "https://localhost:8080/"
        },
        "id": "0NA-ih6CBXLN",
        "outputId": "970cff38-bd25-46a0-8e0b-74addca444e3"
      },
      "source": [
        "%%shell\n",
        "\n",
        "pip install -r IA/requirements.txt"
      ],
      "execution_count": 5,
      "outputs": [
        {
          "output_type": "stream",
          "name": "stdout",
          "text": [
            "Requirement already satisfied: imgaug in /usr/local/lib/python3.7/dist-packages (from -r IA/requirements.txt (line 1)) (0.2.9)\n",
            "Collecting pascal-voc-writer\n",
            "  Downloading pascal_voc_writer-0.1.4-py2.py3-none-any.whl (4.0 kB)\n",
            "Collecting tflite-model-maker-nightly\n",
            "  Downloading tflite_model_maker_nightly-0.3.4.dev202108310559-py3-none-any.whl (620 kB)\n",
            "\u001b[K     |████████████████████████████████| 620 kB 5.4 MB/s \n",
            "\u001b[?25hRequirement already satisfied: pycocotools in /usr/local/lib/python3.7/dist-packages (from -r IA/requirements.txt (line 4)) (2.0.2)\n",
            "Requirement already satisfied: scipy in /usr/local/lib/python3.7/dist-packages (from imgaug->-r IA/requirements.txt (line 1)) (1.4.1)\n",
            "Requirement already satisfied: scikit-image>=0.11.0 in /usr/local/lib/python3.7/dist-packages (from imgaug->-r IA/requirements.txt (line 1)) (0.16.2)\n",
            "Requirement already satisfied: opencv-python in /usr/local/lib/python3.7/dist-packages (from imgaug->-r IA/requirements.txt (line 1)) (4.1.2.30)\n",
            "Requirement already satisfied: Shapely in /usr/local/lib/python3.7/dist-packages (from imgaug->-r IA/requirements.txt (line 1)) (1.7.1)\n",
            "Requirement already satisfied: matplotlib in /usr/local/lib/python3.7/dist-packages (from imgaug->-r IA/requirements.txt (line 1)) (3.2.2)\n",
            "Requirement already satisfied: six in /usr/local/lib/python3.7/dist-packages (from imgaug->-r IA/requirements.txt (line 1)) (1.15.0)\n",
            "Requirement already satisfied: Pillow in /usr/local/lib/python3.7/dist-packages (from imgaug->-r IA/requirements.txt (line 1)) (7.1.2)\n",
            "Requirement already satisfied: numpy>=1.15.0 in /usr/local/lib/python3.7/dist-packages (from imgaug->-r IA/requirements.txt (line 1)) (1.19.5)\n",
            "Requirement already satisfied: imageio in /usr/local/lib/python3.7/dist-packages (from imgaug->-r IA/requirements.txt (line 1)) (2.4.1)\n",
            "Requirement already satisfied: networkx>=2.0 in /usr/local/lib/python3.7/dist-packages (from scikit-image>=0.11.0->imgaug->-r IA/requirements.txt (line 1)) (2.6.2)\n",
            "Requirement already satisfied: PyWavelets>=0.4.0 in /usr/local/lib/python3.7/dist-packages (from scikit-image>=0.11.0->imgaug->-r IA/requirements.txt (line 1)) (1.1.1)\n",
            "Requirement already satisfied: pyparsing!=2.0.4,!=2.1.2,!=2.1.6,>=2.0.1 in /usr/local/lib/python3.7/dist-packages (from matplotlib->imgaug->-r IA/requirements.txt (line 1)) (2.4.7)\n",
            "Requirement already satisfied: cycler>=0.10 in /usr/local/lib/python3.7/dist-packages (from matplotlib->imgaug->-r IA/requirements.txt (line 1)) (0.10.0)\n",
            "Requirement already satisfied: kiwisolver>=1.0.1 in /usr/local/lib/python3.7/dist-packages (from matplotlib->imgaug->-r IA/requirements.txt (line 1)) (1.3.1)\n",
            "Requirement already satisfied: python-dateutil>=2.1 in /usr/local/lib/python3.7/dist-packages (from matplotlib->imgaug->-r IA/requirements.txt (line 1)) (2.8.2)\n",
            "Requirement already satisfied: jinja2 in /usr/local/lib/python3.7/dist-packages (from pascal-voc-writer->-r IA/requirements.txt (line 2)) (2.11.3)\n",
            "Collecting lxml>=4.6.1\n",
            "  Downloading lxml-4.6.3-cp37-cp37m-manylinux2014_x86_64.whl (6.3 MB)\n",
            "\u001b[K     |████████████████████████████████| 6.3 MB 27.3 MB/s \n",
            "\u001b[?25hRequirement already satisfied: tensorflow==2.6.0 in /usr/local/lib/python3.7/dist-packages (from tflite-model-maker-nightly->-r IA/requirements.txt (line 3)) (2.6.0)\n",
            "Requirement already satisfied: librosa==0.8.1 in /usr/local/lib/python3.7/dist-packages (from tflite-model-maker-nightly->-r IA/requirements.txt (line 3)) (0.8.1)\n",
            "Collecting tf-models-official==2.3.0\n",
            "  Downloading tf_models_official-2.3.0-py2.py3-none-any.whl (840 kB)\n",
            "\u001b[K     |████████████████████████████████| 840 kB 45.2 MB/s \n",
            "\u001b[?25hCollecting fire>=0.3.1\n",
            "  Downloading fire-0.4.0.tar.gz (87 kB)\n",
            "\u001b[K     |████████████████████████████████| 87 kB 6.3 MB/s \n",
            "\u001b[?25hRequirement already satisfied: absl-py>=0.10.0 in /usr/local/lib/python3.7/dist-packages (from tflite-model-maker-nightly->-r IA/requirements.txt (line 3)) (0.12.0)\n",
            "Requirement already satisfied: urllib3!=1.25.0,!=1.25.1,<1.26,>=1.21.1 in /usr/local/lib/python3.7/dist-packages (from tflite-model-maker-nightly->-r IA/requirements.txt (line 3)) (1.24.3)\n",
            "Requirement already satisfied: Cython>=0.29.13 in /usr/local/lib/python3.7/dist-packages (from tflite-model-maker-nightly->-r IA/requirements.txt (line 3)) (0.29.24)\n",
            "Collecting tensorflow-model-optimization>=0.5\n",
            "  Downloading tensorflow_model_optimization-0.6.0-py2.py3-none-any.whl (211 kB)\n",
            "\u001b[K     |████████████████████████████████| 211 kB 45.9 MB/s \n",
            "\u001b[?25hCollecting tflite-support-nightly\n",
            "  Downloading tflite_support_nightly-0.1.0.dev20210830-cp37-cp37m-manylinux_2_12_x86_64.manylinux2010_x86_64.whl (1.1 MB)\n",
            "\u001b[K     |████████████████████████████████| 1.1 MB 39.0 MB/s \n",
            "\u001b[?25hRequirement already satisfied: tensorflow-datasets>=2.1.0 in /usr/local/lib/python3.7/dist-packages (from tflite-model-maker-nightly->-r IA/requirements.txt (line 3)) (4.0.1)\n",
            "Collecting neural-structured-learning>=1.3.1\n",
            "  Downloading neural_structured_learning-1.3.1-py2.py3-none-any.whl (120 kB)\n",
            "\u001b[K     |████████████████████████████████| 120 kB 48.3 MB/s \n",
            "\u001b[?25hCollecting PyYAML>=5.1\n",
            "  Downloading PyYAML-5.4.1-cp37-cp37m-manylinux1_x86_64.whl (636 kB)\n",
            "\u001b[K     |████████████████████████████████| 636 kB 44.1 MB/s \n",
            "\u001b[?25hRequirement already satisfied: tensorflow-hub<0.13,>=0.7.0 in /usr/local/lib/python3.7/dist-packages (from tflite-model-maker-nightly->-r IA/requirements.txt (line 3)) (0.12.0)\n",
            "Collecting tfa-nightly\n",
            "  Downloading tfa_nightly-0.15.0.dev20210825184357-cp37-cp37m-manylinux_2_12_x86_64.manylinux2010_x86_64.whl (1.1 MB)\n",
            "\u001b[K     |████████████████████████████████| 1.1 MB 43.7 MB/s \n",
            "\u001b[?25hCollecting sentencepiece>=0.1.91\n",
            "  Downloading sentencepiece-0.1.96-cp37-cp37m-manylinux_2_17_x86_64.manylinux2014_x86_64.whl (1.2 MB)\n",
            "\u001b[K     |████████████████████████████████| 1.2 MB 32.9 MB/s \n",
            "\u001b[?25hCollecting numba==0.53\n",
            "  Downloading numba-0.53.0-cp37-cp37m-manylinux2014_x86_64.whl (3.4 MB)\n",
            "\u001b[K     |████████████████████████████████| 3.4 MB 35.2 MB/s \n",
            "\u001b[?25hRequirement already satisfied: flatbuffers==1.12 in /usr/local/lib/python3.7/dist-packages (from tflite-model-maker-nightly->-r IA/requirements.txt (line 3)) (1.12)\n",
            "Requirement already satisfied: pooch>=1.0 in /usr/local/lib/python3.7/dist-packages (from librosa==0.8.1->tflite-model-maker-nightly->-r IA/requirements.txt (line 3)) (1.4.0)\n",
            "Requirement already satisfied: joblib>=0.14 in /usr/local/lib/python3.7/dist-packages (from librosa==0.8.1->tflite-model-maker-nightly->-r IA/requirements.txt (line 3)) (1.0.1)\n",
            "Requirement already satisfied: audioread>=2.0.0 in /usr/local/lib/python3.7/dist-packages (from librosa==0.8.1->tflite-model-maker-nightly->-r IA/requirements.txt (line 3)) (2.1.9)\n",
            "Requirement already satisfied: decorator>=3.0.0 in /usr/local/lib/python3.7/dist-packages (from librosa==0.8.1->tflite-model-maker-nightly->-r IA/requirements.txt (line 3)) (4.4.2)\n",
            "Requirement already satisfied: packaging>=20.0 in /usr/local/lib/python3.7/dist-packages (from librosa==0.8.1->tflite-model-maker-nightly->-r IA/requirements.txt (line 3)) (21.0)\n",
            "Requirement already satisfied: resampy>=0.2.2 in /usr/local/lib/python3.7/dist-packages (from librosa==0.8.1->tflite-model-maker-nightly->-r IA/requirements.txt (line 3)) (0.2.2)\n",
            "Requirement already satisfied: scikit-learn!=0.19.0,>=0.14.0 in /usr/local/lib/python3.7/dist-packages (from librosa==0.8.1->tflite-model-maker-nightly->-r IA/requirements.txt (line 3)) (0.22.2.post1)\n",
            "Requirement already satisfied: soundfile>=0.10.2 in /usr/local/lib/python3.7/dist-packages (from librosa==0.8.1->tflite-model-maker-nightly->-r IA/requirements.txt (line 3)) (0.10.3.post1)\n",
            "Requirement already satisfied: setuptools in /usr/local/lib/python3.7/dist-packages (from numba==0.53->tflite-model-maker-nightly->-r IA/requirements.txt (line 3)) (57.4.0)\n",
            "Collecting llvmlite<0.37,>=0.36.0rc1\n",
            "  Downloading llvmlite-0.36.0-cp37-cp37m-manylinux2010_x86_64.whl (25.3 MB)\n",
            "\u001b[K     |████████████████████████████████| 25.3 MB 73 kB/s \n",
            "\u001b[?25hRequirement already satisfied: keras~=2.6 in /usr/local/lib/python3.7/dist-packages (from tensorflow==2.6.0->tflite-model-maker-nightly->-r IA/requirements.txt (line 3)) (2.6.0)\n",
            "Requirement already satisfied: typing-extensions~=3.7.4 in /usr/local/lib/python3.7/dist-packages (from tensorflow==2.6.0->tflite-model-maker-nightly->-r IA/requirements.txt (line 3)) (3.7.4.3)\n",
            "Requirement already satisfied: grpcio<2.0,>=1.37.0 in /usr/local/lib/python3.7/dist-packages (from tensorflow==2.6.0->tflite-model-maker-nightly->-r IA/requirements.txt (line 3)) (1.39.0)\n",
            "Requirement already satisfied: gast==0.4.0 in /usr/local/lib/python3.7/dist-packages (from tensorflow==2.6.0->tflite-model-maker-nightly->-r IA/requirements.txt (line 3)) (0.4.0)\n",
            "Requirement already satisfied: termcolor~=1.1.0 in /usr/local/lib/python3.7/dist-packages (from tensorflow==2.6.0->tflite-model-maker-nightly->-r IA/requirements.txt (line 3)) (1.1.0)\n",
            "Requirement already satisfied: tensorflow-estimator~=2.6 in /usr/local/lib/python3.7/dist-packages (from tensorflow==2.6.0->tflite-model-maker-nightly->-r IA/requirements.txt (line 3)) (2.6.0)\n",
            "Requirement already satisfied: protobuf>=3.9.2 in /usr/local/lib/python3.7/dist-packages (from tensorflow==2.6.0->tflite-model-maker-nightly->-r IA/requirements.txt (line 3)) (3.17.3)\n",
            "Requirement already satisfied: h5py~=3.1.0 in /usr/local/lib/python3.7/dist-packages (from tensorflow==2.6.0->tflite-model-maker-nightly->-r IA/requirements.txt (line 3)) (3.1.0)\n",
            "Requirement already satisfied: clang~=5.0 in /usr/local/lib/python3.7/dist-packages (from tensorflow==2.6.0->tflite-model-maker-nightly->-r IA/requirements.txt (line 3)) (5.0)\n",
            "Requirement already satisfied: tensorboard~=2.6 in /usr/local/lib/python3.7/dist-packages (from tensorflow==2.6.0->tflite-model-maker-nightly->-r IA/requirements.txt (line 3)) (2.6.0)\n",
            "Requirement already satisfied: astunparse~=1.6.3 in /usr/local/lib/python3.7/dist-packages (from tensorflow==2.6.0->tflite-model-maker-nightly->-r IA/requirements.txt (line 3)) (1.6.3)\n",
            "Requirement already satisfied: wheel~=0.35 in /usr/local/lib/python3.7/dist-packages (from tensorflow==2.6.0->tflite-model-maker-nightly->-r IA/requirements.txt (line 3)) (0.37.0)\n",
            "Requirement already satisfied: wrapt~=1.12.1 in /usr/local/lib/python3.7/dist-packages (from tensorflow==2.6.0->tflite-model-maker-nightly->-r IA/requirements.txt (line 3)) (1.12.1)\n",
            "Requirement already satisfied: google-pasta~=0.2 in /usr/local/lib/python3.7/dist-packages (from tensorflow==2.6.0->tflite-model-maker-nightly->-r IA/requirements.txt (line 3)) (0.2.0)\n",
            "Requirement already satisfied: opt-einsum~=3.3.0 in /usr/local/lib/python3.7/dist-packages (from tensorflow==2.6.0->tflite-model-maker-nightly->-r IA/requirements.txt (line 3)) (3.3.0)\n",
            "Requirement already satisfied: keras-preprocessing~=1.1.2 in /usr/local/lib/python3.7/dist-packages (from tensorflow==2.6.0->tflite-model-maker-nightly->-r IA/requirements.txt (line 3)) (1.1.2)\n",
            "Requirement already satisfied: gin-config in /usr/local/lib/python3.7/dist-packages (from tf-models-official==2.3.0->tflite-model-maker-nightly->-r IA/requirements.txt (line 3)) (0.4.0)\n",
            "Collecting py-cpuinfo>=3.3.0\n",
            "  Downloading py-cpuinfo-8.0.0.tar.gz (99 kB)\n",
            "\u001b[K     |████████████████████████████████| 99 kB 8.4 MB/s \n",
            "\u001b[?25hCollecting opencv-python-headless\n",
            "  Downloading opencv_python_headless-4.5.3.56-cp37-cp37m-manylinux2014_x86_64.whl (37.1 MB)\n",
            "\u001b[K     |████████████████████████████████| 37.1 MB 38 kB/s \n",
            "\u001b[?25hCollecting dataclasses\n",
            "  Downloading dataclasses-0.6-py3-none-any.whl (14 kB)\n",
            "Requirement already satisfied: psutil>=5.4.3 in /usr/local/lib/python3.7/dist-packages (from tf-models-official==2.3.0->tflite-model-maker-nightly->-r IA/requirements.txt (line 3)) (5.4.8)\n",
            "Collecting tf-slim>=1.1.0\n",
            "  Downloading tf_slim-1.1.0-py2.py3-none-any.whl (352 kB)\n",
            "\u001b[K     |████████████████████████████████| 352 kB 46.3 MB/s \n",
            "\u001b[?25hRequirement already satisfied: kaggle>=1.3.9 in /usr/local/lib/python3.7/dist-packages (from tf-models-official==2.3.0->tflite-model-maker-nightly->-r IA/requirements.txt (line 3)) (1.5.12)\n",
            "Collecting tensorflow-addons\n",
            "  Downloading tensorflow_addons-0.14.0-cp37-cp37m-manylinux_2_12_x86_64.manylinux2010_x86_64.whl (1.1 MB)\n",
            "\u001b[K     |████████████████████████████████| 1.1 MB 36.7 MB/s \n",
            "\u001b[?25hRequirement already satisfied: google-api-python-client>=1.6.7 in /usr/local/lib/python3.7/dist-packages (from tf-models-official==2.3.0->tflite-model-maker-nightly->-r IA/requirements.txt (line 3)) (1.12.8)\n",
            "Requirement already satisfied: pandas>=0.22.0 in /usr/local/lib/python3.7/dist-packages (from tf-models-official==2.3.0->tflite-model-maker-nightly->-r IA/requirements.txt (line 3)) (1.1.5)\n",
            "Requirement already satisfied: google-cloud-bigquery>=0.31.0 in /usr/local/lib/python3.7/dist-packages (from tf-models-official==2.3.0->tflite-model-maker-nightly->-r IA/requirements.txt (line 3)) (1.21.0)\n",
            "Requirement already satisfied: google-api-core<2dev,>=1.21.0 in /usr/local/lib/python3.7/dist-packages (from google-api-python-client>=1.6.7->tf-models-official==2.3.0->tflite-model-maker-nightly->-r IA/requirements.txt (line 3)) (1.26.3)\n",
            "Requirement already satisfied: google-auth>=1.16.0 in /usr/local/lib/python3.7/dist-packages (from google-api-python-client>=1.6.7->tf-models-official==2.3.0->tflite-model-maker-nightly->-r IA/requirements.txt (line 3)) (1.34.0)\n",
            "Requirement already satisfied: httplib2<1dev,>=0.15.0 in /usr/local/lib/python3.7/dist-packages (from google-api-python-client>=1.6.7->tf-models-official==2.3.0->tflite-model-maker-nightly->-r IA/requirements.txt (line 3)) (0.17.4)\n",
            "Requirement already satisfied: google-auth-httplib2>=0.0.3 in /usr/local/lib/python3.7/dist-packages (from google-api-python-client>=1.6.7->tf-models-official==2.3.0->tflite-model-maker-nightly->-r IA/requirements.txt (line 3)) (0.0.4)\n",
            "Requirement already satisfied: uritemplate<4dev,>=3.0.0 in /usr/local/lib/python3.7/dist-packages (from google-api-python-client>=1.6.7->tf-models-official==2.3.0->tflite-model-maker-nightly->-r IA/requirements.txt (line 3)) (3.0.1)\n",
            "Requirement already satisfied: requests<3.0.0dev,>=2.18.0 in /usr/local/lib/python3.7/dist-packages (from google-api-core<2dev,>=1.21.0->google-api-python-client>=1.6.7->tf-models-official==2.3.0->tflite-model-maker-nightly->-r IA/requirements.txt (line 3)) (2.23.0)\n",
            "Requirement already satisfied: googleapis-common-protos<2.0dev,>=1.6.0 in /usr/local/lib/python3.7/dist-packages (from google-api-core<2dev,>=1.21.0->google-api-python-client>=1.6.7->tf-models-official==2.3.0->tflite-model-maker-nightly->-r IA/requirements.txt (line 3)) (1.53.0)\n",
            "Requirement already satisfied: pytz in /usr/local/lib/python3.7/dist-packages (from google-api-core<2dev,>=1.21.0->google-api-python-client>=1.6.7->tf-models-official==2.3.0->tflite-model-maker-nightly->-r IA/requirements.txt (line 3)) (2018.9)\n",
            "Requirement already satisfied: cachetools<5.0,>=2.0.0 in /usr/local/lib/python3.7/dist-packages (from google-auth>=1.16.0->google-api-python-client>=1.6.7->tf-models-official==2.3.0->tflite-model-maker-nightly->-r IA/requirements.txt (line 3)) (4.2.2)\n",
            "Requirement already satisfied: pyasn1-modules>=0.2.1 in /usr/local/lib/python3.7/dist-packages (from google-auth>=1.16.0->google-api-python-client>=1.6.7->tf-models-official==2.3.0->tflite-model-maker-nightly->-r IA/requirements.txt (line 3)) (0.2.8)\n",
            "Requirement already satisfied: rsa<5,>=3.1.4 in /usr/local/lib/python3.7/dist-packages (from google-auth>=1.16.0->google-api-python-client>=1.6.7->tf-models-official==2.3.0->tflite-model-maker-nightly->-r IA/requirements.txt (line 3)) (4.7.2)\n",
            "Requirement already satisfied: google-cloud-core<2.0dev,>=1.0.3 in /usr/local/lib/python3.7/dist-packages (from google-cloud-bigquery>=0.31.0->tf-models-official==2.3.0->tflite-model-maker-nightly->-r IA/requirements.txt (line 3)) (1.0.3)\n",
            "Requirement already satisfied: google-resumable-media!=0.4.0,<0.5.0dev,>=0.3.1 in /usr/local/lib/python3.7/dist-packages (from google-cloud-bigquery>=0.31.0->tf-models-official==2.3.0->tflite-model-maker-nightly->-r IA/requirements.txt (line 3)) (0.4.1)\n",
            "Requirement already satisfied: cached-property in /usr/local/lib/python3.7/dist-packages (from h5py~=3.1.0->tensorflow==2.6.0->tflite-model-maker-nightly->-r IA/requirements.txt (line 3)) (1.5.2)\n",
            "Requirement already satisfied: tqdm in /usr/local/lib/python3.7/dist-packages (from kaggle>=1.3.9->tf-models-official==2.3.0->tflite-model-maker-nightly->-r IA/requirements.txt (line 3)) (4.62.0)\n",
            "Requirement already satisfied: python-slugify in /usr/local/lib/python3.7/dist-packages (from kaggle>=1.3.9->tf-models-official==2.3.0->tflite-model-maker-nightly->-r IA/requirements.txt (line 3)) (5.0.2)\n",
            "Requirement already satisfied: certifi in /usr/local/lib/python3.7/dist-packages (from kaggle>=1.3.9->tf-models-official==2.3.0->tflite-model-maker-nightly->-r IA/requirements.txt (line 3)) (2021.5.30)\n",
            "Requirement already satisfied: attrs in /usr/local/lib/python3.7/dist-packages (from neural-structured-learning>=1.3.1->tflite-model-maker-nightly->-r IA/requirements.txt (line 3)) (21.2.0)\n",
            "Requirement already satisfied: appdirs in /usr/local/lib/python3.7/dist-packages (from pooch>=1.0->librosa==0.8.1->tflite-model-maker-nightly->-r IA/requirements.txt (line 3)) (1.4.4)\n",
            "Requirement already satisfied: pyasn1<0.5.0,>=0.4.6 in /usr/local/lib/python3.7/dist-packages (from pyasn1-modules>=0.2.1->google-auth>=1.16.0->google-api-python-client>=1.6.7->tf-models-official==2.3.0->tflite-model-maker-nightly->-r IA/requirements.txt (line 3)) (0.4.8)\n",
            "Requirement already satisfied: chardet<4,>=3.0.2 in /usr/local/lib/python3.7/dist-packages (from requests<3.0.0dev,>=2.18.0->google-api-core<2dev,>=1.21.0->google-api-python-client>=1.6.7->tf-models-official==2.3.0->tflite-model-maker-nightly->-r IA/requirements.txt (line 3)) (3.0.4)\n",
            "Requirement already satisfied: idna<3,>=2.5 in /usr/local/lib/python3.7/dist-packages (from requests<3.0.0dev,>=2.18.0->google-api-core<2dev,>=1.21.0->google-api-python-client>=1.6.7->tf-models-official==2.3.0->tflite-model-maker-nightly->-r IA/requirements.txt (line 3)) (2.10)\n",
            "Requirement already satisfied: cffi>=1.0 in /usr/local/lib/python3.7/dist-packages (from soundfile>=0.10.2->librosa==0.8.1->tflite-model-maker-nightly->-r IA/requirements.txt (line 3)) (1.14.6)\n",
            "Requirement already satisfied: pycparser in /usr/local/lib/python3.7/dist-packages (from cffi>=1.0->soundfile>=0.10.2->librosa==0.8.1->tflite-model-maker-nightly->-r IA/requirements.txt (line 3)) (2.20)\n",
            "Requirement already satisfied: markdown>=2.6.8 in /usr/local/lib/python3.7/dist-packages (from tensorboard~=2.6->tensorflow==2.6.0->tflite-model-maker-nightly->-r IA/requirements.txt (line 3)) (3.3.4)\n",
            "Requirement already satisfied: tensorboard-data-server<0.7.0,>=0.6.0 in /usr/local/lib/python3.7/dist-packages (from tensorboard~=2.6->tensorflow==2.6.0->tflite-model-maker-nightly->-r IA/requirements.txt (line 3)) (0.6.1)\n",
            "Requirement already satisfied: google-auth-oauthlib<0.5,>=0.4.1 in /usr/local/lib/python3.7/dist-packages (from tensorboard~=2.6->tensorflow==2.6.0->tflite-model-maker-nightly->-r IA/requirements.txt (line 3)) (0.4.5)\n",
            "Requirement already satisfied: tensorboard-plugin-wit>=1.6.0 in /usr/local/lib/python3.7/dist-packages (from tensorboard~=2.6->tensorflow==2.6.0->tflite-model-maker-nightly->-r IA/requirements.txt (line 3)) (1.8.0)\n",
            "Requirement already satisfied: werkzeug>=0.11.15 in /usr/local/lib/python3.7/dist-packages (from tensorboard~=2.6->tensorflow==2.6.0->tflite-model-maker-nightly->-r IA/requirements.txt (line 3)) (1.0.1)\n",
            "Requirement already satisfied: requests-oauthlib>=0.7.0 in /usr/local/lib/python3.7/dist-packages (from google-auth-oauthlib<0.5,>=0.4.1->tensorboard~=2.6->tensorflow==2.6.0->tflite-model-maker-nightly->-r IA/requirements.txt (line 3)) (1.3.0)\n",
            "Requirement already satisfied: importlib-metadata in /usr/local/lib/python3.7/dist-packages (from markdown>=2.6.8->tensorboard~=2.6->tensorflow==2.6.0->tflite-model-maker-nightly->-r IA/requirements.txt (line 3)) (4.6.4)\n",
            "Requirement already satisfied: oauthlib>=3.0.0 in /usr/local/lib/python3.7/dist-packages (from requests-oauthlib>=0.7.0->google-auth-oauthlib<0.5,>=0.4.1->tensorboard~=2.6->tensorflow==2.6.0->tflite-model-maker-nightly->-r IA/requirements.txt (line 3)) (3.1.1)\n",
            "Requirement already satisfied: importlib-resources in /usr/local/lib/python3.7/dist-packages (from tensorflow-datasets>=2.1.0->tflite-model-maker-nightly->-r IA/requirements.txt (line 3)) (5.2.2)\n",
            "Requirement already satisfied: dm-tree in /usr/local/lib/python3.7/dist-packages (from tensorflow-datasets>=2.1.0->tflite-model-maker-nightly->-r IA/requirements.txt (line 3)) (0.1.6)\n",
            "Requirement already satisfied: future in /usr/local/lib/python3.7/dist-packages (from tensorflow-datasets>=2.1.0->tflite-model-maker-nightly->-r IA/requirements.txt (line 3)) (0.16.0)\n",
            "Requirement already satisfied: promise in /usr/local/lib/python3.7/dist-packages (from tensorflow-datasets>=2.1.0->tflite-model-maker-nightly->-r IA/requirements.txt (line 3)) (2.3)\n",
            "Requirement already satisfied: tensorflow-metadata in /usr/local/lib/python3.7/dist-packages (from tensorflow-datasets>=2.1.0->tflite-model-maker-nightly->-r IA/requirements.txt (line 3)) (1.2.0)\n",
            "Requirement already satisfied: dill in /usr/local/lib/python3.7/dist-packages (from tensorflow-datasets>=2.1.0->tflite-model-maker-nightly->-r IA/requirements.txt (line 3)) (0.3.4)\n",
            "Requirement already satisfied: zipp>=0.5 in /usr/local/lib/python3.7/dist-packages (from importlib-metadata->markdown>=2.6.8->tensorboard~=2.6->tensorflow==2.6.0->tflite-model-maker-nightly->-r IA/requirements.txt (line 3)) (3.5.0)\n",
            "Requirement already satisfied: MarkupSafe>=0.23 in /usr/local/lib/python3.7/dist-packages (from jinja2->pascal-voc-writer->-r IA/requirements.txt (line 2)) (2.0.1)\n",
            "Requirement already satisfied: text-unidecode>=1.3 in /usr/local/lib/python3.7/dist-packages (from python-slugify->kaggle>=1.3.9->tf-models-official==2.3.0->tflite-model-maker-nightly->-r IA/requirements.txt (line 3)) (1.3)\n",
            "Requirement already satisfied: typeguard>=2.7 in /usr/local/lib/python3.7/dist-packages (from tensorflow-addons->tf-models-official==2.3.0->tflite-model-maker-nightly->-r IA/requirements.txt (line 3)) (2.7.1)\n",
            "Collecting pybind11>=2.6.0\n",
            "  Downloading pybind11-2.7.1-py2.py3-none-any.whl (200 kB)\n",
            "\u001b[K     |████████████████████████████████| 200 kB 44.6 MB/s \n",
            "\u001b[?25hBuilding wheels for collected packages: fire, py-cpuinfo\n",
            "  Building wheel for fire (setup.py) ... \u001b[?25l\u001b[?25hdone\n",
            "  Created wheel for fire: filename=fire-0.4.0-py2.py3-none-any.whl size=115943 sha256=55398c0ff6a453ef729f15d31320325e00943cf1492b57f1a43c0d8a21e90ad8\n",
            "  Stored in directory: /root/.cache/pip/wheels/8a/67/fb/2e8a12fa16661b9d5af1f654bd199366799740a85c64981226\n",
            "  Building wheel for py-cpuinfo (setup.py) ... \u001b[?25l\u001b[?25hdone\n",
            "  Created wheel for py-cpuinfo: filename=py_cpuinfo-8.0.0-py3-none-any.whl size=22258 sha256=babbed380972211c8fe6de853bc20aa44ae33a1d869c9f347378173990b42d67\n",
            "  Stored in directory: /root/.cache/pip/wheels/d2/f1/1f/041add21dc9c4220157f1bd2bd6afe1f1a49524c3396b94401\n",
            "Successfully built fire py-cpuinfo\n",
            "Installing collected packages: llvmlite, numba, tf-slim, tensorflow-model-optimization, tensorflow-addons, sentencepiece, PyYAML, pybind11, py-cpuinfo, opencv-python-headless, dataclasses, tflite-support-nightly, tfa-nightly, tf-models-official, neural-structured-learning, lxml, fire, tflite-model-maker-nightly, pascal-voc-writer\n",
            "  Attempting uninstall: llvmlite\n",
            "    Found existing installation: llvmlite 0.34.0\n",
            "    Uninstalling llvmlite-0.34.0:\n",
            "      Successfully uninstalled llvmlite-0.34.0\n",
            "  Attempting uninstall: numba\n",
            "    Found existing installation: numba 0.51.2\n",
            "    Uninstalling numba-0.51.2:\n",
            "      Successfully uninstalled numba-0.51.2\n",
            "  Attempting uninstall: PyYAML\n",
            "    Found existing installation: PyYAML 3.13\n",
            "    Uninstalling PyYAML-3.13:\n",
            "      Successfully uninstalled PyYAML-3.13\n",
            "  Attempting uninstall: lxml\n",
            "    Found existing installation: lxml 4.2.6\n",
            "    Uninstalling lxml-4.2.6:\n",
            "      Successfully uninstalled lxml-4.2.6\n",
            "Successfully installed PyYAML-5.4.1 dataclasses-0.6 fire-0.4.0 llvmlite-0.36.0 lxml-4.6.3 neural-structured-learning-1.3.1 numba-0.53.0 opencv-python-headless-4.5.3.56 pascal-voc-writer-0.1.4 py-cpuinfo-8.0.0 pybind11-2.7.1 sentencepiece-0.1.96 tensorflow-addons-0.14.0 tensorflow-model-optimization-0.6.0 tf-models-official-2.3.0 tf-slim-1.1.0 tfa-nightly-0.15.0.dev20210825184357 tflite-model-maker-nightly-0.3.4.dev202108310559 tflite-support-nightly-0.1.0.dev20210830\n"
          ]
        },
        {
          "output_type": "execute_result",
          "data": {
            "text/plain": [
              ""
            ]
          },
          "metadata": {},
          "execution_count": 5
        }
      ]
    },
    {
      "cell_type": "markdown",
      "metadata": {
        "id": "DXKzicjPfJns"
      },
      "source": [
        "# Apprentissage par transfer learning"
      ]
    },
    {
      "cell_type": "code",
      "metadata": {
        "colab": {
          "base_uri": "https://localhost:8080/"
        },
        "id": "4_cwMT6cX4eO",
        "outputId": "567398e8-219d-4903-b2b5-98501c83dcd2"
      },
      "source": [
        "%%shell\n",
        "\n",
        "python IA/python/train.py \\\n",
        "  --train_zip IA/data/train_megots150images.zip \\\n",
        "  --valid_zip IA/data/valid_megots150images.zip "
      ],
      "execution_count": 6,
      "outputs": [
        {
          "output_type": "stream",
          "name": "stdout",
          "text": [
            "Tensorflow version : 2.6.0\n",
            "args : Namespace(batch_size=10, epochs=50, train_zip='IA/data/train_megots150images.zip', valid_zip='IA/data/valid_megots150images.zip', with_tflite_eval=0)\n",
            "created zip temporary directory: /tmp/tmpnfv4ogwe\n",
            "extract zip file IA/data/train_megots150images.zip in /tmp/tmpnfv4ogwe/train\n",
            "labels : ['megot']\n",
            "extract zip file IA/data/valid_megots150images.zip in /tmp/tmpnfv4ogwe/valid\n",
            "labels : ['megot']\n",
            "* train dataset len : 1287\n",
            "* valid dataset len : 30\n",
            "2021-08-31 12:41:27.693597: I tensorflow/stream_executor/cuda/cuda_gpu_executor.cc:937] successful NUMA node read from SysFS had negative value (-1), but there must be at least one NUMA node, so returning NUMA node zero\n",
            "2021-08-31 12:41:28.340484: I tensorflow/stream_executor/cuda/cuda_gpu_executor.cc:937] successful NUMA node read from SysFS had negative value (-1), but there must be at least one NUMA node, so returning NUMA node zero\n",
            "2021-08-31 12:41:28.341471: I tensorflow/stream_executor/cuda/cuda_gpu_executor.cc:937] successful NUMA node read from SysFS had negative value (-1), but there must be at least one NUMA node, so returning NUMA node zero\n",
            "2021-08-31 12:41:28.343254: I tensorflow/stream_executor/cuda/cuda_gpu_executor.cc:937] successful NUMA node read from SysFS had negative value (-1), but there must be at least one NUMA node, so returning NUMA node zero\n",
            "2021-08-31 12:41:28.344147: I tensorflow/stream_executor/cuda/cuda_gpu_executor.cc:937] successful NUMA node read from SysFS had negative value (-1), but there must be at least one NUMA node, so returning NUMA node zero\n",
            "2021-08-31 12:41:28.344991: I tensorflow/stream_executor/cuda/cuda_gpu_executor.cc:937] successful NUMA node read from SysFS had negative value (-1), but there must be at least one NUMA node, so returning NUMA node zero\n",
            "2021-08-31 12:41:33.507867: I tensorflow/stream_executor/cuda/cuda_gpu_executor.cc:937] successful NUMA node read from SysFS had negative value (-1), but there must be at least one NUMA node, so returning NUMA node zero\n",
            "2021-08-31 12:41:33.508946: I tensorflow/stream_executor/cuda/cuda_gpu_executor.cc:937] successful NUMA node read from SysFS had negative value (-1), but there must be at least one NUMA node, so returning NUMA node zero\n",
            "2021-08-31 12:41:33.509777: I tensorflow/stream_executor/cuda/cuda_gpu_executor.cc:937] successful NUMA node read from SysFS had negative value (-1), but there must be at least one NUMA node, so returning NUMA node zero\n",
            "2021-08-31 12:41:33.510541: W tensorflow/core/common_runtime/gpu/gpu_bfc_allocator.cc:39] Overriding allow_growth setting because the TF_FORCE_GPU_ALLOW_GROWTH environment variable is set. Original config value was 0.\n",
            "2021-08-31 12:41:33.510769: I tensorflow/core/common_runtime/gpu/gpu_device.cc:1510] Created device /job:localhost/replica:0/task:0/device:GPU:0 with 10819 MB memory:  -> device: 0, name: Tesla K80, pci bus id: 0000:00:04.0, compute capability: 3.7\n",
            "2021-08-31 12:41:51.263991: I tensorflow/compiler/mlir/mlir_graph_optimization_pass.cc:185] None of the MLIR Optimization Passes are enabled (registered 2)\n",
            "Epoch 1/50\n",
            "2021-08-31 12:42:27.729592: I tensorflow/stream_executor/cuda/cuda_dnn.cc:369] Loaded cuDNN version 8004\n",
            "128/128 [==============================] - 129s 502ms/step - det_loss: 0.8421 - cls_loss: 0.4743 - box_loss: 0.0074 - reg_l2_loss: 0.0631 - loss: 0.9052 - learning_rate: 0.0102 - gradient_norm: 2.8943 - val_det_loss: 0.5275 - val_cls_loss: 0.2225 - val_box_loss: 0.0061 - val_reg_l2_loss: 0.0632 - val_loss: 0.5907\n",
            "Epoch 2/50\n",
            "128/128 [==============================] - 60s 470ms/step - det_loss: 0.3559 - cls_loss: 0.2017 - box_loss: 0.0031 - reg_l2_loss: 0.0633 - loss: 0.4191 - learning_rate: 0.0125 - gradient_norm: 2.5883 - val_det_loss: 0.3291 - val_cls_loss: 0.1943 - val_box_loss: 0.0027 - val_reg_l2_loss: 0.0633 - val_loss: 0.3924\n",
            "Epoch 3/50\n",
            "128/128 [==============================] - 60s 470ms/step - det_loss: 0.2776 - cls_loss: 0.1662 - box_loss: 0.0022 - reg_l2_loss: 0.0634 - loss: 0.3410 - learning_rate: 0.0124 - gradient_norm: 2.0449 - val_det_loss: 0.2525 - val_cls_loss: 0.1530 - val_box_loss: 0.0020 - val_reg_l2_loss: 0.0634 - val_loss: 0.3159\n",
            "Epoch 4/50\n",
            "128/128 [==============================] - 60s 471ms/step - det_loss: 0.2468 - cls_loss: 0.1497 - box_loss: 0.0019 - reg_l2_loss: 0.0634 - loss: 0.3102 - learning_rate: 0.0123 - gradient_norm: 1.9039 - val_det_loss: 0.2521 - val_cls_loss: 0.1804 - val_box_loss: 0.0014 - val_reg_l2_loss: 0.0634 - val_loss: 0.3156\n",
            "Epoch 5/50\n",
            "128/128 [==============================] - 60s 472ms/step - det_loss: 0.2370 - cls_loss: 0.1447 - box_loss: 0.0018 - reg_l2_loss: 0.0635 - loss: 0.3004 - learning_rate: 0.0122 - gradient_norm: 1.8699 - val_det_loss: 0.2190 - val_cls_loss: 0.1433 - val_box_loss: 0.0015 - val_reg_l2_loss: 0.0635 - val_loss: 0.2825\n",
            "Epoch 6/50\n",
            "128/128 [==============================] - 60s 469ms/step - det_loss: 0.2231 - cls_loss: 0.1380 - box_loss: 0.0017 - reg_l2_loss: 0.0635 - loss: 0.2866 - learning_rate: 0.0121 - gradient_norm: 1.7894 - val_det_loss: 0.2808 - val_cls_loss: 0.1724 - val_box_loss: 0.0022 - val_reg_l2_loss: 0.0635 - val_loss: 0.3442\n",
            "Epoch 7/50\n",
            "128/128 [==============================] - 60s 471ms/step - det_loss: 0.2004 - cls_loss: 0.1267 - box_loss: 0.0015 - reg_l2_loss: 0.0635 - loss: 0.2639 - learning_rate: 0.0120 - gradient_norm: 1.6303 - val_det_loss: 0.2589 - val_cls_loss: 0.1592 - val_box_loss: 0.0020 - val_reg_l2_loss: 0.0635 - val_loss: 0.3224\n",
            "Epoch 8/50\n",
            "128/128 [==============================] - 60s 472ms/step - det_loss: 0.2029 - cls_loss: 0.1294 - box_loss: 0.0015 - reg_l2_loss: 0.0635 - loss: 0.2664 - learning_rate: 0.0118 - gradient_norm: 1.6462 - val_det_loss: 0.2009 - val_cls_loss: 0.1275 - val_box_loss: 0.0015 - val_reg_l2_loss: 0.0635 - val_loss: 0.2644\n",
            "Epoch 9/50\n",
            "128/128 [==============================] - 60s 472ms/step - det_loss: 0.1960 - cls_loss: 0.1260 - box_loss: 0.0014 - reg_l2_loss: 0.0635 - loss: 0.2595 - learning_rate: 0.0116 - gradient_norm: 1.6486 - val_det_loss: 0.2009 - val_cls_loss: 0.1337 - val_box_loss: 0.0013 - val_reg_l2_loss: 0.0635 - val_loss: 0.2644\n",
            "Epoch 10/50\n",
            "128/128 [==============================] - 60s 471ms/step - det_loss: 0.1835 - cls_loss: 0.1192 - box_loss: 0.0013 - reg_l2_loss: 0.0635 - loss: 0.2470 - learning_rate: 0.0114 - gradient_norm: 1.5328 - val_det_loss: 0.2004 - val_cls_loss: 0.1337 - val_box_loss: 0.0013 - val_reg_l2_loss: 0.0635 - val_loss: 0.2639\n",
            "Epoch 11/50\n",
            "128/128 [==============================] - 61s 474ms/step - det_loss: 0.1841 - cls_loss: 0.1200 - box_loss: 0.0013 - reg_l2_loss: 0.0635 - loss: 0.2476 - learning_rate: 0.0111 - gradient_norm: 1.6360 - val_det_loss: 0.2196 - val_cls_loss: 0.1570 - val_box_loss: 0.0013 - val_reg_l2_loss: 0.0635 - val_loss: 0.2831\n",
            "Epoch 12/50\n",
            "128/128 [==============================] - 61s 476ms/step - det_loss: 0.1813 - cls_loss: 0.1190 - box_loss: 0.0012 - reg_l2_loss: 0.0635 - loss: 0.2448 - learning_rate: 0.0109 - gradient_norm: 1.5523 - val_det_loss: 0.1958 - val_cls_loss: 0.1403 - val_box_loss: 0.0011 - val_reg_l2_loss: 0.0635 - val_loss: 0.2593\n",
            "Epoch 13/50\n",
            "128/128 [==============================] - 61s 478ms/step - det_loss: 0.1710 - cls_loss: 0.1117 - box_loss: 0.0012 - reg_l2_loss: 0.0635 - loss: 0.2345 - learning_rate: 0.0106 - gradient_norm: 1.5382 - val_det_loss: 0.2251 - val_cls_loss: 0.1455 - val_box_loss: 0.0016 - val_reg_l2_loss: 0.0635 - val_loss: 0.2886\n",
            "Epoch 14/50\n",
            "128/128 [==============================] - 61s 475ms/step - det_loss: 0.1710 - cls_loss: 0.1117 - box_loss: 0.0012 - reg_l2_loss: 0.0635 - loss: 0.2344 - learning_rate: 0.0103 - gradient_norm: 1.5183 - val_det_loss: 0.1849 - val_cls_loss: 0.1293 - val_box_loss: 0.0011 - val_reg_l2_loss: 0.0635 - val_loss: 0.2483\n",
            "Epoch 15/50\n",
            "128/128 [==============================] - 61s 476ms/step - det_loss: 0.1635 - cls_loss: 0.1093 - box_loss: 0.0011 - reg_l2_loss: 0.0635 - loss: 0.2269 - learning_rate: 0.0100 - gradient_norm: 1.4981 - val_det_loss: 0.1656 - val_cls_loss: 0.1160 - val_box_loss: 9.9209e-04 - val_reg_l2_loss: 0.0635 - val_loss: 0.2291\n",
            "Epoch 16/50\n",
            "128/128 [==============================] - 61s 474ms/step - det_loss: 0.1657 - cls_loss: 0.1101 - box_loss: 0.0011 - reg_l2_loss: 0.0635 - loss: 0.2291 - learning_rate: 0.0097 - gradient_norm: 1.5140 - val_det_loss: 0.1898 - val_cls_loss: 0.1249 - val_box_loss: 0.0013 - val_reg_l2_loss: 0.0634 - val_loss: 0.2532\n",
            "Epoch 17/50\n",
            "128/128 [==============================] - 61s 475ms/step - det_loss: 0.1594 - cls_loss: 0.1082 - box_loss: 0.0010 - reg_l2_loss: 0.0634 - loss: 0.2228 - learning_rate: 0.0093 - gradient_norm: 1.5217 - val_det_loss: 0.2015 - val_cls_loss: 0.1464 - val_box_loss: 0.0011 - val_reg_l2_loss: 0.0634 - val_loss: 0.2650\n",
            "Epoch 18/50\n",
            "128/128 [==============================] - 60s 470ms/step - det_loss: 0.1564 - cls_loss: 0.1055 - box_loss: 0.0010 - reg_l2_loss: 0.0634 - loss: 0.2198 - learning_rate: 0.0090 - gradient_norm: 1.5083 - val_det_loss: 0.1931 - val_cls_loss: 0.1484 - val_box_loss: 8.9358e-04 - val_reg_l2_loss: 0.0634 - val_loss: 0.2565\n",
            "Epoch 19/50\n",
            "128/128 [==============================] - 61s 473ms/step - det_loss: 0.1533 - cls_loss: 0.1045 - box_loss: 9.7588e-04 - reg_l2_loss: 0.0634 - loss: 0.2167 - learning_rate: 0.0086 - gradient_norm: 1.4522 - val_det_loss: 0.1961 - val_cls_loss: 0.1382 - val_box_loss: 0.0012 - val_reg_l2_loss: 0.0634 - val_loss: 0.2595\n",
            "Epoch 20/50\n",
            "128/128 [==============================] - 60s 472ms/step - det_loss: 0.1490 - cls_loss: 0.1024 - box_loss: 9.3286e-04 - reg_l2_loss: 0.0634 - loss: 0.2124 - learning_rate: 0.0082 - gradient_norm: 1.4307 - val_det_loss: 0.2390 - val_cls_loss: 0.1592 - val_box_loss: 0.0016 - val_reg_l2_loss: 0.0634 - val_loss: 0.3024\n",
            "Epoch 21/50\n",
            "128/128 [==============================] - 61s 476ms/step - det_loss: 0.1470 - cls_loss: 0.0991 - box_loss: 9.5704e-04 - reg_l2_loss: 0.0634 - loss: 0.2104 - learning_rate: 0.0078 - gradient_norm: 1.4884 - val_det_loss: 0.1980 - val_cls_loss: 0.1466 - val_box_loss: 0.0010 - val_reg_l2_loss: 0.0634 - val_loss: 0.2614\n",
            "Epoch 22/50\n",
            "128/128 [==============================] - 60s 471ms/step - det_loss: 0.1473 - cls_loss: 0.1008 - box_loss: 9.3132e-04 - reg_l2_loss: 0.0634 - loss: 0.2107 - learning_rate: 0.0074 - gradient_norm: 1.5339 - val_det_loss: 0.2429 - val_cls_loss: 0.1797 - val_box_loss: 0.0013 - val_reg_l2_loss: 0.0634 - val_loss: 0.3062\n",
            "Epoch 23/50\n",
            "128/128 [==============================] - 61s 474ms/step - det_loss: 0.1426 - cls_loss: 0.0979 - box_loss: 8.9330e-04 - reg_l2_loss: 0.0633 - loss: 0.2059 - learning_rate: 0.0070 - gradient_norm: 1.5269 - val_det_loss: 0.1824 - val_cls_loss: 0.1381 - val_box_loss: 8.8633e-04 - val_reg_l2_loss: 0.0633 - val_loss: 0.2457\n",
            "Epoch 24/50\n",
            "128/128 [==============================] - 61s 475ms/step - det_loss: 0.1469 - cls_loss: 0.1012 - box_loss: 9.1342e-04 - reg_l2_loss: 0.0633 - loss: 0.2102 - learning_rate: 0.0067 - gradient_norm: 1.5471 - val_det_loss: 0.2049 - val_cls_loss: 0.1467 - val_box_loss: 0.0012 - val_reg_l2_loss: 0.0633 - val_loss: 0.2683\n",
            "Epoch 25/50\n",
            "128/128 [==============================] - 61s 477ms/step - det_loss: 0.1361 - cls_loss: 0.0945 - box_loss: 8.3179e-04 - reg_l2_loss: 0.0633 - loss: 0.1994 - learning_rate: 0.0063 - gradient_norm: 1.4260 - val_det_loss: 0.2232 - val_cls_loss: 0.1584 - val_box_loss: 0.0013 - val_reg_l2_loss: 0.0633 - val_loss: 0.2865\n",
            "Epoch 26/50\n",
            "128/128 [==============================] - 61s 474ms/step - det_loss: 0.1373 - cls_loss: 0.0947 - box_loss: 8.5169e-04 - reg_l2_loss: 0.0633 - loss: 0.2006 - learning_rate: 0.0058 - gradient_norm: 1.4817 - val_det_loss: 0.2048 - val_cls_loss: 0.1548 - val_box_loss: 9.9816e-04 - val_reg_l2_loss: 0.0633 - val_loss: 0.2680\n",
            "Epoch 27/50\n",
            "128/128 [==============================] - 61s 477ms/step - det_loss: 0.1316 - cls_loss: 0.0920 - box_loss: 7.9370e-04 - reg_l2_loss: 0.0633 - loss: 0.1949 - learning_rate: 0.0055 - gradient_norm: 1.4450 - val_det_loss: 0.2578 - val_cls_loss: 0.1769 - val_box_loss: 0.0016 - val_reg_l2_loss: 0.0633 - val_loss: 0.3210\n",
            "Epoch 28/50\n",
            "128/128 [==============================] - 61s 475ms/step - det_loss: 0.1297 - cls_loss: 0.0925 - box_loss: 7.4367e-04 - reg_l2_loss: 0.0633 - loss: 0.1929 - learning_rate: 0.0051 - gradient_norm: 1.4179 - val_det_loss: 0.2234 - val_cls_loss: 0.1637 - val_box_loss: 0.0012 - val_reg_l2_loss: 0.0632 - val_loss: 0.2866\n",
            "Epoch 29/50\n",
            "128/128 [==============================] - 60s 471ms/step - det_loss: 0.1280 - cls_loss: 0.0908 - box_loss: 7.4354e-04 - reg_l2_loss: 0.0632 - loss: 0.1913 - learning_rate: 0.0047 - gradient_norm: 1.4234 - val_det_loss: 0.2070 - val_cls_loss: 0.1492 - val_box_loss: 0.0012 - val_reg_l2_loss: 0.0632 - val_loss: 0.2702\n",
            "Epoch 30/50\n",
            "128/128 [==============================] - 61s 473ms/step - det_loss: 0.1296 - cls_loss: 0.0914 - box_loss: 7.6448e-04 - reg_l2_loss: 0.0632 - loss: 0.1928 - learning_rate: 0.0043 - gradient_norm: 1.5480 - val_det_loss: 0.2614 - val_cls_loss: 0.1652 - val_box_loss: 0.0019 - val_reg_l2_loss: 0.0632 - val_loss: 0.3247\n",
            "Epoch 31/50\n",
            "128/128 [==============================] - 60s 470ms/step - det_loss: 0.1294 - cls_loss: 0.0907 - box_loss: 7.7370e-04 - reg_l2_loss: 0.0632 - loss: 0.1926 - learning_rate: 0.0039 - gradient_norm: 1.4881 - val_det_loss: 0.2108 - val_cls_loss: 0.1472 - val_box_loss: 0.0013 - val_reg_l2_loss: 0.0632 - val_loss: 0.2740\n",
            "Epoch 32/50\n",
            "128/128 [==============================] - 59s 465ms/step - det_loss: 0.1237 - cls_loss: 0.0890 - box_loss: 6.9339e-04 - reg_l2_loss: 0.0632 - loss: 0.1869 - learning_rate: 0.0035 - gradient_norm: 1.4180 - val_det_loss: 0.2216 - val_cls_loss: 0.1563 - val_box_loss: 0.0013 - val_reg_l2_loss: 0.0632 - val_loss: 0.2848\n",
            "Epoch 33/50\n",
            "128/128 [==============================] - 59s 462ms/step - det_loss: 0.1206 - cls_loss: 0.0867 - box_loss: 6.7855e-04 - reg_l2_loss: 0.0632 - loss: 0.1838 - learning_rate: 0.0032 - gradient_norm: 1.4336 - val_det_loss: 0.2064 - val_cls_loss: 0.1487 - val_box_loss: 0.0012 - val_reg_l2_loss: 0.0632 - val_loss: 0.2696\n",
            "Epoch 34/50\n",
            "128/128 [==============================] - 60s 465ms/step - det_loss: 0.1155 - cls_loss: 0.0826 - box_loss: 6.5773e-04 - reg_l2_loss: 0.0632 - loss: 0.1787 - learning_rate: 0.0028 - gradient_norm: 1.3883 - val_det_loss: 0.2162 - val_cls_loss: 0.1570 - val_box_loss: 0.0012 - val_reg_l2_loss: 0.0632 - val_loss: 0.2794\n",
            "Epoch 35/50\n",
            "128/128 [==============================] - 59s 463ms/step - det_loss: 0.1155 - cls_loss: 0.0829 - box_loss: 6.5347e-04 - reg_l2_loss: 0.0632 - loss: 0.1787 - learning_rate: 0.0025 - gradient_norm: 1.4056 - val_det_loss: 0.1943 - val_cls_loss: 0.1440 - val_box_loss: 0.0010 - val_reg_l2_loss: 0.0632 - val_loss: 0.2575\n",
            "Epoch 36/50\n",
            "128/128 [==============================] - 59s 461ms/step - det_loss: 0.1157 - cls_loss: 0.0844 - box_loss: 6.2604e-04 - reg_l2_loss: 0.0631 - loss: 0.1788 - learning_rate: 0.0022 - gradient_norm: 1.4722 - val_det_loss: 0.2173 - val_cls_loss: 0.1521 - val_box_loss: 0.0013 - val_reg_l2_loss: 0.0631 - val_loss: 0.2804\n",
            "Epoch 37/50\n",
            "128/128 [==============================] - 59s 458ms/step - det_loss: 0.1120 - cls_loss: 0.0818 - box_loss: 6.0328e-04 - reg_l2_loss: 0.0631 - loss: 0.1751 - learning_rate: 0.0019 - gradient_norm: 1.4075 - val_det_loss: 0.2033 - val_cls_loss: 0.1490 - val_box_loss: 0.0011 - val_reg_l2_loss: 0.0631 - val_loss: 0.2664\n",
            "Epoch 38/50\n",
            "128/128 [==============================] - 59s 464ms/step - det_loss: 0.1110 - cls_loss: 0.0812 - box_loss: 5.9575e-04 - reg_l2_loss: 0.0631 - loss: 0.1742 - learning_rate: 0.0016 - gradient_norm: 1.4152 - val_det_loss: 0.2102 - val_cls_loss: 0.1518 - val_box_loss: 0.0012 - val_reg_l2_loss: 0.0631 - val_loss: 0.2734\n",
            "Epoch 39/50\n",
            "128/128 [==============================] - 59s 462ms/step - det_loss: 0.1143 - cls_loss: 0.0837 - box_loss: 6.1359e-04 - reg_l2_loss: 0.0631 - loss: 0.1775 - learning_rate: 0.0014 - gradient_norm: 1.4552 - val_det_loss: 0.2161 - val_cls_loss: 0.1609 - val_box_loss: 0.0011 - val_reg_l2_loss: 0.0631 - val_loss: 0.2793\n",
            "Epoch 40/50\n",
            "128/128 [==============================] - 59s 461ms/step - det_loss: 0.1133 - cls_loss: 0.0833 - box_loss: 6.0029e-04 - reg_l2_loss: 0.0631 - loss: 0.1764 - learning_rate: 0.0011 - gradient_norm: 1.4546 - val_det_loss: 0.2138 - val_cls_loss: 0.1563 - val_box_loss: 0.0011 - val_reg_l2_loss: 0.0631 - val_loss: 0.2769\n",
            "Epoch 41/50\n",
            "128/128 [==============================] - 59s 462ms/step - det_loss: 0.1103 - cls_loss: 0.0808 - box_loss: 5.8914e-04 - reg_l2_loss: 0.0631 - loss: 0.1734 - learning_rate: 9.0630e-04 - gradient_norm: 1.4161 - val_det_loss: 0.1979 - val_cls_loss: 0.1468 - val_box_loss: 0.0010 - val_reg_l2_loss: 0.0631 - val_loss: 0.2610\n",
            "Epoch 42/50\n",
            "128/128 [==============================] - 60s 470ms/step - det_loss: 0.1075 - cls_loss: 0.0795 - box_loss: 5.6109e-04 - reg_l2_loss: 0.0631 - loss: 0.1706 - learning_rate: 7.0973e-04 - gradient_norm: 1.3962 - val_det_loss: 0.2102 - val_cls_loss: 0.1556 - val_box_loss: 0.0011 - val_reg_l2_loss: 0.0631 - val_loss: 0.2733\n",
            "Epoch 43/50\n",
            "128/128 [==============================] - 60s 470ms/step - det_loss: 0.1072 - cls_loss: 0.0787 - box_loss: 5.6983e-04 - reg_l2_loss: 0.0631 - loss: 0.1703 - learning_rate: 5.3592e-04 - gradient_norm: 1.3809 - val_det_loss: 0.2031 - val_cls_loss: 0.1488 - val_box_loss: 0.0011 - val_reg_l2_loss: 0.0631 - val_loss: 0.2662\n",
            "Epoch 44/50\n",
            "128/128 [==============================] - 60s 470ms/step - det_loss: 0.1108 - cls_loss: 0.0815 - box_loss: 5.8628e-04 - reg_l2_loss: 0.0631 - loss: 0.1739 - learning_rate: 3.8560e-04 - gradient_norm: 1.4457 - val_det_loss: 0.2099 - val_cls_loss: 0.1563 - val_box_loss: 0.0011 - val_reg_l2_loss: 0.0631 - val_loss: 0.2730\n",
            "Epoch 45/50\n",
            "128/128 [==============================] - 60s 470ms/step - det_loss: 0.1063 - cls_loss: 0.0791 - box_loss: 5.4472e-04 - reg_l2_loss: 0.0631 - loss: 0.1694 - learning_rate: 2.5937e-04 - gradient_norm: 1.3671 - val_det_loss: 0.2079 - val_cls_loss: 0.1542 - val_box_loss: 0.0011 - val_reg_l2_loss: 0.0631 - val_loss: 0.2710\n",
            "Epoch 46/50\n",
            "128/128 [==============================] - 60s 470ms/step - det_loss: 0.1066 - cls_loss: 0.0786 - box_loss: 5.5988e-04 - reg_l2_loss: 0.0631 - loss: 0.1697 - learning_rate: 1.5776e-04 - gradient_norm: 1.3682 - val_det_loss: 0.2089 - val_cls_loss: 0.1546 - val_box_loss: 0.0011 - val_reg_l2_loss: 0.0631 - val_loss: 0.2720\n",
            "Epoch 47/50\n",
            "128/128 [==============================] - 60s 467ms/step - det_loss: 0.1099 - cls_loss: 0.0807 - box_loss: 5.8325e-04 - reg_l2_loss: 0.0631 - loss: 0.1730 - learning_rate: 8.1190e-05 - gradient_norm: 1.4491 - val_det_loss: 0.2075 - val_cls_loss: 0.1538 - val_box_loss: 0.0011 - val_reg_l2_loss: 0.0631 - val_loss: 0.2706\n",
            "Epoch 48/50\n",
            "128/128 [==============================] - 60s 469ms/step - det_loss: 0.1077 - cls_loss: 0.0804 - box_loss: 5.4661e-04 - reg_l2_loss: 0.0631 - loss: 0.1708 - learning_rate: 2.9964e-05 - gradient_norm: 1.3595 - val_det_loss: 0.2088 - val_cls_loss: 0.1548 - val_box_loss: 0.0011 - val_reg_l2_loss: 0.0631 - val_loss: 0.2719\n",
            "Epoch 49/50\n",
            "128/128 [==============================] - 60s 468ms/step - det_loss: 0.1078 - cls_loss: 0.0799 - box_loss: 5.5658e-04 - reg_l2_loss: 0.0631 - loss: 0.1709 - learning_rate: 4.2977e-06 - gradient_norm: 1.4382 - val_det_loss: 0.2094 - val_cls_loss: 0.1555 - val_box_loss: 0.0011 - val_reg_l2_loss: 0.0631 - val_loss: 0.2725\n",
            "Epoch 50/50\n",
            "128/128 [==============================] - 60s 471ms/step - det_loss: 0.1066 - cls_loss: 0.0797 - box_loss: 5.3895e-04 - reg_l2_loss: 0.0631 - loss: 0.1697 - learning_rate: 4.2962e-06 - gradient_norm: 1.3781 - val_det_loss: 0.2088 - val_cls_loss: 0.1549 - val_box_loss: 0.0011 - val_reg_l2_loss: 0.0631 - val_loss: 0.2719\n",
            "evaluate on train_data\n",
            "21/21 [==============================] - 41s 1s/step\n",
            "\n",
            "{'AP': 0.89893067, 'AP50': 1.0, 'AP75': 1.0, 'APs': -1.0, 'APm': -1.0, 'APl': 0.8991097, 'ARmax1': 0.9215229, 'ARmax10': 0.94623154, 'ARmax100': 0.94933957, 'ARs': -1.0, 'ARm': -1.0, 'ARl': 0.94933957, 'AP_/megot': 0.89893067}\n",
            "evaluate on valid_data\n",
            "1/1 [==============================] - 7s 7s/step\n",
            "\n",
            "{'AP': 0.79919267, 'AP50': 1.0, 'AP75': 1.0, 'APs': -1.0, 'APm': -1.0, 'APl': 0.7992769, 'ARmax1': 0.81666666, 'ARmax10': 0.84, 'ARmax100': 0.85, 'ARs': -1.0, 'ARm': -1.0, 'ARl': 0.85, 'AP_/megot': 0.79919267}\n",
            "WARNING:tensorflow:Skipping full serialization of Keras layer <tensorflow_examples.lite.model_maker.core.task.model_spec.object_detector_spec.ExportModel object at 0x7fdb7de0df90>, because it is not built.\n",
            "WARNING:tensorflow:Skipping full serialization of Keras layer <tensorflow_examples.lite.model_maker.core.task.model_spec.object_detector_spec.ExportModel object at 0x7fdb7de0df90>, because it is not built.\n",
            "2021-08-31 13:35:35.760292: W tensorflow/python/util/util.cc:348] Sets are not currently considered sequences, but this may change in the future, so consider avoiding using them.\n",
            "WARNING:absl:Found untraced functions such as restored_function_body, restored_function_body, restored_function_body, restored_function_body, restored_function_body while saving (showing 5 of 1520). These functions will not be directly callable after loading.\n",
            "2021-08-31 13:36:04.358803: W tensorflow/core/common_runtime/graph_constructor.cc:803] Node 'resample_p7/PartitionedCall' has 1 outputs but the _output_shapes attribute specifies shapes for 3 outputs. Output shapes may be inaccurate.\n",
            "2021-08-31 13:36:19.214990: W tensorflow/compiler/mlir/lite/python/tf_tfl_flatbuffer_helpers.cc:351] Ignored output_format.\n",
            "2021-08-31 13:36:19.215060: W tensorflow/compiler/mlir/lite/python/tf_tfl_flatbuffer_helpers.cc:354] Ignored drop_control_dependency.\n",
            "2021-08-31 13:36:19.215083: W tensorflow/compiler/mlir/lite/python/tf_tfl_flatbuffer_helpers.cc:360] Ignored change_concat_input_ranges.\n",
            "2021-08-31 13:36:19.216260: I tensorflow/cc/saved_model/reader.cc:38] Reading SavedModel from: /tmp/tmpd0984y38\n",
            "2021-08-31 13:36:19.333573: I tensorflow/cc/saved_model/reader.cc:90] Reading meta graph with tags { serve }\n",
            "2021-08-31 13:36:19.333666: I tensorflow/cc/saved_model/reader.cc:132] Reading SavedModel debug info (if present) from: /tmp/tmpd0984y38\n",
            "2021-08-31 13:36:19.793310: I tensorflow/cc/saved_model/loader.cc:211] Restoring SavedModel bundle.\n",
            "2021-08-31 13:36:21.343469: I tensorflow/cc/saved_model/loader.cc:195] Running initialization op on SavedModel bundle at path: /tmp/tmpd0984y38\n",
            "2021-08-31 13:36:21.769398: I tensorflow/cc/saved_model/loader.cc:283] SavedModel load for tags { serve }; Status: success: OK. Took 2553142 microseconds.\n",
            "2021-08-31 13:36:23.012904: I tensorflow/compiler/mlir/tensorflow/utils/dump_mlir_util.cc:210] disabling MLIR crash reproducer, set env var `MLIR_CRASH_REPRODUCER_DIRECTORY` to enable.\n",
            "2021-08-31 13:36:24.428335: I tensorflow/compiler/mlir/lite/flatbuffer_export.cc:1899] Estimated count of arithmetic ops: 1.752 G  ops, equivalently 0.876 G  MACs\n",
            "fully_quantize: 0, inference_type: 6, input_inference_type: 3, output_inference_type: 0\n",
            "2021-08-31 13:38:41.232285: I tensorflow/compiler/mlir/lite/flatbuffer_export.cc:1899] Estimated count of arithmetic ops: 1.752 G  ops, equivalently 0.876 G  MACs\n",
            "WARNING:absl:For model inputs containing unsupported operations which cannot be quantized, the `inference_input_type` attribute will default to the original type.\n",
            "WARNING:tensorflow:Export a separated label file even though label file is already inside the TFLite model with metadata.\n",
            "WARNING:tensorflow:Export a separated label file even though label file is already inside the TFLite model with metadata.\n"
          ]
        },
        {
          "output_type": "execute_result",
          "data": {
            "text/plain": [
              ""
            ]
          },
          "metadata": {},
          "execution_count": 6
        }
      ]
    },
    {
      "cell_type": "markdown",
      "metadata": {
        "id": "ncJ38Ww6phEu"
      },
      "source": [
        "# Inférence\n"
      ]
    },
    {
      "cell_type": "code",
      "metadata": {
        "id": "QpNbPBp5Ht7S",
        "colab": {
          "base_uri": "https://localhost:8080/"
        },
        "outputId": "ec0ee25c-04f8-4329-c9b2-73e0ac32ee87"
      },
      "source": [
        "%%shell\n",
        "\n",
        "rm -rf /tmp/images /tmp/annotations\n",
        "unzip -q IA/data/valid_megots150images.zip -d /tmp\n",
        "\n",
        "ls /tmp/images"
      ],
      "execution_count": 7,
      "outputs": [
        {
          "output_type": "stream",
          "name": "stdout",
          "text": [
            "1608644746.jpg\t1608645649.jpg\t1608646942.jpg\t1608647303.jpg\t1608647611.jpg\n",
            "1608645146.jpg\t1608645747.jpg\t1608646972.jpg\t1608647317.jpg\t1608647715.jpg\n",
            "1608645513.jpg\t1608645788.jpg\t1608646996.jpg\t1608647434.jpg\t1608647773.jpg\n",
            "1608645529.jpg\t1608645800.jpg\t1608647099.jpg\t1608647473.jpg\t1608647849.jpg\n",
            "1608645551.jpg\t1608645936.jpg\t1608647155.jpg\t1608647544.jpg\t1608648016.jpg\n",
            "1608645605.jpg\t1608646908.jpg\t1608647288.jpg\t1608647601.jpg\t1608648090.jpg\n"
          ]
        },
        {
          "output_type": "execute_result",
          "data": {
            "text/plain": [
              ""
            ]
          },
          "metadata": {},
          "execution_count": 7
        }
      ]
    },
    {
      "cell_type": "code",
      "metadata": {
        "colab": {
          "base_uri": "https://localhost:8080/"
        },
        "id": "OoPP7iVXkLrr",
        "outputId": "7ac7f9de-a534-4db5-be44-beb382741421"
      },
      "source": [
        "%%shell\n",
        "\n",
        "cd IA/python/google-coral-inference/\n",
        "\n",
        "python detect_image.py \\\n",
        "  --model  /content/IA/data/efficientdet-lite-bfc.tflite \\\n",
        "  --labels /content/IA/data/bfc-labels.txt \\\n",
        "  --input  /tmp/images/1608644746.jpg \\\n",
        "  --output /content/1608644746_processed.jpg"
      ],
      "execution_count": 8,
      "outputs": [
        {
          "output_type": "stream",
          "name": "stdout",
          "text": [
            "----INFERENCE TIME----\n",
            "Note: The first inference is slow because it includes loading the model into Edge TPU memory.\n",
            "2751.20 ms\n",
            "2725.57 ms\n",
            "2714.45 ms\n",
            "2790.10 ms\n",
            "2695.50 ms\n",
            "-------RESULTS--------\n",
            "megot\n",
            "  id:     0\n",
            "  score:  0.9921875\n",
            "  bbox:   BBox(xmin=248, ymin=104, xmax=396, ymax=289)\n"
          ]
        },
        {
          "output_type": "execute_result",
          "data": {
            "text/plain": [
              ""
            ]
          },
          "metadata": {},
          "execution_count": 8
        }
      ]
    },
    {
      "cell_type": "code",
      "metadata": {
        "id": "CdpNEgHZlTSV"
      },
      "source": [
        "from PIL import Image"
      ],
      "execution_count": 9,
      "outputs": []
    },
    {
      "cell_type": "code",
      "metadata": {
        "id": "_kgWOt7KkPJe"
      },
      "source": [
        "im = Image.open(\"1608644746_processed.jpg\")"
      ],
      "execution_count": 10,
      "outputs": []
    },
    {
      "cell_type": "code",
      "metadata": {
        "id": "lvaFt_xllWUV"
      },
      "source": [
        "import matplotlib.pyplot as plt"
      ],
      "execution_count": 11,
      "outputs": []
    },
    {
      "cell_type": "code",
      "metadata": {
        "colab": {
          "base_uri": "https://localhost:8080/",
          "height": 269
        },
        "id": "IhUdtAJek0Xp",
        "outputId": "09d21da1-0fe2-44ea-af27-2bb6c42d3f4f"
      },
      "source": [
        "plt.imshow(im)\n",
        "plt.show()"
      ],
      "execution_count": 12,
      "outputs": [
        {
          "output_type": "display_data",
          "data": {
            "image/png": "[encoded data removed]",
            "text/plain": [
              "<Figure size 432x288 with 1 Axes>"
            ]
          },
          "metadata": {
            "needs_background": "light"
          }
        }
      ]
    },
    {
      "cell_type": "code",
      "metadata": {
        "id": "B2__IF73sApi",
        "colab": {
          "base_uri": "https://localhost:8080/",
          "height": 17
        },
        "outputId": "4dab27b0-d0b1-4b58-ebdf-1ac66a86ea33"
      },
      "source": [
        "from google.colab import files\n",
        "files.download(\"efficientdet-lite-bfc.tflite\")\n",
        "files.download(\"bfc-labels.txt\")"
      ],
      "execution_count": 17,
      "outputs": [
        {
          "output_type": "display_data",
          "data": {
            "application/javascript": [
              "\n",
              "    async function download(id, filename, size) {\n",
              "      if (!google.colab.kernel.accessAllowed) {\n",
              "        return;\n",
              "      }\n",
              "      const div = document.createElement('div');\n",
              "      const label = document.createElement('label');\n",
              "      label.textContent = `Downloading \"${filename}\": `;\n",
              "      div.appendChild(label);\n",
              "      const progress = document.createElement('progress');\n",
              "      progress.max = size;\n",
              "      div.appendChild(progress);\n",
              "      document.body.appendChild(div);\n",
              "\n",
              "      const buffers = [];\n",
              "      let downloaded = 0;\n",
              "\n",
              "      const channel = await google.colab.kernel.comms.open(id);\n",
              "      // Send a message to notify the kernel that we're ready.\n",
              "      channel.send({})\n",
              "\n",
              "      for await (const message of channel.messages) {\n",
              "        // Send a message to notify the kernel that we're ready.\n",
              "        channel.send({})\n",
              "        if (message.buffers) {\n",
              "          for (const buffer of message.buffers) {\n",
              "            buffers.push(buffer);\n",
              "            downloaded += buffer.byteLength;\n",
              "            progress.value = downloaded;\n",
              "          }\n",
              "        }\n",
              "      }\n",
              "      const blob = new Blob(buffers, {type: 'application/binary'});\n",
              "      const a = document.createElement('a');\n",
              "      a.href = window.URL.createObjectURL(blob);\n",
              "      a.download = filename;\n",
              "      div.appendChild(a);\n",
              "      a.click();\n",
              "      div.remove();\n",
              "    }\n",
              "  "
            ],
            "text/plain": [
              "<IPython.core.display.Javascript object>"
            ]
          },
          "metadata": {}
        },
        {
          "output_type": "display_data",
          "data": {
            "application/javascript": [
              "download(\"download_a53368d4-ee61-49a2-95b5-444aa471944c\", \"efficientdet-lite-bfc.tflite\", 4427820)"
            ],
            "text/plain": [
              "<IPython.core.display.Javascript object>"
            ]
          },
          "metadata": {}
        },
        {
          "output_type": "display_data",
          "data": {
            "application/javascript": [
              "\n",
              "    async function download(id, filename, size) {\n",
              "      if (!google.colab.kernel.accessAllowed) {\n",
              "        return;\n",
              "      }\n",
              "      const div = document.createElement('div');\n",
              "      const label = document.createElement('label');\n",
              "      label.textContent = `Downloading \"${filename}\": `;\n",
              "      div.appendChild(label);\n",
              "      const progress = document.createElement('progress');\n",
              "      progress.max = size;\n",
              "      div.appendChild(progress);\n",
              "      document.body.appendChild(div);\n",
              "\n",
              "      const buffers = [];\n",
              "      let downloaded = 0;\n",
              "\n",
              "      const channel = await google.colab.kernel.comms.open(id);\n",
              "      // Send a message to notify the kernel that we're ready.\n",
              "      channel.send({})\n",
              "\n",
              "      for await (const message of channel.messages) {\n",
              "        // Send a message to notify the kernel that we're ready.\n",
              "        channel.send({})\n",
              "        if (message.buffers) {\n",
              "          for (const buffer of message.buffers) {\n",
              "            buffers.push(buffer);\n",
              "            downloaded += buffer.byteLength;\n",
              "            progress.value = downloaded;\n",
              "          }\n",
              "        }\n",
              "      }\n",
              "      const blob = new Blob(buffers, {type: 'application/binary'});\n",
              "      const a = document.createElement('a');\n",
              "      a.href = window.URL.createObjectURL(blob);\n",
              "      a.download = filename;\n",
              "      div.appendChild(a);\n",
              "      a.click();\n",
              "      div.remove();\n",
              "    }\n",
              "  "
            ],
            "text/plain": [
              "<IPython.core.display.Javascript object>"
            ]
          },
          "metadata": {}
        },
        {
          "output_type": "display_data",
          "data": {
            "application/javascript": [
              "download(\"download_7968dcd7-f834-4456-af82-2dc677eeb584\", \"bfc-labels.txt\", 10)"
            ],
            "text/plain": [
              "<IPython.core.display.Javascript object>"
            ]
          },
          "metadata": {}
        }
      ]
    },
    {
      "cell_type": "code",
      "metadata": {
        "id": "hIRfhTRJa_X4"
      },
      "source": [
        ""
      ],
      "execution_count": null,
      "outputs": []
    }
  ]
}